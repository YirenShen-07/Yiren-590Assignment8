{
  "nbformat": 4,
  "nbformat_minor": 0,
  "metadata": {
    "colab": {
      "provenance": [],
      "authorship_tag": "ABX9TyOZcMrBoHNwaEfSH7PMYSqP",
      "include_colab_link": true
    },
    "kernelspec": {
      "name": "python3",
      "display_name": "Python 3"
    },
    "language_info": {
      "name": "python"
    }
  },
  "cells": [
    {
      "cell_type": "markdown",
      "metadata": {
        "id": "view-in-github",
        "colab_type": "text"
      },
      "source": [
        "<a href=\"https://colab.research.google.com/github/YirenShen-07/Yiren-590Assignment8/blob/main/Assignment8.ipynb\" target=\"_parent\"><img src=\"https://colab.research.google.com/assets/colab-badge.svg\" alt=\"Open In Colab\"/></a>"
      ]
    },
    {
      "cell_type": "markdown",
      "source": [
        "# AIPI 590 - XAI | Assignment #08\n",
        "### This notebook explores different dimensionality reduction techniques for visualizing embedding spaces of language models. I compare PCA, t-SNE, and UMAP to understand how they represent the semantic relationships between words.\n",
        "\n",
        "### Yiren Shen\n",
        "\n",
        "#### Include the button below. Change the link to the location in your github repository:https://github.com/YirenShen-07/Yiren-590Assignment8/blob/main/Assignment8.ipynb"
      ],
      "metadata": {
        "id": "yS3YjlmDeMn2"
      }
    },
    {
      "cell_type": "markdown",
      "source": [
        "## DO:\n",
        "Visualize the embedding space of an embedding model on the MTEB leaderboard using tSNE, PCA, and UMAP. Compare/contrast the approaches.\n",
        "\n",
        "Rubric:\n",
        "Code implementing the explanation techniques is correct\n",
        "\n",
        "Code implementing the explanation techniques is clear and well documented\n",
        "\n",
        "Visualizations are clear, follow best practices, and has a clear caption/explanation in the notebook markdown\n",
        "\n",
        "Notebook includes markdown cell(s) with comprehensive explanations of the approach\n",
        "\n",
        "Includes summary of results\n"
      ],
      "metadata": {
        "id": "M-KJmW7ieSkN"
      }
    },
    {
      "cell_type": "code",
      "execution_count": 1,
      "metadata": {
        "id": "EHy6oM37dr7f",
        "colab": {
          "base_uri": "https://localhost:8080/"
        },
        "outputId": "d08b0287-00b4-4f15-bb6d-1bde33a0255b"
      },
      "outputs": [
        {
          "output_type": "stream",
          "name": "stdout",
          "text": [
            "Cloning into 'Duke-AI-XAI'...\n",
            "remote: Enumerating objects: 68, done.\u001b[K\n",
            "remote: Counting objects: 100% (68/68), done.\u001b[K\n",
            "remote: Compressing objects: 100% (53/53), done.\u001b[K\n",
            "remote: Total 68 (delta 22), reused 49 (delta 12), pack-reused 0 (from 0)\u001b[K\n",
            "Receiving objects: 100% (68/68), 6.59 MiB | 6.91 MiB/s, done.\n",
            "Resolving deltas: 100% (22/22), done.\n",
            "/content/Duke-AI-XAI/templates\n",
            "template.ipynb\n"
          ]
        }
      ],
      "source": [
        "# Please use this to connect your GitHub repository to your Google Colab notebook\n",
        "# Connects to any needed files from GitHub and Google Drive\n",
        "import os\n",
        "\n",
        "# Remove Colab default sample_data\n",
        "!rm -r ./sample_data\n",
        "\n",
        "# Clone GitHub files to colab workspace\n",
        "repo_name = \"Duke-AI-XAI\" # Change to your repo name\n",
        "git_path = 'https://github.com/AIPI-590-XAI/Duke-AI-XAI.git' #Change to your path\n",
        "!git clone \"{git_path}\"\n",
        "\n",
        "# Install dependencies from requirements.txt file\n",
        "#!pip install -r \"{os.path.join(repo_name,'requirements.txt')}\" #Add if using requirements.txt\n",
        "\n",
        "# Change working directory to location of notebook\n",
        "notebook_dir = 'templates'\n",
        "path_to_notebook = os.path.join(repo_name,notebook_dir)\n",
        "%cd \"{path_to_notebook}\"\n",
        "%ls"
      ]
    },
    {
      "cell_type": "code",
      "source": [
        "!pip install gensim==4.3.2 matplotlib==3.7.1 scikit-learn==1.2.2 umap-learn==0.5.6 plotly==5.15.0"
      ],
      "metadata": {
        "colab": {
          "base_uri": "https://localhost:8080/"
        },
        "id": "8n283Nkje0-b",
        "outputId": "628752c2-f24b-4ac8-d6a3-8d4ac01216de"
      },
      "execution_count": 2,
      "outputs": [
        {
          "output_type": "stream",
          "name": "stdout",
          "text": [
            "Collecting gensim==4.3.2\n",
            "  Downloading gensim-4.3.2-cp310-cp310-manylinux_2_17_x86_64.manylinux2014_x86_64.whl.metadata (8.4 kB)\n",
            "Requirement already satisfied: matplotlib==3.7.1 in /usr/local/lib/python3.10/dist-packages (3.7.1)\n",
            "Collecting scikit-learn==1.2.2\n",
            "  Downloading scikit_learn-1.2.2-cp310-cp310-manylinux_2_17_x86_64.manylinux2014_x86_64.whl.metadata (11 kB)\n",
            "Collecting umap-learn==0.5.6\n",
            "  Downloading umap_learn-0.5.6-py3-none-any.whl.metadata (21 kB)\n",
            "Collecting plotly==5.15.0\n",
            "  Downloading plotly-5.15.0-py2.py3-none-any.whl.metadata (7.0 kB)\n",
            "Requirement already satisfied: numpy>=1.18.5 in /usr/local/lib/python3.10/dist-packages (from gensim==4.3.2) (1.26.4)\n",
            "Requirement already satisfied: scipy>=1.7.0 in /usr/local/lib/python3.10/dist-packages (from gensim==4.3.2) (1.13.1)\n",
            "Requirement already satisfied: smart-open>=1.8.1 in /usr/local/lib/python3.10/dist-packages (from gensim==4.3.2) (7.0.5)\n",
            "Requirement already satisfied: contourpy>=1.0.1 in /usr/local/lib/python3.10/dist-packages (from matplotlib==3.7.1) (1.3.0)\n",
            "Requirement already satisfied: cycler>=0.10 in /usr/local/lib/python3.10/dist-packages (from matplotlib==3.7.1) (0.12.1)\n",
            "Requirement already satisfied: fonttools>=4.22.0 in /usr/local/lib/python3.10/dist-packages (from matplotlib==3.7.1) (4.54.1)\n",
            "Requirement already satisfied: kiwisolver>=1.0.1 in /usr/local/lib/python3.10/dist-packages (from matplotlib==3.7.1) (1.4.7)\n",
            "Requirement already satisfied: packaging>=20.0 in /usr/local/lib/python3.10/dist-packages (from matplotlib==3.7.1) (24.1)\n",
            "Requirement already satisfied: pillow>=6.2.0 in /usr/local/lib/python3.10/dist-packages (from matplotlib==3.7.1) (10.4.0)\n",
            "Requirement already satisfied: pyparsing>=2.3.1 in /usr/local/lib/python3.10/dist-packages (from matplotlib==3.7.1) (3.2.0)\n",
            "Requirement already satisfied: python-dateutil>=2.7 in /usr/local/lib/python3.10/dist-packages (from matplotlib==3.7.1) (2.8.2)\n",
            "Requirement already satisfied: joblib>=1.1.1 in /usr/local/lib/python3.10/dist-packages (from scikit-learn==1.2.2) (1.4.2)\n",
            "Requirement already satisfied: threadpoolctl>=2.0.0 in /usr/local/lib/python3.10/dist-packages (from scikit-learn==1.2.2) (3.5.0)\n",
            "Requirement already satisfied: numba>=0.51.2 in /usr/local/lib/python3.10/dist-packages (from umap-learn==0.5.6) (0.60.0)\n",
            "Collecting pynndescent>=0.5 (from umap-learn==0.5.6)\n",
            "  Downloading pynndescent-0.5.13-py3-none-any.whl.metadata (6.8 kB)\n",
            "Requirement already satisfied: tqdm in /usr/local/lib/python3.10/dist-packages (from umap-learn==0.5.6) (4.66.5)\n",
            "Requirement already satisfied: tenacity>=6.2.0 in /usr/local/lib/python3.10/dist-packages (from plotly==5.15.0) (9.0.0)\n",
            "Requirement already satisfied: llvmlite<0.44,>=0.43.0dev0 in /usr/local/lib/python3.10/dist-packages (from numba>=0.51.2->umap-learn==0.5.6) (0.43.0)\n",
            "Requirement already satisfied: six>=1.5 in /usr/local/lib/python3.10/dist-packages (from python-dateutil>=2.7->matplotlib==3.7.1) (1.16.0)\n",
            "Requirement already satisfied: wrapt in /usr/local/lib/python3.10/dist-packages (from smart-open>=1.8.1->gensim==4.3.2) (1.16.0)\n",
            "Downloading gensim-4.3.2-cp310-cp310-manylinux_2_17_x86_64.manylinux2014_x86_64.whl (26.5 MB)\n",
            "\u001b[2K   \u001b[90m━━━━━━━━━━━━━━━━━━━━━━━━━━━━━━━━━━━━━━━━\u001b[0m \u001b[32m26.5/26.5 MB\u001b[0m \u001b[31m16.2 MB/s\u001b[0m eta \u001b[36m0:00:00\u001b[0m\n",
            "\u001b[?25hDownloading scikit_learn-1.2.2-cp310-cp310-manylinux_2_17_x86_64.manylinux2014_x86_64.whl (9.6 MB)\n",
            "\u001b[2K   \u001b[90m━━━━━━━━━━━━━━━━━━━━━━━━━━━━━━━━━━━━━━━━\u001b[0m \u001b[32m9.6/9.6 MB\u001b[0m \u001b[31m18.5 MB/s\u001b[0m eta \u001b[36m0:00:00\u001b[0m\n",
            "\u001b[?25hDownloading umap_learn-0.5.6-py3-none-any.whl (85 kB)\n",
            "\u001b[2K   \u001b[90m━━━━━━━━━━━━━━━━━━━━━━━━━━━━━━━━━━━━━━━━\u001b[0m \u001b[32m85.7/85.7 kB\u001b[0m \u001b[31m4.1 MB/s\u001b[0m eta \u001b[36m0:00:00\u001b[0m\n",
            "\u001b[?25hDownloading plotly-5.15.0-py2.py3-none-any.whl (15.5 MB)\n",
            "\u001b[2K   \u001b[90m━━━━━━━━━━━━━━━━━━━━━━━━━━━━━━━━━━━━━━━━\u001b[0m \u001b[32m15.5/15.5 MB\u001b[0m \u001b[31m15.5 MB/s\u001b[0m eta \u001b[36m0:00:00\u001b[0m\n",
            "\u001b[?25hDownloading pynndescent-0.5.13-py3-none-any.whl (56 kB)\n",
            "\u001b[2K   \u001b[90m━━━━━━━━━━━━━━━━━━━━━━━━━━━━━━━━━━━━━━━━\u001b[0m \u001b[32m56.9/56.9 kB\u001b[0m \u001b[31m1.9 MB/s\u001b[0m eta \u001b[36m0:00:00\u001b[0m\n",
            "\u001b[?25hInstalling collected packages: plotly, scikit-learn, gensim, pynndescent, umap-learn\n",
            "  Attempting uninstall: plotly\n",
            "    Found existing installation: plotly 5.24.1\n",
            "    Uninstalling plotly-5.24.1:\n",
            "      Successfully uninstalled plotly-5.24.1\n",
            "  Attempting uninstall: scikit-learn\n",
            "    Found existing installation: scikit-learn 1.5.2\n",
            "    Uninstalling scikit-learn-1.5.2:\n",
            "      Successfully uninstalled scikit-learn-1.5.2\n",
            "  Attempting uninstall: gensim\n",
            "    Found existing installation: gensim 4.3.3\n",
            "    Uninstalling gensim-4.3.3:\n",
            "      Successfully uninstalled gensim-4.3.3\n",
            "Successfully installed gensim-4.3.2 plotly-5.15.0 pynndescent-0.5.13 scikit-learn-1.2.2 umap-learn-0.5.6\n"
          ]
        }
      ]
    },
    {
      "cell_type": "markdown",
      "source": [
        "##  Library Import"
      ],
      "metadata": {
        "id": "wKThVTOUqhBU"
      }
    },
    {
      "cell_type": "code",
      "source": [
        "# Basic\n",
        "import numpy as np\n",
        "import matplotlib.pyplot as plt\n",
        "import plotly.express as px\n",
        "\n",
        "# Dimensionality Reduction\n",
        "from sklearn.decomposition import PCA\n",
        "from sklearn.manifold import TSNE\n",
        "import umap\n",
        "\n",
        "# Import the Sentence Transformer library for generating word embeddings\n",
        "from sentence_transformers import SentenceTransformer"
      ],
      "metadata": {
        "id": "IkK-VRM3e_JX"
      },
      "execution_count": 3,
      "outputs": []
    },
    {
      "cell_type": "markdown",
      "source": [
        "# Data Preparation"
      ],
      "metadata": {
        "id": "aFjhp7ipqqyq"
      }
    },
    {
      "cell_type": "code",
      "source": [
        "# Load the Sentence-Transformer model\n",
        "# all-MiniLM-L6-v2 is chosen for its good balance of speed and performance\n",
        "model = SentenceTransformer('all-MiniLM-L6-v2')\n",
        "\n",
        "# Get a model vocabulary\n",
        "vocab = list(model.tokenizer.get_vocab().keys())\n",
        "\n",
        "# Select the first 300 words from the vocabulary list as sentences\n",
        "sentences = vocab[:300]\n",
        "print(f\"Loaded {len(sentences)} words.\")\n",
        "\n",
        "# Generate embeddings for the sentences\n",
        "embeddings = model.encode(sentences)\n",
        "print(f\"Embeddings shape: {embeddings.shape}\")\n"
      ],
      "metadata": {
        "colab": {
          "base_uri": "https://localhost:8080/"
        },
        "id": "lPc9V-_TXE2C",
        "outputId": "811f0a1d-378a-40b2-b4fe-7410280ac9e4"
      },
      "execution_count": 7,
      "outputs": [
        {
          "output_type": "stream",
          "name": "stderr",
          "text": [
            "/usr/local/lib/python3.10/dist-packages/transformers/tokenization_utils_base.py:1601: FutureWarning:\n",
            "\n",
            "`clean_up_tokenization_spaces` was not set. It will be set to `True` by default. This behavior will be depracted in transformers v4.45, and will be then set to `False` by default. For more details check this issue: https://github.com/huggingface/transformers/issues/31884\n",
            "\n"
          ]
        },
        {
          "output_type": "stream",
          "name": "stdout",
          "text": [
            "Loaded 300 words.\n",
            "Embeddings shape: (300, 384)\n"
          ]
        }
      ]
    },
    {
      "cell_type": "markdown",
      "source": [
        "The code loads the all-MiniLM-L6-v2 model to generate embeddings and selects the first 300 words from the model's vocabulary as input, generating an embedding matrix of shape (300, 384), where each word has a 384-dimensional vector representation. This approach demonstrates the model's ability to handle word embeddings and is suitable for both downscaling and visualization analysis."
      ],
      "metadata": {
        "id": "ZfsEZEVprRZT"
      }
    },
    {
      "cell_type": "markdown",
      "source": [
        "# PCA (Principal Component Analysis):\n",
        "- Linear dimensionality reduction technique\n",
        "- Finds directions of maximum variance\n",
        "- Useful for understanding global structure\n"
      ],
      "metadata": {
        "id": "NhgQwSgLfRHU"
      }
    },
    {
      "cell_type": "code",
      "source": [
        "# Apply PCA to reduce embeddings to 2 dimensions\n",
        "pca = PCA(n_components=2)\n",
        "embeddings_pca = pca.fit_transform(embeddings)\n",
        "\n",
        "# Create PCA visualization\n",
        "fig_pca = px.scatter(\n",
        "    embeddings_pca, x=0, y=1, text=sentences,\n",
        "    title=\"PCA of Sentence Embeddings\",\n",
        "    labels={'0': 'Principal Component 1', '1': 'Principal Component 2'}\n",
        ")\n",
        "fig_pca.update_traces(marker=dict(size=8))\n",
        "fig_pca.show()"
      ],
      "metadata": {
        "colab": {
          "base_uri": "https://localhost:8080/",
          "height": 542
        },
        "id": "jwwDpB81bDA4",
        "outputId": "b2b3a08f-7de2-42cd-fa67-e33fa3afdb17"
      },
      "execution_count": 9,
      "outputs": [
        {
          "output_type": "display_data",
          "data": {
            "text/html": [
              "<html>\n",
              "<head><meta charset=\"utf-8\" /></head>\n",
              "<body>\n",
              "    <div>            <script src=\"https://cdnjs.cloudflare.com/ajax/libs/mathjax/2.7.5/MathJax.js?config=TeX-AMS-MML_SVG\"></script><script type=\"text/javascript\">if (window.MathJax && window.MathJax.Hub && window.MathJax.Hub.Config) {window.MathJax.Hub.Config({SVG: {font: \"STIX-Web\"}});}</script>                <script type=\"text/javascript\">window.PlotlyConfig = {MathJaxConfig: 'local'};</script>\n",
              "        <script charset=\"utf-8\" src=\"https://cdn.plot.ly/plotly-2.24.1.min.js\"></script>                <div id=\"a924ac5e-af79-4674-83b7-41badf49034c\" class=\"plotly-graph-div\" style=\"height:525px; width:100%;\"></div>            <script type=\"text/javascript\">                                    window.PLOTLYENV=window.PLOTLYENV || {};                                    if (document.getElementById(\"a924ac5e-af79-4674-83b7-41badf49034c\")) {                    Plotly.newPlot(                        \"a924ac5e-af79-4674-83b7-41badf49034c\",                        [{\"hovertemplate\":\"Principal Component 1=%{x}\\u003cbr\\u003ePrincipal Component 2=%{y}\\u003cbr\\u003etext=%{text}\\u003cextra\\u003e\\u003c\\u002fextra\\u003e\",\"legendgroup\":\"\",\"marker\":{\"color\":\"#636efa\",\"symbol\":\"circle\",\"size\":8},\"mode\":\"markers+text\",\"name\":\"\",\"orientation\":\"v\",\"showlegend\":false,\"text\":[\"##bar\",\"around\",\"chalmers\",\"processor\",\"##tto\",\"shrugged\",\"widening\",\"essence\",\"allen\",\"masses\",\"leaned\",\"sc\",\"##uration\",\"##pressing\",\"inspiring\",\"##shu\",\"mercantile\",\"embarrassed\",\"carriage\",\"anatolia\",\"mood\",\"##rogated\",\"joyah\",\"##gies\",\"reindeer\",\"brotherhood\",\"groove\",\"ops\",\"headquartered\",\"##lake\",\"navy\",\"magical\",\"accompanied\",\"##tar\",\"##held\",\"126\",\"1742\",\"bottle\",\"end\",\"##bo\",\"lines\",\"##bal\",\"eureka\",\"peyton\",\"france\",\"merton\",\"applicable\",\"magnificent\",\"g\",\"stranger\",\"laden\",\"##elling\",\"organizations\",\"concluded\",\"employees\",\"organism\",\"auditory\",\"##lins\",\"dominion\",\"marking\",\"##ₕ\",\"compute\",\"miners\",\"[unused523]\",\"corporations\",\"hardly\",\"comparative\",\"isaac\",\"supervising\",\"[unused958]\",\"user\",\"leung\",\"bicycles\",\"parking\",\"hillside\",\"hue\",\"zebra\",\"hong\",\"pathology\",\"fergus\",\"##head\",\"nests\",\"[unused244]\",\"retaliation\",\"##nsk\",\"kidding\",\"##ս\",\"representing\",\"princely\",\"lame\",\"jeopardy\",\"আ\",\"##ज\",\"buzzing\",\"##krishna\",\"ₕ\",\"keys\",\"divinity\",\"##puram\",\"##sław\",\"blooms\",\"heavenly\",\"##ʒ\",\"##モ\",\"completes\",\"panted\",\"minister\",\"[unused39]\",\"devoted\",\"19\",\"##´s\",\"researching\",\"condor\",\"bloom\",\"[unused87]\",\"terence\",\"##urian\",\"law\",\"infantry\",\"possibly\",\"[unused846]\",\"##cats\",\"##nett\",\"frontal\",\"terre\",\"totally\",\"##zon\",\"265\",\"motion\",\"stucco\",\"lp\",\"##dia\",\"##urne\",\"surgeon\",\"vladimir\",\"261\",\"լ\",\"р\",\"snails\",\"1764\",\"##bered\",\"massage\",\"goran\",\"larger\",\"chin\",\"distillery\",\"turret\",\"1699\",\"##や\",\"proteins\",\"boxers\",\"airspace\",\"kinda\",\"sara\",\"stance\",\"peters\",\"deposited\",\"tapping\",\"license\",\"##osphere\",\"evident\",\"rca\",\"assumes\",\"brood\",\"##tze\",\"jays\",\"researchers\",\"invincible\",\"grapes\",\"predominantly\",\"assuming\",\"sketch\",\"wetlands\",\"candle\",\"undertake\",\"hangar\",\"donaldson\",\"prussian\",\"bonding\",\"gifts\",\"kosovo\",\"pointed\",\"twilight\",\"nod\",\"fauna\",\"##odes\",\"oder\",\"ヒ\",\"182\",\"wolfgang\",\"guinness\",\"encore\",\"curvature\",\"##unda\",\"##roll\",\"##oint\",\"##y\",\"sailing\",\"senses\",\"procedure\",\"hogan\",\"hushed\",\"protesting\",\"##eak\",\"antigua\",\"tongues\",\"fitz\",\"population\",\"applies\",\"fort\",\"hostile\",\"swords\",\"first\",\"##ania\",\"fortune\",\"[unused615]\",\"narrows\",\"oakland\",\"clock\",\"thompson\",\"advisory\",\"lambert\",\"[unused444]\",\"[unused963]\",\"capitol\",\"quick\",\"cringed\",\"vascular\",\"semester\",\"eugene\",\"revenge\",\"spun\",\"connected\",\"cu\",\"arlington\",\"dime\",\"callie\",\"guitars\",\"cc\",\"ョ\",\"abroad\",\"orphanage\",\"composers\",\"commandos\",\"worn\",\"##gly\",\"harmony\",\"[unused765]\",\"spectral\",\"gm\",\"ferry\",\"##hedron\",\"compensate\",\"##cast\",\"cities\",\"yan\",\"##tidae\",\"thought\",\"[unused389]\",\"h₂o\",\"remorse\",\"[unused785]\",\"iec\",\"problem\",\"represented\",\"##ious\",\"loading\",\"##ow\",\"kc\",\"[unused115]\",\"slovenian\",\"shielding\",\"dc\",\"tech\",\"##rkin\",\"sounded\",\"slicing\",\"rouen\",\"cedric\",\"ranges\",\"candy\",\"sobs\",\"discussion\",\"patents\",\"[unused1]\",\"##ev\",\"nationalism\",\"ᵉ\",\"clockwise\",\"commentator\",\"edible\",\"decision\",\"flows\",\"eastwood\",\"walnut\",\"184\",\"ingredient\",\"arrays\",\"energetic\",\"make\"],\"x\":[0.6163583,-0.19890599,-0.13397045,-0.16373278,0.5746711,-0.044798,-0.12899913,-0.1148481,-0.12585907,-0.063471764,-0.112440884,-0.13051249,0.597872,0.5954433,-0.053697024,0.59497005,-0.2879896,-0.09016696,-0.15475044,-0.17212749,-0.0770732,0.5482454,-0.08509355,0.5857967,-0.2212153,-0.19811392,-0.168051,-0.10878398,-0.12220667,0.6057445,-0.16693182,-0.10760573,-0.055372626,0.6219003,0.6035795,-0.056823816,-0.15568846,-0.18916294,-0.0066818977,0.6662537,-0.096694164,0.5830953,-0.19274722,-0.12841786,-0.20627397,-0.19281134,-0.21033293,-0.11321758,-0.08237009,-0.16649559,-0.0797151,0.58200175,-0.19477361,-0.057410188,-0.16960707,-0.18108997,-0.11227762,0.526639,-0.1783976,-0.07675071,0.576816,-0.09068169,-0.15921871,0.11150983,-0.23791389,-0.04259928,-0.09392229,-0.11253002,-0.12880853,0.12024335,-0.16856785,-0.10649437,-0.17210849,-0.22054157,-0.2141742,-0.041164033,-0.16692288,-0.19773805,-0.15714797,-0.09838731,0.6489426,-0.10462152,0.15285262,-0.08007246,0.5619158,-0.0807149,0.61694276,-0.09442837,-0.14765769,-0.15167786,-0.13481493,-0.08398111,0.6347247,-0.08184722,0.56855386,-0.145016,-0.097964436,-0.19048563,0.57867205,0.53238046,-0.12206552,-0.095786646,0.5411491,0.542314,-0.069825865,0.030111559,-0.14937808,0.0774768,-0.14782026,-0.08144843,0.6532486,-0.14150202,-0.15663856,-0.102431454,0.085237004,-0.25519648,0.58367175,-0.28180873,-0.19893767,-0.107100025,0.069470264,0.640442,0.55621856,-0.24637882,-0.13417384,-0.13801284,0.56004155,-0.0771908,-0.13960002,-0.1419268,-0.18029164,0.57920414,0.6060935,-0.26079434,-0.11413854,-0.03778375,-0.15239233,-0.15173616,-0.1296835,-0.09181764,0.61269325,-0.1267818,-0.035474043,-0.09108081,-0.116991386,-0.19826671,-0.118848056,-0.11504423,0.5310872,-0.09566265,-0.12358945,-0.14434089,-0.13545686,-0.12426051,-0.0843864,-0.14070593,-0.07991757,-0.06802254,-0.22476764,0.54366606,-0.062739946,-0.19662313,-0.11389687,-0.120876014,0.62919223,-0.14764321,-0.17104071,-0.12442568,-0.11921194,-0.10949797,-0.14670175,-0.09661009,-0.17025776,-0.13976981,-0.10991271,-0.097323,-0.09812342,-0.14163628,-0.16529374,-0.27218947,-0.101321995,-0.056788422,-0.13387561,-0.015295402,-0.17056105,0.54925454,0.0056682355,-0.091142595,-0.076037005,-0.13008447,-0.12694749,-0.06909265,-0.08122755,0.59246886,0.6229572,0.59292746,0.68119836,-0.14676858,-0.12597468,-0.13692507,-0.12154504,-0.10677445,-0.08082854,0.58779997,-0.13941121,-0.11204773,-0.12170865,-0.09410509,-0.1479674,-0.144252,-0.1973703,-0.16717896,-0.055134136,0.55778635,-0.13983607,0.10683554,-0.10332084,-0.20918027,-0.13076663,-0.16419764,-0.16379774,-0.12752526,0.1138817,0.114316896,-0.20353146,-0.10530903,-0.08062527,-0.16994101,-0.21229626,-0.14392519,-0.10566749,-0.0093957605,-0.18043484,-0.1691656,-0.17831278,-0.09828275,-0.1066074,-0.189718,-0.23265159,-0.095051475,-0.28211218,-0.16072689,-0.1955388,-0.15583247,-0.056214068,0.5803117,-0.14706676,0.0894165,-0.11987565,-0.15187049,-0.15961204,0.5743143,-0.12961726,0.5954058,-0.28897092,-0.06723488,0.569978,-0.16381991,0.09543528,-0.1271649,-0.16873322,0.10117022,-0.16288424,-0.15511476,-0.07772557,0.611943,-0.07381378,0.6182953,-0.14497165,0.12341002,-0.12216266,-0.14177106,-0.20133679,-0.1229355,0.59401315,-0.08056878,-0.079907745,-0.10828221,-0.124537356,-0.03919004,-0.16721234,-0.057197016,-0.15704334,-0.16942853,0.10128333,0.59134406,-0.1541463,-0.1261586,-0.05646486,-0.15906698,-0.10938606,-0.18809706,-0.082619675,-0.20422222,-0.12465702,-0.059380323,-0.14115559,-0.06513355,-0.13420902,-0.11388732],\"xaxis\":\"x\",\"y\":[-0.065458894,0.06837225,-0.12606555,0.05788439,-0.06270193,-0.051058486,-0.07001611,-0.10558809,-0.09828737,-0.0018359974,-0.12929533,0.008598508,-0.022312334,-0.05615891,-0.086436,-0.08316917,-0.06924563,-0.07592961,0.0026731715,-0.06518003,-0.024347076,-0.048809335,-0.16031761,-0.098274685,-0.07057254,-0.013406065,-0.10557693,0.052430373,-0.12577823,-0.08677936,0.0073119667,-0.09109316,0.0762859,-0.069412895,0.015859226,0.25963545,0.089416936,-0.009306228,0.045172516,-0.098013446,-0.074681826,-0.07546927,-0.04404765,-0.13910651,-0.113644995,-0.010232375,0.117743015,-0.0207894,0.026387034,0.0076774857,-0.110701084,-0.081676885,-0.10862088,0.053484935,-0.09962601,0.0003637023,-0.11064549,-0.047289956,-0.00061197317,0.028124046,-0.085542336,0.18006815,-0.043926325,0.76655203,-0.1001663,-0.10996936,-0.13521282,-0.045145273,-0.082889766,0.7903937,0.06334183,-0.06466774,-0.029770257,0.057252742,-0.102548614,-0.15264432,-0.078163855,-0.046697587,-0.06368182,-0.1426594,-0.13915354,-0.016613312,0.74906456,-0.04434266,-0.03242912,-0.10178698,-0.12674555,-0.06955719,-0.029010037,0.08261089,-0.013690686,-0.03709125,-0.08648182,0.022429423,-0.12878034,-0.02105173,0.17496805,-0.07319659,-0.10589618,-0.104332946,-0.04030359,-0.105224006,-0.0931306,-0.09734824,0.06704774,0.007854515,-0.082245275,0.745364,-0.023705432,0.21003906,-0.084995635,-0.0801161,-0.07466805,-0.045502715,0.7719413,-0.0608071,-0.09177435,0.03206163,0.014379655,-0.035493232,0.8018505,-0.08616476,-0.08087443,-0.08337862,-0.0963551,-0.14092107,-0.063660406,0.26598415,-0.049346115,0.013304679,0.051441114,-0.065562166,-0.10213477,-0.108270116,-0.11832215,0.32193,-0.0779811,-0.09528023,-0.06196552,0.16627024,-0.08970802,-0.118028946,-0.14918302,-0.05592981,-0.17786169,-0.09054167,0.03944143,0.18844005,-0.070506506,-0.0096197985,-0.09253409,0.053898856,-0.11388255,-0.10322441,-0.08694145,-0.12533547,0.19974431,0.012162805,0.14226645,-0.081205696,-0.059379134,-0.01981354,-0.07657833,-0.010686578,-0.1422074,-0.12717216,-0.16584331,-0.07911412,-0.120998666,-0.056956705,-0.08360164,0.017663684,-0.01235106,-0.040660232,0.040254354,0.1015865,-0.1269184,-0.13986404,0.096968606,-0.012450108,-0.09511504,-0.034984916,-0.12379614,-0.046055228,-0.010286563,-0.036216833,-0.08469807,0.04198955,0.22594379,-0.050655294,-0.08106709,-0.0011633507,-0.08126831,-0.032120857,-0.027010288,0.008819932,-0.09537568,-0.09060463,-0.12271519,0.052101746,-0.097377755,-0.05629081,-0.07680867,-0.06385903,-0.03841704,-0.17776161,-0.08195486,0.08454592,0.025543427,-0.07625724,0.055469096,-0.020693768,-0.044934005,-0.04029902,-0.07531434,0.7803325,-0.06900581,-0.08486638,0.007935876,-0.049168177,0.056863606,-0.049568266,0.76931477,0.7863653,-0.058716457,-0.0066927024,-0.041023705,-0.043436643,0.055505678,-0.091402814,-0.043718543,-0.08761258,0.023414677,-0.053644244,-0.06519173,0.08054495,-0.16305743,-0.09809618,0.20578992,-0.10544356,-0.025475577,-0.014873893,-0.05964454,0.014414126,-0.017621068,-0.118876055,-0.14474274,0.78516203,-0.07304829,-0.10452716,-0.03730399,-0.057819072,-0.024837997,-0.03933809,-0.10847064,-0.042340845,-0.06023115,-0.06737529,0.77371573,-0.0152617935,0.025043836,0.7889633,-0.01363194,0.06251488,-0.024880778,-0.04066681,0.10174345,-0.035844427,-0.08911689,0.7806819,-0.10091858,-0.0005679951,-0.04544834,-0.083876856,-0.091858774,-0.014275066,-0.028919056,-0.07902475,-0.100598715,0.12625937,-0.034383737,-0.0849624,-0.051329494,0.067645065,0.71157885,-0.086498015,-0.033827342,-0.064431705,-0.09051853,-0.088620014,-0.023616044,-0.04430301,-0.0957116,-0.06949038,-0.10794844,0.20814346,0.03901671,0.15450278,0.017267207,-0.06627895],\"yaxis\":\"y\",\"type\":\"scatter\"}],                        {\"template\":{\"data\":{\"histogram2dcontour\":[{\"type\":\"histogram2dcontour\",\"colorbar\":{\"outlinewidth\":0,\"ticks\":\"\"},\"colorscale\":[[0.0,\"#0d0887\"],[0.1111111111111111,\"#46039f\"],[0.2222222222222222,\"#7201a8\"],[0.3333333333333333,\"#9c179e\"],[0.4444444444444444,\"#bd3786\"],[0.5555555555555556,\"#d8576b\"],[0.6666666666666666,\"#ed7953\"],[0.7777777777777778,\"#fb9f3a\"],[0.8888888888888888,\"#fdca26\"],[1.0,\"#f0f921\"]]}],\"choropleth\":[{\"type\":\"choropleth\",\"colorbar\":{\"outlinewidth\":0,\"ticks\":\"\"}}],\"histogram2d\":[{\"type\":\"histogram2d\",\"colorbar\":{\"outlinewidth\":0,\"ticks\":\"\"},\"colorscale\":[[0.0,\"#0d0887\"],[0.1111111111111111,\"#46039f\"],[0.2222222222222222,\"#7201a8\"],[0.3333333333333333,\"#9c179e\"],[0.4444444444444444,\"#bd3786\"],[0.5555555555555556,\"#d8576b\"],[0.6666666666666666,\"#ed7953\"],[0.7777777777777778,\"#fb9f3a\"],[0.8888888888888888,\"#fdca26\"],[1.0,\"#f0f921\"]]}],\"heatmap\":[{\"type\":\"heatmap\",\"colorbar\":{\"outlinewidth\":0,\"ticks\":\"\"},\"colorscale\":[[0.0,\"#0d0887\"],[0.1111111111111111,\"#46039f\"],[0.2222222222222222,\"#7201a8\"],[0.3333333333333333,\"#9c179e\"],[0.4444444444444444,\"#bd3786\"],[0.5555555555555556,\"#d8576b\"],[0.6666666666666666,\"#ed7953\"],[0.7777777777777778,\"#fb9f3a\"],[0.8888888888888888,\"#fdca26\"],[1.0,\"#f0f921\"]]}],\"heatmapgl\":[{\"type\":\"heatmapgl\",\"colorbar\":{\"outlinewidth\":0,\"ticks\":\"\"},\"colorscale\":[[0.0,\"#0d0887\"],[0.1111111111111111,\"#46039f\"],[0.2222222222222222,\"#7201a8\"],[0.3333333333333333,\"#9c179e\"],[0.4444444444444444,\"#bd3786\"],[0.5555555555555556,\"#d8576b\"],[0.6666666666666666,\"#ed7953\"],[0.7777777777777778,\"#fb9f3a\"],[0.8888888888888888,\"#fdca26\"],[1.0,\"#f0f921\"]]}],\"contourcarpet\":[{\"type\":\"contourcarpet\",\"colorbar\":{\"outlinewidth\":0,\"ticks\":\"\"}}],\"contour\":[{\"type\":\"contour\",\"colorbar\":{\"outlinewidth\":0,\"ticks\":\"\"},\"colorscale\":[[0.0,\"#0d0887\"],[0.1111111111111111,\"#46039f\"],[0.2222222222222222,\"#7201a8\"],[0.3333333333333333,\"#9c179e\"],[0.4444444444444444,\"#bd3786\"],[0.5555555555555556,\"#d8576b\"],[0.6666666666666666,\"#ed7953\"],[0.7777777777777778,\"#fb9f3a\"],[0.8888888888888888,\"#fdca26\"],[1.0,\"#f0f921\"]]}],\"surface\":[{\"type\":\"surface\",\"colorbar\":{\"outlinewidth\":0,\"ticks\":\"\"},\"colorscale\":[[0.0,\"#0d0887\"],[0.1111111111111111,\"#46039f\"],[0.2222222222222222,\"#7201a8\"],[0.3333333333333333,\"#9c179e\"],[0.4444444444444444,\"#bd3786\"],[0.5555555555555556,\"#d8576b\"],[0.6666666666666666,\"#ed7953\"],[0.7777777777777778,\"#fb9f3a\"],[0.8888888888888888,\"#fdca26\"],[1.0,\"#f0f921\"]]}],\"mesh3d\":[{\"type\":\"mesh3d\",\"colorbar\":{\"outlinewidth\":0,\"ticks\":\"\"}}],\"scatter\":[{\"fillpattern\":{\"fillmode\":\"overlay\",\"size\":10,\"solidity\":0.2},\"type\":\"scatter\"}],\"parcoords\":[{\"type\":\"parcoords\",\"line\":{\"colorbar\":{\"outlinewidth\":0,\"ticks\":\"\"}}}],\"scatterpolargl\":[{\"type\":\"scatterpolargl\",\"marker\":{\"colorbar\":{\"outlinewidth\":0,\"ticks\":\"\"}}}],\"bar\":[{\"error_x\":{\"color\":\"#2a3f5f\"},\"error_y\":{\"color\":\"#2a3f5f\"},\"marker\":{\"line\":{\"color\":\"#E5ECF6\",\"width\":0.5},\"pattern\":{\"fillmode\":\"overlay\",\"size\":10,\"solidity\":0.2}},\"type\":\"bar\"}],\"scattergeo\":[{\"type\":\"scattergeo\",\"marker\":{\"colorbar\":{\"outlinewidth\":0,\"ticks\":\"\"}}}],\"scatterpolar\":[{\"type\":\"scatterpolar\",\"marker\":{\"colorbar\":{\"outlinewidth\":0,\"ticks\":\"\"}}}],\"histogram\":[{\"marker\":{\"pattern\":{\"fillmode\":\"overlay\",\"size\":10,\"solidity\":0.2}},\"type\":\"histogram\"}],\"scattergl\":[{\"type\":\"scattergl\",\"marker\":{\"colorbar\":{\"outlinewidth\":0,\"ticks\":\"\"}}}],\"scatter3d\":[{\"type\":\"scatter3d\",\"line\":{\"colorbar\":{\"outlinewidth\":0,\"ticks\":\"\"}},\"marker\":{\"colorbar\":{\"outlinewidth\":0,\"ticks\":\"\"}}}],\"scattermapbox\":[{\"type\":\"scattermapbox\",\"marker\":{\"colorbar\":{\"outlinewidth\":0,\"ticks\":\"\"}}}],\"scatterternary\":[{\"type\":\"scatterternary\",\"marker\":{\"colorbar\":{\"outlinewidth\":0,\"ticks\":\"\"}}}],\"scattercarpet\":[{\"type\":\"scattercarpet\",\"marker\":{\"colorbar\":{\"outlinewidth\":0,\"ticks\":\"\"}}}],\"carpet\":[{\"aaxis\":{\"endlinecolor\":\"#2a3f5f\",\"gridcolor\":\"white\",\"linecolor\":\"white\",\"minorgridcolor\":\"white\",\"startlinecolor\":\"#2a3f5f\"},\"baxis\":{\"endlinecolor\":\"#2a3f5f\",\"gridcolor\":\"white\",\"linecolor\":\"white\",\"minorgridcolor\":\"white\",\"startlinecolor\":\"#2a3f5f\"},\"type\":\"carpet\"}],\"table\":[{\"cells\":{\"fill\":{\"color\":\"#EBF0F8\"},\"line\":{\"color\":\"white\"}},\"header\":{\"fill\":{\"color\":\"#C8D4E3\"},\"line\":{\"color\":\"white\"}},\"type\":\"table\"}],\"barpolar\":[{\"marker\":{\"line\":{\"color\":\"#E5ECF6\",\"width\":0.5},\"pattern\":{\"fillmode\":\"overlay\",\"size\":10,\"solidity\":0.2}},\"type\":\"barpolar\"}],\"pie\":[{\"automargin\":true,\"type\":\"pie\"}]},\"layout\":{\"autotypenumbers\":\"strict\",\"colorway\":[\"#636efa\",\"#EF553B\",\"#00cc96\",\"#ab63fa\",\"#FFA15A\",\"#19d3f3\",\"#FF6692\",\"#B6E880\",\"#FF97FF\",\"#FECB52\"],\"font\":{\"color\":\"#2a3f5f\"},\"hovermode\":\"closest\",\"hoverlabel\":{\"align\":\"left\"},\"paper_bgcolor\":\"white\",\"plot_bgcolor\":\"#E5ECF6\",\"polar\":{\"bgcolor\":\"#E5ECF6\",\"angularaxis\":{\"gridcolor\":\"white\",\"linecolor\":\"white\",\"ticks\":\"\"},\"radialaxis\":{\"gridcolor\":\"white\",\"linecolor\":\"white\",\"ticks\":\"\"}},\"ternary\":{\"bgcolor\":\"#E5ECF6\",\"aaxis\":{\"gridcolor\":\"white\",\"linecolor\":\"white\",\"ticks\":\"\"},\"baxis\":{\"gridcolor\":\"white\",\"linecolor\":\"white\",\"ticks\":\"\"},\"caxis\":{\"gridcolor\":\"white\",\"linecolor\":\"white\",\"ticks\":\"\"}},\"coloraxis\":{\"colorbar\":{\"outlinewidth\":0,\"ticks\":\"\"}},\"colorscale\":{\"sequential\":[[0.0,\"#0d0887\"],[0.1111111111111111,\"#46039f\"],[0.2222222222222222,\"#7201a8\"],[0.3333333333333333,\"#9c179e\"],[0.4444444444444444,\"#bd3786\"],[0.5555555555555556,\"#d8576b\"],[0.6666666666666666,\"#ed7953\"],[0.7777777777777778,\"#fb9f3a\"],[0.8888888888888888,\"#fdca26\"],[1.0,\"#f0f921\"]],\"sequentialminus\":[[0.0,\"#0d0887\"],[0.1111111111111111,\"#46039f\"],[0.2222222222222222,\"#7201a8\"],[0.3333333333333333,\"#9c179e\"],[0.4444444444444444,\"#bd3786\"],[0.5555555555555556,\"#d8576b\"],[0.6666666666666666,\"#ed7953\"],[0.7777777777777778,\"#fb9f3a\"],[0.8888888888888888,\"#fdca26\"],[1.0,\"#f0f921\"]],\"diverging\":[[0,\"#8e0152\"],[0.1,\"#c51b7d\"],[0.2,\"#de77ae\"],[0.3,\"#f1b6da\"],[0.4,\"#fde0ef\"],[0.5,\"#f7f7f7\"],[0.6,\"#e6f5d0\"],[0.7,\"#b8e186\"],[0.8,\"#7fbc41\"],[0.9,\"#4d9221\"],[1,\"#276419\"]]},\"xaxis\":{\"gridcolor\":\"white\",\"linecolor\":\"white\",\"ticks\":\"\",\"title\":{\"standoff\":15},\"zerolinecolor\":\"white\",\"automargin\":true,\"zerolinewidth\":2},\"yaxis\":{\"gridcolor\":\"white\",\"linecolor\":\"white\",\"ticks\":\"\",\"title\":{\"standoff\":15},\"zerolinecolor\":\"white\",\"automargin\":true,\"zerolinewidth\":2},\"scene\":{\"xaxis\":{\"backgroundcolor\":\"#E5ECF6\",\"gridcolor\":\"white\",\"linecolor\":\"white\",\"showbackground\":true,\"ticks\":\"\",\"zerolinecolor\":\"white\",\"gridwidth\":2},\"yaxis\":{\"backgroundcolor\":\"#E5ECF6\",\"gridcolor\":\"white\",\"linecolor\":\"white\",\"showbackground\":true,\"ticks\":\"\",\"zerolinecolor\":\"white\",\"gridwidth\":2},\"zaxis\":{\"backgroundcolor\":\"#E5ECF6\",\"gridcolor\":\"white\",\"linecolor\":\"white\",\"showbackground\":true,\"ticks\":\"\",\"zerolinecolor\":\"white\",\"gridwidth\":2}},\"shapedefaults\":{\"line\":{\"color\":\"#2a3f5f\"}},\"annotationdefaults\":{\"arrowcolor\":\"#2a3f5f\",\"arrowhead\":0,\"arrowwidth\":1},\"geo\":{\"bgcolor\":\"white\",\"landcolor\":\"#E5ECF6\",\"subunitcolor\":\"white\",\"showland\":true,\"showlakes\":true,\"lakecolor\":\"white\"},\"title\":{\"x\":0.05},\"mapbox\":{\"style\":\"light\"}}},\"xaxis\":{\"anchor\":\"y\",\"domain\":[0.0,1.0],\"title\":{\"text\":\"Principal Component 1\"}},\"yaxis\":{\"anchor\":\"x\",\"domain\":[0.0,1.0],\"title\":{\"text\":\"Principal Component 2\"}},\"legend\":{\"tracegroupgap\":0},\"title\":{\"text\":\"PCA of Sentence Embeddings\"}},                        {\"responsive\": true}                    ).then(function(){\n",
              "                            \n",
              "var gd = document.getElementById('a924ac5e-af79-4674-83b7-41badf49034c');\n",
              "var x = new MutationObserver(function (mutations, observer) {{\n",
              "        var display = window.getComputedStyle(gd).display;\n",
              "        if (!display || display === 'none') {{\n",
              "            console.log([gd, 'removed!']);\n",
              "            Plotly.purge(gd);\n",
              "            observer.disconnect();\n",
              "        }}\n",
              "}});\n",
              "\n",
              "// Listen for the removal of the full notebook cells\n",
              "var notebookContainer = gd.closest('#notebook-container');\n",
              "if (notebookContainer) {{\n",
              "    x.observe(notebookContainer, {childList: true});\n",
              "}}\n",
              "\n",
              "// Listen for the clearing of the current output cell\n",
              "var outputEl = gd.closest('.output');\n",
              "if (outputEl) {{\n",
              "    x.observe(outputEl, {childList: true});\n",
              "}}\n",
              "\n",
              "                        })                };                            </script>        </div>\n",
              "</body>\n",
              "</html>"
            ]
          },
          "metadata": {}
        }
      ]
    },
    {
      "cell_type": "markdown",
      "source": [
        "- **Clustering and distribution:** the embeddings of the 300 words in the picture are downscaled by PCA, and the results show that most of the word embeddings are clustered in the lower-left region, which indicates that the representations of these words in the embedding space are more similar, and they may belong to similar semantic categories. Meanwhile, on the right side of the figure, there are some words with a more scattered distribution, which indicates that the representation of these words in the embedding space is different from that of the main cluster, with unique characteristics or different semantic relations.\n",
        "- **Label overlap and visualization limitation:** it is difficult to identify specific words due to the high overlap of displayed word labels, which indicates a high sample density and the failure of PCA to separate word embeddings well in the 2D space. To solve this problem, it may be necessary to adjust the visualization strategy, such as reducing the number of samples or trying other dimensionality reduction methods (e.g., t-SNE or UMAP) to obtain a clearer distribution and higher separability."
      ],
      "metadata": {
        "id": "rVcVyljPrvDm"
      }
    },
    {
      "cell_type": "markdown",
      "source": [
        "# t-SNE (t-Distributed Stochastic Neighbor Embedding):\n",
        "- Non-linear dimensionality reduction technique\n",
        "- Focuses on preserving local structure\n",
        "- Parameters:\n",
        "  1. perplexity=2: Low perplexity for small dataset\n",
        "  2. n_iter=500: Increased iterations for better convergence\n",
        "  3. random_state=42: For reproducibility"
      ],
      "metadata": {
        "id": "Cyz3bZ8YbB6u"
      }
    },
    {
      "cell_type": "code",
      "source": [
        "# Apply t-SNE\n",
        "tsne = TSNE(n_components=2, perplexity=2, n_iter=500, random_state=42)\n",
        "embeddings_tsne = tsne.fit_transform(embeddings)\n",
        "\n",
        "# Plot t-SNE results using Plotly\n",
        "fig_tsne = px.scatter(\n",
        "    embeddings_tsne, x=0, y=1, text=sentences,\n",
        "    title=\"t-SNE of Sentence Embeddings\",\n",
        "    labels={'0': 'Component 1', '1': 'Component 2'}\n",
        ")\n",
        "fig_tsne.update_traces(marker=dict(size=8))\n",
        "fig_tsne.show()"
      ],
      "metadata": {
        "colab": {
          "base_uri": "https://localhost:8080/",
          "height": 542
        },
        "id": "YVAsaAubYj-d",
        "outputId": "852653cb-a415-4144-a5d8-db8997179403"
      },
      "execution_count": 10,
      "outputs": [
        {
          "output_type": "display_data",
          "data": {
            "text/html": [
              "<html>\n",
              "<head><meta charset=\"utf-8\" /></head>\n",
              "<body>\n",
              "    <div>            <script src=\"https://cdnjs.cloudflare.com/ajax/libs/mathjax/2.7.5/MathJax.js?config=TeX-AMS-MML_SVG\"></script><script type=\"text/javascript\">if (window.MathJax && window.MathJax.Hub && window.MathJax.Hub.Config) {window.MathJax.Hub.Config({SVG: {font: \"STIX-Web\"}});}</script>                <script type=\"text/javascript\">window.PlotlyConfig = {MathJaxConfig: 'local'};</script>\n",
              "        <script charset=\"utf-8\" src=\"https://cdn.plot.ly/plotly-2.24.1.min.js\"></script>                <div id=\"d4a764b0-5f17-4a1b-a2c2-9cfcfe937357\" class=\"plotly-graph-div\" style=\"height:525px; width:100%;\"></div>            <script type=\"text/javascript\">                                    window.PLOTLYENV=window.PLOTLYENV || {};                                    if (document.getElementById(\"d4a764b0-5f17-4a1b-a2c2-9cfcfe937357\")) {                    Plotly.newPlot(                        \"d4a764b0-5f17-4a1b-a2c2-9cfcfe937357\",                        [{\"hovertemplate\":\"Component 1=%{x}\\u003cbr\\u003eComponent 2=%{y}\\u003cbr\\u003etext=%{text}\\u003cextra\\u003e\\u003c\\u002fextra\\u003e\",\"legendgroup\":\"\",\"marker\":{\"color\":\"#636efa\",\"symbol\":\"circle\",\"size\":8},\"mode\":\"markers+text\",\"name\":\"\",\"orientation\":\"v\",\"showlegend\":false,\"text\":[\"##bar\",\"around\",\"chalmers\",\"processor\",\"##tto\",\"shrugged\",\"widening\",\"essence\",\"allen\",\"masses\",\"leaned\",\"sc\",\"##uration\",\"##pressing\",\"inspiring\",\"##shu\",\"mercantile\",\"embarrassed\",\"carriage\",\"anatolia\",\"mood\",\"##rogated\",\"joyah\",\"##gies\",\"reindeer\",\"brotherhood\",\"groove\",\"ops\",\"headquartered\",\"##lake\",\"navy\",\"magical\",\"accompanied\",\"##tar\",\"##held\",\"126\",\"1742\",\"bottle\",\"end\",\"##bo\",\"lines\",\"##bal\",\"eureka\",\"peyton\",\"france\",\"merton\",\"applicable\",\"magnificent\",\"g\",\"stranger\",\"laden\",\"##elling\",\"organizations\",\"concluded\",\"employees\",\"organism\",\"auditory\",\"##lins\",\"dominion\",\"marking\",\"##ₕ\",\"compute\",\"miners\",\"[unused523]\",\"corporations\",\"hardly\",\"comparative\",\"isaac\",\"supervising\",\"[unused958]\",\"user\",\"leung\",\"bicycles\",\"parking\",\"hillside\",\"hue\",\"zebra\",\"hong\",\"pathology\",\"fergus\",\"##head\",\"nests\",\"[unused244]\",\"retaliation\",\"##nsk\",\"kidding\",\"##ս\",\"representing\",\"princely\",\"lame\",\"jeopardy\",\"আ\",\"##ज\",\"buzzing\",\"##krishna\",\"ₕ\",\"keys\",\"divinity\",\"##puram\",\"##sław\",\"blooms\",\"heavenly\",\"##ʒ\",\"##モ\",\"completes\",\"panted\",\"minister\",\"[unused39]\",\"devoted\",\"19\",\"##´s\",\"researching\",\"condor\",\"bloom\",\"[unused87]\",\"terence\",\"##urian\",\"law\",\"infantry\",\"possibly\",\"[unused846]\",\"##cats\",\"##nett\",\"frontal\",\"terre\",\"totally\",\"##zon\",\"265\",\"motion\",\"stucco\",\"lp\",\"##dia\",\"##urne\",\"surgeon\",\"vladimir\",\"261\",\"լ\",\"р\",\"snails\",\"1764\",\"##bered\",\"massage\",\"goran\",\"larger\",\"chin\",\"distillery\",\"turret\",\"1699\",\"##や\",\"proteins\",\"boxers\",\"airspace\",\"kinda\",\"sara\",\"stance\",\"peters\",\"deposited\",\"tapping\",\"license\",\"##osphere\",\"evident\",\"rca\",\"assumes\",\"brood\",\"##tze\",\"jays\",\"researchers\",\"invincible\",\"grapes\",\"predominantly\",\"assuming\",\"sketch\",\"wetlands\",\"candle\",\"undertake\",\"hangar\",\"donaldson\",\"prussian\",\"bonding\",\"gifts\",\"kosovo\",\"pointed\",\"twilight\",\"nod\",\"fauna\",\"##odes\",\"oder\",\"ヒ\",\"182\",\"wolfgang\",\"guinness\",\"encore\",\"curvature\",\"##unda\",\"##roll\",\"##oint\",\"##y\",\"sailing\",\"senses\",\"procedure\",\"hogan\",\"hushed\",\"protesting\",\"##eak\",\"antigua\",\"tongues\",\"fitz\",\"population\",\"applies\",\"fort\",\"hostile\",\"swords\",\"first\",\"##ania\",\"fortune\",\"[unused615]\",\"narrows\",\"oakland\",\"clock\",\"thompson\",\"advisory\",\"lambert\",\"[unused444]\",\"[unused963]\",\"capitol\",\"quick\",\"cringed\",\"vascular\",\"semester\",\"eugene\",\"revenge\",\"spun\",\"connected\",\"cu\",\"arlington\",\"dime\",\"callie\",\"guitars\",\"cc\",\"ョ\",\"abroad\",\"orphanage\",\"composers\",\"commandos\",\"worn\",\"##gly\",\"harmony\",\"[unused765]\",\"spectral\",\"gm\",\"ferry\",\"##hedron\",\"compensate\",\"##cast\",\"cities\",\"yan\",\"##tidae\",\"thought\",\"[unused389]\",\"h₂o\",\"remorse\",\"[unused785]\",\"iec\",\"problem\",\"represented\",\"##ious\",\"loading\",\"##ow\",\"kc\",\"[unused115]\",\"slovenian\",\"shielding\",\"dc\",\"tech\",\"##rkin\",\"sounded\",\"slicing\",\"rouen\",\"cedric\",\"ranges\",\"candy\",\"sobs\",\"discussion\",\"patents\",\"[unused1]\",\"##ev\",\"nationalism\",\"ᵉ\",\"clockwise\",\"commentator\",\"edible\",\"decision\",\"flows\",\"eastwood\",\"walnut\",\"184\",\"ingredient\",\"arrays\",\"energetic\",\"make\"],\"x\":[-25.364632,13.868282,-32.12135,-7.780166,-29.193214,-6.9299393,16.247044,11.730778,-32.47668,19.528429,-2.6295576,-16.83105,-53.137672,-25.44058,1.9665186,-10.305605,-8.643154,-7.8733363,21.889914,-15.963161,15.201928,-21.986595,5.075816,-34.044834,28.595589,12.457545,14.794201,31.432316,41.572872,-27.471758,-10.110434,0.7057633,21.703583,-20.602144,-26.027088,34.502365,-3.3837805,9.120764,20.606083,-27.874863,21.267113,-22.419577,-31.545506,-37.885895,-2.18488,13.331285,28.740986,2.4958723,34.325554,-31.526657,-32.741356,-30.869635,42.755207,19.855278,42.99064,31.959175,6.1549535,-39.539543,-7.5300303,4.0391893,-11.332916,13.593524,44.29031,-10.23107,42.744957,-40.831337,17.434992,-24.284296,42.333504,-17.335867,18.293152,-3.4764457,-17.999834,-18.069088,13.943991,13.319189,28.590574,-3.4929314,-17.24665,-25.999712,-27.893814,36.474648,-15.594815,30.746561,-36.5201,-31.878376,-11.0971985,5.5522,-0.64449894,-31.709854,-1.2891499,14.122807,-11.000885,14.785299,-9.288215,12.410905,30.213963,4.184087,-27.771927,-17.483463,13.917906,3.556155,-12.71327,-11.341573,19.353624,1.821137,-20.665888,-11.323735,15.208746,34.512478,-38.592815,46.28788,36.49028,13.467201,-7.894854,3.549566,-53.655766,43.110706,-10.203469,-41.767876,-9.114624,-31.76364,-27.496143,-4.045403,-10.960786,-40.399696,-13.483144,34.751137,-12.821082,-15.640869,23.362799,-43.286,-53.5049,-17.65249,-24.188635,34.815754,11.008448,-23.795774,32.07587,-2.056574,-24.168459,13.715843,-17.816893,17.551996,5.975862,8.27197,-20.995892,-3.6164317,-31.435177,23.165878,-12.822335,16.65965,-40.75952,-29.929386,-2.4353068,-37.535053,29.238361,14.753235,43.107742,-31.022762,26.897314,-8.253604,29.448019,36.72,-17.5398,-24.337076,46.215317,30.405968,7.2392206,13.223664,29.337202,20.249088,33.7153,18.952873,21.480972,-20.969887,-25.662083,-1.9142984,24.01827,19.406157,-16.01353,3.114905,13.1692095,1.7001591,32.316788,-38.380432,15.11952,13.087921,34.284275,-1.5764468,9.132149,15.276048,14.582161,-43.135094,-21.860926,-32.948215,-30.458221,-11.124698,6.241474,18.382872,-28.349428,3.4750166,32.170506,-36.463528,-3.2607348,10.259917,-37.666824,32.194656,28.798506,-9.249383,15.498717,6.1341233,31.347342,-43.87365,-1.2572601,-14.125404,15.803419,-16.316021,-6.4181666,-33.784203,24.12816,11.174139,-15.47333,-17.246658,-9.01278,30.843506,-7.6266427,-15.456327,-6.1171126,-32.097916,30.282602,-1.6630304,14.37385,28.589956,-9.609748,-2.5691905,-29.625114,5.044339,28.94872,6.775534,-1.7184861,37.89515,-0.3222093,-11.618007,0.431083,-29.607067,4.957466,-6.3606153,3.9344459,34.36093,-11.1317625,-23.293726,30.54837,-26.662964,-9.101864,4.3585587,-32.091736,25.965637,-11.413077,11.270326,29.11879,-7.1121225,-10.385638,19.412685,5.842121,-32.949757,14.358595,-30.182194,-16.475187,-13.969692,-16.559273,30.408552,-8.840082,-9.418566,-32.725067,2.368936,20.40326,-6.89764,-25.681255,36.4987,19.590364,-31.814104,20.96957,44.130863,-10.888006,-35.25529,11.736461,13.1184,-1.130926,-20.91872,21.335648,24.268965,-12.992946,-32.790474,6.758365,33.66204,21.420876,12.998199,12.611613,20.44424],\"xaxis\":\"x\",\"y\":[-21.905895,0.46847814,13.422693,-4.5635314,-25.923737,-26.225857,-37.34483,38.711433,13.127142,-35.78802,-32.68518,24.768213,0.44973922,-21.116734,31.925394,-46.110165,13.413868,-24.971102,-25.077381,19.486301,15.03503,-32.045635,0.8253441,-28.990074,36.655518,24.574627,-24.50479,-8.444972,8.525961,-27.549715,-8.580497,32.52563,8.662272,-30.39189,-19.976383,-29.864618,-3.7658856,10.617546,-9.159878,-25.607407,-25.226053,-30.065674,10.038299,18.708336,19.454453,-40.52556,-8.616656,31.500599,-17.349703,0.50263476,26.335463,-22.399912,9.895267,-9.818021,11.225074,27.561848,-16.029467,-31.7777,29.095192,-28.46924,-48.74969,-8.635145,11.414756,48.43158,9.368226,-2.7081718,-34.877987,17.455032,12.483005,51.455753,-0.19329421,7.0294895,-11.102057,-11.071694,-39.911514,40.301792,36.65726,7.044177,3.073495,27.294197,-31.432724,33.02208,43.23903,9.665672,-21.695166,-2.4088,-48.502506,-28.464693,-3.3904357,-0.8604975,34.59414,-2.672958,-46.985054,16.301086,-48.098846,-0.44245982,-24.437145,28.923397,-24.228222,-43.213478,38.766647,29.8317,-45.807594,-50.121033,-10.173976,-19.576824,4.0476947,43.70569,38.759262,-28.859592,-30.821932,4.966146,34.798035,38.747025,48.377018,27.397491,-0.37568086,-7.8494086,-9.156648,-4.3589005,48.134186,-31.82949,-32.329235,-32.720985,28.186306,-3.9562135,-45.095604,-31.716358,4.3854375,15.449196,-24.689545,-21.638805,-0.14314231,3.0331035,16.201252,-31.59109,0.71313035,15.910914,26.145126,-3.5958395,-24.978456,12.737452,15.683868,-35.890175,1.5345618,9.896608,-7.1678314,-3.7899175,-28.907509,24.25673,-9.937467,-39.216316,-3.8023345,6.4781594,-32.30642,17.241344,-21.986858,-24.493961,-7.8621016,-27.055912,-8.982185,26.766983,0.15254894,33.277287,-43.17207,27.370844,5.0531516,12.390922,12.336275,-3.551203,0.11052397,-25.406315,27.613426,31.341331,8.865975,-7.228273,27.310324,16.04421,23.785206,30.196169,19.374619,-28.445534,36.86277,-21.15011,27.259825,-30.574532,-2.038177,3.1469312,-33.79106,15.700428,9.470708,-4.208147,-37.279247,-22.247347,-30.693386,-40.55706,-27.845497,-15.921283,-15.953437,-11.076437,6.9454603,-18.394838,9.494593,-21.801394,20.013592,1.5282652,17.708906,-33.204777,-8.445934,-10.184331,14.835694,12.963436,-10.452254,-20.789755,33.517452,50.08299,-37.949593,26.401556,-4.1877317,13.576225,-1.8046248,-1.3182359,43.22837,51.41936,14.618941,-9.285921,-25.310917,3.4949813,-11.8601055,11.458998,10.274493,-34.069218,-18.507256,-23.561974,28.146004,32.861473,6.7286286,13.489495,-23.416264,-1.1049685,19.507614,32.71883,14.858645,-9.53035,-19.122007,-28.81999,28.761786,48.78548,1.848564,-17.335867,-16.005768,-24.255348,8.0185175,-25.718002,14.9558525,-0.19642791,-32.73855,-0.7181641,44.302822,10.655166,10.285889,48.578163,-4.46486,-0.247016,-28.455732,-40.546658,-18.496302,-23.137367,26.085417,50.018337,15.962499,13.506216,28.079096,-5.14395,-26.177145,-19.199429,9.798823,29.571217,15.588737,-32.469097,29.755955,-1.8450133,-0.41201574,7.6140623,42.599438,-24.214476,24.333994,-0.67398876,-34.71669,4.15274,25.544582,-1.405776,4.328489,26.309471,-2.1063986,-32.804058,25.001316,-9.33732,11.707742,23.97124],\"yaxis\":\"y\",\"type\":\"scatter\"}],                        {\"template\":{\"data\":{\"histogram2dcontour\":[{\"type\":\"histogram2dcontour\",\"colorbar\":{\"outlinewidth\":0,\"ticks\":\"\"},\"colorscale\":[[0.0,\"#0d0887\"],[0.1111111111111111,\"#46039f\"],[0.2222222222222222,\"#7201a8\"],[0.3333333333333333,\"#9c179e\"],[0.4444444444444444,\"#bd3786\"],[0.5555555555555556,\"#d8576b\"],[0.6666666666666666,\"#ed7953\"],[0.7777777777777778,\"#fb9f3a\"],[0.8888888888888888,\"#fdca26\"],[1.0,\"#f0f921\"]]}],\"choropleth\":[{\"type\":\"choropleth\",\"colorbar\":{\"outlinewidth\":0,\"ticks\":\"\"}}],\"histogram2d\":[{\"type\":\"histogram2d\",\"colorbar\":{\"outlinewidth\":0,\"ticks\":\"\"},\"colorscale\":[[0.0,\"#0d0887\"],[0.1111111111111111,\"#46039f\"],[0.2222222222222222,\"#7201a8\"],[0.3333333333333333,\"#9c179e\"],[0.4444444444444444,\"#bd3786\"],[0.5555555555555556,\"#d8576b\"],[0.6666666666666666,\"#ed7953\"],[0.7777777777777778,\"#fb9f3a\"],[0.8888888888888888,\"#fdca26\"],[1.0,\"#f0f921\"]]}],\"heatmap\":[{\"type\":\"heatmap\",\"colorbar\":{\"outlinewidth\":0,\"ticks\":\"\"},\"colorscale\":[[0.0,\"#0d0887\"],[0.1111111111111111,\"#46039f\"],[0.2222222222222222,\"#7201a8\"],[0.3333333333333333,\"#9c179e\"],[0.4444444444444444,\"#bd3786\"],[0.5555555555555556,\"#d8576b\"],[0.6666666666666666,\"#ed7953\"],[0.7777777777777778,\"#fb9f3a\"],[0.8888888888888888,\"#fdca26\"],[1.0,\"#f0f921\"]]}],\"heatmapgl\":[{\"type\":\"heatmapgl\",\"colorbar\":{\"outlinewidth\":0,\"ticks\":\"\"},\"colorscale\":[[0.0,\"#0d0887\"],[0.1111111111111111,\"#46039f\"],[0.2222222222222222,\"#7201a8\"],[0.3333333333333333,\"#9c179e\"],[0.4444444444444444,\"#bd3786\"],[0.5555555555555556,\"#d8576b\"],[0.6666666666666666,\"#ed7953\"],[0.7777777777777778,\"#fb9f3a\"],[0.8888888888888888,\"#fdca26\"],[1.0,\"#f0f921\"]]}],\"contourcarpet\":[{\"type\":\"contourcarpet\",\"colorbar\":{\"outlinewidth\":0,\"ticks\":\"\"}}],\"contour\":[{\"type\":\"contour\",\"colorbar\":{\"outlinewidth\":0,\"ticks\":\"\"},\"colorscale\":[[0.0,\"#0d0887\"],[0.1111111111111111,\"#46039f\"],[0.2222222222222222,\"#7201a8\"],[0.3333333333333333,\"#9c179e\"],[0.4444444444444444,\"#bd3786\"],[0.5555555555555556,\"#d8576b\"],[0.6666666666666666,\"#ed7953\"],[0.7777777777777778,\"#fb9f3a\"],[0.8888888888888888,\"#fdca26\"],[1.0,\"#f0f921\"]]}],\"surface\":[{\"type\":\"surface\",\"colorbar\":{\"outlinewidth\":0,\"ticks\":\"\"},\"colorscale\":[[0.0,\"#0d0887\"],[0.1111111111111111,\"#46039f\"],[0.2222222222222222,\"#7201a8\"],[0.3333333333333333,\"#9c179e\"],[0.4444444444444444,\"#bd3786\"],[0.5555555555555556,\"#d8576b\"],[0.6666666666666666,\"#ed7953\"],[0.7777777777777778,\"#fb9f3a\"],[0.8888888888888888,\"#fdca26\"],[1.0,\"#f0f921\"]]}],\"mesh3d\":[{\"type\":\"mesh3d\",\"colorbar\":{\"outlinewidth\":0,\"ticks\":\"\"}}],\"scatter\":[{\"fillpattern\":{\"fillmode\":\"overlay\",\"size\":10,\"solidity\":0.2},\"type\":\"scatter\"}],\"parcoords\":[{\"type\":\"parcoords\",\"line\":{\"colorbar\":{\"outlinewidth\":0,\"ticks\":\"\"}}}],\"scatterpolargl\":[{\"type\":\"scatterpolargl\",\"marker\":{\"colorbar\":{\"outlinewidth\":0,\"ticks\":\"\"}}}],\"bar\":[{\"error_x\":{\"color\":\"#2a3f5f\"},\"error_y\":{\"color\":\"#2a3f5f\"},\"marker\":{\"line\":{\"color\":\"#E5ECF6\",\"width\":0.5},\"pattern\":{\"fillmode\":\"overlay\",\"size\":10,\"solidity\":0.2}},\"type\":\"bar\"}],\"scattergeo\":[{\"type\":\"scattergeo\",\"marker\":{\"colorbar\":{\"outlinewidth\":0,\"ticks\":\"\"}}}],\"scatterpolar\":[{\"type\":\"scatterpolar\",\"marker\":{\"colorbar\":{\"outlinewidth\":0,\"ticks\":\"\"}}}],\"histogram\":[{\"marker\":{\"pattern\":{\"fillmode\":\"overlay\",\"size\":10,\"solidity\":0.2}},\"type\":\"histogram\"}],\"scattergl\":[{\"type\":\"scattergl\",\"marker\":{\"colorbar\":{\"outlinewidth\":0,\"ticks\":\"\"}}}],\"scatter3d\":[{\"type\":\"scatter3d\",\"line\":{\"colorbar\":{\"outlinewidth\":0,\"ticks\":\"\"}},\"marker\":{\"colorbar\":{\"outlinewidth\":0,\"ticks\":\"\"}}}],\"scattermapbox\":[{\"type\":\"scattermapbox\",\"marker\":{\"colorbar\":{\"outlinewidth\":0,\"ticks\":\"\"}}}],\"scatterternary\":[{\"type\":\"scatterternary\",\"marker\":{\"colorbar\":{\"outlinewidth\":0,\"ticks\":\"\"}}}],\"scattercarpet\":[{\"type\":\"scattercarpet\",\"marker\":{\"colorbar\":{\"outlinewidth\":0,\"ticks\":\"\"}}}],\"carpet\":[{\"aaxis\":{\"endlinecolor\":\"#2a3f5f\",\"gridcolor\":\"white\",\"linecolor\":\"white\",\"minorgridcolor\":\"white\",\"startlinecolor\":\"#2a3f5f\"},\"baxis\":{\"endlinecolor\":\"#2a3f5f\",\"gridcolor\":\"white\",\"linecolor\":\"white\",\"minorgridcolor\":\"white\",\"startlinecolor\":\"#2a3f5f\"},\"type\":\"carpet\"}],\"table\":[{\"cells\":{\"fill\":{\"color\":\"#EBF0F8\"},\"line\":{\"color\":\"white\"}},\"header\":{\"fill\":{\"color\":\"#C8D4E3\"},\"line\":{\"color\":\"white\"}},\"type\":\"table\"}],\"barpolar\":[{\"marker\":{\"line\":{\"color\":\"#E5ECF6\",\"width\":0.5},\"pattern\":{\"fillmode\":\"overlay\",\"size\":10,\"solidity\":0.2}},\"type\":\"barpolar\"}],\"pie\":[{\"automargin\":true,\"type\":\"pie\"}]},\"layout\":{\"autotypenumbers\":\"strict\",\"colorway\":[\"#636efa\",\"#EF553B\",\"#00cc96\",\"#ab63fa\",\"#FFA15A\",\"#19d3f3\",\"#FF6692\",\"#B6E880\",\"#FF97FF\",\"#FECB52\"],\"font\":{\"color\":\"#2a3f5f\"},\"hovermode\":\"closest\",\"hoverlabel\":{\"align\":\"left\"},\"paper_bgcolor\":\"white\",\"plot_bgcolor\":\"#E5ECF6\",\"polar\":{\"bgcolor\":\"#E5ECF6\",\"angularaxis\":{\"gridcolor\":\"white\",\"linecolor\":\"white\",\"ticks\":\"\"},\"radialaxis\":{\"gridcolor\":\"white\",\"linecolor\":\"white\",\"ticks\":\"\"}},\"ternary\":{\"bgcolor\":\"#E5ECF6\",\"aaxis\":{\"gridcolor\":\"white\",\"linecolor\":\"white\",\"ticks\":\"\"},\"baxis\":{\"gridcolor\":\"white\",\"linecolor\":\"white\",\"ticks\":\"\"},\"caxis\":{\"gridcolor\":\"white\",\"linecolor\":\"white\",\"ticks\":\"\"}},\"coloraxis\":{\"colorbar\":{\"outlinewidth\":0,\"ticks\":\"\"}},\"colorscale\":{\"sequential\":[[0.0,\"#0d0887\"],[0.1111111111111111,\"#46039f\"],[0.2222222222222222,\"#7201a8\"],[0.3333333333333333,\"#9c179e\"],[0.4444444444444444,\"#bd3786\"],[0.5555555555555556,\"#d8576b\"],[0.6666666666666666,\"#ed7953\"],[0.7777777777777778,\"#fb9f3a\"],[0.8888888888888888,\"#fdca26\"],[1.0,\"#f0f921\"]],\"sequentialminus\":[[0.0,\"#0d0887\"],[0.1111111111111111,\"#46039f\"],[0.2222222222222222,\"#7201a8\"],[0.3333333333333333,\"#9c179e\"],[0.4444444444444444,\"#bd3786\"],[0.5555555555555556,\"#d8576b\"],[0.6666666666666666,\"#ed7953\"],[0.7777777777777778,\"#fb9f3a\"],[0.8888888888888888,\"#fdca26\"],[1.0,\"#f0f921\"]],\"diverging\":[[0,\"#8e0152\"],[0.1,\"#c51b7d\"],[0.2,\"#de77ae\"],[0.3,\"#f1b6da\"],[0.4,\"#fde0ef\"],[0.5,\"#f7f7f7\"],[0.6,\"#e6f5d0\"],[0.7,\"#b8e186\"],[0.8,\"#7fbc41\"],[0.9,\"#4d9221\"],[1,\"#276419\"]]},\"xaxis\":{\"gridcolor\":\"white\",\"linecolor\":\"white\",\"ticks\":\"\",\"title\":{\"standoff\":15},\"zerolinecolor\":\"white\",\"automargin\":true,\"zerolinewidth\":2},\"yaxis\":{\"gridcolor\":\"white\",\"linecolor\":\"white\",\"ticks\":\"\",\"title\":{\"standoff\":15},\"zerolinecolor\":\"white\",\"automargin\":true,\"zerolinewidth\":2},\"scene\":{\"xaxis\":{\"backgroundcolor\":\"#E5ECF6\",\"gridcolor\":\"white\",\"linecolor\":\"white\",\"showbackground\":true,\"ticks\":\"\",\"zerolinecolor\":\"white\",\"gridwidth\":2},\"yaxis\":{\"backgroundcolor\":\"#E5ECF6\",\"gridcolor\":\"white\",\"linecolor\":\"white\",\"showbackground\":true,\"ticks\":\"\",\"zerolinecolor\":\"white\",\"gridwidth\":2},\"zaxis\":{\"backgroundcolor\":\"#E5ECF6\",\"gridcolor\":\"white\",\"linecolor\":\"white\",\"showbackground\":true,\"ticks\":\"\",\"zerolinecolor\":\"white\",\"gridwidth\":2}},\"shapedefaults\":{\"line\":{\"color\":\"#2a3f5f\"}},\"annotationdefaults\":{\"arrowcolor\":\"#2a3f5f\",\"arrowhead\":0,\"arrowwidth\":1},\"geo\":{\"bgcolor\":\"white\",\"landcolor\":\"#E5ECF6\",\"subunitcolor\":\"white\",\"showland\":true,\"showlakes\":true,\"lakecolor\":\"white\"},\"title\":{\"x\":0.05},\"mapbox\":{\"style\":\"light\"}}},\"xaxis\":{\"anchor\":\"y\",\"domain\":[0.0,1.0],\"title\":{\"text\":\"Component 1\"}},\"yaxis\":{\"anchor\":\"x\",\"domain\":[0.0,1.0],\"title\":{\"text\":\"Component 2\"}},\"legend\":{\"tracegroupgap\":0},\"title\":{\"text\":\"t-SNE of Sentence Embeddings\"}},                        {\"responsive\": true}                    ).then(function(){\n",
              "                            \n",
              "var gd = document.getElementById('d4a764b0-5f17-4a1b-a2c2-9cfcfe937357');\n",
              "var x = new MutationObserver(function (mutations, observer) {{\n",
              "        var display = window.getComputedStyle(gd).display;\n",
              "        if (!display || display === 'none') {{\n",
              "            console.log([gd, 'removed!']);\n",
              "            Plotly.purge(gd);\n",
              "            observer.disconnect();\n",
              "        }}\n",
              "}});\n",
              "\n",
              "// Listen for the removal of the full notebook cells\n",
              "var notebookContainer = gd.closest('#notebook-container');\n",
              "if (notebookContainer) {{\n",
              "    x.observe(notebookContainer, {childList: true});\n",
              "}}\n",
              "\n",
              "// Listen for the clearing of the current output cell\n",
              "var outputEl = gd.closest('.output');\n",
              "if (outputEl) {{\n",
              "    x.observe(outputEl, {childList: true});\n",
              "}}\n",
              "\n",
              "                        })                };                            </script>        </div>\n",
              "</body>\n",
              "</html>"
            ]
          },
          "metadata": {}
        }
      ]
    },
    {
      "cell_type": "markdown",
      "source": [
        "- **Distribution and clustering:** the visualization of t-SNE shows the local clustering and distribution patterns of word embeddings, and some word groups can be seen clustered in different regions in the figure, indicating that these words have similar semantic or contextual relationships in the embedding space. This local clustering structure helps to discover semantic relationships in the data, but unlike PCA, t-SNE emphasizes more on local proximity relationships, so the overall structure may not be as clear as PCA.\n"
      ],
      "metadata": {
        "id": "u8JtnTr2sVL0"
      }
    },
    {
      "cell_type": "markdown",
      "source": [
        "# UMAP (Uniform Manifold Approximation and Projection):\n",
        "- Modern dimensionality reduction technique\n",
        "- Balances local and global structure preservation\n",
        "- Parameters:\n",
        "  1. n_neighbors=5: Small neighborhood size for detailed local structure\n",
        "  2. min_dist=0.1: Minimum distance between points\n",
        "  3. random_state=42: For reproducibility"
      ],
      "metadata": {
        "id": "yaecHbZMfaSy"
      }
    },
    {
      "cell_type": "code",
      "source": [
        "# Apply UMAP\n",
        "umap_model = umap.UMAP(n_components=2, n_neighbors=5, min_dist=0.1, random_state=42)\n",
        "embeddings_umap = umap_model.fit_transform(embeddings)\n",
        "\n",
        "# Plot UMAP results using Plotly\n",
        "fig_umap = px.scatter(\n",
        "    embeddings_umap, x=0, y=1, text=sentences,\n",
        "    title=\"UMAP of Sentence Embeddings\",\n",
        "    labels={'0': 'Component 1', '1': 'Component 2'}\n",
        ")\n",
        "fig_umap.update_traces(marker=dict(size=8))\n",
        "fig_umap.show()"
      ],
      "metadata": {
        "colab": {
          "base_uri": "https://localhost:8080/",
          "height": 613
        },
        "id": "koYg-50kYu8L",
        "outputId": "8194c04a-6f8b-44bc-ea91-dcc7c846e95e"
      },
      "execution_count": 11,
      "outputs": [
        {
          "output_type": "stream",
          "name": "stderr",
          "text": [
            "/usr/local/lib/python3.10/dist-packages/umap/umap_.py:1945: UserWarning:\n",
            "\n",
            "n_jobs value 1 overridden to 1 by setting random_state. Use no seed for parallelism.\n",
            "\n"
          ]
        },
        {
          "output_type": "display_data",
          "data": {
            "text/html": [
              "<html>\n",
              "<head><meta charset=\"utf-8\" /></head>\n",
              "<body>\n",
              "    <div>            <script src=\"https://cdnjs.cloudflare.com/ajax/libs/mathjax/2.7.5/MathJax.js?config=TeX-AMS-MML_SVG\"></script><script type=\"text/javascript\">if (window.MathJax && window.MathJax.Hub && window.MathJax.Hub.Config) {window.MathJax.Hub.Config({SVG: {font: \"STIX-Web\"}});}</script>                <script type=\"text/javascript\">window.PlotlyConfig = {MathJaxConfig: 'local'};</script>\n",
              "        <script charset=\"utf-8\" src=\"https://cdn.plot.ly/plotly-2.24.1.min.js\"></script>                <div id=\"46abe7ac-48db-4611-bd00-5f98a3c1703c\" class=\"plotly-graph-div\" style=\"height:525px; width:100%;\"></div>            <script type=\"text/javascript\">                                    window.PLOTLYENV=window.PLOTLYENV || {};                                    if (document.getElementById(\"46abe7ac-48db-4611-bd00-5f98a3c1703c\")) {                    Plotly.newPlot(                        \"46abe7ac-48db-4611-bd00-5f98a3c1703c\",                        [{\"hovertemplate\":\"Component 1=%{x}\\u003cbr\\u003eComponent 2=%{y}\\u003cbr\\u003etext=%{text}\\u003cextra\\u003e\\u003c\\u002fextra\\u003e\",\"legendgroup\":\"\",\"marker\":{\"color\":\"#636efa\",\"symbol\":\"circle\",\"size\":8},\"mode\":\"markers+text\",\"name\":\"\",\"orientation\":\"v\",\"showlegend\":false,\"text\":[\"##bar\",\"around\",\"chalmers\",\"processor\",\"##tto\",\"shrugged\",\"widening\",\"essence\",\"allen\",\"masses\",\"leaned\",\"sc\",\"##uration\",\"##pressing\",\"inspiring\",\"##shu\",\"mercantile\",\"embarrassed\",\"carriage\",\"anatolia\",\"mood\",\"##rogated\",\"joyah\",\"##gies\",\"reindeer\",\"brotherhood\",\"groove\",\"ops\",\"headquartered\",\"##lake\",\"navy\",\"magical\",\"accompanied\",\"##tar\",\"##held\",\"126\",\"1742\",\"bottle\",\"end\",\"##bo\",\"lines\",\"##bal\",\"eureka\",\"peyton\",\"france\",\"merton\",\"applicable\",\"magnificent\",\"g\",\"stranger\",\"laden\",\"##elling\",\"organizations\",\"concluded\",\"employees\",\"organism\",\"auditory\",\"##lins\",\"dominion\",\"marking\",\"##ₕ\",\"compute\",\"miners\",\"[unused523]\",\"corporations\",\"hardly\",\"comparative\",\"isaac\",\"supervising\",\"[unused958]\",\"user\",\"leung\",\"bicycles\",\"parking\",\"hillside\",\"hue\",\"zebra\",\"hong\",\"pathology\",\"fergus\",\"##head\",\"nests\",\"[unused244]\",\"retaliation\",\"##nsk\",\"kidding\",\"##ս\",\"representing\",\"princely\",\"lame\",\"jeopardy\",\"আ\",\"##ज\",\"buzzing\",\"##krishna\",\"ₕ\",\"keys\",\"divinity\",\"##puram\",\"##sław\",\"blooms\",\"heavenly\",\"##ʒ\",\"##モ\",\"completes\",\"panted\",\"minister\",\"[unused39]\",\"devoted\",\"19\",\"##´s\",\"researching\",\"condor\",\"bloom\",\"[unused87]\",\"terence\",\"##urian\",\"law\",\"infantry\",\"possibly\",\"[unused846]\",\"##cats\",\"##nett\",\"frontal\",\"terre\",\"totally\",\"##zon\",\"265\",\"motion\",\"stucco\",\"lp\",\"##dia\",\"##urne\",\"surgeon\",\"vladimir\",\"261\",\"լ\",\"р\",\"snails\",\"1764\",\"##bered\",\"massage\",\"goran\",\"larger\",\"chin\",\"distillery\",\"turret\",\"1699\",\"##や\",\"proteins\",\"boxers\",\"airspace\",\"kinda\",\"sara\",\"stance\",\"peters\",\"deposited\",\"tapping\",\"license\",\"##osphere\",\"evident\",\"rca\",\"assumes\",\"brood\",\"##tze\",\"jays\",\"researchers\",\"invincible\",\"grapes\",\"predominantly\",\"assuming\",\"sketch\",\"wetlands\",\"candle\",\"undertake\",\"hangar\",\"donaldson\",\"prussian\",\"bonding\",\"gifts\",\"kosovo\",\"pointed\",\"twilight\",\"nod\",\"fauna\",\"##odes\",\"oder\",\"ヒ\",\"182\",\"wolfgang\",\"guinness\",\"encore\",\"curvature\",\"##unda\",\"##roll\",\"##oint\",\"##y\",\"sailing\",\"senses\",\"procedure\",\"hogan\",\"hushed\",\"protesting\",\"##eak\",\"antigua\",\"tongues\",\"fitz\",\"population\",\"applies\",\"fort\",\"hostile\",\"swords\",\"first\",\"##ania\",\"fortune\",\"[unused615]\",\"narrows\",\"oakland\",\"clock\",\"thompson\",\"advisory\",\"lambert\",\"[unused444]\",\"[unused963]\",\"capitol\",\"quick\",\"cringed\",\"vascular\",\"semester\",\"eugene\",\"revenge\",\"spun\",\"connected\",\"cu\",\"arlington\",\"dime\",\"callie\",\"guitars\",\"cc\",\"ョ\",\"abroad\",\"orphanage\",\"composers\",\"commandos\",\"worn\",\"##gly\",\"harmony\",\"[unused765]\",\"spectral\",\"gm\",\"ferry\",\"##hedron\",\"compensate\",\"##cast\",\"cities\",\"yan\",\"##tidae\",\"thought\",\"[unused389]\",\"h₂o\",\"remorse\",\"[unused785]\",\"iec\",\"problem\",\"represented\",\"##ious\",\"loading\",\"##ow\",\"kc\",\"[unused115]\",\"slovenian\",\"shielding\",\"dc\",\"tech\",\"##rkin\",\"sounded\",\"slicing\",\"rouen\",\"cedric\",\"ranges\",\"candy\",\"sobs\",\"discussion\",\"patents\",\"[unused1]\",\"##ev\",\"nationalism\",\"ᵉ\",\"clockwise\",\"commentator\",\"edible\",\"decision\",\"flows\",\"eastwood\",\"walnut\",\"184\",\"ingredient\",\"arrays\",\"energetic\",\"make\"],\"x\":[13.460678,0.38553047,-1.6162335,-2.1488018,13.417635,2.160403,-0.9907108,2.238142,-1.8060621,-0.52151215,2.4755456,-1.6798086,12.771743,13.309907,0.9679162,14.552736,-2.0714517,1.6154939,-1.0859526,-0.6974821,1.0271354,12.82645,0.07089477,13.098762,2.100917,0.06464878,-0.60151255,0.36650288,-2.7398572,13.463325,-1.5887823,1.0390757,0.65798026,12.56327,13.277172,-1.5129888,-2.06407,1.5686936,0.23559073,13.608262,-1.1499076,12.58621,-1.4740224,-2.0750291,-0.48501292,-1.2131389,0.31029132,0.8190675,-0.35582966,1.6418519,-1.9133699,13.670886,-2.8195918,0.32278022,-2.913467,1.954491,1.6089705,12.984377,-0.95766824,1.5152935,14.3724785,-0.10326382,-2.8397603,-3.8366427,-2.7997198,1.8861576,-0.3396746,-0.9603051,0.9567727,-4.149805,0.5432077,-0.4979189,-1.4277343,-1.6417805,-1.1380339,2.2930353,2.156726,-0.7598415,0.8614308,-1.2909201,13.206663,1.9233749,-3.7337193,1.2884967,13.234735,1.5860974,14.372173,1.2387425,-0.68175656,1.6900227,1.2177256,0.49550992,14.464602,1.0858938,14.503994,0.21826835,-1.1112006,0.23729533,13.472447,14.350151,2.087346,0.6561401,14.520039,14.398459,0.11644364,1.417204,-0.64779377,-3.827934,2.2643554,-1.473803,12.849636,-2.6677413,1.7999109,2.2430413,-4.2783813,-0.013782648,12.779739,-1.3986557,-1.4265432,1.7968576,-4.0809455,13.123416,13.255318,2.3051198,-1.5907612,1.8927416,14.205653,-1.4930304,0.7783549,-0.9476462,-1.1240935,13.3,12.770451,0.47993052,-1.1437291,-1.5832732,0.3583707,-0.96250397,1.8889084,-1.999079,13.678295,0.9625936,-0.98255575,-0.52090204,0.2317023,1.376032,-1.6892047,-2.0755157,14.272717,2.1896439,-1.2864933,-1.3059026,1.8301378,-0.8561278,2.4524243,-1.9796332,-0.42150864,-0.43822637,-1.2939634,13.744402,0.6081511,-1.2803354,0.77424335,1.9174783,14.244182,-1.8033358,-2.8797321,0.85574275,1.6398476,0.4825212,1.0486405,-0.7847348,1.7788582,1.6712643,0.28804064,-1.6621869,-1.7736597,-0.56998336,2.1869662,1.6243316,-0.81301314,2.3143334,1.4032218,2.0337374,1.9495401,12.654012,0.398925,0.86576164,-1.5659766,-0.36090228,1.4568506,0.4120344,-1.0320241,13.207319,12.628005,13.90725,13.372278,-1.3665754,1.586428,-0.00057193986,-1.0679065,1.5140218,1.3087848,13.279548,-0.56846666,0.5937204,-1.9401398,-1.4491657,0.2489837,-1.5708848,1.1531879,-0.5599454,0.2610322,13.278828,1.1598719,-3.8657148,-1.1619587,-1.8189926,-2.1996245,-1.772569,0.667729,0.24426691,-3.7076519,-4.1083665,-1.8815256,0.32047832,1.8376408,0.877336,-1.6631968,-1.6805953,1.2594395,2.5947356,0.7153479,-0.6227399,-1.5992525,1.0541872,-1.0533285,-0.53628373,-0.784037,0.044055875,-0.40179032,1.8890893,-0.3225833,-1.2888778,0.9839853,13.974112,0.56797516,-4.25028,0.16356848,-2.1679757,-1.3737273,13.82219,0.8071051,13.361469,-1.7657772,-0.078389645,13.255849,1.0716785,-3.99571,0.9665722,1.3352323,-4.2365937,-2.0016303,0.72226447,1.186673,13.8726425,0.9075181,13.843619,-1.7810588,-4.007658,-0.7673102,0.7855222,-1.2975818,-2.0402281,13.350492,1.5558141,-0.008879352,-0.69082695,-1.4298934,-1.6013098,1.6535585,1.7110705,0.94403946,-2.8314364,-3.8776054,13.354157,-0.11646879,0.39208466,2.599285,-0.7952732,1.9478949,0.884046,0.8628399,-1.9509645,-1.9666343,-1.5224917,2.1249735,-0.29018113,0.947071,2.1030338],\"xaxis\":\"x\",\"y\":[6.607848,9.245974,13.087996,10.326395,6.7121987,7.9997334,8.6939945,11.051765,13.226994,8.24951,8.269308,11.905521,7.457334,6.447189,10.909817,7.834493,11.860333,8.094289,8.40153,12.0637,10.349293,6.8110867,10.068421,6.846391,11.8568535,11.525567,9.3301115,7.329276,11.153273,6.7021794,10.333523,11.012632,8.723957,6.8055243,6.4204435,6.878377,9.638486,10.435865,8.38557,6.5446687,8.722278,6.7686453,13.4036875,13.431994,11.788113,9.279244,7.3980317,10.8909235,8.088333,7.2782865,13.066073,7.2947345,11.077764,8.093117,10.939554,11.819759,9.067858,6.6012187,11.336394,8.4481735,7.7830167,8.602054,10.990122,2.771048,10.99847,6.963712,8.523182,12.868533,8.387515,2.5612912,8.597614,10.919706,10.404511,10.201245,9.088634,11.338533,11.735448,11.130911,12.173968,12.744038,6.911965,12.186046,2.9442446,9.375044,7.2448344,7.2933803,7.6063466,8.452892,10.0987,7.192597,11.31508,9.17848,7.7079654,10.263187,7.80161,9.3636265,7.165303,10.990281,6.6267557,7.213102,11.168919,10.960096,7.3238606,7.8202767,8.366605,8.749213,13.1571045,2.8937824,11.009706,6.899035,6.534116,10.54537,12.131623,11.255868,2.4520473,11.082472,7.5197906,8.118501,10.595007,6.894039,2.6240754,6.873318,6.8799367,8.506151,11.484764,6.884359,6.97722,6.9853907,11.496485,11.914248,7.9663115,6.1650777,7.5156145,12.307405,12.973569,6.9326944,9.670432,12.993292,11.693439,9.594986,6.705153,10.424502,13.063921,8.4149885,9.846657,10.12081,9.788106,9.473926,7.658528,10.779867,10.423194,8.577898,6.9228916,13.16682,8.309605,13.514515,7.4727902,9.344677,7.984854,6.8944325,7.372014,11.329452,7.3714576,12.194869,7.145101,12.286017,10.751304,9.749722,10.711689,9.324591,7.3055563,9.052257,12.002708,10.716772,8.778948,9.982603,12.891333,11.772838,10.601753,10.764871,12.095483,8.37225,11.589034,8.529792,11.9639225,6.6416435,9.290066,9.655878,6.868672,11.022504,10.264676,8.701542,8.64867,6.2326903,6.8084555,7.2241607,7.015226,9.985769,9.290733,8.543333,13.356581,9.03274,9.241987,7.231791,11.92005,9.933076,13.586678,7.1933393,7.275425,11.090491,9.662196,10.342391,7.5598397,6.171862,11.166189,2.7824001,8.821326,11.761502,10.034163,13.4247055,7.8292875,9.561631,2.984798,2.6007953,11.60765,7.2961354,7.7389965,12.082903,7.2747636,13.359627,9.513066,8.188066,8.847241,7.744888,11.48801,11.35513,13.345186,10.533701,7.4929333,10.004433,11.719021,12.191875,10.903193,10.492552,8.971172,7.514277,10.665235,2.4803338,10.585972,9.5931835,9.506654,6.723901,8.013269,6.4734354,11.386425,10.203185,6.784486,7.4826994,2.909781,10.0218,9.4539,2.4899967,10.682548,8.1956,8.656541,7.088591,8.821526,7.24702,11.864032,2.6751297,12.049703,9.766436,11.382736,10.478487,7.370295,8.932022,9.011691,11.3738575,13.05622,6.90087,10.934096,7.3461013,8.008934,10.668761,2.8321352,7.195647,11.616944,9.104907,8.191381,13.300266,11.110201,7.8647285,11.826959,13.222575,12.359682,6.8646193,10.662542,8.54098,10.367645,10.338634],\"yaxis\":\"y\",\"type\":\"scatter\"}],                        {\"template\":{\"data\":{\"histogram2dcontour\":[{\"type\":\"histogram2dcontour\",\"colorbar\":{\"outlinewidth\":0,\"ticks\":\"\"},\"colorscale\":[[0.0,\"#0d0887\"],[0.1111111111111111,\"#46039f\"],[0.2222222222222222,\"#7201a8\"],[0.3333333333333333,\"#9c179e\"],[0.4444444444444444,\"#bd3786\"],[0.5555555555555556,\"#d8576b\"],[0.6666666666666666,\"#ed7953\"],[0.7777777777777778,\"#fb9f3a\"],[0.8888888888888888,\"#fdca26\"],[1.0,\"#f0f921\"]]}],\"choropleth\":[{\"type\":\"choropleth\",\"colorbar\":{\"outlinewidth\":0,\"ticks\":\"\"}}],\"histogram2d\":[{\"type\":\"histogram2d\",\"colorbar\":{\"outlinewidth\":0,\"ticks\":\"\"},\"colorscale\":[[0.0,\"#0d0887\"],[0.1111111111111111,\"#46039f\"],[0.2222222222222222,\"#7201a8\"],[0.3333333333333333,\"#9c179e\"],[0.4444444444444444,\"#bd3786\"],[0.5555555555555556,\"#d8576b\"],[0.6666666666666666,\"#ed7953\"],[0.7777777777777778,\"#fb9f3a\"],[0.8888888888888888,\"#fdca26\"],[1.0,\"#f0f921\"]]}],\"heatmap\":[{\"type\":\"heatmap\",\"colorbar\":{\"outlinewidth\":0,\"ticks\":\"\"},\"colorscale\":[[0.0,\"#0d0887\"],[0.1111111111111111,\"#46039f\"],[0.2222222222222222,\"#7201a8\"],[0.3333333333333333,\"#9c179e\"],[0.4444444444444444,\"#bd3786\"],[0.5555555555555556,\"#d8576b\"],[0.6666666666666666,\"#ed7953\"],[0.7777777777777778,\"#fb9f3a\"],[0.8888888888888888,\"#fdca26\"],[1.0,\"#f0f921\"]]}],\"heatmapgl\":[{\"type\":\"heatmapgl\",\"colorbar\":{\"outlinewidth\":0,\"ticks\":\"\"},\"colorscale\":[[0.0,\"#0d0887\"],[0.1111111111111111,\"#46039f\"],[0.2222222222222222,\"#7201a8\"],[0.3333333333333333,\"#9c179e\"],[0.4444444444444444,\"#bd3786\"],[0.5555555555555556,\"#d8576b\"],[0.6666666666666666,\"#ed7953\"],[0.7777777777777778,\"#fb9f3a\"],[0.8888888888888888,\"#fdca26\"],[1.0,\"#f0f921\"]]}],\"contourcarpet\":[{\"type\":\"contourcarpet\",\"colorbar\":{\"outlinewidth\":0,\"ticks\":\"\"}}],\"contour\":[{\"type\":\"contour\",\"colorbar\":{\"outlinewidth\":0,\"ticks\":\"\"},\"colorscale\":[[0.0,\"#0d0887\"],[0.1111111111111111,\"#46039f\"],[0.2222222222222222,\"#7201a8\"],[0.3333333333333333,\"#9c179e\"],[0.4444444444444444,\"#bd3786\"],[0.5555555555555556,\"#d8576b\"],[0.6666666666666666,\"#ed7953\"],[0.7777777777777778,\"#fb9f3a\"],[0.8888888888888888,\"#fdca26\"],[1.0,\"#f0f921\"]]}],\"surface\":[{\"type\":\"surface\",\"colorbar\":{\"outlinewidth\":0,\"ticks\":\"\"},\"colorscale\":[[0.0,\"#0d0887\"],[0.1111111111111111,\"#46039f\"],[0.2222222222222222,\"#7201a8\"],[0.3333333333333333,\"#9c179e\"],[0.4444444444444444,\"#bd3786\"],[0.5555555555555556,\"#d8576b\"],[0.6666666666666666,\"#ed7953\"],[0.7777777777777778,\"#fb9f3a\"],[0.8888888888888888,\"#fdca26\"],[1.0,\"#f0f921\"]]}],\"mesh3d\":[{\"type\":\"mesh3d\",\"colorbar\":{\"outlinewidth\":0,\"ticks\":\"\"}}],\"scatter\":[{\"fillpattern\":{\"fillmode\":\"overlay\",\"size\":10,\"solidity\":0.2},\"type\":\"scatter\"}],\"parcoords\":[{\"type\":\"parcoords\",\"line\":{\"colorbar\":{\"outlinewidth\":0,\"ticks\":\"\"}}}],\"scatterpolargl\":[{\"type\":\"scatterpolargl\",\"marker\":{\"colorbar\":{\"outlinewidth\":0,\"ticks\":\"\"}}}],\"bar\":[{\"error_x\":{\"color\":\"#2a3f5f\"},\"error_y\":{\"color\":\"#2a3f5f\"},\"marker\":{\"line\":{\"color\":\"#E5ECF6\",\"width\":0.5},\"pattern\":{\"fillmode\":\"overlay\",\"size\":10,\"solidity\":0.2}},\"type\":\"bar\"}],\"scattergeo\":[{\"type\":\"scattergeo\",\"marker\":{\"colorbar\":{\"outlinewidth\":0,\"ticks\":\"\"}}}],\"scatterpolar\":[{\"type\":\"scatterpolar\",\"marker\":{\"colorbar\":{\"outlinewidth\":0,\"ticks\":\"\"}}}],\"histogram\":[{\"marker\":{\"pattern\":{\"fillmode\":\"overlay\",\"size\":10,\"solidity\":0.2}},\"type\":\"histogram\"}],\"scattergl\":[{\"type\":\"scattergl\",\"marker\":{\"colorbar\":{\"outlinewidth\":0,\"ticks\":\"\"}}}],\"scatter3d\":[{\"type\":\"scatter3d\",\"line\":{\"colorbar\":{\"outlinewidth\":0,\"ticks\":\"\"}},\"marker\":{\"colorbar\":{\"outlinewidth\":0,\"ticks\":\"\"}}}],\"scattermapbox\":[{\"type\":\"scattermapbox\",\"marker\":{\"colorbar\":{\"outlinewidth\":0,\"ticks\":\"\"}}}],\"scatterternary\":[{\"type\":\"scatterternary\",\"marker\":{\"colorbar\":{\"outlinewidth\":0,\"ticks\":\"\"}}}],\"scattercarpet\":[{\"type\":\"scattercarpet\",\"marker\":{\"colorbar\":{\"outlinewidth\":0,\"ticks\":\"\"}}}],\"carpet\":[{\"aaxis\":{\"endlinecolor\":\"#2a3f5f\",\"gridcolor\":\"white\",\"linecolor\":\"white\",\"minorgridcolor\":\"white\",\"startlinecolor\":\"#2a3f5f\"},\"baxis\":{\"endlinecolor\":\"#2a3f5f\",\"gridcolor\":\"white\",\"linecolor\":\"white\",\"minorgridcolor\":\"white\",\"startlinecolor\":\"#2a3f5f\"},\"type\":\"carpet\"}],\"table\":[{\"cells\":{\"fill\":{\"color\":\"#EBF0F8\"},\"line\":{\"color\":\"white\"}},\"header\":{\"fill\":{\"color\":\"#C8D4E3\"},\"line\":{\"color\":\"white\"}},\"type\":\"table\"}],\"barpolar\":[{\"marker\":{\"line\":{\"color\":\"#E5ECF6\",\"width\":0.5},\"pattern\":{\"fillmode\":\"overlay\",\"size\":10,\"solidity\":0.2}},\"type\":\"barpolar\"}],\"pie\":[{\"automargin\":true,\"type\":\"pie\"}]},\"layout\":{\"autotypenumbers\":\"strict\",\"colorway\":[\"#636efa\",\"#EF553B\",\"#00cc96\",\"#ab63fa\",\"#FFA15A\",\"#19d3f3\",\"#FF6692\",\"#B6E880\",\"#FF97FF\",\"#FECB52\"],\"font\":{\"color\":\"#2a3f5f\"},\"hovermode\":\"closest\",\"hoverlabel\":{\"align\":\"left\"},\"paper_bgcolor\":\"white\",\"plot_bgcolor\":\"#E5ECF6\",\"polar\":{\"bgcolor\":\"#E5ECF6\",\"angularaxis\":{\"gridcolor\":\"white\",\"linecolor\":\"white\",\"ticks\":\"\"},\"radialaxis\":{\"gridcolor\":\"white\",\"linecolor\":\"white\",\"ticks\":\"\"}},\"ternary\":{\"bgcolor\":\"#E5ECF6\",\"aaxis\":{\"gridcolor\":\"white\",\"linecolor\":\"white\",\"ticks\":\"\"},\"baxis\":{\"gridcolor\":\"white\",\"linecolor\":\"white\",\"ticks\":\"\"},\"caxis\":{\"gridcolor\":\"white\",\"linecolor\":\"white\",\"ticks\":\"\"}},\"coloraxis\":{\"colorbar\":{\"outlinewidth\":0,\"ticks\":\"\"}},\"colorscale\":{\"sequential\":[[0.0,\"#0d0887\"],[0.1111111111111111,\"#46039f\"],[0.2222222222222222,\"#7201a8\"],[0.3333333333333333,\"#9c179e\"],[0.4444444444444444,\"#bd3786\"],[0.5555555555555556,\"#d8576b\"],[0.6666666666666666,\"#ed7953\"],[0.7777777777777778,\"#fb9f3a\"],[0.8888888888888888,\"#fdca26\"],[1.0,\"#f0f921\"]],\"sequentialminus\":[[0.0,\"#0d0887\"],[0.1111111111111111,\"#46039f\"],[0.2222222222222222,\"#7201a8\"],[0.3333333333333333,\"#9c179e\"],[0.4444444444444444,\"#bd3786\"],[0.5555555555555556,\"#d8576b\"],[0.6666666666666666,\"#ed7953\"],[0.7777777777777778,\"#fb9f3a\"],[0.8888888888888888,\"#fdca26\"],[1.0,\"#f0f921\"]],\"diverging\":[[0,\"#8e0152\"],[0.1,\"#c51b7d\"],[0.2,\"#de77ae\"],[0.3,\"#f1b6da\"],[0.4,\"#fde0ef\"],[0.5,\"#f7f7f7\"],[0.6,\"#e6f5d0\"],[0.7,\"#b8e186\"],[0.8,\"#7fbc41\"],[0.9,\"#4d9221\"],[1,\"#276419\"]]},\"xaxis\":{\"gridcolor\":\"white\",\"linecolor\":\"white\",\"ticks\":\"\",\"title\":{\"standoff\":15},\"zerolinecolor\":\"white\",\"automargin\":true,\"zerolinewidth\":2},\"yaxis\":{\"gridcolor\":\"white\",\"linecolor\":\"white\",\"ticks\":\"\",\"title\":{\"standoff\":15},\"zerolinecolor\":\"white\",\"automargin\":true,\"zerolinewidth\":2},\"scene\":{\"xaxis\":{\"backgroundcolor\":\"#E5ECF6\",\"gridcolor\":\"white\",\"linecolor\":\"white\",\"showbackground\":true,\"ticks\":\"\",\"zerolinecolor\":\"white\",\"gridwidth\":2},\"yaxis\":{\"backgroundcolor\":\"#E5ECF6\",\"gridcolor\":\"white\",\"linecolor\":\"white\",\"showbackground\":true,\"ticks\":\"\",\"zerolinecolor\":\"white\",\"gridwidth\":2},\"zaxis\":{\"backgroundcolor\":\"#E5ECF6\",\"gridcolor\":\"white\",\"linecolor\":\"white\",\"showbackground\":true,\"ticks\":\"\",\"zerolinecolor\":\"white\",\"gridwidth\":2}},\"shapedefaults\":{\"line\":{\"color\":\"#2a3f5f\"}},\"annotationdefaults\":{\"arrowcolor\":\"#2a3f5f\",\"arrowhead\":0,\"arrowwidth\":1},\"geo\":{\"bgcolor\":\"white\",\"landcolor\":\"#E5ECF6\",\"subunitcolor\":\"white\",\"showland\":true,\"showlakes\":true,\"lakecolor\":\"white\"},\"title\":{\"x\":0.05},\"mapbox\":{\"style\":\"light\"}}},\"xaxis\":{\"anchor\":\"y\",\"domain\":[0.0,1.0],\"title\":{\"text\":\"Component 1\"}},\"yaxis\":{\"anchor\":\"x\",\"domain\":[0.0,1.0],\"title\":{\"text\":\"Component 2\"}},\"legend\":{\"tracegroupgap\":0},\"title\":{\"text\":\"UMAP of Sentence Embeddings\"}},                        {\"responsive\": true}                    ).then(function(){\n",
              "                            \n",
              "var gd = document.getElementById('46abe7ac-48db-4611-bd00-5f98a3c1703c');\n",
              "var x = new MutationObserver(function (mutations, observer) {{\n",
              "        var display = window.getComputedStyle(gd).display;\n",
              "        if (!display || display === 'none') {{\n",
              "            console.log([gd, 'removed!']);\n",
              "            Plotly.purge(gd);\n",
              "            observer.disconnect();\n",
              "        }}\n",
              "}});\n",
              "\n",
              "// Listen for the removal of the full notebook cells\n",
              "var notebookContainer = gd.closest('#notebook-container');\n",
              "if (notebookContainer) {{\n",
              "    x.observe(notebookContainer, {childList: true});\n",
              "}}\n",
              "\n",
              "// Listen for the clearing of the current output cell\n",
              "var outputEl = gd.closest('.output');\n",
              "if (outputEl) {{\n",
              "    x.observe(outputEl, {childList: true});\n",
              "}}\n",
              "\n",
              "                        })                };                            </script>        </div>\n",
              "</body>\n",
              "</html>"
            ]
          },
          "metadata": {}
        }
      ]
    },
    {
      "cell_type": "markdown",
      "source": [
        "- **Distribution and clustering:** the UMAP visualization shows several distinct clustering regions, in particular a relatively tight cluster in the right-hand region of the figure, which suggests that these words have similar semantic features in the embedding space. In addition, there is a small, more isolated cluster in the lower left corner, suggesting that these words may have unique semantics or special labeling in the model.\n",
        "- **Label overlap and readability:** label overlap is more severe in the figure, especially in the main clustered regions, making it difficult to recognize specific words. This suggests that while UMAP does an excellent job of maintaining local structure, there is still a need to improve the display methods in this dense label visualization, such as increasing label spacing or using interactive tools to see individual words and cluster structure more clearly."
      ],
      "metadata": {
        "id": "_dtMYoBZfY0V"
      }
    },
    {
      "cell_type": "markdown",
      "source": [
        "# Compare and Summary\n",
        "- Each of these methods has its strengths and weaknesses: PCA, t-SNE, and UMAP regarding embedding space visualization. The output of pCA presents most words in a dense region-smooth overall structure; yet, it cannot separate the semantic groups well. While t-SNE is much better to highlight the local structure, showing more pronounced clustering between words, the labels are too seriously overlapped, making reading less readable. uMAP is more decentralized, since there are several distinct clusters, with dense clusters towards the right, which are isolated to the bottom left. This means that it has a better balance between global and local structure preservation, though the tags still overlap.\n",
        "- PCA is proper for viewing overall pattern distribution, t-SNE shows better local relationships and proximity, while UMAP balances the local and global structure better. To get better visualization, it may be effectively improved by decreasing the sample size or adopting an interactive visualization tool. Taking all the above together, the present analysis illustrates that UMAP actually conveys richer semantic structure, while t-SNE might be more applicable to in-depth analysis of the local patterns."
      ],
      "metadata": {
        "id": "ESINmvPzvYm3"
      }
    },
    {
      "cell_type": "markdown",
      "source": [
        "# Reference\n",
        "1. AIPI-590-XAI. “Duke-Ai-Xai/Explainable-Ml-Example-Notebooks/Embedding-Visualization.Ipynb at Main · AIPI-590-Xai/Duke-Ai-Xai.” GitHub, https://github.com/AIPI-590-XAI/Duke-AI-XAI/blob/main/explainable-ml-example-notebooks/embedding-visualization.ipynb Accessed 30 Oct. 2024.\n",
        "2. “Sentencetransformers Documentation.” SentenceTransformers Documentation - Sentence Transformers Documentation, https://sbert.net/ Accessed 30 Oct. 2024.\n",
        "3. Chatgpt. Explanation of Python code for models"
      ],
      "metadata": {
        "id": "KOstXctLWNmi"
      }
    }
  ]
}
