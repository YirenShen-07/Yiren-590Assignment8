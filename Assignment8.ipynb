{
  "nbformat": 4,
  "nbformat_minor": 0,
  "metadata": {
    "colab": {
      "provenance": [],
      "include_colab_link": true
    },
    "kernelspec": {
      "name": "python3",
      "display_name": "Python 3"
    },
    "language_info": {
      "name": "python"
    },
    "widgets": {
      "application/vnd.jupyter.widget-state+json": {
        "ce5d0c116cba4ae6959d9ba3220f3620": {
          "model_module": "@jupyter-widgets/controls",
          "model_name": "HBoxModel",
          "model_module_version": "1.5.0",
          "state": {
            "_dom_classes": [],
            "_model_module": "@jupyter-widgets/controls",
            "_model_module_version": "1.5.0",
            "_model_name": "HBoxModel",
            "_view_count": null,
            "_view_module": "@jupyter-widgets/controls",
            "_view_module_version": "1.5.0",
            "_view_name": "HBoxView",
            "box_style": "",
            "children": [
              "IPY_MODEL_1cc2e3d62652468ba3cf83cd5c5087f8",
              "IPY_MODEL_0c819fb9cf13497fa189812a1e7b6cc9",
              "IPY_MODEL_1d0eb246a2894616b39bb7935a297e94"
            ],
            "layout": "IPY_MODEL_4f2697aa83b04633a034df05d342fe39"
          }
        },
        "1cc2e3d62652468ba3cf83cd5c5087f8": {
          "model_module": "@jupyter-widgets/controls",
          "model_name": "HTMLModel",
          "model_module_version": "1.5.0",
          "state": {
            "_dom_classes": [],
            "_model_module": "@jupyter-widgets/controls",
            "_model_module_version": "1.5.0",
            "_model_name": "HTMLModel",
            "_view_count": null,
            "_view_module": "@jupyter-widgets/controls",
            "_view_module_version": "1.5.0",
            "_view_name": "HTMLView",
            "description": "",
            "description_tooltip": null,
            "layout": "IPY_MODEL_c00e992d68eb4ed6988a72b8ddd395b3",
            "placeholder": "​",
            "style": "IPY_MODEL_a2c9002bb8654aeaa6ed115d67172a14",
            "value": "Batches: 100%"
          }
        },
        "0c819fb9cf13497fa189812a1e7b6cc9": {
          "model_module": "@jupyter-widgets/controls",
          "model_name": "FloatProgressModel",
          "model_module_version": "1.5.0",
          "state": {
            "_dom_classes": [],
            "_model_module": "@jupyter-widgets/controls",
            "_model_module_version": "1.5.0",
            "_model_name": "FloatProgressModel",
            "_view_count": null,
            "_view_module": "@jupyter-widgets/controls",
            "_view_module_version": "1.5.0",
            "_view_name": "ProgressView",
            "bar_style": "success",
            "description": "",
            "description_tooltip": null,
            "layout": "IPY_MODEL_0890bf32c0844caca309093e011d6906",
            "max": 10,
            "min": 0,
            "orientation": "horizontal",
            "style": "IPY_MODEL_f4293636001c49f9892c0de1d01d7f28",
            "value": 10
          }
        },
        "1d0eb246a2894616b39bb7935a297e94": {
          "model_module": "@jupyter-widgets/controls",
          "model_name": "HTMLModel",
          "model_module_version": "1.5.0",
          "state": {
            "_dom_classes": [],
            "_model_module": "@jupyter-widgets/controls",
            "_model_module_version": "1.5.0",
            "_model_name": "HTMLModel",
            "_view_count": null,
            "_view_module": "@jupyter-widgets/controls",
            "_view_module_version": "1.5.0",
            "_view_name": "HTMLView",
            "description": "",
            "description_tooltip": null,
            "layout": "IPY_MODEL_3beb3003894744769bb5a0c1416c7453",
            "placeholder": "​",
            "style": "IPY_MODEL_50b21142d61c45eeb960226caf65ac60",
            "value": " 10/10 [00:18&lt;00:00,  1.28s/it]"
          }
        },
        "4f2697aa83b04633a034df05d342fe39": {
          "model_module": "@jupyter-widgets/base",
          "model_name": "LayoutModel",
          "model_module_version": "1.2.0",
          "state": {
            "_model_module": "@jupyter-widgets/base",
            "_model_module_version": "1.2.0",
            "_model_name": "LayoutModel",
            "_view_count": null,
            "_view_module": "@jupyter-widgets/base",
            "_view_module_version": "1.2.0",
            "_view_name": "LayoutView",
            "align_content": null,
            "align_items": null,
            "align_self": null,
            "border": null,
            "bottom": null,
            "display": null,
            "flex": null,
            "flex_flow": null,
            "grid_area": null,
            "grid_auto_columns": null,
            "grid_auto_flow": null,
            "grid_auto_rows": null,
            "grid_column": null,
            "grid_gap": null,
            "grid_row": null,
            "grid_template_areas": null,
            "grid_template_columns": null,
            "grid_template_rows": null,
            "height": null,
            "justify_content": null,
            "justify_items": null,
            "left": null,
            "margin": null,
            "max_height": null,
            "max_width": null,
            "min_height": null,
            "min_width": null,
            "object_fit": null,
            "object_position": null,
            "order": null,
            "overflow": null,
            "overflow_x": null,
            "overflow_y": null,
            "padding": null,
            "right": null,
            "top": null,
            "visibility": null,
            "width": null
          }
        },
        "c00e992d68eb4ed6988a72b8ddd395b3": {
          "model_module": "@jupyter-widgets/base",
          "model_name": "LayoutModel",
          "model_module_version": "1.2.0",
          "state": {
            "_model_module": "@jupyter-widgets/base",
            "_model_module_version": "1.2.0",
            "_model_name": "LayoutModel",
            "_view_count": null,
            "_view_module": "@jupyter-widgets/base",
            "_view_module_version": "1.2.0",
            "_view_name": "LayoutView",
            "align_content": null,
            "align_items": null,
            "align_self": null,
            "border": null,
            "bottom": null,
            "display": null,
            "flex": null,
            "flex_flow": null,
            "grid_area": null,
            "grid_auto_columns": null,
            "grid_auto_flow": null,
            "grid_auto_rows": null,
            "grid_column": null,
            "grid_gap": null,
            "grid_row": null,
            "grid_template_areas": null,
            "grid_template_columns": null,
            "grid_template_rows": null,
            "height": null,
            "justify_content": null,
            "justify_items": null,
            "left": null,
            "margin": null,
            "max_height": null,
            "max_width": null,
            "min_height": null,
            "min_width": null,
            "object_fit": null,
            "object_position": null,
            "order": null,
            "overflow": null,
            "overflow_x": null,
            "overflow_y": null,
            "padding": null,
            "right": null,
            "top": null,
            "visibility": null,
            "width": null
          }
        },
        "a2c9002bb8654aeaa6ed115d67172a14": {
          "model_module": "@jupyter-widgets/controls",
          "model_name": "DescriptionStyleModel",
          "model_module_version": "1.5.0",
          "state": {
            "_model_module": "@jupyter-widgets/controls",
            "_model_module_version": "1.5.0",
            "_model_name": "DescriptionStyleModel",
            "_view_count": null,
            "_view_module": "@jupyter-widgets/base",
            "_view_module_version": "1.2.0",
            "_view_name": "StyleView",
            "description_width": ""
          }
        },
        "0890bf32c0844caca309093e011d6906": {
          "model_module": "@jupyter-widgets/base",
          "model_name": "LayoutModel",
          "model_module_version": "1.2.0",
          "state": {
            "_model_module": "@jupyter-widgets/base",
            "_model_module_version": "1.2.0",
            "_model_name": "LayoutModel",
            "_view_count": null,
            "_view_module": "@jupyter-widgets/base",
            "_view_module_version": "1.2.0",
            "_view_name": "LayoutView",
            "align_content": null,
            "align_items": null,
            "align_self": null,
            "border": null,
            "bottom": null,
            "display": null,
            "flex": null,
            "flex_flow": null,
            "grid_area": null,
            "grid_auto_columns": null,
            "grid_auto_flow": null,
            "grid_auto_rows": null,
            "grid_column": null,
            "grid_gap": null,
            "grid_row": null,
            "grid_template_areas": null,
            "grid_template_columns": null,
            "grid_template_rows": null,
            "height": null,
            "justify_content": null,
            "justify_items": null,
            "left": null,
            "margin": null,
            "max_height": null,
            "max_width": null,
            "min_height": null,
            "min_width": null,
            "object_fit": null,
            "object_position": null,
            "order": null,
            "overflow": null,
            "overflow_x": null,
            "overflow_y": null,
            "padding": null,
            "right": null,
            "top": null,
            "visibility": null,
            "width": null
          }
        },
        "f4293636001c49f9892c0de1d01d7f28": {
          "model_module": "@jupyter-widgets/controls",
          "model_name": "ProgressStyleModel",
          "model_module_version": "1.5.0",
          "state": {
            "_model_module": "@jupyter-widgets/controls",
            "_model_module_version": "1.5.0",
            "_model_name": "ProgressStyleModel",
            "_view_count": null,
            "_view_module": "@jupyter-widgets/base",
            "_view_module_version": "1.2.0",
            "_view_name": "StyleView",
            "bar_color": null,
            "description_width": ""
          }
        },
        "3beb3003894744769bb5a0c1416c7453": {
          "model_module": "@jupyter-widgets/base",
          "model_name": "LayoutModel",
          "model_module_version": "1.2.0",
          "state": {
            "_model_module": "@jupyter-widgets/base",
            "_model_module_version": "1.2.0",
            "_model_name": "LayoutModel",
            "_view_count": null,
            "_view_module": "@jupyter-widgets/base",
            "_view_module_version": "1.2.0",
            "_view_name": "LayoutView",
            "align_content": null,
            "align_items": null,
            "align_self": null,
            "border": null,
            "bottom": null,
            "display": null,
            "flex": null,
            "flex_flow": null,
            "grid_area": null,
            "grid_auto_columns": null,
            "grid_auto_flow": null,
            "grid_auto_rows": null,
            "grid_column": null,
            "grid_gap": null,
            "grid_row": null,
            "grid_template_areas": null,
            "grid_template_columns": null,
            "grid_template_rows": null,
            "height": null,
            "justify_content": null,
            "justify_items": null,
            "left": null,
            "margin": null,
            "max_height": null,
            "max_width": null,
            "min_height": null,
            "min_width": null,
            "object_fit": null,
            "object_position": null,
            "order": null,
            "overflow": null,
            "overflow_x": null,
            "overflow_y": null,
            "padding": null,
            "right": null,
            "top": null,
            "visibility": null,
            "width": null
          }
        },
        "50b21142d61c45eeb960226caf65ac60": {
          "model_module": "@jupyter-widgets/controls",
          "model_name": "DescriptionStyleModel",
          "model_module_version": "1.5.0",
          "state": {
            "_model_module": "@jupyter-widgets/controls",
            "_model_module_version": "1.5.0",
            "_model_name": "DescriptionStyleModel",
            "_view_count": null,
            "_view_module": "@jupyter-widgets/base",
            "_view_module_version": "1.2.0",
            "_view_name": "StyleView",
            "description_width": ""
          }
        }
      }
    }
  },
  "cells": [
    {
      "cell_type": "markdown",
      "metadata": {
        "id": "view-in-github",
        "colab_type": "text"
      },
      "source": [
        "<a href=\"https://colab.research.google.com/github/YirenShen-07/Yiren-590Assignment8/blob/main/Assignment8.ipynb\" target=\"_parent\"><img src=\"https://colab.research.google.com/assets/colab-badge.svg\" alt=\"Open In Colab\"/></a>"
      ]
    },
    {
      "cell_type": "markdown",
      "source": [
        "# AIPI 590 - XAI | Assignment #08\n",
        "### This notebook explores different dimensionality reduction techniques for visualizing embedding spaces of language models. I compare PCA, t-SNE, and UMAP to understand how they represent the semantic relationships between words.\n",
        "\n",
        "### Yiren Shen\n",
        "\n",
        "#### Include the button below. Change the link to the location in your github repository:https://github.com/YirenShen-07/Yiren-590Assignment8/blob/main/Assignment8.ipynb"
      ],
      "metadata": {
        "id": "yS3YjlmDeMn2"
      }
    },
    {
      "cell_type": "markdown",
      "source": [
        "## DO:\n",
        "Visualize the embedding space of an embedding model on the MTEB leaderboard using tSNE, PCA, and UMAP. Compare/contrast the approaches.\n",
        "\n",
        "Rubric:\n",
        "Code implementing the explanation techniques is correct\n",
        "\n",
        "Code implementing the explanation techniques is clear and well documented\n",
        "\n",
        "Visualizations are clear, follow best practices, and has a clear caption/explanation in the notebook markdown\n",
        "\n",
        "Notebook includes markdown cell(s) with comprehensive explanations of the approach\n",
        "\n",
        "Includes summary of results\n"
      ],
      "metadata": {
        "id": "M-KJmW7ieSkN"
      }
    },
    {
      "cell_type": "code",
      "execution_count": 1,
      "metadata": {
        "id": "EHy6oM37dr7f",
        "colab": {
          "base_uri": "https://localhost:8080/"
        },
        "outputId": "01825dbf-31eb-417c-d80c-98767b6f9e3d"
      },
      "outputs": [
        {
          "output_type": "stream",
          "name": "stdout",
          "text": [
            "Cloning into 'Duke-AI-XAI'...\n",
            "remote: Enumerating objects: 68, done.\u001b[K\n",
            "remote: Counting objects: 100% (68/68), done.\u001b[K\n",
            "remote: Compressing objects: 100% (53/53), done.\u001b[K\n",
            "remote: Total 68 (delta 22), reused 49 (delta 12), pack-reused 0 (from 0)\u001b[K\n",
            "Receiving objects: 100% (68/68), 6.59 MiB | 5.80 MiB/s, done.\n",
            "Resolving deltas: 100% (22/22), done.\n",
            "/content/Duke-AI-XAI/templates\n",
            "template.ipynb\n"
          ]
        }
      ],
      "source": [
        "# Please use this to connect your GitHub repository to your Google Colab notebook\n",
        "# Connects to any needed files from GitHub and Google Drive\n",
        "import os\n",
        "\n",
        "# Remove Colab default sample_data\n",
        "!rm -r ./sample_data\n",
        "\n",
        "# Clone GitHub files to colab workspace\n",
        "repo_name = \"Duke-AI-XAI\" # Change to your repo name\n",
        "git_path = 'https://github.com/AIPI-590-XAI/Duke-AI-XAI.git' #Change to your path\n",
        "!git clone \"{git_path}\"\n",
        "\n",
        "# Install dependencies from requirements.txt file\n",
        "#!pip install -r \"{os.path.join(repo_name,'requirements.txt')}\" #Add if using requirements.txt\n",
        "\n",
        "# Change working directory to location of notebook\n",
        "notebook_dir = 'templates'\n",
        "path_to_notebook = os.path.join(repo_name,notebook_dir)\n",
        "%cd \"{path_to_notebook}\"\n",
        "%ls"
      ]
    },
    {
      "cell_type": "code",
      "source": [
        "!pip install gensim==4.3.2 matplotlib==3.7.1 scikit-learn==1.2.2 umap-learn==0.5.6 plotly==5.15.0 sentence-transformers mteb"
      ],
      "metadata": {
        "colab": {
          "base_uri": "https://localhost:8080/"
        },
        "id": "8n283Nkje0-b",
        "outputId": "c5b92812-8e05-4497-a4bb-4b2026d79524"
      },
      "execution_count": 2,
      "outputs": [
        {
          "output_type": "stream",
          "name": "stdout",
          "text": [
            "Requirement already satisfied: gensim==4.3.2 in /usr/local/lib/python3.10/dist-packages (4.3.2)\n",
            "Requirement already satisfied: matplotlib==3.7.1 in /usr/local/lib/python3.10/dist-packages (3.7.1)\n",
            "Requirement already satisfied: scikit-learn==1.2.2 in /usr/local/lib/python3.10/dist-packages (1.2.2)\n",
            "Requirement already satisfied: umap-learn==0.5.6 in /usr/local/lib/python3.10/dist-packages (0.5.6)\n",
            "Requirement already satisfied: plotly==5.15.0 in /usr/local/lib/python3.10/dist-packages (5.15.0)\n",
            "Requirement already satisfied: sentence-transformers in /usr/local/lib/python3.10/dist-packages (3.2.1)\n",
            "Requirement already satisfied: mteb in /usr/local/lib/python3.10/dist-packages (1.18.8)\n",
            "Requirement already satisfied: numpy>=1.18.5 in /usr/local/lib/python3.10/dist-packages (from gensim==4.3.2) (1.26.4)\n",
            "Requirement already satisfied: scipy>=1.7.0 in /usr/local/lib/python3.10/dist-packages (from gensim==4.3.2) (1.13.1)\n",
            "Requirement already satisfied: smart-open>=1.8.1 in /usr/local/lib/python3.10/dist-packages (from gensim==4.3.2) (7.0.5)\n",
            "Requirement already satisfied: contourpy>=1.0.1 in /usr/local/lib/python3.10/dist-packages (from matplotlib==3.7.1) (1.3.0)\n",
            "Requirement already satisfied: cycler>=0.10 in /usr/local/lib/python3.10/dist-packages (from matplotlib==3.7.1) (0.12.1)\n",
            "Requirement already satisfied: fonttools>=4.22.0 in /usr/local/lib/python3.10/dist-packages (from matplotlib==3.7.1) (4.54.1)\n",
            "Requirement already satisfied: kiwisolver>=1.0.1 in /usr/local/lib/python3.10/dist-packages (from matplotlib==3.7.1) (1.4.7)\n",
            "Requirement already satisfied: packaging>=20.0 in /usr/local/lib/python3.10/dist-packages (from matplotlib==3.7.1) (24.1)\n",
            "Requirement already satisfied: pillow>=6.2.0 in /usr/local/lib/python3.10/dist-packages (from matplotlib==3.7.1) (10.4.0)\n",
            "Requirement already satisfied: pyparsing>=2.3.1 in /usr/local/lib/python3.10/dist-packages (from matplotlib==3.7.1) (3.2.0)\n",
            "Requirement already satisfied: python-dateutil>=2.7 in /usr/local/lib/python3.10/dist-packages (from matplotlib==3.7.1) (2.8.2)\n",
            "Requirement already satisfied: joblib>=1.1.1 in /usr/local/lib/python3.10/dist-packages (from scikit-learn==1.2.2) (1.4.2)\n",
            "Requirement already satisfied: threadpoolctl>=2.0.0 in /usr/local/lib/python3.10/dist-packages (from scikit-learn==1.2.2) (3.5.0)\n",
            "Requirement already satisfied: numba>=0.51.2 in /usr/local/lib/python3.10/dist-packages (from umap-learn==0.5.6) (0.60.0)\n",
            "Requirement already satisfied: pynndescent>=0.5 in /usr/local/lib/python3.10/dist-packages (from umap-learn==0.5.6) (0.5.13)\n",
            "Requirement already satisfied: tqdm in /usr/local/lib/python3.10/dist-packages (from umap-learn==0.5.6) (4.66.6)\n",
            "Requirement already satisfied: tenacity>=6.2.0 in /usr/local/lib/python3.10/dist-packages (from plotly==5.15.0) (9.0.0)\n",
            "Requirement already satisfied: transformers<5.0.0,>=4.41.0 in /usr/local/lib/python3.10/dist-packages (from sentence-transformers) (4.44.2)\n",
            "Requirement already satisfied: torch>=1.11.0 in /usr/local/lib/python3.10/dist-packages (from sentence-transformers) (2.5.0+cu121)\n",
            "Requirement already satisfied: huggingface-hub>=0.20.0 in /usr/local/lib/python3.10/dist-packages (from sentence-transformers) (0.24.7)\n",
            "Requirement already satisfied: datasets>=2.19.0 in /usr/local/lib/python3.10/dist-packages (from mteb) (3.1.0)\n",
            "Requirement already satisfied: requests>=2.26.0 in /usr/local/lib/python3.10/dist-packages (from mteb) (2.32.3)\n",
            "Requirement already satisfied: typing-extensions>=4.5.0 in /usr/local/lib/python3.10/dist-packages (from mteb) (4.12.2)\n",
            "Requirement already satisfied: rich>=0.0.0 in /usr/local/lib/python3.10/dist-packages (from mteb) (13.9.3)\n",
            "Requirement already satisfied: pytrec-eval-terrier>=0.5.6 in /usr/local/lib/python3.10/dist-packages (from mteb) (0.5.6)\n",
            "Requirement already satisfied: pydantic>=2.0.0 in /usr/local/lib/python3.10/dist-packages (from mteb) (2.9.2)\n",
            "Requirement already satisfied: eval-type-backport>=0.0.0 in /usr/local/lib/python3.10/dist-packages (from mteb) (0.2.0)\n",
            "Requirement already satisfied: polars>=0.20.22 in /usr/local/lib/python3.10/dist-packages (from mteb) (1.9.0)\n",
            "Requirement already satisfied: filelock in /usr/local/lib/python3.10/dist-packages (from datasets>=2.19.0->mteb) (3.16.1)\n",
            "Requirement already satisfied: pyarrow>=15.0.0 in /usr/local/lib/python3.10/dist-packages (from datasets>=2.19.0->mteb) (17.0.0)\n",
            "Requirement already satisfied: dill<0.3.9,>=0.3.0 in /usr/local/lib/python3.10/dist-packages (from datasets>=2.19.0->mteb) (0.3.8)\n",
            "Requirement already satisfied: pandas in /usr/local/lib/python3.10/dist-packages (from datasets>=2.19.0->mteb) (2.2.2)\n",
            "Requirement already satisfied: xxhash in /usr/local/lib/python3.10/dist-packages (from datasets>=2.19.0->mteb) (3.5.0)\n",
            "Requirement already satisfied: multiprocess<0.70.17 in /usr/local/lib/python3.10/dist-packages (from datasets>=2.19.0->mteb) (0.70.16)\n",
            "Requirement already satisfied: fsspec<=2024.9.0,>=2023.1.0 in /usr/local/lib/python3.10/dist-packages (from fsspec[http]<=2024.9.0,>=2023.1.0->datasets>=2.19.0->mteb) (2024.9.0)\n",
            "Requirement already satisfied: aiohttp in /usr/local/lib/python3.10/dist-packages (from datasets>=2.19.0->mteb) (3.10.10)\n",
            "Requirement already satisfied: pyyaml>=5.1 in /usr/local/lib/python3.10/dist-packages (from datasets>=2.19.0->mteb) (6.0.2)\n",
            "Requirement already satisfied: llvmlite<0.44,>=0.43.0dev0 in /usr/local/lib/python3.10/dist-packages (from numba>=0.51.2->umap-learn==0.5.6) (0.43.0)\n",
            "Requirement already satisfied: annotated-types>=0.6.0 in /usr/local/lib/python3.10/dist-packages (from pydantic>=2.0.0->mteb) (0.7.0)\n",
            "Requirement already satisfied: pydantic-core==2.23.4 in /usr/local/lib/python3.10/dist-packages (from pydantic>=2.0.0->mteb) (2.23.4)\n",
            "Requirement already satisfied: six>=1.5 in /usr/local/lib/python3.10/dist-packages (from python-dateutil>=2.7->matplotlib==3.7.1) (1.16.0)\n",
            "Requirement already satisfied: charset-normalizer<4,>=2 in /usr/local/lib/python3.10/dist-packages (from requests>=2.26.0->mteb) (3.4.0)\n",
            "Requirement already satisfied: idna<4,>=2.5 in /usr/local/lib/python3.10/dist-packages (from requests>=2.26.0->mteb) (3.10)\n",
            "Requirement already satisfied: urllib3<3,>=1.21.1 in /usr/local/lib/python3.10/dist-packages (from requests>=2.26.0->mteb) (2.2.3)\n",
            "Requirement already satisfied: certifi>=2017.4.17 in /usr/local/lib/python3.10/dist-packages (from requests>=2.26.0->mteb) (2024.8.30)\n",
            "Requirement already satisfied: markdown-it-py>=2.2.0 in /usr/local/lib/python3.10/dist-packages (from rich>=0.0.0->mteb) (3.0.0)\n",
            "Requirement already satisfied: pygments<3.0.0,>=2.13.0 in /usr/local/lib/python3.10/dist-packages (from rich>=0.0.0->mteb) (2.18.0)\n",
            "Requirement already satisfied: wrapt in /usr/local/lib/python3.10/dist-packages (from smart-open>=1.8.1->gensim==4.3.2) (1.16.0)\n",
            "Requirement already satisfied: networkx in /usr/local/lib/python3.10/dist-packages (from torch>=1.11.0->sentence-transformers) (3.4.2)\n",
            "Requirement already satisfied: jinja2 in /usr/local/lib/python3.10/dist-packages (from torch>=1.11.0->sentence-transformers) (3.1.4)\n",
            "Requirement already satisfied: sympy==1.13.1 in /usr/local/lib/python3.10/dist-packages (from torch>=1.11.0->sentence-transformers) (1.13.1)\n",
            "Requirement already satisfied: mpmath<1.4,>=1.1.0 in /usr/local/lib/python3.10/dist-packages (from sympy==1.13.1->torch>=1.11.0->sentence-transformers) (1.3.0)\n",
            "Requirement already satisfied: regex!=2019.12.17 in /usr/local/lib/python3.10/dist-packages (from transformers<5.0.0,>=4.41.0->sentence-transformers) (2024.9.11)\n",
            "Requirement already satisfied: safetensors>=0.4.1 in /usr/local/lib/python3.10/dist-packages (from transformers<5.0.0,>=4.41.0->sentence-transformers) (0.4.5)\n",
            "Requirement already satisfied: tokenizers<0.20,>=0.19 in /usr/local/lib/python3.10/dist-packages (from transformers<5.0.0,>=4.41.0->sentence-transformers) (0.19.1)\n",
            "Requirement already satisfied: aiohappyeyeballs>=2.3.0 in /usr/local/lib/python3.10/dist-packages (from aiohttp->datasets>=2.19.0->mteb) (2.4.3)\n",
            "Requirement already satisfied: aiosignal>=1.1.2 in /usr/local/lib/python3.10/dist-packages (from aiohttp->datasets>=2.19.0->mteb) (1.3.1)\n",
            "Requirement already satisfied: attrs>=17.3.0 in /usr/local/lib/python3.10/dist-packages (from aiohttp->datasets>=2.19.0->mteb) (24.2.0)\n",
            "Requirement already satisfied: frozenlist>=1.1.1 in /usr/local/lib/python3.10/dist-packages (from aiohttp->datasets>=2.19.0->mteb) (1.5.0)\n",
            "Requirement already satisfied: multidict<7.0,>=4.5 in /usr/local/lib/python3.10/dist-packages (from aiohttp->datasets>=2.19.0->mteb) (6.1.0)\n",
            "Requirement already satisfied: yarl<2.0,>=1.12.0 in /usr/local/lib/python3.10/dist-packages (from aiohttp->datasets>=2.19.0->mteb) (1.17.0)\n",
            "Requirement already satisfied: async-timeout<5.0,>=4.0 in /usr/local/lib/python3.10/dist-packages (from aiohttp->datasets>=2.19.0->mteb) (4.0.3)\n",
            "Requirement already satisfied: mdurl~=0.1 in /usr/local/lib/python3.10/dist-packages (from markdown-it-py>=2.2.0->rich>=0.0.0->mteb) (0.1.2)\n",
            "Requirement already satisfied: MarkupSafe>=2.0 in /usr/local/lib/python3.10/dist-packages (from jinja2->torch>=1.11.0->sentence-transformers) (3.0.2)\n",
            "Requirement already satisfied: pytz>=2020.1 in /usr/local/lib/python3.10/dist-packages (from pandas->datasets>=2.19.0->mteb) (2024.2)\n",
            "Requirement already satisfied: tzdata>=2022.7 in /usr/local/lib/python3.10/dist-packages (from pandas->datasets>=2.19.0->mteb) (2024.2)\n",
            "Requirement already satisfied: propcache>=0.2.0 in /usr/local/lib/python3.10/dist-packages (from yarl<2.0,>=1.12.0->aiohttp->datasets>=2.19.0->mteb) (0.2.0)\n"
          ]
        }
      ]
    },
    {
      "cell_type": "markdown",
      "source": [
        "##  Library Import"
      ],
      "metadata": {
        "id": "wKThVTOUqhBU"
      }
    },
    {
      "cell_type": "code",
      "source": [
        "# Basic\n",
        "import numpy as np\n",
        "import matplotlib.pyplot as plt\n",
        "import plotly.express as px\n",
        "\n",
        "# Dimensionality Reduction\n",
        "from sklearn.decomposition import PCA\n",
        "from sklearn.manifold import TSNE\n",
        "import umap\n",
        "\n",
        "# Import the Sentence Transformer library for generating word embeddings\n",
        "from sentence_transformers import SentenceTransformer\n",
        "from mteb import MTEB\n",
        "from datasets import load_dataset"
      ],
      "metadata": {
        "id": "IkK-VRM3e_JX"
      },
      "execution_count": 3,
      "outputs": []
    },
    {
      "cell_type": "markdown",
      "source": [
        "# Data Preparation"
      ],
      "metadata": {
        "id": "aFjhp7ipqqyq"
      }
    },
    {
      "cell_type": "code",
      "source": [
        "# Load MTEB benchmark dataset (using banking77 as an example from MTEB)\n",
        "dataset = load_dataset(\"banking77\")\n",
        "texts = dataset['train']['text'][:300]\n",
        "# all-MiniLM-L6-v2 is chosen for its good balance of speed and performance\n",
        "model = SentenceTransformer('sentence-transformers/all-mpnet-base-v2')\n",
        "\n",
        "# Get a model vocabulary\n",
        "embeddings = model.encode(texts, batch_size=32, show_progress_bar=True)\n",
        "\n",
        "# Generate embeddings for the sentences\n",
        "print(f\"Generated embeddings shape: {embeddings.shape}\")\n"
      ],
      "metadata": {
        "colab": {
          "base_uri": "https://localhost:8080/",
          "height": 158,
          "referenced_widgets": [
            "ce5d0c116cba4ae6959d9ba3220f3620",
            "1cc2e3d62652468ba3cf83cd5c5087f8",
            "0c819fb9cf13497fa189812a1e7b6cc9",
            "1d0eb246a2894616b39bb7935a297e94",
            "4f2697aa83b04633a034df05d342fe39",
            "c00e992d68eb4ed6988a72b8ddd395b3",
            "a2c9002bb8654aeaa6ed115d67172a14",
            "0890bf32c0844caca309093e011d6906",
            "f4293636001c49f9892c0de1d01d7f28",
            "3beb3003894744769bb5a0c1416c7453",
            "50b21142d61c45eeb960226caf65ac60"
          ]
        },
        "id": "lPc9V-_TXE2C",
        "outputId": "f66b5294-6d19-49d6-f3bb-f71feb7a673b"
      },
      "execution_count": 8,
      "outputs": [
        {
          "output_type": "stream",
          "name": "stderr",
          "text": [
            "/usr/local/lib/python3.10/dist-packages/transformers/tokenization_utils_base.py:1601: FutureWarning:\n",
            "\n",
            "`clean_up_tokenization_spaces` was not set. It will be set to `True` by default. This behavior will be depracted in transformers v4.45, and will be then set to `False` by default. For more details check this issue: https://github.com/huggingface/transformers/issues/31884\n",
            "\n"
          ]
        },
        {
          "output_type": "display_data",
          "data": {
            "text/plain": [
              "Batches:   0%|          | 0/10 [00:00<?, ?it/s]"
            ],
            "application/vnd.jupyter.widget-view+json": {
              "version_major": 2,
              "version_minor": 0,
              "model_id": "ce5d0c116cba4ae6959d9ba3220f3620"
            }
          },
          "metadata": {}
        },
        {
          "output_type": "stream",
          "name": "stdout",
          "text": [
            "Generated embeddings shape: (300, 768)\n"
          ]
        }
      ]
    },
    {
      "cell_type": "markdown",
      "source": [
        "The code loads the all-mpnet-base-v2 model to generate embeddings and selects the first 300 words from the model's vocabulary as input, generating an embedding matrix of shape (300, 768), where each word has a 768-dimensional vector representation. This approach demonstrates the model's ability to handle word embeddings and is suitable for both downscaling and visualization analysis."
      ],
      "metadata": {
        "id": "ZfsEZEVprRZT"
      }
    },
    {
      "cell_type": "markdown",
      "source": [
        "# PCA (Principal Component Analysis):\n",
        "- Linear dimensionality reduction technique\n",
        "- Finds directions of maximum variance\n",
        "- Useful for understanding global structure\n"
      ],
      "metadata": {
        "id": "NhgQwSgLfRHU"
      }
    },
    {
      "cell_type": "code",
      "source": [
        "# PCA Visualization\n",
        "pca = PCA(n_components=2)\n",
        "embeddings_pca = pca.fit_transform(embeddings)\n",
        "\n",
        "# Calculate and print explained variance ratio\n",
        "explained_variance = pca.explained_variance_ratio_\n",
        "print(f\"\\nPCA explained variance ratio: {explained_variance}\")\n",
        "print(f\"Total variance explained: {sum(explained_variance):.4f}\")\n",
        "\n",
        "# Create PCA visualization\n",
        "fig_pca = px.scatter(\n",
        "    embeddings_pca,\n",
        "    x=0,\n",
        "    y=1,\n",
        "    hover_data={'text': texts},  # Show text on hover\n",
        "    title=\"PCA of MTEB Banking77 Embeddings (all-mpnet-base-v2)\",\n",
        "    labels={'0': 'Principal Component 1', '1': 'Principal Component 2'}\n",
        ")\n",
        "fig_pca.update_traces(marker=dict(size=8))\n",
        "fig_pca.show()\n"
      ],
      "metadata": {
        "colab": {
          "base_uri": "https://localhost:8080/",
          "height": 596
        },
        "id": "jwwDpB81bDA4",
        "outputId": "b5388bda-935c-4365-ab44-3e49702497f0"
      },
      "execution_count": 9,
      "outputs": [
        {
          "output_type": "stream",
          "name": "stdout",
          "text": [
            "\n",
            "PCA explained variance ratio: [0.1873581  0.10689401]\n",
            "Total variance explained: 0.2943\n"
          ]
        },
        {
          "output_type": "display_data",
          "data": {
            "text/html": [
              "<html>\n",
              "<head><meta charset=\"utf-8\" /></head>\n",
              "<body>\n",
              "    <div>            <script src=\"https://cdnjs.cloudflare.com/ajax/libs/mathjax/2.7.5/MathJax.js?config=TeX-AMS-MML_SVG\"></script><script type=\"text/javascript\">if (window.MathJax && window.MathJax.Hub && window.MathJax.Hub.Config) {window.MathJax.Hub.Config({SVG: {font: \"STIX-Web\"}});}</script>                <script type=\"text/javascript\">window.PlotlyConfig = {MathJaxConfig: 'local'};</script>\n",
              "        <script charset=\"utf-8\" src=\"https://cdn.plot.ly/plotly-2.24.1.min.js\"></script>                <div id=\"d5468638-d027-4a5a-9b68-32a597a8ee92\" class=\"plotly-graph-div\" style=\"height:525px; width:100%;\"></div>            <script type=\"text/javascript\">                                    window.PLOTLYENV=window.PLOTLYENV || {};                                    if (document.getElementById(\"d5468638-d027-4a5a-9b68-32a597a8ee92\")) {                    Plotly.newPlot(                        \"d5468638-d027-4a5a-9b68-32a597a8ee92\",                        [{\"customdata\":[[\"I am still waiting on my card?\"],[\"What can I do if my card still hasn't arrived after 2 weeks?\"],[\"I have been waiting over a week. Is the card still coming?\"],[\"Can I track my card while it is in the process of delivery?\"],[\"How do I know if I will get my card, or if it is lost?\"],[\"When did you send me my new card?\"],[\"Do you have info about the card on delivery?\"],[\"What do I do if I still have not received my new card?\"],[\"Does the package with my card have tracking?\"],[\"I ordered my card but it still isn't here\"],[\"Why has my new card still not come?\"],[\"I still haven't received my card after two weeks, is it lost?\"],[\"Can you track my card for me?\"],[\"Is there a way to track the delivery of my card?\"],[\"It's been a week since I ordered my card and it's not here. Please help?\"],[\"Will I be able to track the card that was sent to me?\"],[\"I don't have my card in 1 week.  Should I be worried?\"],[\"How do I know when my new card is going to arrive?\"],[\"My new card has not been delivered to my home yet. What is going on?\"],[\"It's been a week since you issued me a card and I still didn't get it. Should I keep waiting?\"],[\"On the card that is coming, what's the tracking info?\"],[\"What is the status of my card's delivery?\"],[\"Have you sent out my card yet?\"],[\"My card isn't here yet.\"],[\"where is my new card?\"],[\"It's been a week since you sent my card and I still don't have it.\"],[\"How do I track the card you sent me?\"],[\"When will I recieve my new card?\"],[\"When will I get my new card?\"],[\"What is the expected delivery date for my card?\"],[\"Is there a tracking number for the card you sent me?\"],[\"I would like to track the card you sent to me.\"],[\"Has my card been lost in delivery?\"],[\"My new card hasn't came in.\"],[\"Where is the card I ordered 2 weeks ago?\"],[\"Can I get an update on my replacement card?\"],[\"How long does it take for a new card to ship?\"],[\"What's the tracking on the card you sent?\"],[\"I haven't received my card and am worried it is lost.\"],[\"My card still hasn't been delivered\"],[\"I need to find out where the card is that I ordered.\"],[\"Where is my credit card that was to be mailed?\"],[\"I ordered my card but it hasn't been delivered yet\"],[\"Am I able to track the card that was just sent to me?\"],[\"Can you tell me why I haven't received my new card?\"],[\"I'm still waiting for my new card.\"],[\"Is my card lost? I am still waiting for it to be delivered.\"],[\"Should I keep waiting for my card to be delivered?\"],[\"Can I track when my card will be delivered?\"],[\"How can I check on the status of my new card?\"],[\"A card has been sent to me, how do I track it?\"],[\"Is there a way I can get my card expedited?\"],[\"What can I do to track the card you sent me?\"],[\"why hasnt my card come in yet?\"],[\"How can I periodically check the delivery of the card you sent?\"],[\"What's the reason my new card hasn't come?\"],[\"How long does it take for me to get my new card?\"],[\"I don't have my card after 1 week. What are my next steps?\"],[\"I know I'm getting a new card but would like know when I can expect to receive it.\"],[\"I want to find out what happened to my new card?\"],[\"Was there a way for me to get tracking for that?\"],[\"I am still waiting for my card.\"],[\"My card hasn't arrived.\"],[\"Can I track the card you sent to me?\"],[\"I haven't gotten my new card.\"],[\"How long should it take for my new card to arrive in them mail? What should I do if I never receive it?\"],[\"Will I have to wait much longer for my new card to arrive?\"],[\"how to track the card you sent\"],[\"2 weeks ago I ordered my new card.  It isn't here.  What should I do?\"],[\"How can I check on the delivery status of my card?\"],[\"My card has not been delivered yet and its been a week since I ordered it, please help\"],[\"What's the expected wait time to recieve my new card?\"],[\"How can I see the progress of delivery of the card that was sent?\"],[\"My card was supposed to arrive, but hasn't?\"],[\"I ordered a card and would like to know how to track the delivery progress of it.\"],[\"How long will it take for me to get my card?\"],[\"My card hasn't shown up yet.\"],[\"Does the card you sent have a tracking number?\"],[\"My card hasn't arrived in the mail yet. I ordered it two weeks ago. What can I do?\"],[\"maximum how many days get the courier?\"],[\"Is there a reason my new card hasn't arrived yet?\"],[\"I've been waiting a while for my card, is there a way to know when it will arrive?\"],[\"How can I track my card's delivery?\"],[\"Can I track the card that was just sent to me?\"],[\"If I ordered my new card last week, how much longer should I wait to receive it?\"],[\"What's go on, where is my new card?\"],[\"Where is my new card if I haven't received it yet?\"],[\"Where is my card?\"],[\"Can you tell me why I haven't received my new card yet?\"],[\"Is there a way to track my card?\"],[\"Is there a way to track the new card you sent me?\"],[\"I'm still waiting for my card.\"],[\"What do I need to do to get my new card which I have requested 2 weeks ago?\"],[\"WHAT IS THE SOLUTION OF THIS PROBLEM\"],[\"Could I get tracking on the card?\"],[\"Can you help me track my card?\"],[\"Shouldn't my new card be here by now?\"],[\"Is there a reason my new card hasn't arrived?\"],[\"I would like to track a card sent to me, how do I do that?\"],[\"Is there a tracking number for the card?\"],[\"can you share card tracking number?\"],[\"I have not received my card and it's been a week, what do I do?\"],[\"Is there a way I can check on the card on route to me?\"],[\"When will my new card arrive?\"],[\"Why haven't I received my new card yet?\"],[\"What is the expected delivery date of my card?\"],[\"My card hasn't came in the mail yet?\"],[\"I haven't received my card.\"],[\"Is it possible for me to track the card is was mailed to me?\"],[\"When will my new card be delivered?\"],[\"I was issued a card about a week ago. why hasn't it come in yet?\"],[\"Can you please tell me where my card is? I ordered it 2 weeks ago!\"],[\"I still haven't received my card in the mail\"],[\"I'm still waiting for my card that was issued a week ago. What should I do?\"],[\"I still haven't gotten my new card.  When will it get here?\"],[\"Do you have a tracking number for the card I was sent?\"],[\"How do I track the card you sent to me?\"],[\"Is my new bank card on the way and is there a way to track it?\"],[\"Could you send me and up date on the arrival of my card?\"],[\"How long does it take to recieve my new card?\"],[\"My card has not come in the mail yet.\"],[\"What's the card you sent me's tracking number?\"],[\"i havent got my card\"],[\"Why hasn't my card arrived yet?\"],[\"I thought I would have received my new card at this point.\"],[\"How long until my new card gets here?\"],[\"How much longer until I get my new card?\"],[\"Am I able to track a card that has already been sent?\"],[\"Is it possible to track the card you sent me?\"],[\"How long will it be to get this new card?\"],[\"how can i track card you sent\"],[\"Can the card was sen to me be tracked?\"],[\"why have i not got my new card?\"],[\"I need to track the card sent to me.\"],[\"It's been two weeks and I haven't gotten my card, what do I do?\"],[\"I was expecting my new card by now.\"],[\"Where is the tracking number for the card?\"],[\"I was issued a new card a week ago but still haven't received it. How long will it be until I receive it?\"],[\"Can I track the card that you sent me in the mail?\"],[\"Can you tell me if I can track the card you sent me?\"],[\"Why have I not gotten my new card?\"],[\"I'm still waiting on my new card to be delivered!\"],[\"My new card isn't here and it was issued a week ago.\"],[\"I was supposed to receive my new card by now, but it hasn't came in.\"],[\"Is a tracking number available for the card that was just sent?\"],[\"Why haven't I gotten my new card?\"],[\"Was there a number to track that I could get?\"],[\"How much longer is it going to take to get my new card?\"],[\"I haven't gotten my credit card in the mail.\"],[\"My card hasn't arrived yet. What do I do?\"],[\"My card still hasn't arrived after two weeks, now what?\"],[\"My card appears to have never arrived?\"],[\"My card never arrived.\"],[\"My card has been found. Is there any way for me to put it back into the app?\"],[\"I was able to find my card. How to I go about putting it into my app?\"],[\"how do I get my card to show in the app?\"],[\"I just got my card.  It's not linked yet--how do I do that?\"],[\"lost card found, want to put it back in app\"],[\"I just got a card, how can I add it to the app?\"],[\"Is there any way to see my card in the app?\"],[\"If I find a card I lost do I need to dispose of it? Or can I re-active the card and continue to use it?\"],[\"I found my card. How can I put it into my app?\"],[\"How do I make my card show up in the app?\"],[\"Can you show me where to link the new card?\"],[\"I found my old card. Can I link it back into the app?\"],[\"Show me how to link the new card,\"],[\"How do I add an existing card to the app?\"],[\"I finally got my card.  Now I want to link it.  Is that something you have to do or can I do that?\"],[\"How do I link one of your card that I already have?\"],[\"If I have a physical card can I link it?\"],[\"I found my lost card in my jacket pocket this morning so I'd like to reactivate it please.\"],[\"Can I add a card that I just found (again) to the app?\"],[\"How can I make my card show up in the app?\"],[\"I would like to re-activate my card, it was previously reported  lost but I found it this morning.\"],[\"Okay, I found my card, can I put it back in the app?\"],[\"Can I reactivate a card?\"],[\"I would like to reactivate a card and wondered if that could be done?\"],[\"I got my card now, how do I make it show up in the app?\"],[\"How do I link an existing card?\"],[\"How do I link a new card in the app?\"],[\"The card I thought was lost was just in my jacket, so can I reactivate it since I found it this morning?\"],[\"I already have a card and want to link it\"],[\"Can you please reactivate my card?\"],[\"Where do I go to add a new card?\"],[\"I want my card I just received to show up in the app. How do I do that?\"],[\"I received my card, how do I get it to show in the app?\"],[\"If I have a credit card with you how I get set up to link to it?\"],[\"How do I add my new card?\"],[\"I want to reactivate my card, I thought I had lost it but found it again this morning.\"],[\"I need a card reactivation, I had reported my card lost but I ran across it in my jacket.\"],[\"My card is no longer lost. How do I enter it back into the app?\"],[\"I want to reactivate my card, I thought I had lost it but found it again in my jacket.\"],[\"May I reactivate my card? I previously reported it lost, but have now found it safe and sound.\"],[\"How do I reactivate a card I thought I lost?\"],[\"Help me figure out how to link the new card.\"],[\"I found my lost card. Am I still able to use it?\"],[\"Will I need a new card or can I put my old card back into the app?\"],[\"Is there a way to link the card i just got?\"],[\"How do I add a new card?\"],[\"I want to reactivate my card, I found it after thinking it was lost.\"],[\"Can I put my old card back in the app?\"],[\"I got a new card, how do I link it?\"],[\"I found the card I thought I lost this morning. Can I reactivate this card?\"],[\"How do i go about linking a new card?\"],[\"how do i get the card linked\"],[\"I have one of your cards, but I don't know how to link it.\"],[\"how do I link an old card?\"],[\"I received my card. How do I link it to the app?\"],[\"Now that I have my card, how do I connect it to the app?\"],[\"How do I add the card I just received to show up in the app?\"],[\"I want to reactivate my card, I thought I had lost it but I found it.\"],[\"What do I need to do to link my new card for my account?\"],[\"Can I add a card to back into the app?\"],[\"I want to link my new card. Can you help?\"],[\"What is the process to link the new card?\"],[\"I found my card, am I able to put it back into the app?\"],[\"I have found my lost or stolen card, would I still have to activate the new card that was sent to me through the mail in order to access my account?\"],[\"Where can I link a new card?\"],[\"How do I add a card on to the app?\"],[\"I found my card in my jacket this morning, so can I reactivate it?\"],[\"I've obtained the card, how do I enable it on the app?\"],[\"I need to find the card I received in the app.\"],[\"How do I get my card on the app?\"],[\"In the app, how can I make it show the new card that arrived?\"],[\"How do I link my new card?\"],[\"Can I activate a card in the app?\"],[\"I want to link to my card card with you, how?\"],[\"I would like to link my card to my account.\"],[\"I thought I lost my card so I cancelled it, but recently I found it in my jacket and I would like to re-establish the card.\"],[\"How can I link the new card?\"],[\"I got a new card and can't find where to link it.\"],[\"Hey, I have my card, how do I get it to show in the app?\"],[\"Where in the app do I go to make my new card show up?\"],[\"Where do I scan my card?\"],[\"Can I reactivate my card? I reported it lost and found it this morning in my jacket.\"],[\"Can I link my card I previously received?\"],[\"I want to reactivate my card, I thought I had lost it but found it again in my jacket this morning.\"],[\"I'd lke my card reactivated, I was thinking it was misplaced but I discovered when I woke up that I had left it in my coat.\"],[\"You sent me a card and now I want to link it.\"],[\"How do I add my new card to the app?\"],[\"Can I add a card back to the app?\"],[\"What if I want to add a card I already have to the app?\"],[\"I recently reported my card as missing\\u002flost, and I just found it. Can I still use it?\"],[\"Could I reactivate my card please, I couldn't find it but it turns out it was in my jacket pocket.\"],[\"Is there a way to link cards if I have one of yours?\"],[\"If my card was lost or stolen can I re-link it?\"],[\"How do I link a new card to an existing one?\"],[\"How do I link a new payment card?\"],[\"I would like to reactivate my card that I previously reported lost. I located the card this morning.\"],[\"Card has been received, how will it show up on the app?\"],[\"Can I re-link a lost card with the app?\"],[\"What do I do to link my new card?\"],[\"Is it possible to link a new card?\"],[\"I deactivated my card but would like to reactivate it.\"],[\"I found my card that I thought I had lost, I need to reactive it, please help.\"],[\"can I link a card of yours I already have?\"],[\"Can I put my found card back into the app on my phone?\"],[\"My card arrived but I need to make it work in the app, how do I do that?\"],[\"I found the card that I thought I lost, and I would like to reactivate it.\"],[\"I found my card again. Can I put it back into the app?\"],[\"I need some help linking my new card.\"],[\"help me link my card\"],[\"How do I link my card in the app.\"],[\"How do I get my card into the app?\"],[\"I found my card! Can I link it back into the app?\"],[\"How do I reactivate my card?\"],[\"Where do I go to get my new card linked?\"],[\"I thought I lost my card but I found it today, so I would like to reactivate it.\"],[\"How do I link the new card that I just got from you guys?\"],[\"How can I add a new card?\"],[\"Can you tell me how to get my card on the app?\"],[\"Is it possible to reactivate the card I thought I lost but found this morning in my jacket?\"],[\"How do I make my card appear on the app?\"],[\"How do I link the new card?\"],[\"Where in the app do I link a new card?\"],[\"How do I add my card to the app once I get it?\"],[\"Can I link your physical card\"],[\"How do I activate and link my new card?\"],[\"I got a card, how do I get it in the app?\"],[\"I received my new card.  Where is it in the app?\"],[\"I found my card, how can I use it again?\"],[\"I just received a new card, where do I go to link it to my account?\"],[\"found card, how to put it back in app\"],[\"How do I see my card in the app?\"],[\"The card I thought I lost was in my jacket pocket this morning, so can I reactivate that?\"],[\"I don't see my card anywhere in the app.\"],[\"I received my card, how do I get it to work in the app?\"],[\"What do I do if I already had a card with you guys?\"],[\"if i found a lost card can i put it back in app\"],[\"I have a card that was deactivated can I reactivate it?\"],[\"My new card isn't in my app, how do I get it in there?\"],[\"Help me access the card I already got so I can information from it.\"],[\"What is my money worth in other countries?\"],[\"Will my money be of equal value when I travel abroad?\"],[\"Do you know the rate of exchange?\"],[\"What foreign exchange rate will I get on weekdays and on the weekends?\"],[\"What is the exchange looking like?\"],[\"How is the exchange rate doing?\"],[\"I would like to know how exchange rates are calculated when transferring funds.\"],[\"I would like to know what exchange rates you use?\"]],\"hovertemplate\":\"Principal Component 1=%{x}\\u003cbr\\u003ePrincipal Component 2=%{y}\\u003cbr\\u003etext=%{customdata[0]}\\u003cextra\\u003e\\u003c\\u002fextra\\u003e\",\"legendgroup\":\"\",\"marker\":{\"color\":\"#636efa\",\"symbol\":\"circle\",\"size\":8},\"mode\":\"markers\",\"name\":\"\",\"orientation\":\"v\",\"showlegend\":false,\"x\":[-0.4435071,-0.4285615,-0.47828045,-0.13212778,-0.31481764,-0.24136454,-0.33184892,-0.35547855,-0.06002953,-0.37376904,-0.302328,-0.41483486,0.0044162455,-0.22268797,-0.42710164,-0.08220395,-0.39691383,-0.32210913,-0.39928955,-0.44193548,-0.13619128,-0.49119052,-0.25722378,-0.20713829,0.03203262,-0.304897,0.020969102,-0.407517,-0.3478609,-0.46856546,-0.15819699,-0.027146699,-0.2947938,-0.23068708,-0.26120964,-0.19140565,-0.38374853,-0.22329673,-0.2910999,-0.43438616,-0.043792516,-0.3500606,-0.36323425,-0.06671709,-0.37900943,-0.23987755,-0.28428242,-0.4450868,-0.23474486,-0.16648382,-0.024257135,-0.23226099,-0.023227733,-0.3782877,-0.22706506,-0.29683533,-0.35943714,-0.3038386,-0.32827544,-0.04543849,-0.08297987,-0.401625,-0.28849992,-0.02909052,-0.19377354,-0.41842222,-0.3582075,0.05184742,-0.32566112,-0.34213626,-0.31062776,-0.41365486,-0.29161856,-0.39199045,-0.23729238,-0.45821705,-0.1963201,-0.15593705,-0.41919288,-0.3267539,-0.36795184,-0.35010928,-0.17525956,-0.028718961,-0.4336202,-0.026598997,-0.14848822,-0.0029626095,-0.4034943,0.114312164,0.021614978,-0.39606446,-0.17753406,-0.050826497,0.04137799,0.0799836,-0.31460008,-0.35056672,0.06280962,-0.06653259,0.07652012,-0.45853263,-0.0697081,-0.37271276,-0.4233654,-0.46199638,-0.41531768,-0.37400734,-0.059838578,-0.41187894,-0.42739886,-0.23445304,-0.4177053,-0.44201323,-0.42880267,-0.19208889,0.026059614,-0.24053042,-0.26598972,-0.38932073,-0.3345064,-0.16084161,-0.17987539,-0.45751485,-0.27192816,-0.39805818,-0.40073654,-0.047098152,-0.036518995,-0.36361334,0.014316179,-0.014184908,-0.32235765,0.031642396,-0.4644954,-0.22411965,-0.03570237,-0.45719725,-0.03073196,-0.06340372,-0.34417844,-0.2550922,-0.26897034,-0.33945483,-0.15625922,-0.3438239,-0.062810555,-0.38135815,-0.38336322,-0.3662984,-0.42464164,-0.33335778,-0.30644533,0.311627,0.40706882,0.2898882,0.2573928,0.35158256,0.40936804,0.25629336,0.16614681,0.41207355,0.3145216,0.35391146,0.4922323,0.42142212,0.509413,0.4209208,0.39585248,0.41955283,0.060559228,0.4081825,0.31783444,0.019844646,0.32980946,0.10022322,0.121988796,0.29311383,0.5204151,0.5591029,0.058465607,0.48191902,-0.020525264,0.34770152,0.24107657,0.17694075,0.290364,0.327144,0.030425679,0.026848841,0.29421586,0.047529396,0.019794676,0.09231194,0.44740084,0.0838266,0.35426205,0.4408478,0.3931211,0.07939,0.39330664,0.41890082,0.08859797,0.38788125,0.43746176,0.27429068,0.44914186,0.3689936,0.46031103,0.3159687,0.059607353,0.34509364,0.48277986,0.40771925,0.37641782,0.3366985,0.017443694,0.41729054,0.48015514,0.061423726,0.36166233,0.116327904,0.21885811,0.20241478,0.44221666,0.283454,0.304465,0.3953386,0.08137511,0.45303753,0.33144125,0.31381577,0.35220468,0.124640405,-0.018234149,0.2552499,0.027104627,-0.0028360246,0.13416106,0.44834933,0.4634108,0.4774516,0.050445035,-0.03453667,0.4366963,0.2541312,0.47779104,0.33822623,0.0428214,0.11442827,0.40537342,0.42483923,0.45290738,0.12919618,0.13370207,0.24253145,0.3620729,0.34263718,0.19586627,0.34105134,0.38395128,0.41508776,0.5351158,0.3347815,0.43746993,0.06943117,0.21599588,0.10401544,0.32820028,0.39143687,0.1850475,0.056615636,0.3418136,0.4543788,0.5243156,0.35182726,0.3617077,0.32168567,0.25377506,0.19178006,0.18453097,0.2372063,0.38981894,0.27534926,0.056433957,0.19177115,0.2572529,0.01519904,0.34639686,0.15300995,0.3289401,0.23539235,0.024695706,0.013025242,-0.07063359,-0.09827573,-0.19298218,-0.112731315,0.09718648,-0.029012287],\"xaxis\":\"x\",\"y\":[-0.19115166,-0.11633858,-0.06541794,0.38053033,0.08309652,0.011195414,0.13172178,-0.24754423,0.4650353,-0.16782375,-0.3308462,0.072306804,0.33420348,0.34249923,-0.108817816,0.46096614,0.038627557,-0.17670067,-0.22423318,-0.09283305,0.2547727,0.051264096,0.12068652,-0.13356525,-0.24004388,0.04099675,0.3582501,-0.22706215,-0.26004875,-0.1164152,0.41844046,0.47078314,0.12038404,-0.27660495,-0.06742002,-0.09553701,-0.21693078,0.41395804,0.1183135,-0.106514476,0.056098092,0.127221,-0.100169584,0.45612356,-0.2028288,-0.33736968,0.015271072,-0.12154648,0.2805329,-0.0945276,0.36891496,-0.022215009,0.36793745,-0.17923255,0.3570035,-0.30981857,-0.2851521,-0.13125853,-0.22909382,-0.1074095,0.61996585,-0.19875701,-0.03360372,0.5095751,-0.2412489,-0.19031565,-0.25387314,0.4690591,-0.20927471,0.15284511,-0.13462731,-0.25084254,0.23200625,-0.1525216,0.1989567,-0.17601632,-0.14646354,0.46140736,-0.11715729,0.14376439,-0.2715592,0.008788559,0.3152606,0.49048486,-0.2175588,-0.26771605,-0.16973619,-0.0803047,-0.23006582,0.39675707,0.28526223,-0.21898456,-0.24886677,0.11204178,0.50200516,0.21373272,-0.30187315,-0.2513469,0.4660688,0.4372136,0.4445185,-0.1065071,0.30388308,-0.23761803,-0.27347958,-0.09178693,-0.07638906,0.006249651,0.5233744,-0.2107334,-0.14038685,-0.068737015,-0.04450486,-0.16559714,-0.24308181,0.37643802,0.4031773,0.12237954,0.08596164,-0.2213682,-0.0037145915,0.34248054,-0.13525897,-0.14572352,-0.16255854,-0.26964727,-0.30850127,0.5207074,0.50336,-0.27978277,0.45691445,0.47554165,-0.29358944,0.40895426,-0.1802225,-0.2779752,0.3398148,-0.15832947,0.5063078,0.46452802,-0.28370813,-0.2636941,-0.111470945,-0.18707247,0.50176513,-0.294036,0.68453544,-0.29005677,0.053817865,-0.15864928,-0.15075973,-0.0331058,0.003186861,0.13682225,-0.06089496,-0.097436115,-0.23443912,0.13156094,-0.11873783,0.16173099,0.13582039,-0.037073866,-0.07232919,-0.25416464,0.052095152,-0.2643658,-0.13834403,-0.1182814,-0.13303049,-0.035828628,0.1431115,0.065951124,-0.067520306,0.085497014,0.1657934,0.05395315,0.05922385,-0.12848292,-0.24734049,-0.212259,0.15999585,-0.16490695,0.0029538416,-0.26734656,-0.067212,-0.08212663,0.008026235,-0.29657018,0.051320344,0.12464878,0.08107418,0.106048234,0.1101616,0.058350846,-0.2950223,0.16228746,-0.07184293,-0.11350266,-0.27626556,0.08083548,0.037195686,-0.2955951,0.16737758,-0.33517024,-0.18819179,-0.024111997,-0.18343341,-0.07244337,-0.15656804,-0.08506847,0.058338404,-0.2513301,0.14976403,-0.26165047,-0.2973028,0.1657461,0.13028356,-0.30235454,-0.064319,0.15750422,-0.11351385,0.1119243,-0.07369486,-0.01727374,-0.31740707,0.07677267,0.047279097,-0.017835239,0.14908631,-0.3038561,-0.20730011,-0.085143246,-0.170595,0.038655233,0.16876386,0.0092595555,0.10478728,0.056013577,0.100692,-0.20445548,0.11450727,-0.06879178,0.1608515,0.11552253,0.012516343,0.14936185,-0.295384,-0.19540323,0.07992006,0.026242867,0.23428161,-0.33388573,-0.18121746,0.01455367,0.024934905,0.044212162,0.23267354,-0.108698614,0.034505516,0.12772895,-0.26950136,-0.16273947,-0.09118783,-0.10554536,0.144882,-0.095461555,-0.27823055,-0.0008675414,-0.24454822,-0.26506832,-0.027349435,0.21322297,-0.08924864,-0.31768858,-0.2090929,-0.13762872,-0.01179649,-0.28263983,-0.099492334,-0.10016755,-0.050046593,-0.19499192,0.031850968,-0.0036129206,0.196445,-0.022545494,-0.119472064,-0.105158344,0.26064476,0.0840773,-0.25676212,-0.057188265,0.36567885,0.32509744,0.34725004,0.16585155,0.12888713,0.23120229,0.24782425,0.23692478],\"yaxis\":\"y\",\"type\":\"scatter\"}],                        {\"template\":{\"data\":{\"histogram2dcontour\":[{\"type\":\"histogram2dcontour\",\"colorbar\":{\"outlinewidth\":0,\"ticks\":\"\"},\"colorscale\":[[0.0,\"#0d0887\"],[0.1111111111111111,\"#46039f\"],[0.2222222222222222,\"#7201a8\"],[0.3333333333333333,\"#9c179e\"],[0.4444444444444444,\"#bd3786\"],[0.5555555555555556,\"#d8576b\"],[0.6666666666666666,\"#ed7953\"],[0.7777777777777778,\"#fb9f3a\"],[0.8888888888888888,\"#fdca26\"],[1.0,\"#f0f921\"]]}],\"choropleth\":[{\"type\":\"choropleth\",\"colorbar\":{\"outlinewidth\":0,\"ticks\":\"\"}}],\"histogram2d\":[{\"type\":\"histogram2d\",\"colorbar\":{\"outlinewidth\":0,\"ticks\":\"\"},\"colorscale\":[[0.0,\"#0d0887\"],[0.1111111111111111,\"#46039f\"],[0.2222222222222222,\"#7201a8\"],[0.3333333333333333,\"#9c179e\"],[0.4444444444444444,\"#bd3786\"],[0.5555555555555556,\"#d8576b\"],[0.6666666666666666,\"#ed7953\"],[0.7777777777777778,\"#fb9f3a\"],[0.8888888888888888,\"#fdca26\"],[1.0,\"#f0f921\"]]}],\"heatmap\":[{\"type\":\"heatmap\",\"colorbar\":{\"outlinewidth\":0,\"ticks\":\"\"},\"colorscale\":[[0.0,\"#0d0887\"],[0.1111111111111111,\"#46039f\"],[0.2222222222222222,\"#7201a8\"],[0.3333333333333333,\"#9c179e\"],[0.4444444444444444,\"#bd3786\"],[0.5555555555555556,\"#d8576b\"],[0.6666666666666666,\"#ed7953\"],[0.7777777777777778,\"#fb9f3a\"],[0.8888888888888888,\"#fdca26\"],[1.0,\"#f0f921\"]]}],\"heatmapgl\":[{\"type\":\"heatmapgl\",\"colorbar\":{\"outlinewidth\":0,\"ticks\":\"\"},\"colorscale\":[[0.0,\"#0d0887\"],[0.1111111111111111,\"#46039f\"],[0.2222222222222222,\"#7201a8\"],[0.3333333333333333,\"#9c179e\"],[0.4444444444444444,\"#bd3786\"],[0.5555555555555556,\"#d8576b\"],[0.6666666666666666,\"#ed7953\"],[0.7777777777777778,\"#fb9f3a\"],[0.8888888888888888,\"#fdca26\"],[1.0,\"#f0f921\"]]}],\"contourcarpet\":[{\"type\":\"contourcarpet\",\"colorbar\":{\"outlinewidth\":0,\"ticks\":\"\"}}],\"contour\":[{\"type\":\"contour\",\"colorbar\":{\"outlinewidth\":0,\"ticks\":\"\"},\"colorscale\":[[0.0,\"#0d0887\"],[0.1111111111111111,\"#46039f\"],[0.2222222222222222,\"#7201a8\"],[0.3333333333333333,\"#9c179e\"],[0.4444444444444444,\"#bd3786\"],[0.5555555555555556,\"#d8576b\"],[0.6666666666666666,\"#ed7953\"],[0.7777777777777778,\"#fb9f3a\"],[0.8888888888888888,\"#fdca26\"],[1.0,\"#f0f921\"]]}],\"surface\":[{\"type\":\"surface\",\"colorbar\":{\"outlinewidth\":0,\"ticks\":\"\"},\"colorscale\":[[0.0,\"#0d0887\"],[0.1111111111111111,\"#46039f\"],[0.2222222222222222,\"#7201a8\"],[0.3333333333333333,\"#9c179e\"],[0.4444444444444444,\"#bd3786\"],[0.5555555555555556,\"#d8576b\"],[0.6666666666666666,\"#ed7953\"],[0.7777777777777778,\"#fb9f3a\"],[0.8888888888888888,\"#fdca26\"],[1.0,\"#f0f921\"]]}],\"mesh3d\":[{\"type\":\"mesh3d\",\"colorbar\":{\"outlinewidth\":0,\"ticks\":\"\"}}],\"scatter\":[{\"fillpattern\":{\"fillmode\":\"overlay\",\"size\":10,\"solidity\":0.2},\"type\":\"scatter\"}],\"parcoords\":[{\"type\":\"parcoords\",\"line\":{\"colorbar\":{\"outlinewidth\":0,\"ticks\":\"\"}}}],\"scatterpolargl\":[{\"type\":\"scatterpolargl\",\"marker\":{\"colorbar\":{\"outlinewidth\":0,\"ticks\":\"\"}}}],\"bar\":[{\"error_x\":{\"color\":\"#2a3f5f\"},\"error_y\":{\"color\":\"#2a3f5f\"},\"marker\":{\"line\":{\"color\":\"#E5ECF6\",\"width\":0.5},\"pattern\":{\"fillmode\":\"overlay\",\"size\":10,\"solidity\":0.2}},\"type\":\"bar\"}],\"scattergeo\":[{\"type\":\"scattergeo\",\"marker\":{\"colorbar\":{\"outlinewidth\":0,\"ticks\":\"\"}}}],\"scatterpolar\":[{\"type\":\"scatterpolar\",\"marker\":{\"colorbar\":{\"outlinewidth\":0,\"ticks\":\"\"}}}],\"histogram\":[{\"marker\":{\"pattern\":{\"fillmode\":\"overlay\",\"size\":10,\"solidity\":0.2}},\"type\":\"histogram\"}],\"scattergl\":[{\"type\":\"scattergl\",\"marker\":{\"colorbar\":{\"outlinewidth\":0,\"ticks\":\"\"}}}],\"scatter3d\":[{\"type\":\"scatter3d\",\"line\":{\"colorbar\":{\"outlinewidth\":0,\"ticks\":\"\"}},\"marker\":{\"colorbar\":{\"outlinewidth\":0,\"ticks\":\"\"}}}],\"scattermapbox\":[{\"type\":\"scattermapbox\",\"marker\":{\"colorbar\":{\"outlinewidth\":0,\"ticks\":\"\"}}}],\"scatterternary\":[{\"type\":\"scatterternary\",\"marker\":{\"colorbar\":{\"outlinewidth\":0,\"ticks\":\"\"}}}],\"scattercarpet\":[{\"type\":\"scattercarpet\",\"marker\":{\"colorbar\":{\"outlinewidth\":0,\"ticks\":\"\"}}}],\"carpet\":[{\"aaxis\":{\"endlinecolor\":\"#2a3f5f\",\"gridcolor\":\"white\",\"linecolor\":\"white\",\"minorgridcolor\":\"white\",\"startlinecolor\":\"#2a3f5f\"},\"baxis\":{\"endlinecolor\":\"#2a3f5f\",\"gridcolor\":\"white\",\"linecolor\":\"white\",\"minorgridcolor\":\"white\",\"startlinecolor\":\"#2a3f5f\"},\"type\":\"carpet\"}],\"table\":[{\"cells\":{\"fill\":{\"color\":\"#EBF0F8\"},\"line\":{\"color\":\"white\"}},\"header\":{\"fill\":{\"color\":\"#C8D4E3\"},\"line\":{\"color\":\"white\"}},\"type\":\"table\"}],\"barpolar\":[{\"marker\":{\"line\":{\"color\":\"#E5ECF6\",\"width\":0.5},\"pattern\":{\"fillmode\":\"overlay\",\"size\":10,\"solidity\":0.2}},\"type\":\"barpolar\"}],\"pie\":[{\"automargin\":true,\"type\":\"pie\"}]},\"layout\":{\"autotypenumbers\":\"strict\",\"colorway\":[\"#636efa\",\"#EF553B\",\"#00cc96\",\"#ab63fa\",\"#FFA15A\",\"#19d3f3\",\"#FF6692\",\"#B6E880\",\"#FF97FF\",\"#FECB52\"],\"font\":{\"color\":\"#2a3f5f\"},\"hovermode\":\"closest\",\"hoverlabel\":{\"align\":\"left\"},\"paper_bgcolor\":\"white\",\"plot_bgcolor\":\"#E5ECF6\",\"polar\":{\"bgcolor\":\"#E5ECF6\",\"angularaxis\":{\"gridcolor\":\"white\",\"linecolor\":\"white\",\"ticks\":\"\"},\"radialaxis\":{\"gridcolor\":\"white\",\"linecolor\":\"white\",\"ticks\":\"\"}},\"ternary\":{\"bgcolor\":\"#E5ECF6\",\"aaxis\":{\"gridcolor\":\"white\",\"linecolor\":\"white\",\"ticks\":\"\"},\"baxis\":{\"gridcolor\":\"white\",\"linecolor\":\"white\",\"ticks\":\"\"},\"caxis\":{\"gridcolor\":\"white\",\"linecolor\":\"white\",\"ticks\":\"\"}},\"coloraxis\":{\"colorbar\":{\"outlinewidth\":0,\"ticks\":\"\"}},\"colorscale\":{\"sequential\":[[0.0,\"#0d0887\"],[0.1111111111111111,\"#46039f\"],[0.2222222222222222,\"#7201a8\"],[0.3333333333333333,\"#9c179e\"],[0.4444444444444444,\"#bd3786\"],[0.5555555555555556,\"#d8576b\"],[0.6666666666666666,\"#ed7953\"],[0.7777777777777778,\"#fb9f3a\"],[0.8888888888888888,\"#fdca26\"],[1.0,\"#f0f921\"]],\"sequentialminus\":[[0.0,\"#0d0887\"],[0.1111111111111111,\"#46039f\"],[0.2222222222222222,\"#7201a8\"],[0.3333333333333333,\"#9c179e\"],[0.4444444444444444,\"#bd3786\"],[0.5555555555555556,\"#d8576b\"],[0.6666666666666666,\"#ed7953\"],[0.7777777777777778,\"#fb9f3a\"],[0.8888888888888888,\"#fdca26\"],[1.0,\"#f0f921\"]],\"diverging\":[[0,\"#8e0152\"],[0.1,\"#c51b7d\"],[0.2,\"#de77ae\"],[0.3,\"#f1b6da\"],[0.4,\"#fde0ef\"],[0.5,\"#f7f7f7\"],[0.6,\"#e6f5d0\"],[0.7,\"#b8e186\"],[0.8,\"#7fbc41\"],[0.9,\"#4d9221\"],[1,\"#276419\"]]},\"xaxis\":{\"gridcolor\":\"white\",\"linecolor\":\"white\",\"ticks\":\"\",\"title\":{\"standoff\":15},\"zerolinecolor\":\"white\",\"automargin\":true,\"zerolinewidth\":2},\"yaxis\":{\"gridcolor\":\"white\",\"linecolor\":\"white\",\"ticks\":\"\",\"title\":{\"standoff\":15},\"zerolinecolor\":\"white\",\"automargin\":true,\"zerolinewidth\":2},\"scene\":{\"xaxis\":{\"backgroundcolor\":\"#E5ECF6\",\"gridcolor\":\"white\",\"linecolor\":\"white\",\"showbackground\":true,\"ticks\":\"\",\"zerolinecolor\":\"white\",\"gridwidth\":2},\"yaxis\":{\"backgroundcolor\":\"#E5ECF6\",\"gridcolor\":\"white\",\"linecolor\":\"white\",\"showbackground\":true,\"ticks\":\"\",\"zerolinecolor\":\"white\",\"gridwidth\":2},\"zaxis\":{\"backgroundcolor\":\"#E5ECF6\",\"gridcolor\":\"white\",\"linecolor\":\"white\",\"showbackground\":true,\"ticks\":\"\",\"zerolinecolor\":\"white\",\"gridwidth\":2}},\"shapedefaults\":{\"line\":{\"color\":\"#2a3f5f\"}},\"annotationdefaults\":{\"arrowcolor\":\"#2a3f5f\",\"arrowhead\":0,\"arrowwidth\":1},\"geo\":{\"bgcolor\":\"white\",\"landcolor\":\"#E5ECF6\",\"subunitcolor\":\"white\",\"showland\":true,\"showlakes\":true,\"lakecolor\":\"white\"},\"title\":{\"x\":0.05},\"mapbox\":{\"style\":\"light\"}}},\"xaxis\":{\"anchor\":\"y\",\"domain\":[0.0,1.0],\"title\":{\"text\":\"Principal Component 1\"}},\"yaxis\":{\"anchor\":\"x\",\"domain\":[0.0,1.0],\"title\":{\"text\":\"Principal Component 2\"}},\"legend\":{\"tracegroupgap\":0},\"title\":{\"text\":\"PCA of MTEB Banking77 Embeddings (all-mpnet-base-v2)\"}},                        {\"responsive\": true}                    ).then(function(){\n",
              "                            \n",
              "var gd = document.getElementById('d5468638-d027-4a5a-9b68-32a597a8ee92');\n",
              "var x = new MutationObserver(function (mutations, observer) {{\n",
              "        var display = window.getComputedStyle(gd).display;\n",
              "        if (!display || display === 'none') {{\n",
              "            console.log([gd, 'removed!']);\n",
              "            Plotly.purge(gd);\n",
              "            observer.disconnect();\n",
              "        }}\n",
              "}});\n",
              "\n",
              "// Listen for the removal of the full notebook cells\n",
              "var notebookContainer = gd.closest('#notebook-container');\n",
              "if (notebookContainer) {{\n",
              "    x.observe(notebookContainer, {childList: true});\n",
              "}}\n",
              "\n",
              "// Listen for the clearing of the current output cell\n",
              "var outputEl = gd.closest('.output');\n",
              "if (outputEl) {{\n",
              "    x.observe(outputEl, {childList: true});\n",
              "}}\n",
              "\n",
              "                        })                };                            </script>        </div>\n",
              "</body>\n",
              "</html>"
            ]
          },
          "metadata": {}
        }
      ]
    },
    {
      "cell_type": "markdown",
      "source": [
        "- **Clustering and distribution:** the embeddings of the 300 words in the picture are downscaled by PCA, and the results show that most of the word embeddings are clustered in the lower-left region, which indicates that the representations of these words in the embedding space are more similar, and they may belong to similar semantic categories. Meanwhile, on the right side of the figure, there are some words with a more scattered distribution, which indicates that the representation of these words in the embedding space is different from that of the main cluster, with unique characteristics or different semantic relations.\n",
        "- **Label overlap and visualization limitation:** it is difficult to identify specific words due to the high overlap of displayed word labels, which indicates a high sample density and the failure of PCA to separate word embeddings well in the 2D space. To solve this problem, it may be necessary to adjust the visualization strategy, such as reducing the number of samples or trying other dimensionality reduction methods (e.g., t-SNE or UMAP) to obtain a clearer distribution and higher separability."
      ],
      "metadata": {
        "id": "rVcVyljPrvDm"
      }
    },
    {
      "cell_type": "markdown",
      "source": [
        "# t-SNE (t-Distributed Stochastic Neighbor Embedding):\n",
        "- Non-linear dimensionality reduction technique\n",
        "- Focuses on preserving local structure\n",
        "- Parameters:\n",
        "  1. perplexity=2: Low perplexity for small dataset\n",
        "  2. n_iter=500: Increased iterations for better convergence\n",
        "  3. random_state=42: For reproducibility"
      ],
      "metadata": {
        "id": "Cyz3bZ8YbB6u"
      }
    },
    {
      "cell_type": "code",
      "source": [
        "# Using better parameters for semantic embeddings\n",
        "tsne = TSNE(\n",
        "    n_components=2,\n",
        "    perplexity=30,  # Increased perplexity for better global structure\n",
        "    n_iter=1000,    # More iterations for better convergence\n",
        "    random_state=42\n",
        ")\n",
        "embeddings_tsne = tsne.fit_transform(embeddings)\n",
        "\n",
        "# Plot t-SNE results\n",
        "fig_tsne = px.scatter(\n",
        "    embeddings_tsne,\n",
        "    x=0,\n",
        "    y=1,\n",
        "    hover_data={'text': texts},\n",
        "    title=\"t-SNE of MTEB Banking77 Embeddings (all-mpnet-base-v2)\",\n",
        "    labels={'0': 'Component 1', '1': 'Component 2'}\n",
        ")\n",
        "fig_tsne.update_traces(marker=dict(size=8))\n",
        "fig_tsne.show()"
      ],
      "metadata": {
        "colab": {
          "base_uri": "https://localhost:8080/",
          "height": 542
        },
        "id": "YVAsaAubYj-d",
        "outputId": "3efa0423-37e0-4a52-dece-e51e0bc41123"
      },
      "execution_count": 10,
      "outputs": [
        {
          "output_type": "display_data",
          "data": {
            "text/html": [
              "<html>\n",
              "<head><meta charset=\"utf-8\" /></head>\n",
              "<body>\n",
              "    <div>            <script src=\"https://cdnjs.cloudflare.com/ajax/libs/mathjax/2.7.5/MathJax.js?config=TeX-AMS-MML_SVG\"></script><script type=\"text/javascript\">if (window.MathJax && window.MathJax.Hub && window.MathJax.Hub.Config) {window.MathJax.Hub.Config({SVG: {font: \"STIX-Web\"}});}</script>                <script type=\"text/javascript\">window.PlotlyConfig = {MathJaxConfig: 'local'};</script>\n",
              "        <script charset=\"utf-8\" src=\"https://cdn.plot.ly/plotly-2.24.1.min.js\"></script>                <div id=\"4722ba7e-9402-4fb1-bbad-5b65cddb3b2a\" class=\"plotly-graph-div\" style=\"height:525px; width:100%;\"></div>            <script type=\"text/javascript\">                                    window.PLOTLYENV=window.PLOTLYENV || {};                                    if (document.getElementById(\"4722ba7e-9402-4fb1-bbad-5b65cddb3b2a\")) {                    Plotly.newPlot(                        \"4722ba7e-9402-4fb1-bbad-5b65cddb3b2a\",                        [{\"customdata\":[[\"I am still waiting on my card?\"],[\"What can I do if my card still hasn't arrived after 2 weeks?\"],[\"I have been waiting over a week. Is the card still coming?\"],[\"Can I track my card while it is in the process of delivery?\"],[\"How do I know if I will get my card, or if it is lost?\"],[\"When did you send me my new card?\"],[\"Do you have info about the card on delivery?\"],[\"What do I do if I still have not received my new card?\"],[\"Does the package with my card have tracking?\"],[\"I ordered my card but it still isn't here\"],[\"Why has my new card still not come?\"],[\"I still haven't received my card after two weeks, is it lost?\"],[\"Can you track my card for me?\"],[\"Is there a way to track the delivery of my card?\"],[\"It's been a week since I ordered my card and it's not here. Please help?\"],[\"Will I be able to track the card that was sent to me?\"],[\"I don't have my card in 1 week.  Should I be worried?\"],[\"How do I know when my new card is going to arrive?\"],[\"My new card has not been delivered to my home yet. What is going on?\"],[\"It's been a week since you issued me a card and I still didn't get it. Should I keep waiting?\"],[\"On the card that is coming, what's the tracking info?\"],[\"What is the status of my card's delivery?\"],[\"Have you sent out my card yet?\"],[\"My card isn't here yet.\"],[\"where is my new card?\"],[\"It's been a week since you sent my card and I still don't have it.\"],[\"How do I track the card you sent me?\"],[\"When will I recieve my new card?\"],[\"When will I get my new card?\"],[\"What is the expected delivery date for my card?\"],[\"Is there a tracking number for the card you sent me?\"],[\"I would like to track the card you sent to me.\"],[\"Has my card been lost in delivery?\"],[\"My new card hasn't came in.\"],[\"Where is the card I ordered 2 weeks ago?\"],[\"Can I get an update on my replacement card?\"],[\"How long does it take for a new card to ship?\"],[\"What's the tracking on the card you sent?\"],[\"I haven't received my card and am worried it is lost.\"],[\"My card still hasn't been delivered\"],[\"I need to find out where the card is that I ordered.\"],[\"Where is my credit card that was to be mailed?\"],[\"I ordered my card but it hasn't been delivered yet\"],[\"Am I able to track the card that was just sent to me?\"],[\"Can you tell me why I haven't received my new card?\"],[\"I'm still waiting for my new card.\"],[\"Is my card lost? I am still waiting for it to be delivered.\"],[\"Should I keep waiting for my card to be delivered?\"],[\"Can I track when my card will be delivered?\"],[\"How can I check on the status of my new card?\"],[\"A card has been sent to me, how do I track it?\"],[\"Is there a way I can get my card expedited?\"],[\"What can I do to track the card you sent me?\"],[\"why hasnt my card come in yet?\"],[\"How can I periodically check the delivery of the card you sent?\"],[\"What's the reason my new card hasn't come?\"],[\"How long does it take for me to get my new card?\"],[\"I don't have my card after 1 week. What are my next steps?\"],[\"I know I'm getting a new card but would like know when I can expect to receive it.\"],[\"I want to find out what happened to my new card?\"],[\"Was there a way for me to get tracking for that?\"],[\"I am still waiting for my card.\"],[\"My card hasn't arrived.\"],[\"Can I track the card you sent to me?\"],[\"I haven't gotten my new card.\"],[\"How long should it take for my new card to arrive in them mail? What should I do if I never receive it?\"],[\"Will I have to wait much longer for my new card to arrive?\"],[\"how to track the card you sent\"],[\"2 weeks ago I ordered my new card.  It isn't here.  What should I do?\"],[\"How can I check on the delivery status of my card?\"],[\"My card has not been delivered yet and its been a week since I ordered it, please help\"],[\"What's the expected wait time to recieve my new card?\"],[\"How can I see the progress of delivery of the card that was sent?\"],[\"My card was supposed to arrive, but hasn't?\"],[\"I ordered a card and would like to know how to track the delivery progress of it.\"],[\"How long will it take for me to get my card?\"],[\"My card hasn't shown up yet.\"],[\"Does the card you sent have a tracking number?\"],[\"My card hasn't arrived in the mail yet. I ordered it two weeks ago. What can I do?\"],[\"maximum how many days get the courier?\"],[\"Is there a reason my new card hasn't arrived yet?\"],[\"I've been waiting a while for my card, is there a way to know when it will arrive?\"],[\"How can I track my card's delivery?\"],[\"Can I track the card that was just sent to me?\"],[\"If I ordered my new card last week, how much longer should I wait to receive it?\"],[\"What's go on, where is my new card?\"],[\"Where is my new card if I haven't received it yet?\"],[\"Where is my card?\"],[\"Can you tell me why I haven't received my new card yet?\"],[\"Is there a way to track my card?\"],[\"Is there a way to track the new card you sent me?\"],[\"I'm still waiting for my card.\"],[\"What do I need to do to get my new card which I have requested 2 weeks ago?\"],[\"WHAT IS THE SOLUTION OF THIS PROBLEM\"],[\"Could I get tracking on the card?\"],[\"Can you help me track my card?\"],[\"Shouldn't my new card be here by now?\"],[\"Is there a reason my new card hasn't arrived?\"],[\"I would like to track a card sent to me, how do I do that?\"],[\"Is there a tracking number for the card?\"],[\"can you share card tracking number?\"],[\"I have not received my card and it's been a week, what do I do?\"],[\"Is there a way I can check on the card on route to me?\"],[\"When will my new card arrive?\"],[\"Why haven't I received my new card yet?\"],[\"What is the expected delivery date of my card?\"],[\"My card hasn't came in the mail yet?\"],[\"I haven't received my card.\"],[\"Is it possible for me to track the card is was mailed to me?\"],[\"When will my new card be delivered?\"],[\"I was issued a card about a week ago. why hasn't it come in yet?\"],[\"Can you please tell me where my card is? I ordered it 2 weeks ago!\"],[\"I still haven't received my card in the mail\"],[\"I'm still waiting for my card that was issued a week ago. What should I do?\"],[\"I still haven't gotten my new card.  When will it get here?\"],[\"Do you have a tracking number for the card I was sent?\"],[\"How do I track the card you sent to me?\"],[\"Is my new bank card on the way and is there a way to track it?\"],[\"Could you send me and up date on the arrival of my card?\"],[\"How long does it take to recieve my new card?\"],[\"My card has not come in the mail yet.\"],[\"What's the card you sent me's tracking number?\"],[\"i havent got my card\"],[\"Why hasn't my card arrived yet?\"],[\"I thought I would have received my new card at this point.\"],[\"How long until my new card gets here?\"],[\"How much longer until I get my new card?\"],[\"Am I able to track a card that has already been sent?\"],[\"Is it possible to track the card you sent me?\"],[\"How long will it be to get this new card?\"],[\"how can i track card you sent\"],[\"Can the card was sen to me be tracked?\"],[\"why have i not got my new card?\"],[\"I need to track the card sent to me.\"],[\"It's been two weeks and I haven't gotten my card, what do I do?\"],[\"I was expecting my new card by now.\"],[\"Where is the tracking number for the card?\"],[\"I was issued a new card a week ago but still haven't received it. How long will it be until I receive it?\"],[\"Can I track the card that you sent me in the mail?\"],[\"Can you tell me if I can track the card you sent me?\"],[\"Why have I not gotten my new card?\"],[\"I'm still waiting on my new card to be delivered!\"],[\"My new card isn't here and it was issued a week ago.\"],[\"I was supposed to receive my new card by now, but it hasn't came in.\"],[\"Is a tracking number available for the card that was just sent?\"],[\"Why haven't I gotten my new card?\"],[\"Was there a number to track that I could get?\"],[\"How much longer is it going to take to get my new card?\"],[\"I haven't gotten my credit card in the mail.\"],[\"My card hasn't arrived yet. What do I do?\"],[\"My card still hasn't arrived after two weeks, now what?\"],[\"My card appears to have never arrived?\"],[\"My card never arrived.\"],[\"My card has been found. Is there any way for me to put it back into the app?\"],[\"I was able to find my card. How to I go about putting it into my app?\"],[\"how do I get my card to show in the app?\"],[\"I just got my card.  It's not linked yet--how do I do that?\"],[\"lost card found, want to put it back in app\"],[\"I just got a card, how can I add it to the app?\"],[\"Is there any way to see my card in the app?\"],[\"If I find a card I lost do I need to dispose of it? Or can I re-active the card and continue to use it?\"],[\"I found my card. How can I put it into my app?\"],[\"How do I make my card show up in the app?\"],[\"Can you show me where to link the new card?\"],[\"I found my old card. Can I link it back into the app?\"],[\"Show me how to link the new card,\"],[\"How do I add an existing card to the app?\"],[\"I finally got my card.  Now I want to link it.  Is that something you have to do or can I do that?\"],[\"How do I link one of your card that I already have?\"],[\"If I have a physical card can I link it?\"],[\"I found my lost card in my jacket pocket this morning so I'd like to reactivate it please.\"],[\"Can I add a card that I just found (again) to the app?\"],[\"How can I make my card show up in the app?\"],[\"I would like to re-activate my card, it was previously reported  lost but I found it this morning.\"],[\"Okay, I found my card, can I put it back in the app?\"],[\"Can I reactivate a card?\"],[\"I would like to reactivate a card and wondered if that could be done?\"],[\"I got my card now, how do I make it show up in the app?\"],[\"How do I link an existing card?\"],[\"How do I link a new card in the app?\"],[\"The card I thought was lost was just in my jacket, so can I reactivate it since I found it this morning?\"],[\"I already have a card and want to link it\"],[\"Can you please reactivate my card?\"],[\"Where do I go to add a new card?\"],[\"I want my card I just received to show up in the app. How do I do that?\"],[\"I received my card, how do I get it to show in the app?\"],[\"If I have a credit card with you how I get set up to link to it?\"],[\"How do I add my new card?\"],[\"I want to reactivate my card, I thought I had lost it but found it again this morning.\"],[\"I need a card reactivation, I had reported my card lost but I ran across it in my jacket.\"],[\"My card is no longer lost. How do I enter it back into the app?\"],[\"I want to reactivate my card, I thought I had lost it but found it again in my jacket.\"],[\"May I reactivate my card? I previously reported it lost, but have now found it safe and sound.\"],[\"How do I reactivate a card I thought I lost?\"],[\"Help me figure out how to link the new card.\"],[\"I found my lost card. Am I still able to use it?\"],[\"Will I need a new card or can I put my old card back into the app?\"],[\"Is there a way to link the card i just got?\"],[\"How do I add a new card?\"],[\"I want to reactivate my card, I found it after thinking it was lost.\"],[\"Can I put my old card back in the app?\"],[\"I got a new card, how do I link it?\"],[\"I found the card I thought I lost this morning. Can I reactivate this card?\"],[\"How do i go about linking a new card?\"],[\"how do i get the card linked\"],[\"I have one of your cards, but I don't know how to link it.\"],[\"how do I link an old card?\"],[\"I received my card. How do I link it to the app?\"],[\"Now that I have my card, how do I connect it to the app?\"],[\"How do I add the card I just received to show up in the app?\"],[\"I want to reactivate my card, I thought I had lost it but I found it.\"],[\"What do I need to do to link my new card for my account?\"],[\"Can I add a card to back into the app?\"],[\"I want to link my new card. Can you help?\"],[\"What is the process to link the new card?\"],[\"I found my card, am I able to put it back into the app?\"],[\"I have found my lost or stolen card, would I still have to activate the new card that was sent to me through the mail in order to access my account?\"],[\"Where can I link a new card?\"],[\"How do I add a card on to the app?\"],[\"I found my card in my jacket this morning, so can I reactivate it?\"],[\"I've obtained the card, how do I enable it on the app?\"],[\"I need to find the card I received in the app.\"],[\"How do I get my card on the app?\"],[\"In the app, how can I make it show the new card that arrived?\"],[\"How do I link my new card?\"],[\"Can I activate a card in the app?\"],[\"I want to link to my card card with you, how?\"],[\"I would like to link my card to my account.\"],[\"I thought I lost my card so I cancelled it, but recently I found it in my jacket and I would like to re-establish the card.\"],[\"How can I link the new card?\"],[\"I got a new card and can't find where to link it.\"],[\"Hey, I have my card, how do I get it to show in the app?\"],[\"Where in the app do I go to make my new card show up?\"],[\"Where do I scan my card?\"],[\"Can I reactivate my card? I reported it lost and found it this morning in my jacket.\"],[\"Can I link my card I previously received?\"],[\"I want to reactivate my card, I thought I had lost it but found it again in my jacket this morning.\"],[\"I'd lke my card reactivated, I was thinking it was misplaced but I discovered when I woke up that I had left it in my coat.\"],[\"You sent me a card and now I want to link it.\"],[\"How do I add my new card to the app?\"],[\"Can I add a card back to the app?\"],[\"What if I want to add a card I already have to the app?\"],[\"I recently reported my card as missing\\u002flost, and I just found it. Can I still use it?\"],[\"Could I reactivate my card please, I couldn't find it but it turns out it was in my jacket pocket.\"],[\"Is there a way to link cards if I have one of yours?\"],[\"If my card was lost or stolen can I re-link it?\"],[\"How do I link a new card to an existing one?\"],[\"How do I link a new payment card?\"],[\"I would like to reactivate my card that I previously reported lost. I located the card this morning.\"],[\"Card has been received, how will it show up on the app?\"],[\"Can I re-link a lost card with the app?\"],[\"What do I do to link my new card?\"],[\"Is it possible to link a new card?\"],[\"I deactivated my card but would like to reactivate it.\"],[\"I found my card that I thought I had lost, I need to reactive it, please help.\"],[\"can I link a card of yours I already have?\"],[\"Can I put my found card back into the app on my phone?\"],[\"My card arrived but I need to make it work in the app, how do I do that?\"],[\"I found the card that I thought I lost, and I would like to reactivate it.\"],[\"I found my card again. Can I put it back into the app?\"],[\"I need some help linking my new card.\"],[\"help me link my card\"],[\"How do I link my card in the app.\"],[\"How do I get my card into the app?\"],[\"I found my card! Can I link it back into the app?\"],[\"How do I reactivate my card?\"],[\"Where do I go to get my new card linked?\"],[\"I thought I lost my card but I found it today, so I would like to reactivate it.\"],[\"How do I link the new card that I just got from you guys?\"],[\"How can I add a new card?\"],[\"Can you tell me how to get my card on the app?\"],[\"Is it possible to reactivate the card I thought I lost but found this morning in my jacket?\"],[\"How do I make my card appear on the app?\"],[\"How do I link the new card?\"],[\"Where in the app do I link a new card?\"],[\"How do I add my card to the app once I get it?\"],[\"Can I link your physical card\"],[\"How do I activate and link my new card?\"],[\"I got a card, how do I get it in the app?\"],[\"I received my new card.  Where is it in the app?\"],[\"I found my card, how can I use it again?\"],[\"I just received a new card, where do I go to link it to my account?\"],[\"found card, how to put it back in app\"],[\"How do I see my card in the app?\"],[\"The card I thought I lost was in my jacket pocket this morning, so can I reactivate that?\"],[\"I don't see my card anywhere in the app.\"],[\"I received my card, how do I get it to work in the app?\"],[\"What do I do if I already had a card with you guys?\"],[\"if i found a lost card can i put it back in app\"],[\"I have a card that was deactivated can I reactivate it?\"],[\"My new card isn't in my app, how do I get it in there?\"],[\"Help me access the card I already got so I can information from it.\"],[\"What is my money worth in other countries?\"],[\"Will my money be of equal value when I travel abroad?\"],[\"Do you know the rate of exchange?\"],[\"What foreign exchange rate will I get on weekdays and on the weekends?\"],[\"What is the exchange looking like?\"],[\"How is the exchange rate doing?\"],[\"I would like to know how exchange rates are calculated when transferring funds.\"],[\"I would like to know what exchange rates you use?\"]],\"hovertemplate\":\"Component 1=%{x}\\u003cbr\\u003eComponent 2=%{y}\\u003cbr\\u003etext=%{customdata[0]}\\u003cextra\\u003e\\u003c\\u002fextra\\u003e\",\"legendgroup\":\"\",\"marker\":{\"color\":\"#636efa\",\"symbol\":\"circle\",\"size\":8},\"mode\":\"markers\",\"name\":\"\",\"orientation\":\"v\",\"showlegend\":false,\"x\":[-10.70726,-8.679831,-9.671071,-15.507928,-5.0272627,-15.405252,-15.077111,-11.199776,-16.908266,-8.6794,-12.4537325,-5.5674543,-12.807015,-14.991238,-8.604172,-15.209296,-7.4347067,-16.90445,-13.341628,-9.8965845,-17.279013,-14.804223,-7.3431654,-8.612636,-1.8871214,-6.5908084,-13.008283,-15.888498,-16.329828,-18.86585,-18.080524,-12.395201,-5.3435683,-11.481405,-3.4746869,-18.183525,-17.28144,-16.794981,-5.185845,-8.725858,-2.5020075,-4.156297,-8.296831,-15.037811,-11.102595,-12.433467,-5.3065495,-9.892582,-15.236381,-17.83226,-14.134822,-11.419765,-12.915341,-9.499039,-14.162173,-12.454445,-15.794688,-8.164958,-17.51311,-1.3595208,-16.463379,-11.146072,-7.6102114,-13.199303,-11.230281,-13.84908,-15.041267,-13.288925,-9.679865,-14.98116,-7.8605986,-16.322973,-14.631144,-7.547443,-14.856054,-15.067298,-8.648115,-17.90494,-8.63693,-19.27744,-13.302995,-16.52673,-14.854868,-14.871278,-16.34482,-1.7690547,-2.7342205,-2.3062408,-11.195385,-14.237709,-13.906371,-11.212647,-12.097794,-4.7512403,-15.992318,-12.703504,-13.271358,-13.087452,-14.09422,-17.558777,-18.261673,-9.186747,-16.382751,-16.522179,-11.658119,-18.90848,-7.9045167,-6.6641817,-15.0196,-16.548578,-11.152853,-3.4535537,-6.981414,-10.218332,-15.653145,-18.49127,-13.152603,-16.712343,-8.316179,-15.8320265,-7.1751046,-18.508606,-7.8346343,-9.268111,-12.359894,-16.660542,-16.367353,-15.416677,-14.002921,-17.15363,-13.162852,-15.334941,-12.005318,-14.583119,-9.582435,-13.249106,-17.60541,-14.214707,-13.472216,-13.505609,-12.020589,-12.514481,-12.573031,-10.999866,-17.534927,-12.018421,-16.47066,-16.163925,-5.7791586,-8.312614,-8.696385,-6.748974,-6.3934503,13.311591,12.878071,10.335165,21.241636,12.416981,13.748182,8.858533,12.974216,12.850689,10.553355,22.410198,15.088772,24.248615,15.076122,25.387646,23.926153,27.32636,10.533069,15.177651,10.328599,11.223517,13.989856,14.174819,14.0179,11.552337,24.874859,16.553988,12.869107,24.852766,9.782518,19.12901,11.440716,11.511487,21.5218,19.194366,11.445694,10.768354,12.64281,11.142484,12.551907,13.225358,23.987745,12.6481,16.043755,25.683496,19.073437,11.710761,15.362247,23.15317,13.306786,23.535917,23.255451,23.762108,25.332287,13.754385,14.193134,12.290127,11.67886,20.543745,15.267166,23.913542,24.301956,13.749263,14.042355,23.081362,14.2579155,12.769,13.527305,10.394021,11.198991,11.217911,23.37588,13.719588,21.97509,19.87718,10.820117,24.240128,22.05205,10.907529,11.835626,7.887987,12.432247,26.228394,11.247702,14.395197,23.000298,14.907823,15.215151,15.269952,12.757873,9.870273,25.50567,14.422691,24.531063,20.988823,11.306853,10.30809,14.614767,23.389004,26.001627,12.587993,9.616885,24.4497,13.410801,13.011968,12.734497,13.93331,23.340528,23.85453,15.126622,12.333033,14.702559,12.424713,22.317673,12.053214,22.493258,19.06476,11.093162,13.210317,10.755513,23.99455,16.593918,13.0643425,27.346027,21.947733,11.7650795,9.949672,9.9932165,20.30392,12.171469,9.482696,12.803226,9.598378,12.761444,-5.2809567,13.854036,14.280879,14.759917,9.686884,-6.2210245,-6.220642,-6.2265363,-5.6064057,-6.6811805,-6.3569274,-5.884281,-6.073099],\"xaxis\":\"x\",\"y\":[10.810244,11.434951,8.660714,-4.5506763,11.341894,6.0699635,0.33812866,10.075559,-9.452979,8.45189,6.9680905,11.164828,-10.469822,-3.9657102,9.678897,-9.064918,13.236998,5.429957,8.141946,13.651965,-6.344107,-0.52090216,3.3349748,4.9347763,5.311812,4.503355,-7.7421775,7.28724,7.4405007,8.493425,-7.99924,-8.776507,9.792139,6.18968,7.297486,5.3843803,9.702178,-6.5809393,11.026473,7.963975,7.3371887,8.310574,8.110945,-8.874499,8.478513,3.7646697,10.03307,10.968917,-3.9293864,4.8365593,-6.8094115,13.862064,-7.931864,7.0112476,-3.3871768,6.946672,10.184798,12.978534,7.539499,5.5431924,-12.056999,3.575655,5.4999437,-9.110957,5.7416587,11.235059,8.985984,-6.760897,9.675851,-1.7119497,8.358954,10.171899,-2.2637591,9.39699,-2.4008634,11.479084,5.316323,-8.505188,10.5933485,9.419382,7.2325034,4.799924,-3.8896708,-8.644833,11.009479,5.155109,6.0932627,5.270801,8.293735,-10.681635,-9.674471,3.56098,10.050891,2.2027855,-9.522333,-10.762017,6.2841177,7.2218246,-7.100914,-8.191941,-9.713503,12.388705,-3.1919425,7.0766582,8.600559,8.4932165,9.64391,6.744301,-8.360287,6.9500527,12.4645,7.279177,7.19989,12.877594,7.245996,-7.670568,-7.7060747,3.6023586,2.6847594,10.509225,6.753808,-7.1558275,5.9108744,7.595172,5.3888216,8.258672,8.68784,-8.040266,-9.017638,8.917687,-6.8896646,-10.251958,8.093449,-7.039415,12.624398,4.379316,-7.2298384,11.624832,-9.099773,-8.802065,8.32183,3.7262568,11.371388,6.8744106,-8.256706,8.109745,-12.071015,9.739913,7.760953,10.506281,11.259529,9.362023,6.058023,-0.4087433,-5.6555276,-7.2835393,-10.706523,-0.32601902,-6.0575004,-7.043428,5.7534666,-5.25864,-7.925223,-9.977588,-0.2378616,-9.795538,-5.396549,-11.076502,-12.651349,-10.348974,9.552731,-3.503382,-7.9395766,10.685144,-0.49501115,10.763257,10.843958,-7.3229,-8.870762,-7.4759655,7.509813,-10.93757,10.58235,-6.299428,-8.235218,-7.81614,-13.124046,-6.6520133,9.994169,8.584354,-1.38303,8.760838,8.9362545,9.787793,-9.396501,5.0647845,-1.0147312,-10.548638,-6.2576613,9.886334,-1.0583493,-9.191186,8.483628,-7.914662,-11.135599,-13.342086,-8.411715,-7.5437565,-8.172909,-7.238966,9.952022,-9.251461,-2.5020728,-10.126666,-7.515685,-0.37671667,5.359317,-7.989276,-5.5363927,7.336723,-9.241938,-4.5305533,-5.7100806,-9.835733,-8.7976465,-10.101201,-13.26847,-10.142438,8.020477,-9.026113,-9.964202,-7.068262,-9.125376,-3.4293716,7.912896,-11.46788,8.800214,7.9509583,-14.165553,-6.2002573,-2.4048386,-4.4871697,5.117425,9.383678,-12.207837,3.1535623,-8.207847,-8.405577,10.4821205,-9.268875,1.2069905,-8.645303,-9.092188,11.059585,6.6388164,-13.575737,0.61180663,-8.016624,10.219769,-0.42884013,-9.900362,-11.174883,-7.885645,-6.454876,-0.05327992,11.393453,-7.499144,10.667495,-10.837868,-6.173956,-5.365846,7.6694818,-7.596829,-8.85771,-7.484783,-6.632755,-10.407464,-8.302538,-5.985649,-5.2474737,4.969307,-9.7521305,-0.40318072,-6.8802934,7.8510785,-6.1844997,-7.928647,13.83514,0.5439469,10.338815,-6.577523,4.449233,-5.392425,-5.5121503,-3.789896,-3.650711,-2.83447,-3.4528277,-4.3297515,-3.9491258],\"yaxis\":\"y\",\"type\":\"scatter\"}],                        {\"template\":{\"data\":{\"histogram2dcontour\":[{\"type\":\"histogram2dcontour\",\"colorbar\":{\"outlinewidth\":0,\"ticks\":\"\"},\"colorscale\":[[0.0,\"#0d0887\"],[0.1111111111111111,\"#46039f\"],[0.2222222222222222,\"#7201a8\"],[0.3333333333333333,\"#9c179e\"],[0.4444444444444444,\"#bd3786\"],[0.5555555555555556,\"#d8576b\"],[0.6666666666666666,\"#ed7953\"],[0.7777777777777778,\"#fb9f3a\"],[0.8888888888888888,\"#fdca26\"],[1.0,\"#f0f921\"]]}],\"choropleth\":[{\"type\":\"choropleth\",\"colorbar\":{\"outlinewidth\":0,\"ticks\":\"\"}}],\"histogram2d\":[{\"type\":\"histogram2d\",\"colorbar\":{\"outlinewidth\":0,\"ticks\":\"\"},\"colorscale\":[[0.0,\"#0d0887\"],[0.1111111111111111,\"#46039f\"],[0.2222222222222222,\"#7201a8\"],[0.3333333333333333,\"#9c179e\"],[0.4444444444444444,\"#bd3786\"],[0.5555555555555556,\"#d8576b\"],[0.6666666666666666,\"#ed7953\"],[0.7777777777777778,\"#fb9f3a\"],[0.8888888888888888,\"#fdca26\"],[1.0,\"#f0f921\"]]}],\"heatmap\":[{\"type\":\"heatmap\",\"colorbar\":{\"outlinewidth\":0,\"ticks\":\"\"},\"colorscale\":[[0.0,\"#0d0887\"],[0.1111111111111111,\"#46039f\"],[0.2222222222222222,\"#7201a8\"],[0.3333333333333333,\"#9c179e\"],[0.4444444444444444,\"#bd3786\"],[0.5555555555555556,\"#d8576b\"],[0.6666666666666666,\"#ed7953\"],[0.7777777777777778,\"#fb9f3a\"],[0.8888888888888888,\"#fdca26\"],[1.0,\"#f0f921\"]]}],\"heatmapgl\":[{\"type\":\"heatmapgl\",\"colorbar\":{\"outlinewidth\":0,\"ticks\":\"\"},\"colorscale\":[[0.0,\"#0d0887\"],[0.1111111111111111,\"#46039f\"],[0.2222222222222222,\"#7201a8\"],[0.3333333333333333,\"#9c179e\"],[0.4444444444444444,\"#bd3786\"],[0.5555555555555556,\"#d8576b\"],[0.6666666666666666,\"#ed7953\"],[0.7777777777777778,\"#fb9f3a\"],[0.8888888888888888,\"#fdca26\"],[1.0,\"#f0f921\"]]}],\"contourcarpet\":[{\"type\":\"contourcarpet\",\"colorbar\":{\"outlinewidth\":0,\"ticks\":\"\"}}],\"contour\":[{\"type\":\"contour\",\"colorbar\":{\"outlinewidth\":0,\"ticks\":\"\"},\"colorscale\":[[0.0,\"#0d0887\"],[0.1111111111111111,\"#46039f\"],[0.2222222222222222,\"#7201a8\"],[0.3333333333333333,\"#9c179e\"],[0.4444444444444444,\"#bd3786\"],[0.5555555555555556,\"#d8576b\"],[0.6666666666666666,\"#ed7953\"],[0.7777777777777778,\"#fb9f3a\"],[0.8888888888888888,\"#fdca26\"],[1.0,\"#f0f921\"]]}],\"surface\":[{\"type\":\"surface\",\"colorbar\":{\"outlinewidth\":0,\"ticks\":\"\"},\"colorscale\":[[0.0,\"#0d0887\"],[0.1111111111111111,\"#46039f\"],[0.2222222222222222,\"#7201a8\"],[0.3333333333333333,\"#9c179e\"],[0.4444444444444444,\"#bd3786\"],[0.5555555555555556,\"#d8576b\"],[0.6666666666666666,\"#ed7953\"],[0.7777777777777778,\"#fb9f3a\"],[0.8888888888888888,\"#fdca26\"],[1.0,\"#f0f921\"]]}],\"mesh3d\":[{\"type\":\"mesh3d\",\"colorbar\":{\"outlinewidth\":0,\"ticks\":\"\"}}],\"scatter\":[{\"fillpattern\":{\"fillmode\":\"overlay\",\"size\":10,\"solidity\":0.2},\"type\":\"scatter\"}],\"parcoords\":[{\"type\":\"parcoords\",\"line\":{\"colorbar\":{\"outlinewidth\":0,\"ticks\":\"\"}}}],\"scatterpolargl\":[{\"type\":\"scatterpolargl\",\"marker\":{\"colorbar\":{\"outlinewidth\":0,\"ticks\":\"\"}}}],\"bar\":[{\"error_x\":{\"color\":\"#2a3f5f\"},\"error_y\":{\"color\":\"#2a3f5f\"},\"marker\":{\"line\":{\"color\":\"#E5ECF6\",\"width\":0.5},\"pattern\":{\"fillmode\":\"overlay\",\"size\":10,\"solidity\":0.2}},\"type\":\"bar\"}],\"scattergeo\":[{\"type\":\"scattergeo\",\"marker\":{\"colorbar\":{\"outlinewidth\":0,\"ticks\":\"\"}}}],\"scatterpolar\":[{\"type\":\"scatterpolar\",\"marker\":{\"colorbar\":{\"outlinewidth\":0,\"ticks\":\"\"}}}],\"histogram\":[{\"marker\":{\"pattern\":{\"fillmode\":\"overlay\",\"size\":10,\"solidity\":0.2}},\"type\":\"histogram\"}],\"scattergl\":[{\"type\":\"scattergl\",\"marker\":{\"colorbar\":{\"outlinewidth\":0,\"ticks\":\"\"}}}],\"scatter3d\":[{\"type\":\"scatter3d\",\"line\":{\"colorbar\":{\"outlinewidth\":0,\"ticks\":\"\"}},\"marker\":{\"colorbar\":{\"outlinewidth\":0,\"ticks\":\"\"}}}],\"scattermapbox\":[{\"type\":\"scattermapbox\",\"marker\":{\"colorbar\":{\"outlinewidth\":0,\"ticks\":\"\"}}}],\"scatterternary\":[{\"type\":\"scatterternary\",\"marker\":{\"colorbar\":{\"outlinewidth\":0,\"ticks\":\"\"}}}],\"scattercarpet\":[{\"type\":\"scattercarpet\",\"marker\":{\"colorbar\":{\"outlinewidth\":0,\"ticks\":\"\"}}}],\"carpet\":[{\"aaxis\":{\"endlinecolor\":\"#2a3f5f\",\"gridcolor\":\"white\",\"linecolor\":\"white\",\"minorgridcolor\":\"white\",\"startlinecolor\":\"#2a3f5f\"},\"baxis\":{\"endlinecolor\":\"#2a3f5f\",\"gridcolor\":\"white\",\"linecolor\":\"white\",\"minorgridcolor\":\"white\",\"startlinecolor\":\"#2a3f5f\"},\"type\":\"carpet\"}],\"table\":[{\"cells\":{\"fill\":{\"color\":\"#EBF0F8\"},\"line\":{\"color\":\"white\"}},\"header\":{\"fill\":{\"color\":\"#C8D4E3\"},\"line\":{\"color\":\"white\"}},\"type\":\"table\"}],\"barpolar\":[{\"marker\":{\"line\":{\"color\":\"#E5ECF6\",\"width\":0.5},\"pattern\":{\"fillmode\":\"overlay\",\"size\":10,\"solidity\":0.2}},\"type\":\"barpolar\"}],\"pie\":[{\"automargin\":true,\"type\":\"pie\"}]},\"layout\":{\"autotypenumbers\":\"strict\",\"colorway\":[\"#636efa\",\"#EF553B\",\"#00cc96\",\"#ab63fa\",\"#FFA15A\",\"#19d3f3\",\"#FF6692\",\"#B6E880\",\"#FF97FF\",\"#FECB52\"],\"font\":{\"color\":\"#2a3f5f\"},\"hovermode\":\"closest\",\"hoverlabel\":{\"align\":\"left\"},\"paper_bgcolor\":\"white\",\"plot_bgcolor\":\"#E5ECF6\",\"polar\":{\"bgcolor\":\"#E5ECF6\",\"angularaxis\":{\"gridcolor\":\"white\",\"linecolor\":\"white\",\"ticks\":\"\"},\"radialaxis\":{\"gridcolor\":\"white\",\"linecolor\":\"white\",\"ticks\":\"\"}},\"ternary\":{\"bgcolor\":\"#E5ECF6\",\"aaxis\":{\"gridcolor\":\"white\",\"linecolor\":\"white\",\"ticks\":\"\"},\"baxis\":{\"gridcolor\":\"white\",\"linecolor\":\"white\",\"ticks\":\"\"},\"caxis\":{\"gridcolor\":\"white\",\"linecolor\":\"white\",\"ticks\":\"\"}},\"coloraxis\":{\"colorbar\":{\"outlinewidth\":0,\"ticks\":\"\"}},\"colorscale\":{\"sequential\":[[0.0,\"#0d0887\"],[0.1111111111111111,\"#46039f\"],[0.2222222222222222,\"#7201a8\"],[0.3333333333333333,\"#9c179e\"],[0.4444444444444444,\"#bd3786\"],[0.5555555555555556,\"#d8576b\"],[0.6666666666666666,\"#ed7953\"],[0.7777777777777778,\"#fb9f3a\"],[0.8888888888888888,\"#fdca26\"],[1.0,\"#f0f921\"]],\"sequentialminus\":[[0.0,\"#0d0887\"],[0.1111111111111111,\"#46039f\"],[0.2222222222222222,\"#7201a8\"],[0.3333333333333333,\"#9c179e\"],[0.4444444444444444,\"#bd3786\"],[0.5555555555555556,\"#d8576b\"],[0.6666666666666666,\"#ed7953\"],[0.7777777777777778,\"#fb9f3a\"],[0.8888888888888888,\"#fdca26\"],[1.0,\"#f0f921\"]],\"diverging\":[[0,\"#8e0152\"],[0.1,\"#c51b7d\"],[0.2,\"#de77ae\"],[0.3,\"#f1b6da\"],[0.4,\"#fde0ef\"],[0.5,\"#f7f7f7\"],[0.6,\"#e6f5d0\"],[0.7,\"#b8e186\"],[0.8,\"#7fbc41\"],[0.9,\"#4d9221\"],[1,\"#276419\"]]},\"xaxis\":{\"gridcolor\":\"white\",\"linecolor\":\"white\",\"ticks\":\"\",\"title\":{\"standoff\":15},\"zerolinecolor\":\"white\",\"automargin\":true,\"zerolinewidth\":2},\"yaxis\":{\"gridcolor\":\"white\",\"linecolor\":\"white\",\"ticks\":\"\",\"title\":{\"standoff\":15},\"zerolinecolor\":\"white\",\"automargin\":true,\"zerolinewidth\":2},\"scene\":{\"xaxis\":{\"backgroundcolor\":\"#E5ECF6\",\"gridcolor\":\"white\",\"linecolor\":\"white\",\"showbackground\":true,\"ticks\":\"\",\"zerolinecolor\":\"white\",\"gridwidth\":2},\"yaxis\":{\"backgroundcolor\":\"#E5ECF6\",\"gridcolor\":\"white\",\"linecolor\":\"white\",\"showbackground\":true,\"ticks\":\"\",\"zerolinecolor\":\"white\",\"gridwidth\":2},\"zaxis\":{\"backgroundcolor\":\"#E5ECF6\",\"gridcolor\":\"white\",\"linecolor\":\"white\",\"showbackground\":true,\"ticks\":\"\",\"zerolinecolor\":\"white\",\"gridwidth\":2}},\"shapedefaults\":{\"line\":{\"color\":\"#2a3f5f\"}},\"annotationdefaults\":{\"arrowcolor\":\"#2a3f5f\",\"arrowhead\":0,\"arrowwidth\":1},\"geo\":{\"bgcolor\":\"white\",\"landcolor\":\"#E5ECF6\",\"subunitcolor\":\"white\",\"showland\":true,\"showlakes\":true,\"lakecolor\":\"white\"},\"title\":{\"x\":0.05},\"mapbox\":{\"style\":\"light\"}}},\"xaxis\":{\"anchor\":\"y\",\"domain\":[0.0,1.0],\"title\":{\"text\":\"Component 1\"}},\"yaxis\":{\"anchor\":\"x\",\"domain\":[0.0,1.0],\"title\":{\"text\":\"Component 2\"}},\"legend\":{\"tracegroupgap\":0},\"title\":{\"text\":\"t-SNE of MTEB Banking77 Embeddings (all-mpnet-base-v2)\"}},                        {\"responsive\": true}                    ).then(function(){\n",
              "                            \n",
              "var gd = document.getElementById('4722ba7e-9402-4fb1-bbad-5b65cddb3b2a');\n",
              "var x = new MutationObserver(function (mutations, observer) {{\n",
              "        var display = window.getComputedStyle(gd).display;\n",
              "        if (!display || display === 'none') {{\n",
              "            console.log([gd, 'removed!']);\n",
              "            Plotly.purge(gd);\n",
              "            observer.disconnect();\n",
              "        }}\n",
              "}});\n",
              "\n",
              "// Listen for the removal of the full notebook cells\n",
              "var notebookContainer = gd.closest('#notebook-container');\n",
              "if (notebookContainer) {{\n",
              "    x.observe(notebookContainer, {childList: true});\n",
              "}}\n",
              "\n",
              "// Listen for the clearing of the current output cell\n",
              "var outputEl = gd.closest('.output');\n",
              "if (outputEl) {{\n",
              "    x.observe(outputEl, {childList: true});\n",
              "}}\n",
              "\n",
              "                        })                };                            </script>        </div>\n",
              "</body>\n",
              "</html>"
            ]
          },
          "metadata": {}
        }
      ]
    },
    {
      "cell_type": "markdown",
      "source": [
        "- **Distribution and clustering:** the visualization of t-SNE shows the local clustering and distribution patterns of word embeddings, and some word groups can be seen clustered in different regions in the figure, indicating that these words have similar semantic or contextual relationships in the embedding space. This local clustering structure helps to discover semantic relationships in the data, but unlike PCA, t-SNE emphasizes more on local proximity relationships, so the overall structure may not be as clear as PCA.\n"
      ],
      "metadata": {
        "id": "u8JtnTr2sVL0"
      }
    },
    {
      "cell_type": "markdown",
      "source": [
        "# UMAP (Uniform Manifold Approximation and Projection):\n",
        "- Modern dimensionality reduction technique\n",
        "- Balances local and global structure preservation\n",
        "- Parameters:\n",
        "  1. n_neighbors=5: Small neighborhood size for detailed local structure\n",
        "  2. min_dist=0.1: Minimum distance between points\n",
        "  3. random_state=42: For reproducibility"
      ],
      "metadata": {
        "id": "yaecHbZMfaSy"
      }
    },
    {
      "cell_type": "code",
      "source": [
        "# UMAP Visualization\n",
        "umap_model = umap.UMAP(\n",
        "    n_components=2,\n",
        "    n_neighbors=15,\n",
        "    min_dist=0.1,\n",
        "    random_state=42\n",
        ")\n",
        "embeddings_umap = umap_model.fit_transform(embeddings)\n",
        "\n",
        "# Plot UMAP results\n",
        "fig_umap = px.scatter(\n",
        "    embeddings_umap,\n",
        "    x=0,\n",
        "    y=1,\n",
        "    hover_data={'text': texts},\n",
        "    title=\"UMAP of MTEB Banking77 Embeddings (all-mpnet-base-v2)\",\n",
        "    labels={'0': 'Component 1', '1': 'Component 2'}\n",
        ")\n",
        "fig_umap.update_traces(marker=dict(size=8))\n",
        "fig_umap.show()"
      ],
      "metadata": {
        "colab": {
          "base_uri": "https://localhost:8080/",
          "height": 613
        },
        "id": "koYg-50kYu8L",
        "outputId": "d266cf71-487b-4395-fd4c-9382636f6697"
      },
      "execution_count": 11,
      "outputs": [
        {
          "output_type": "stream",
          "name": "stderr",
          "text": [
            "/usr/local/lib/python3.10/dist-packages/umap/umap_.py:1945: UserWarning:\n",
            "\n",
            "n_jobs value 1 overridden to 1 by setting random_state. Use no seed for parallelism.\n",
            "\n"
          ]
        },
        {
          "output_type": "display_data",
          "data": {
            "text/html": [
              "<html>\n",
              "<head><meta charset=\"utf-8\" /></head>\n",
              "<body>\n",
              "    <div>            <script src=\"https://cdnjs.cloudflare.com/ajax/libs/mathjax/2.7.5/MathJax.js?config=TeX-AMS-MML_SVG\"></script><script type=\"text/javascript\">if (window.MathJax && window.MathJax.Hub && window.MathJax.Hub.Config) {window.MathJax.Hub.Config({SVG: {font: \"STIX-Web\"}});}</script>                <script type=\"text/javascript\">window.PlotlyConfig = {MathJaxConfig: 'local'};</script>\n",
              "        <script charset=\"utf-8\" src=\"https://cdn.plot.ly/plotly-2.24.1.min.js\"></script>                <div id=\"504bc119-5f8e-40d9-9d44-32cdcee204b1\" class=\"plotly-graph-div\" style=\"height:525px; width:100%;\"></div>            <script type=\"text/javascript\">                                    window.PLOTLYENV=window.PLOTLYENV || {};                                    if (document.getElementById(\"504bc119-5f8e-40d9-9d44-32cdcee204b1\")) {                    Plotly.newPlot(                        \"504bc119-5f8e-40d9-9d44-32cdcee204b1\",                        [{\"customdata\":[[\"I am still waiting on my card?\"],[\"What can I do if my card still hasn't arrived after 2 weeks?\"],[\"I have been waiting over a week. Is the card still coming?\"],[\"Can I track my card while it is in the process of delivery?\"],[\"How do I know if I will get my card, or if it is lost?\"],[\"When did you send me my new card?\"],[\"Do you have info about the card on delivery?\"],[\"What do I do if I still have not received my new card?\"],[\"Does the package with my card have tracking?\"],[\"I ordered my card but it still isn't here\"],[\"Why has my new card still not come?\"],[\"I still haven't received my card after two weeks, is it lost?\"],[\"Can you track my card for me?\"],[\"Is there a way to track the delivery of my card?\"],[\"It's been a week since I ordered my card and it's not here. Please help?\"],[\"Will I be able to track the card that was sent to me?\"],[\"I don't have my card in 1 week.  Should I be worried?\"],[\"How do I know when my new card is going to arrive?\"],[\"My new card has not been delivered to my home yet. What is going on?\"],[\"It's been a week since you issued me a card and I still didn't get it. Should I keep waiting?\"],[\"On the card that is coming, what's the tracking info?\"],[\"What is the status of my card's delivery?\"],[\"Have you sent out my card yet?\"],[\"My card isn't here yet.\"],[\"where is my new card?\"],[\"It's been a week since you sent my card and I still don't have it.\"],[\"How do I track the card you sent me?\"],[\"When will I recieve my new card?\"],[\"When will I get my new card?\"],[\"What is the expected delivery date for my card?\"],[\"Is there a tracking number for the card you sent me?\"],[\"I would like to track the card you sent to me.\"],[\"Has my card been lost in delivery?\"],[\"My new card hasn't came in.\"],[\"Where is the card I ordered 2 weeks ago?\"],[\"Can I get an update on my replacement card?\"],[\"How long does it take for a new card to ship?\"],[\"What's the tracking on the card you sent?\"],[\"I haven't received my card and am worried it is lost.\"],[\"My card still hasn't been delivered\"],[\"I need to find out where the card is that I ordered.\"],[\"Where is my credit card that was to be mailed?\"],[\"I ordered my card but it hasn't been delivered yet\"],[\"Am I able to track the card that was just sent to me?\"],[\"Can you tell me why I haven't received my new card?\"],[\"I'm still waiting for my new card.\"],[\"Is my card lost? I am still waiting for it to be delivered.\"],[\"Should I keep waiting for my card to be delivered?\"],[\"Can I track when my card will be delivered?\"],[\"How can I check on the status of my new card?\"],[\"A card has been sent to me, how do I track it?\"],[\"Is there a way I can get my card expedited?\"],[\"What can I do to track the card you sent me?\"],[\"why hasnt my card come in yet?\"],[\"How can I periodically check the delivery of the card you sent?\"],[\"What's the reason my new card hasn't come?\"],[\"How long does it take for me to get my new card?\"],[\"I don't have my card after 1 week. What are my next steps?\"],[\"I know I'm getting a new card but would like know when I can expect to receive it.\"],[\"I want to find out what happened to my new card?\"],[\"Was there a way for me to get tracking for that?\"],[\"I am still waiting for my card.\"],[\"My card hasn't arrived.\"],[\"Can I track the card you sent to me?\"],[\"I haven't gotten my new card.\"],[\"How long should it take for my new card to arrive in them mail? What should I do if I never receive it?\"],[\"Will I have to wait much longer for my new card to arrive?\"],[\"how to track the card you sent\"],[\"2 weeks ago I ordered my new card.  It isn't here.  What should I do?\"],[\"How can I check on the delivery status of my card?\"],[\"My card has not been delivered yet and its been a week since I ordered it, please help\"],[\"What's the expected wait time to recieve my new card?\"],[\"How can I see the progress of delivery of the card that was sent?\"],[\"My card was supposed to arrive, but hasn't?\"],[\"I ordered a card and would like to know how to track the delivery progress of it.\"],[\"How long will it take for me to get my card?\"],[\"My card hasn't shown up yet.\"],[\"Does the card you sent have a tracking number?\"],[\"My card hasn't arrived in the mail yet. I ordered it two weeks ago. What can I do?\"],[\"maximum how many days get the courier?\"],[\"Is there a reason my new card hasn't arrived yet?\"],[\"I've been waiting a while for my card, is there a way to know when it will arrive?\"],[\"How can I track my card's delivery?\"],[\"Can I track the card that was just sent to me?\"],[\"If I ordered my new card last week, how much longer should I wait to receive it?\"],[\"What's go on, where is my new card?\"],[\"Where is my new card if I haven't received it yet?\"],[\"Where is my card?\"],[\"Can you tell me why I haven't received my new card yet?\"],[\"Is there a way to track my card?\"],[\"Is there a way to track the new card you sent me?\"],[\"I'm still waiting for my card.\"],[\"What do I need to do to get my new card which I have requested 2 weeks ago?\"],[\"WHAT IS THE SOLUTION OF THIS PROBLEM\"],[\"Could I get tracking on the card?\"],[\"Can you help me track my card?\"],[\"Shouldn't my new card be here by now?\"],[\"Is there a reason my new card hasn't arrived?\"],[\"I would like to track a card sent to me, how do I do that?\"],[\"Is there a tracking number for the card?\"],[\"can you share card tracking number?\"],[\"I have not received my card and it's been a week, what do I do?\"],[\"Is there a way I can check on the card on route to me?\"],[\"When will my new card arrive?\"],[\"Why haven't I received my new card yet?\"],[\"What is the expected delivery date of my card?\"],[\"My card hasn't came in the mail yet?\"],[\"I haven't received my card.\"],[\"Is it possible for me to track the card is was mailed to me?\"],[\"When will my new card be delivered?\"],[\"I was issued a card about a week ago. why hasn't it come in yet?\"],[\"Can you please tell me where my card is? I ordered it 2 weeks ago!\"],[\"I still haven't received my card in the mail\"],[\"I'm still waiting for my card that was issued a week ago. What should I do?\"],[\"I still haven't gotten my new card.  When will it get here?\"],[\"Do you have a tracking number for the card I was sent?\"],[\"How do I track the card you sent to me?\"],[\"Is my new bank card on the way and is there a way to track it?\"],[\"Could you send me and up date on the arrival of my card?\"],[\"How long does it take to recieve my new card?\"],[\"My card has not come in the mail yet.\"],[\"What's the card you sent me's tracking number?\"],[\"i havent got my card\"],[\"Why hasn't my card arrived yet?\"],[\"I thought I would have received my new card at this point.\"],[\"How long until my new card gets here?\"],[\"How much longer until I get my new card?\"],[\"Am I able to track a card that has already been sent?\"],[\"Is it possible to track the card you sent me?\"],[\"How long will it be to get this new card?\"],[\"how can i track card you sent\"],[\"Can the card was sen to me be tracked?\"],[\"why have i not got my new card?\"],[\"I need to track the card sent to me.\"],[\"It's been two weeks and I haven't gotten my card, what do I do?\"],[\"I was expecting my new card by now.\"],[\"Where is the tracking number for the card?\"],[\"I was issued a new card a week ago but still haven't received it. How long will it be until I receive it?\"],[\"Can I track the card that you sent me in the mail?\"],[\"Can you tell me if I can track the card you sent me?\"],[\"Why have I not gotten my new card?\"],[\"I'm still waiting on my new card to be delivered!\"],[\"My new card isn't here and it was issued a week ago.\"],[\"I was supposed to receive my new card by now, but it hasn't came in.\"],[\"Is a tracking number available for the card that was just sent?\"],[\"Why haven't I gotten my new card?\"],[\"Was there a number to track that I could get?\"],[\"How much longer is it going to take to get my new card?\"],[\"I haven't gotten my credit card in the mail.\"],[\"My card hasn't arrived yet. What do I do?\"],[\"My card still hasn't arrived after two weeks, now what?\"],[\"My card appears to have never arrived?\"],[\"My card never arrived.\"],[\"My card has been found. Is there any way for me to put it back into the app?\"],[\"I was able to find my card. How to I go about putting it into my app?\"],[\"how do I get my card to show in the app?\"],[\"I just got my card.  It's not linked yet--how do I do that?\"],[\"lost card found, want to put it back in app\"],[\"I just got a card, how can I add it to the app?\"],[\"Is there any way to see my card in the app?\"],[\"If I find a card I lost do I need to dispose of it? Or can I re-active the card and continue to use it?\"],[\"I found my card. How can I put it into my app?\"],[\"How do I make my card show up in the app?\"],[\"Can you show me where to link the new card?\"],[\"I found my old card. Can I link it back into the app?\"],[\"Show me how to link the new card,\"],[\"How do I add an existing card to the app?\"],[\"I finally got my card.  Now I want to link it.  Is that something you have to do or can I do that?\"],[\"How do I link one of your card that I already have?\"],[\"If I have a physical card can I link it?\"],[\"I found my lost card in my jacket pocket this morning so I'd like to reactivate it please.\"],[\"Can I add a card that I just found (again) to the app?\"],[\"How can I make my card show up in the app?\"],[\"I would like to re-activate my card, it was previously reported  lost but I found it this morning.\"],[\"Okay, I found my card, can I put it back in the app?\"],[\"Can I reactivate a card?\"],[\"I would like to reactivate a card and wondered if that could be done?\"],[\"I got my card now, how do I make it show up in the app?\"],[\"How do I link an existing card?\"],[\"How do I link a new card in the app?\"],[\"The card I thought was lost was just in my jacket, so can I reactivate it since I found it this morning?\"],[\"I already have a card and want to link it\"],[\"Can you please reactivate my card?\"],[\"Where do I go to add a new card?\"],[\"I want my card I just received to show up in the app. How do I do that?\"],[\"I received my card, how do I get it to show in the app?\"],[\"If I have a credit card with you how I get set up to link to it?\"],[\"How do I add my new card?\"],[\"I want to reactivate my card, I thought I had lost it but found it again this morning.\"],[\"I need a card reactivation, I had reported my card lost but I ran across it in my jacket.\"],[\"My card is no longer lost. How do I enter it back into the app?\"],[\"I want to reactivate my card, I thought I had lost it but found it again in my jacket.\"],[\"May I reactivate my card? I previously reported it lost, but have now found it safe and sound.\"],[\"How do I reactivate a card I thought I lost?\"],[\"Help me figure out how to link the new card.\"],[\"I found my lost card. Am I still able to use it?\"],[\"Will I need a new card or can I put my old card back into the app?\"],[\"Is there a way to link the card i just got?\"],[\"How do I add a new card?\"],[\"I want to reactivate my card, I found it after thinking it was lost.\"],[\"Can I put my old card back in the app?\"],[\"I got a new card, how do I link it?\"],[\"I found the card I thought I lost this morning. Can I reactivate this card?\"],[\"How do i go about linking a new card?\"],[\"how do i get the card linked\"],[\"I have one of your cards, but I don't know how to link it.\"],[\"how do I link an old card?\"],[\"I received my card. How do I link it to the app?\"],[\"Now that I have my card, how do I connect it to the app?\"],[\"How do I add the card I just received to show up in the app?\"],[\"I want to reactivate my card, I thought I had lost it but I found it.\"],[\"What do I need to do to link my new card for my account?\"],[\"Can I add a card to back into the app?\"],[\"I want to link my new card. Can you help?\"],[\"What is the process to link the new card?\"],[\"I found my card, am I able to put it back into the app?\"],[\"I have found my lost or stolen card, would I still have to activate the new card that was sent to me through the mail in order to access my account?\"],[\"Where can I link a new card?\"],[\"How do I add a card on to the app?\"],[\"I found my card in my jacket this morning, so can I reactivate it?\"],[\"I've obtained the card, how do I enable it on the app?\"],[\"I need to find the card I received in the app.\"],[\"How do I get my card on the app?\"],[\"In the app, how can I make it show the new card that arrived?\"],[\"How do I link my new card?\"],[\"Can I activate a card in the app?\"],[\"I want to link to my card card with you, how?\"],[\"I would like to link my card to my account.\"],[\"I thought I lost my card so I cancelled it, but recently I found it in my jacket and I would like to re-establish the card.\"],[\"How can I link the new card?\"],[\"I got a new card and can't find where to link it.\"],[\"Hey, I have my card, how do I get it to show in the app?\"],[\"Where in the app do I go to make my new card show up?\"],[\"Where do I scan my card?\"],[\"Can I reactivate my card? I reported it lost and found it this morning in my jacket.\"],[\"Can I link my card I previously received?\"],[\"I want to reactivate my card, I thought I had lost it but found it again in my jacket this morning.\"],[\"I'd lke my card reactivated, I was thinking it was misplaced but I discovered when I woke up that I had left it in my coat.\"],[\"You sent me a card and now I want to link it.\"],[\"How do I add my new card to the app?\"],[\"Can I add a card back to the app?\"],[\"What if I want to add a card I already have to the app?\"],[\"I recently reported my card as missing\\u002flost, and I just found it. Can I still use it?\"],[\"Could I reactivate my card please, I couldn't find it but it turns out it was in my jacket pocket.\"],[\"Is there a way to link cards if I have one of yours?\"],[\"If my card was lost or stolen can I re-link it?\"],[\"How do I link a new card to an existing one?\"],[\"How do I link a new payment card?\"],[\"I would like to reactivate my card that I previously reported lost. I located the card this morning.\"],[\"Card has been received, how will it show up on the app?\"],[\"Can I re-link a lost card with the app?\"],[\"What do I do to link my new card?\"],[\"Is it possible to link a new card?\"],[\"I deactivated my card but would like to reactivate it.\"],[\"I found my card that I thought I had lost, I need to reactive it, please help.\"],[\"can I link a card of yours I already have?\"],[\"Can I put my found card back into the app on my phone?\"],[\"My card arrived but I need to make it work in the app, how do I do that?\"],[\"I found the card that I thought I lost, and I would like to reactivate it.\"],[\"I found my card again. Can I put it back into the app?\"],[\"I need some help linking my new card.\"],[\"help me link my card\"],[\"How do I link my card in the app.\"],[\"How do I get my card into the app?\"],[\"I found my card! Can I link it back into the app?\"],[\"How do I reactivate my card?\"],[\"Where do I go to get my new card linked?\"],[\"I thought I lost my card but I found it today, so I would like to reactivate it.\"],[\"How do I link the new card that I just got from you guys?\"],[\"How can I add a new card?\"],[\"Can you tell me how to get my card on the app?\"],[\"Is it possible to reactivate the card I thought I lost but found this morning in my jacket?\"],[\"How do I make my card appear on the app?\"],[\"How do I link the new card?\"],[\"Where in the app do I link a new card?\"],[\"How do I add my card to the app once I get it?\"],[\"Can I link your physical card\"],[\"How do I activate and link my new card?\"],[\"I got a card, how do I get it in the app?\"],[\"I received my new card.  Where is it in the app?\"],[\"I found my card, how can I use it again?\"],[\"I just received a new card, where do I go to link it to my account?\"],[\"found card, how to put it back in app\"],[\"How do I see my card in the app?\"],[\"The card I thought I lost was in my jacket pocket this morning, so can I reactivate that?\"],[\"I don't see my card anywhere in the app.\"],[\"I received my card, how do I get it to work in the app?\"],[\"What do I do if I already had a card with you guys?\"],[\"if i found a lost card can i put it back in app\"],[\"I have a card that was deactivated can I reactivate it?\"],[\"My new card isn't in my app, how do I get it in there?\"],[\"Help me access the card I already got so I can information from it.\"],[\"What is my money worth in other countries?\"],[\"Will my money be of equal value when I travel abroad?\"],[\"Do you know the rate of exchange?\"],[\"What foreign exchange rate will I get on weekdays and on the weekends?\"],[\"What is the exchange looking like?\"],[\"How is the exchange rate doing?\"],[\"I would like to know how exchange rates are calculated when transferring funds.\"],[\"I would like to know what exchange rates you use?\"]],\"hovertemplate\":\"Component 1=%{x}\\u003cbr\\u003eComponent 2=%{y}\\u003cbr\\u003etext=%{customdata[0]}\\u003cextra\\u003e\\u003c\\u002fextra\\u003e\",\"legendgroup\":\"\",\"marker\":{\"color\":\"#636efa\",\"symbol\":\"circle\",\"size\":8},\"mode\":\"markers\",\"name\":\"\",\"orientation\":\"v\",\"showlegend\":false,\"x\":[9.523474,9.001782,9.485491,14.348674,8.624373,11.514589,10.946446,9.364313,14.7027445,9.229804,9.314475,8.591992,15.495731,14.224066,8.896626,14.984952,8.794338,11.44591,9.339303,9.205936,14.468577,10.884892,10.249959,10.030289,8.316222,10.070764,15.570301,11.586595,11.659039,11.903783,14.834191,15.654747,8.622995,9.521004,8.389105,11.275239,12.009831,14.498937,8.637285,9.358796,8.182898,8.53803,9.4810915,14.906413,9.388131,9.907431,8.526088,9.351186,14.102975,11.292058,15.333225,9.121075,15.5924015,9.410428,14.309281,9.352242,11.74481,8.919112,11.721965,8.420438,14.947103,9.764466,10.065893,15.469549,9.73662,11.27291,11.456974,15.236819,8.948245,13.958364,9.083684,11.788223,13.989769,8.980184,14.186548,11.624838,9.99342,14.724963,9.107962,11.999097,9.512367,11.548576,14.22439,14.96805,11.663447,8.521096,8.347015,8.162338,9.3378725,15.125084,15.402839,9.807493,9.315737,14.00966,14.854047,15.53141,9.288443,9.146781,15.283848,14.7991905,14.871623,9.091084,14.097989,11.565454,9.423591,11.903337,9.353665,9.842,14.903876,11.578459,9.133972,8.324161,9.634271,9.152165,11.42852,14.712682,15.551513,11.482997,10.311104,11.732532,9.977677,14.558505,9.8736,9.29945,9.657395,11.846964,11.811025,15.056895,15.291553,11.865952,15.401611,14.887738,9.240563,15.249082,9.076797,9.782006,14.644489,11.362461,15.395338,15.46467,9.269361,9.918378,10.038871,9.749763,14.833682,9.252932,14.836384,11.894618,9.750185,9.209498,9.081694,8.691015,9.7990675,-3.9629512,-1.6038073,-1.1186283,-1.6304467,-4.0078807,-2.0594797,-0.9717352,-6.4252553,-1.7635411,-1.249265,-2.130558,-3.790329,-2.0798523,-2.3922315,-1.2581648,-1.393678,-1.4719423,-7.080992,-3.032846,-1.2613039,-7.1629224,-3.8540344,-7.4215155,-7.5714164,-1.3566936,-1.7688559,-2.2718294,-6.98194,-1.3285824,-7.2433,-2.366809,-1.3352817,-1.270966,-1.3182461,-2.3444664,-7.3587956,-6.9731693,-3.9121163,-7.0988827,-6.7439394,-7.5282135,-2.2379436,-6.289564,-3.5528202,-1.3974408,-2.4123576,-7.3536444,-3.572142,-1.8481325,-6.9105678,-2.0606995,-1.8380606,-1.1580583,-1.8044631,-1.6113831,-1.6262584,-1.6320963,-7.4738913,-1.6834404,-3.3610134,-2.061674,-2.2773306,-3.8714857,-6.240115,-2.1229432,-2.274375,-6.9948378,-1.3999481,-0.8086194,-0.9479592,-1.5048772,-1.904683,-1.3252861,-1.2483248,-1.5748261,-6.9148097,-2.1923127,-2.0520859,-1.1901982,-1.6345661,-0.7944369,-6.8584723,-1.2184589,-6.970229,-6.907675,-1.0332065,-2.1557868,-3.2982178,-2.706398,-6.35481,-7.1365232,-1.1703421,-5.9144883,-1.8964126,-1.8068578,-7.242216,-1.2608385,-4.2477627,-2.095101,-1.7232507,-7.609946,-6.772277,-1.0853484,-3.9453666,-1.494321,-7.5414004,-3.8447742,-2.2266808,-1.7343332,-1.9232041,-1.4129616,-3.9054787,-7.569489,-2.2031484,-7.547003,-1.8934323,-2.3996787,-0.95136,-6.975512,-1.2985498,-2.1165519,-2.2215776,-1.639811,-1.429124,-2.0520027,-1.0946461,-0.8987049,-6.104173,-1.6640435,-4.054047,-0.8251332,-6.998283,-0.7836796,-1.3000627,9.459852,-4.1917486,-7.5523453,-1.9617877,-2.0411122,13.322596,13.269603,13.228689,13.18356,13.124637,13.17159,13.21443,13.268802],\"xaxis\":\"x\",\"y\":[3.4348094,2.4674425,3.2310221,5.6775684,2.6230958,4.05793,3.985658,3.5703022,6.562268,3.2690072,4.4566407,2.6722577,6.327388,5.543922,3.069391,6.0528336,2.4586146,4.5995584,4.300069,2.173171,6.8973613,3.936123,2.8240008,3.0630348,3.9390748,2.7712348,6.025463,4.1529727,4.2415,4.190414,7.0777655,6.1832037,3.0401614,4.378599,3.565024,4.540259,3.823656,6.800984,2.7142217,3.1984553,3.6750407,3.2866013,3.2419004,6.0930595,3.8609436,4.263815,2.881378,2.8468876,5.445076,4.6686616,5.733236,2.2163537,5.9431715,3.404113,5.4313617,4.5047398,3.5125263,2.3263278,4.2848825,4.070121,6.379131,3.8710132,2.84057,6.266235,4.371998,3.2760944,3.712673,5.6686926,3.4838848,5.347786,3.0894563,3.5822725,5.348138,3.018137,5.5281367,3.3951795,3.1201243,6.998202,2.6667762,4.031751,4.567235,4.685029,5.5408764,5.981091,3.5771182,4.093227,3.907484,3.7240057,3.9371574,6.1995454,6.168154,4.0254493,3.7532098,7.059754,6.3826303,6.2930098,4.54974,4.415355,5.6491995,6.9610963,6.893157,2.356755,5.4759645,4.3561935,3.9717267,4.20113,2.8689663,2.6350687,5.9180455,4.3781695,2.5881958,3.5455174,2.6750126,2.1592665,4.2722955,6.985393,5.921793,4.7469444,3.0473785,3.4691322,2.8479316,7.128031,2.8409448,3.1932771,4.241034,4.049714,3.9136386,5.9772325,6.33436,3.966388,5.7123084,6.06314,4.1439385,5.718871,2.272024,4.4402943,6.917629,3.2222745,6.1512666,6.2780037,4.1340117,4.245559,3.6199503,4.1477027,7.041176,4.371432,6.3466544,3.6751077,2.601966,2.5812347,2.638561,3.2359257,2.5969331,0.98856705,1.3588607,1.8982189,7.7571316,0.89349616,1.6547453,1.8540499,0.42653814,1.2547979,2.0301864,7.617646,1.0585135,7.7650647,1.7324183,7.962072,7.546298,8.168358,-0.4481633,1.4291954,1.973199,-0.6018048,0.9402467,0.028465092,-0.05669902,1.8226837,8.290477,1.8415273,0.28147334,7.8392124,-0.47285017,2.4356468,1.8083445,1.7529681,7.5462093,2.518341,-0.6508966,-0.38385627,1.0377545,-0.40795818,0.077823676,-0.37406787,7.739832,0.37340263,1.2128837,8.160676,2.4741397,-0.57936585,1.169617,8.110435,0.2773666,8.193613,7.61342,7.521346,8.191882,1.3933785,1.3410432,1.8506157,-0.5153739,7.9029036,1.2576708,7.5766006,7.983353,0.8857776,0.56658816,8.002006,1.7050804,0.3080251,1.2469525,1.5373381,1.3699583,2.0895557,8.104999,1.1210811,7.5445714,7.4267683,-0.29655862,7.895956,7.4619956,1.794075,2.048725,1.6686866,0.23840001,8.008461,-0.3701329,-0.042040385,7.416331,1.9062634,1.3061838,1.5922773,0.5092506,-0.13950929,7.923127,0.65071535,8.095494,8.022327,-0.5052593,1.8424263,0.87459534,8.238959,8.295466,-0.55235565,-0.3331303,7.6261215,0.8645661,1.3642383,-0.4298853,0.87524354,7.675061,7.6647844,1.5615772,1.450939,0.98557734,-0.49247873,8.120988,-0.60889995,7.465764,2.470065,1.3116608,0.31015846,1.9015566,7.9877334,1.9521871,1.5773958,7.946861,8.279498,1.3056656,1.8539053,0.040753454,7.465758,0.92655385,1.8221483,0.24015073,1.8938614,1.4013008,2.5422015,0.7643853,0.09015502,1.9682282,7.2089667,6.853032,6.896201,6.8967404,6.9615374,7.011155,6.974106,6.9421678,6.9202228],\"yaxis\":\"y\",\"type\":\"scatter\"}],                        {\"template\":{\"data\":{\"histogram2dcontour\":[{\"type\":\"histogram2dcontour\",\"colorbar\":{\"outlinewidth\":0,\"ticks\":\"\"},\"colorscale\":[[0.0,\"#0d0887\"],[0.1111111111111111,\"#46039f\"],[0.2222222222222222,\"#7201a8\"],[0.3333333333333333,\"#9c179e\"],[0.4444444444444444,\"#bd3786\"],[0.5555555555555556,\"#d8576b\"],[0.6666666666666666,\"#ed7953\"],[0.7777777777777778,\"#fb9f3a\"],[0.8888888888888888,\"#fdca26\"],[1.0,\"#f0f921\"]]}],\"choropleth\":[{\"type\":\"choropleth\",\"colorbar\":{\"outlinewidth\":0,\"ticks\":\"\"}}],\"histogram2d\":[{\"type\":\"histogram2d\",\"colorbar\":{\"outlinewidth\":0,\"ticks\":\"\"},\"colorscale\":[[0.0,\"#0d0887\"],[0.1111111111111111,\"#46039f\"],[0.2222222222222222,\"#7201a8\"],[0.3333333333333333,\"#9c179e\"],[0.4444444444444444,\"#bd3786\"],[0.5555555555555556,\"#d8576b\"],[0.6666666666666666,\"#ed7953\"],[0.7777777777777778,\"#fb9f3a\"],[0.8888888888888888,\"#fdca26\"],[1.0,\"#f0f921\"]]}],\"heatmap\":[{\"type\":\"heatmap\",\"colorbar\":{\"outlinewidth\":0,\"ticks\":\"\"},\"colorscale\":[[0.0,\"#0d0887\"],[0.1111111111111111,\"#46039f\"],[0.2222222222222222,\"#7201a8\"],[0.3333333333333333,\"#9c179e\"],[0.4444444444444444,\"#bd3786\"],[0.5555555555555556,\"#d8576b\"],[0.6666666666666666,\"#ed7953\"],[0.7777777777777778,\"#fb9f3a\"],[0.8888888888888888,\"#fdca26\"],[1.0,\"#f0f921\"]]}],\"heatmapgl\":[{\"type\":\"heatmapgl\",\"colorbar\":{\"outlinewidth\":0,\"ticks\":\"\"},\"colorscale\":[[0.0,\"#0d0887\"],[0.1111111111111111,\"#46039f\"],[0.2222222222222222,\"#7201a8\"],[0.3333333333333333,\"#9c179e\"],[0.4444444444444444,\"#bd3786\"],[0.5555555555555556,\"#d8576b\"],[0.6666666666666666,\"#ed7953\"],[0.7777777777777778,\"#fb9f3a\"],[0.8888888888888888,\"#fdca26\"],[1.0,\"#f0f921\"]]}],\"contourcarpet\":[{\"type\":\"contourcarpet\",\"colorbar\":{\"outlinewidth\":0,\"ticks\":\"\"}}],\"contour\":[{\"type\":\"contour\",\"colorbar\":{\"outlinewidth\":0,\"ticks\":\"\"},\"colorscale\":[[0.0,\"#0d0887\"],[0.1111111111111111,\"#46039f\"],[0.2222222222222222,\"#7201a8\"],[0.3333333333333333,\"#9c179e\"],[0.4444444444444444,\"#bd3786\"],[0.5555555555555556,\"#d8576b\"],[0.6666666666666666,\"#ed7953\"],[0.7777777777777778,\"#fb9f3a\"],[0.8888888888888888,\"#fdca26\"],[1.0,\"#f0f921\"]]}],\"surface\":[{\"type\":\"surface\",\"colorbar\":{\"outlinewidth\":0,\"ticks\":\"\"},\"colorscale\":[[0.0,\"#0d0887\"],[0.1111111111111111,\"#46039f\"],[0.2222222222222222,\"#7201a8\"],[0.3333333333333333,\"#9c179e\"],[0.4444444444444444,\"#bd3786\"],[0.5555555555555556,\"#d8576b\"],[0.6666666666666666,\"#ed7953\"],[0.7777777777777778,\"#fb9f3a\"],[0.8888888888888888,\"#fdca26\"],[1.0,\"#f0f921\"]]}],\"mesh3d\":[{\"type\":\"mesh3d\",\"colorbar\":{\"outlinewidth\":0,\"ticks\":\"\"}}],\"scatter\":[{\"fillpattern\":{\"fillmode\":\"overlay\",\"size\":10,\"solidity\":0.2},\"type\":\"scatter\"}],\"parcoords\":[{\"type\":\"parcoords\",\"line\":{\"colorbar\":{\"outlinewidth\":0,\"ticks\":\"\"}}}],\"scatterpolargl\":[{\"type\":\"scatterpolargl\",\"marker\":{\"colorbar\":{\"outlinewidth\":0,\"ticks\":\"\"}}}],\"bar\":[{\"error_x\":{\"color\":\"#2a3f5f\"},\"error_y\":{\"color\":\"#2a3f5f\"},\"marker\":{\"line\":{\"color\":\"#E5ECF6\",\"width\":0.5},\"pattern\":{\"fillmode\":\"overlay\",\"size\":10,\"solidity\":0.2}},\"type\":\"bar\"}],\"scattergeo\":[{\"type\":\"scattergeo\",\"marker\":{\"colorbar\":{\"outlinewidth\":0,\"ticks\":\"\"}}}],\"scatterpolar\":[{\"type\":\"scatterpolar\",\"marker\":{\"colorbar\":{\"outlinewidth\":0,\"ticks\":\"\"}}}],\"histogram\":[{\"marker\":{\"pattern\":{\"fillmode\":\"overlay\",\"size\":10,\"solidity\":0.2}},\"type\":\"histogram\"}],\"scattergl\":[{\"type\":\"scattergl\",\"marker\":{\"colorbar\":{\"outlinewidth\":0,\"ticks\":\"\"}}}],\"scatter3d\":[{\"type\":\"scatter3d\",\"line\":{\"colorbar\":{\"outlinewidth\":0,\"ticks\":\"\"}},\"marker\":{\"colorbar\":{\"outlinewidth\":0,\"ticks\":\"\"}}}],\"scattermapbox\":[{\"type\":\"scattermapbox\",\"marker\":{\"colorbar\":{\"outlinewidth\":0,\"ticks\":\"\"}}}],\"scatterternary\":[{\"type\":\"scatterternary\",\"marker\":{\"colorbar\":{\"outlinewidth\":0,\"ticks\":\"\"}}}],\"scattercarpet\":[{\"type\":\"scattercarpet\",\"marker\":{\"colorbar\":{\"outlinewidth\":0,\"ticks\":\"\"}}}],\"carpet\":[{\"aaxis\":{\"endlinecolor\":\"#2a3f5f\",\"gridcolor\":\"white\",\"linecolor\":\"white\",\"minorgridcolor\":\"white\",\"startlinecolor\":\"#2a3f5f\"},\"baxis\":{\"endlinecolor\":\"#2a3f5f\",\"gridcolor\":\"white\",\"linecolor\":\"white\",\"minorgridcolor\":\"white\",\"startlinecolor\":\"#2a3f5f\"},\"type\":\"carpet\"}],\"table\":[{\"cells\":{\"fill\":{\"color\":\"#EBF0F8\"},\"line\":{\"color\":\"white\"}},\"header\":{\"fill\":{\"color\":\"#C8D4E3\"},\"line\":{\"color\":\"white\"}},\"type\":\"table\"}],\"barpolar\":[{\"marker\":{\"line\":{\"color\":\"#E5ECF6\",\"width\":0.5},\"pattern\":{\"fillmode\":\"overlay\",\"size\":10,\"solidity\":0.2}},\"type\":\"barpolar\"}],\"pie\":[{\"automargin\":true,\"type\":\"pie\"}]},\"layout\":{\"autotypenumbers\":\"strict\",\"colorway\":[\"#636efa\",\"#EF553B\",\"#00cc96\",\"#ab63fa\",\"#FFA15A\",\"#19d3f3\",\"#FF6692\",\"#B6E880\",\"#FF97FF\",\"#FECB52\"],\"font\":{\"color\":\"#2a3f5f\"},\"hovermode\":\"closest\",\"hoverlabel\":{\"align\":\"left\"},\"paper_bgcolor\":\"white\",\"plot_bgcolor\":\"#E5ECF6\",\"polar\":{\"bgcolor\":\"#E5ECF6\",\"angularaxis\":{\"gridcolor\":\"white\",\"linecolor\":\"white\",\"ticks\":\"\"},\"radialaxis\":{\"gridcolor\":\"white\",\"linecolor\":\"white\",\"ticks\":\"\"}},\"ternary\":{\"bgcolor\":\"#E5ECF6\",\"aaxis\":{\"gridcolor\":\"white\",\"linecolor\":\"white\",\"ticks\":\"\"},\"baxis\":{\"gridcolor\":\"white\",\"linecolor\":\"white\",\"ticks\":\"\"},\"caxis\":{\"gridcolor\":\"white\",\"linecolor\":\"white\",\"ticks\":\"\"}},\"coloraxis\":{\"colorbar\":{\"outlinewidth\":0,\"ticks\":\"\"}},\"colorscale\":{\"sequential\":[[0.0,\"#0d0887\"],[0.1111111111111111,\"#46039f\"],[0.2222222222222222,\"#7201a8\"],[0.3333333333333333,\"#9c179e\"],[0.4444444444444444,\"#bd3786\"],[0.5555555555555556,\"#d8576b\"],[0.6666666666666666,\"#ed7953\"],[0.7777777777777778,\"#fb9f3a\"],[0.8888888888888888,\"#fdca26\"],[1.0,\"#f0f921\"]],\"sequentialminus\":[[0.0,\"#0d0887\"],[0.1111111111111111,\"#46039f\"],[0.2222222222222222,\"#7201a8\"],[0.3333333333333333,\"#9c179e\"],[0.4444444444444444,\"#bd3786\"],[0.5555555555555556,\"#d8576b\"],[0.6666666666666666,\"#ed7953\"],[0.7777777777777778,\"#fb9f3a\"],[0.8888888888888888,\"#fdca26\"],[1.0,\"#f0f921\"]],\"diverging\":[[0,\"#8e0152\"],[0.1,\"#c51b7d\"],[0.2,\"#de77ae\"],[0.3,\"#f1b6da\"],[0.4,\"#fde0ef\"],[0.5,\"#f7f7f7\"],[0.6,\"#e6f5d0\"],[0.7,\"#b8e186\"],[0.8,\"#7fbc41\"],[0.9,\"#4d9221\"],[1,\"#276419\"]]},\"xaxis\":{\"gridcolor\":\"white\",\"linecolor\":\"white\",\"ticks\":\"\",\"title\":{\"standoff\":15},\"zerolinecolor\":\"white\",\"automargin\":true,\"zerolinewidth\":2},\"yaxis\":{\"gridcolor\":\"white\",\"linecolor\":\"white\",\"ticks\":\"\",\"title\":{\"standoff\":15},\"zerolinecolor\":\"white\",\"automargin\":true,\"zerolinewidth\":2},\"scene\":{\"xaxis\":{\"backgroundcolor\":\"#E5ECF6\",\"gridcolor\":\"white\",\"linecolor\":\"white\",\"showbackground\":true,\"ticks\":\"\",\"zerolinecolor\":\"white\",\"gridwidth\":2},\"yaxis\":{\"backgroundcolor\":\"#E5ECF6\",\"gridcolor\":\"white\",\"linecolor\":\"white\",\"showbackground\":true,\"ticks\":\"\",\"zerolinecolor\":\"white\",\"gridwidth\":2},\"zaxis\":{\"backgroundcolor\":\"#E5ECF6\",\"gridcolor\":\"white\",\"linecolor\":\"white\",\"showbackground\":true,\"ticks\":\"\",\"zerolinecolor\":\"white\",\"gridwidth\":2}},\"shapedefaults\":{\"line\":{\"color\":\"#2a3f5f\"}},\"annotationdefaults\":{\"arrowcolor\":\"#2a3f5f\",\"arrowhead\":0,\"arrowwidth\":1},\"geo\":{\"bgcolor\":\"white\",\"landcolor\":\"#E5ECF6\",\"subunitcolor\":\"white\",\"showland\":true,\"showlakes\":true,\"lakecolor\":\"white\"},\"title\":{\"x\":0.05},\"mapbox\":{\"style\":\"light\"}}},\"xaxis\":{\"anchor\":\"y\",\"domain\":[0.0,1.0],\"title\":{\"text\":\"Component 1\"}},\"yaxis\":{\"anchor\":\"x\",\"domain\":[0.0,1.0],\"title\":{\"text\":\"Component 2\"}},\"legend\":{\"tracegroupgap\":0},\"title\":{\"text\":\"UMAP of MTEB Banking77 Embeddings (all-mpnet-base-v2)\"}},                        {\"responsive\": true}                    ).then(function(){\n",
              "                            \n",
              "var gd = document.getElementById('504bc119-5f8e-40d9-9d44-32cdcee204b1');\n",
              "var x = new MutationObserver(function (mutations, observer) {{\n",
              "        var display = window.getComputedStyle(gd).display;\n",
              "        if (!display || display === 'none') {{\n",
              "            console.log([gd, 'removed!']);\n",
              "            Plotly.purge(gd);\n",
              "            observer.disconnect();\n",
              "        }}\n",
              "}});\n",
              "\n",
              "// Listen for the removal of the full notebook cells\n",
              "var notebookContainer = gd.closest('#notebook-container');\n",
              "if (notebookContainer) {{\n",
              "    x.observe(notebookContainer, {childList: true});\n",
              "}}\n",
              "\n",
              "// Listen for the clearing of the current output cell\n",
              "var outputEl = gd.closest('.output');\n",
              "if (outputEl) {{\n",
              "    x.observe(outputEl, {childList: true});\n",
              "}}\n",
              "\n",
              "                        })                };                            </script>        </div>\n",
              "</body>\n",
              "</html>"
            ]
          },
          "metadata": {}
        }
      ]
    },
    {
      "cell_type": "markdown",
      "source": [
        "- **Distribution and clustering:** the UMAP visualization shows several distinct clustering regions, in particular a relatively tight cluster in the right-hand region of the figure, which suggests that these words have similar semantic features in the embedding space. In addition, there is a small, more isolated cluster in the lower left corner, suggesting that these words may have unique semantics or special labeling in the model.\n",
        "- **Label overlap and readability:** label overlap is more severe in the figure, especially in the main clustered regions, making it difficult to recognize specific words. This suggests that while UMAP does an excellent job of maintaining local structure, there is still a need to improve the display methods in this dense label visualization, such as increasing label spacing or using interactive tools to see individual words and cluster structure more clearly."
      ],
      "metadata": {
        "id": "_dtMYoBZfY0V"
      }
    },
    {
      "cell_type": "markdown",
      "source": [
        "# Compare and Summary\n",
        "- Each of these methods has its strengths and weaknesses: PCA, t-SNE, and UMAP regarding embedding space visualization. The output of pCA presents most words in a dense region-smooth overall structure; yet, it cannot separate the semantic groups well. While t-SNE is much better to highlight the local structure, showing more pronounced clustering between words, the labels are too seriously overlapped, making reading less readable. uMAP is more decentralized, since there are several distinct clusters, with dense clusters towards the right, which are isolated to the bottom left. This means that it has a better balance between global and local structure preservation, though the tags still overlap.\n",
        "- PCA is proper for viewing overall pattern distribution, t-SNE shows better local relationships and proximity, while UMAP balances the local and global structure better. To get better visualization, it may be effectively improved by decreasing the sample size or adopting an interactive visualization tool. Taking all the above together, the present analysis illustrates that UMAP actually conveys richer semantic structure, while t-SNE might be more applicable to in-depth analysis of the local patterns."
      ],
      "metadata": {
        "id": "ESINmvPzvYm3"
      }
    },
    {
      "cell_type": "markdown",
      "source": [
        "# Reference\n",
        "1. AIPI-590-XAI. “Duke-Ai-Xai/Explainable-Ml-Example-Notebooks/Embedding-Visualization.Ipynb at Main · AIPI-590-Xai/Duke-Ai-Xai.” GitHub, https://github.com/AIPI-590-XAI/Duke-AI-XAI/blob/main/explainable-ml-example-notebooks/embedding-visualization.ipynb Accessed 30 Oct. 2024.\n",
        "2. “Sentencetransformers Documentation.” SentenceTransformers Documentation - Sentence Transformers Documentation, https://sbert.net/ Accessed 30 Oct. 2024.\n",
        "3. Chatgpt. Explanation of Python code for models"
      ],
      "metadata": {
        "id": "KOstXctLWNmi"
      }
    }
  ]
}