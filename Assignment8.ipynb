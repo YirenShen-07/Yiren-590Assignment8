{
  "nbformat": 4,
  "nbformat_minor": 0,
  "metadata": {
    "colab": {
      "provenance": [],
      "include_colab_link": true
    },
    "kernelspec": {
      "name": "python3",
      "display_name": "Python 3"
    },
    "language_info": {
      "name": "python"
    },
    "widgets": {
      "application/vnd.jupyter.widget-state+json": {
        "f9dedda34f58493b82201f6e5ac48841": {
          "model_module": "@jupyter-widgets/controls",
          "model_name": "HBoxModel",
          "model_module_version": "1.5.0",
          "state": {
            "_dom_classes": [],
            "_model_module": "@jupyter-widgets/controls",
            "_model_module_version": "1.5.0",
            "_model_name": "HBoxModel",
            "_view_count": null,
            "_view_module": "@jupyter-widgets/controls",
            "_view_module_version": "1.5.0",
            "_view_name": "HBoxView",
            "box_style": "",
            "children": [
              "IPY_MODEL_3381cd7f46d94decb863c7c7849a68a1",
              "IPY_MODEL_4eaa875312dc4aa49183f87c35d50667",
              "IPY_MODEL_813ddc49ef27475bbaacea6175e0891c"
            ],
            "layout": "IPY_MODEL_137b7c555eed423aa24b245c8e8c002e"
          }
        },
        "3381cd7f46d94decb863c7c7849a68a1": {
          "model_module": "@jupyter-widgets/controls",
          "model_name": "HTMLModel",
          "model_module_version": "1.5.0",
          "state": {
            "_dom_classes": [],
            "_model_module": "@jupyter-widgets/controls",
            "_model_module_version": "1.5.0",
            "_model_name": "HTMLModel",
            "_view_count": null,
            "_view_module": "@jupyter-widgets/controls",
            "_view_module_version": "1.5.0",
            "_view_name": "HTMLView",
            "description": "",
            "description_tooltip": null,
            "layout": "IPY_MODEL_746e9a4316df42008c57b5da1266a3b8",
            "placeholder": "​",
            "style": "IPY_MODEL_a084eae22daa45e68c2d0dbdfb57fca3",
            "value": "Batches: 100%"
          }
        },
        "4eaa875312dc4aa49183f87c35d50667": {
          "model_module": "@jupyter-widgets/controls",
          "model_name": "FloatProgressModel",
          "model_module_version": "1.5.0",
          "state": {
            "_dom_classes": [],
            "_model_module": "@jupyter-widgets/controls",
            "_model_module_version": "1.5.0",
            "_model_name": "FloatProgressModel",
            "_view_count": null,
            "_view_module": "@jupyter-widgets/controls",
            "_view_module_version": "1.5.0",
            "_view_name": "ProgressView",
            "bar_style": "success",
            "description": "",
            "description_tooltip": null,
            "layout": "IPY_MODEL_03ee2d1b9545435f91334a14a0d529e6",
            "max": 10,
            "min": 0,
            "orientation": "horizontal",
            "style": "IPY_MODEL_e847a16615684b3a8a441fc1830fc4d3",
            "value": 10
          }
        },
        "813ddc49ef27475bbaacea6175e0891c": {
          "model_module": "@jupyter-widgets/controls",
          "model_name": "HTMLModel",
          "model_module_version": "1.5.0",
          "state": {
            "_dom_classes": [],
            "_model_module": "@jupyter-widgets/controls",
            "_model_module_version": "1.5.0",
            "_model_name": "HTMLModel",
            "_view_count": null,
            "_view_module": "@jupyter-widgets/controls",
            "_view_module_version": "1.5.0",
            "_view_name": "HTMLView",
            "description": "",
            "description_tooltip": null,
            "layout": "IPY_MODEL_60ba63cd988c48fe98469b2325da213c",
            "placeholder": "​",
            "style": "IPY_MODEL_ddea69cd6fad427387be40adeb11f76d",
            "value": " 10/10 [01:21&lt;00:00,  4.23s/it]"
          }
        },
        "137b7c555eed423aa24b245c8e8c002e": {
          "model_module": "@jupyter-widgets/base",
          "model_name": "LayoutModel",
          "model_module_version": "1.2.0",
          "state": {
            "_model_module": "@jupyter-widgets/base",
            "_model_module_version": "1.2.0",
            "_model_name": "LayoutModel",
            "_view_count": null,
            "_view_module": "@jupyter-widgets/base",
            "_view_module_version": "1.2.0",
            "_view_name": "LayoutView",
            "align_content": null,
            "align_items": null,
            "align_self": null,
            "border": null,
            "bottom": null,
            "display": null,
            "flex": null,
            "flex_flow": null,
            "grid_area": null,
            "grid_auto_columns": null,
            "grid_auto_flow": null,
            "grid_auto_rows": null,
            "grid_column": null,
            "grid_gap": null,
            "grid_row": null,
            "grid_template_areas": null,
            "grid_template_columns": null,
            "grid_template_rows": null,
            "height": null,
            "justify_content": null,
            "justify_items": null,
            "left": null,
            "margin": null,
            "max_height": null,
            "max_width": null,
            "min_height": null,
            "min_width": null,
            "object_fit": null,
            "object_position": null,
            "order": null,
            "overflow": null,
            "overflow_x": null,
            "overflow_y": null,
            "padding": null,
            "right": null,
            "top": null,
            "visibility": null,
            "width": null
          }
        },
        "746e9a4316df42008c57b5da1266a3b8": {
          "model_module": "@jupyter-widgets/base",
          "model_name": "LayoutModel",
          "model_module_version": "1.2.0",
          "state": {
            "_model_module": "@jupyter-widgets/base",
            "_model_module_version": "1.2.0",
            "_model_name": "LayoutModel",
            "_view_count": null,
            "_view_module": "@jupyter-widgets/base",
            "_view_module_version": "1.2.0",
            "_view_name": "LayoutView",
            "align_content": null,
            "align_items": null,
            "align_self": null,
            "border": null,
            "bottom": null,
            "display": null,
            "flex": null,
            "flex_flow": null,
            "grid_area": null,
            "grid_auto_columns": null,
            "grid_auto_flow": null,
            "grid_auto_rows": null,
            "grid_column": null,
            "grid_gap": null,
            "grid_row": null,
            "grid_template_areas": null,
            "grid_template_columns": null,
            "grid_template_rows": null,
            "height": null,
            "justify_content": null,
            "justify_items": null,
            "left": null,
            "margin": null,
            "max_height": null,
            "max_width": null,
            "min_height": null,
            "min_width": null,
            "object_fit": null,
            "object_position": null,
            "order": null,
            "overflow": null,
            "overflow_x": null,
            "overflow_y": null,
            "padding": null,
            "right": null,
            "top": null,
            "visibility": null,
            "width": null
          }
        },
        "a084eae22daa45e68c2d0dbdfb57fca3": {
          "model_module": "@jupyter-widgets/controls",
          "model_name": "DescriptionStyleModel",
          "model_module_version": "1.5.0",
          "state": {
            "_model_module": "@jupyter-widgets/controls",
            "_model_module_version": "1.5.0",
            "_model_name": "DescriptionStyleModel",
            "_view_count": null,
            "_view_module": "@jupyter-widgets/base",
            "_view_module_version": "1.2.0",
            "_view_name": "StyleView",
            "description_width": ""
          }
        },
        "03ee2d1b9545435f91334a14a0d529e6": {
          "model_module": "@jupyter-widgets/base",
          "model_name": "LayoutModel",
          "model_module_version": "1.2.0",
          "state": {
            "_model_module": "@jupyter-widgets/base",
            "_model_module_version": "1.2.0",
            "_model_name": "LayoutModel",
            "_view_count": null,
            "_view_module": "@jupyter-widgets/base",
            "_view_module_version": "1.2.0",
            "_view_name": "LayoutView",
            "align_content": null,
            "align_items": null,
            "align_self": null,
            "border": null,
            "bottom": null,
            "display": null,
            "flex": null,
            "flex_flow": null,
            "grid_area": null,
            "grid_auto_columns": null,
            "grid_auto_flow": null,
            "grid_auto_rows": null,
            "grid_column": null,
            "grid_gap": null,
            "grid_row": null,
            "grid_template_areas": null,
            "grid_template_columns": null,
            "grid_template_rows": null,
            "height": null,
            "justify_content": null,
            "justify_items": null,
            "left": null,
            "margin": null,
            "max_height": null,
            "max_width": null,
            "min_height": null,
            "min_width": null,
            "object_fit": null,
            "object_position": null,
            "order": null,
            "overflow": null,
            "overflow_x": null,
            "overflow_y": null,
            "padding": null,
            "right": null,
            "top": null,
            "visibility": null,
            "width": null
          }
        },
        "e847a16615684b3a8a441fc1830fc4d3": {
          "model_module": "@jupyter-widgets/controls",
          "model_name": "ProgressStyleModel",
          "model_module_version": "1.5.0",
          "state": {
            "_model_module": "@jupyter-widgets/controls",
            "_model_module_version": "1.5.0",
            "_model_name": "ProgressStyleModel",
            "_view_count": null,
            "_view_module": "@jupyter-widgets/base",
            "_view_module_version": "1.2.0",
            "_view_name": "StyleView",
            "bar_color": null,
            "description_width": ""
          }
        },
        "60ba63cd988c48fe98469b2325da213c": {
          "model_module": "@jupyter-widgets/base",
          "model_name": "LayoutModel",
          "model_module_version": "1.2.0",
          "state": {
            "_model_module": "@jupyter-widgets/base",
            "_model_module_version": "1.2.0",
            "_model_name": "LayoutModel",
            "_view_count": null,
            "_view_module": "@jupyter-widgets/base",
            "_view_module_version": "1.2.0",
            "_view_name": "LayoutView",
            "align_content": null,
            "align_items": null,
            "align_self": null,
            "border": null,
            "bottom": null,
            "display": null,
            "flex": null,
            "flex_flow": null,
            "grid_area": null,
            "grid_auto_columns": null,
            "grid_auto_flow": null,
            "grid_auto_rows": null,
            "grid_column": null,
            "grid_gap": null,
            "grid_row": null,
            "grid_template_areas": null,
            "grid_template_columns": null,
            "grid_template_rows": null,
            "height": null,
            "justify_content": null,
            "justify_items": null,
            "left": null,
            "margin": null,
            "max_height": null,
            "max_width": null,
            "min_height": null,
            "min_width": null,
            "object_fit": null,
            "object_position": null,
            "order": null,
            "overflow": null,
            "overflow_x": null,
            "overflow_y": null,
            "padding": null,
            "right": null,
            "top": null,
            "visibility": null,
            "width": null
          }
        },
        "ddea69cd6fad427387be40adeb11f76d": {
          "model_module": "@jupyter-widgets/controls",
          "model_name": "DescriptionStyleModel",
          "model_module_version": "1.5.0",
          "state": {
            "_model_module": "@jupyter-widgets/controls",
            "_model_module_version": "1.5.0",
            "_model_name": "DescriptionStyleModel",
            "_view_count": null,
            "_view_module": "@jupyter-widgets/base",
            "_view_module_version": "1.2.0",
            "_view_name": "StyleView",
            "description_width": ""
          }
        }
      }
    }
  },
  "cells": [
    {
      "cell_type": "markdown",
      "metadata": {
        "id": "view-in-github",
        "colab_type": "text"
      },
      "source": [
        "<a href=\"https://colab.research.google.com/github/YirenShen-07/Yiren-590Assignment8/blob/main/Assignment8.ipynb\" target=\"_parent\"><img src=\"https://colab.research.google.com/assets/colab-badge.svg\" alt=\"Open In Colab\"/></a>"
      ]
    },
    {
      "cell_type": "markdown",
      "source": [
        "# AIPI 590 - XAI | Assignment #08\n",
        "### This notebook explores different dimensionality reduction techniques for visualizing embedding spaces of language models. I compare PCA, t-SNE, and UMAP to understand how they represent the semantic relationships between words.\n",
        "\n",
        "### Yiren Shen\n",
        "\n",
        "#### Include the button below. Change the link to the location in your github repository:https://github.com/YirenShen-07/Yiren-590Assignment8/blob/main/Assignment8.ipynb"
      ],
      "metadata": {
        "id": "yS3YjlmDeMn2"
      }
    },
    {
      "cell_type": "markdown",
      "source": [
        "## DO:\n",
        "Visualize the embedding space of an embedding model on the MTEB leaderboard using tSNE, PCA, and UMAP. Compare/contrast the approaches.\n",
        "\n",
        "Rubric:\n",
        "Code implementing the explanation techniques is correct\n",
        "\n",
        "Code implementing the explanation techniques is clear and well documented\n",
        "\n",
        "Visualizations are clear, follow best practices, and has a clear caption/explanation in the notebook markdown\n",
        "\n",
        "Notebook includes markdown cell(s) with comprehensive explanations of the approach\n",
        "\n",
        "Includes summary of results\n"
      ],
      "metadata": {
        "id": "M-KJmW7ieSkN"
      }
    },
    {
      "cell_type": "code",
      "execution_count": 1,
      "metadata": {
        "id": "EHy6oM37dr7f",
        "colab": {
          "base_uri": "https://localhost:8080/"
        },
        "outputId": "efc38e71-fa90-4300-8f4d-91e364e2f051"
      },
      "outputs": [
        {
          "output_type": "stream",
          "name": "stdout",
          "text": [
            "rm: cannot remove './sample_data': No such file or directory\n",
            "fatal: destination path 'Duke-AI-XAI' already exists and is not an empty directory.\n",
            "/content/Duke-AI-XAI/templates\n",
            "\u001b[0m\u001b[01;34mresults\u001b[0m/  template.ipynb\n"
          ]
        }
      ],
      "source": [
        "# Please use this to connect your GitHub repository to your Google Colab notebook\n",
        "# Connects to any needed files from GitHub and Google Drive\n",
        "import os\n",
        "\n",
        "# Remove Colab default sample_data\n",
        "!rm -r ./sample_data\n",
        "\n",
        "# Clone GitHub files to colab workspace\n",
        "repo_name = \"Duke-AI-XAI\" # Change to your repo name\n",
        "git_path = 'https://github.com/AIPI-590-XAI/Duke-AI-XAI.git' #Change to your path\n",
        "!git clone \"{git_path}\"\n",
        "\n",
        "# Install dependencies from requirements.txt file\n",
        "#!pip install -r \"{os.path.join(repo_name,'requirements.txt')}\" #Add if using requirements.txt\n",
        "\n",
        "# Change working directory to location of notebook\n",
        "notebook_dir = 'templates'\n",
        "path_to_notebook = os.path.join(repo_name,notebook_dir)\n",
        "%cd \"{path_to_notebook}\"\n",
        "%ls"
      ]
    },
    {
      "cell_type": "code",
      "source": [
        "!pip install gensim==4.3.2 matplotlib==3.7.1 scikit-learn==1.2.2 umap-learn==0.5.6 plotly==5.15.0 sentence-transformers mteb"
      ],
      "metadata": {
        "colab": {
          "base_uri": "https://localhost:8080/"
        },
        "id": "8n283Nkje0-b",
        "outputId": "657b78e0-ba71-4e2f-dd64-1ff49f1d5643"
      },
      "execution_count": 2,
      "outputs": [
        {
          "output_type": "stream",
          "name": "stdout",
          "text": [
            "Requirement already satisfied: gensim==4.3.2 in /usr/local/lib/python3.10/dist-packages (4.3.2)\n",
            "Requirement already satisfied: matplotlib==3.7.1 in /usr/local/lib/python3.10/dist-packages (3.7.1)\n",
            "Requirement already satisfied: scikit-learn==1.2.2 in /usr/local/lib/python3.10/dist-packages (1.2.2)\n",
            "Requirement already satisfied: umap-learn==0.5.6 in /usr/local/lib/python3.10/dist-packages (0.5.6)\n",
            "Requirement already satisfied: plotly==5.15.0 in /usr/local/lib/python3.10/dist-packages (5.15.0)\n",
            "Requirement already satisfied: sentence-transformers in /usr/local/lib/python3.10/dist-packages (3.2.1)\n",
            "Requirement already satisfied: mteb in /usr/local/lib/python3.10/dist-packages (1.18.8)\n",
            "Requirement already satisfied: numpy>=1.18.5 in /usr/local/lib/python3.10/dist-packages (from gensim==4.3.2) (1.26.4)\n",
            "Requirement already satisfied: scipy>=1.7.0 in /usr/local/lib/python3.10/dist-packages (from gensim==4.3.2) (1.13.1)\n",
            "Requirement already satisfied: smart-open>=1.8.1 in /usr/local/lib/python3.10/dist-packages (from gensim==4.3.2) (7.0.5)\n",
            "Requirement already satisfied: contourpy>=1.0.1 in /usr/local/lib/python3.10/dist-packages (from matplotlib==3.7.1) (1.3.0)\n",
            "Requirement already satisfied: cycler>=0.10 in /usr/local/lib/python3.10/dist-packages (from matplotlib==3.7.1) (0.12.1)\n",
            "Requirement already satisfied: fonttools>=4.22.0 in /usr/local/lib/python3.10/dist-packages (from matplotlib==3.7.1) (4.54.1)\n",
            "Requirement already satisfied: kiwisolver>=1.0.1 in /usr/local/lib/python3.10/dist-packages (from matplotlib==3.7.1) (1.4.7)\n",
            "Requirement already satisfied: packaging>=20.0 in /usr/local/lib/python3.10/dist-packages (from matplotlib==3.7.1) (24.1)\n",
            "Requirement already satisfied: pillow>=6.2.0 in /usr/local/lib/python3.10/dist-packages (from matplotlib==3.7.1) (10.4.0)\n",
            "Requirement already satisfied: pyparsing>=2.3.1 in /usr/local/lib/python3.10/dist-packages (from matplotlib==3.7.1) (3.2.0)\n",
            "Requirement already satisfied: python-dateutil>=2.7 in /usr/local/lib/python3.10/dist-packages (from matplotlib==3.7.1) (2.8.2)\n",
            "Requirement already satisfied: joblib>=1.1.1 in /usr/local/lib/python3.10/dist-packages (from scikit-learn==1.2.2) (1.4.2)\n",
            "Requirement already satisfied: threadpoolctl>=2.0.0 in /usr/local/lib/python3.10/dist-packages (from scikit-learn==1.2.2) (3.5.0)\n",
            "Requirement already satisfied: numba>=0.51.2 in /usr/local/lib/python3.10/dist-packages (from umap-learn==0.5.6) (0.60.0)\n",
            "Requirement already satisfied: pynndescent>=0.5 in /usr/local/lib/python3.10/dist-packages (from umap-learn==0.5.6) (0.5.13)\n",
            "Requirement already satisfied: tqdm in /usr/local/lib/python3.10/dist-packages (from umap-learn==0.5.6) (4.66.6)\n",
            "Requirement already satisfied: tenacity>=6.2.0 in /usr/local/lib/python3.10/dist-packages (from plotly==5.15.0) (9.0.0)\n",
            "Requirement already satisfied: transformers<5.0.0,>=4.41.0 in /usr/local/lib/python3.10/dist-packages (from sentence-transformers) (4.44.2)\n",
            "Requirement already satisfied: torch>=1.11.0 in /usr/local/lib/python3.10/dist-packages (from sentence-transformers) (2.5.0+cu121)\n",
            "Requirement already satisfied: huggingface-hub>=0.20.0 in /usr/local/lib/python3.10/dist-packages (from sentence-transformers) (0.24.7)\n",
            "Requirement already satisfied: datasets>=2.19.0 in /usr/local/lib/python3.10/dist-packages (from mteb) (3.1.0)\n",
            "Requirement already satisfied: requests>=2.26.0 in /usr/local/lib/python3.10/dist-packages (from mteb) (2.32.3)\n",
            "Requirement already satisfied: typing-extensions>=4.5.0 in /usr/local/lib/python3.10/dist-packages (from mteb) (4.12.2)\n",
            "Requirement already satisfied: rich>=0.0.0 in /usr/local/lib/python3.10/dist-packages (from mteb) (13.9.3)\n",
            "Requirement already satisfied: pytrec-eval-terrier>=0.5.6 in /usr/local/lib/python3.10/dist-packages (from mteb) (0.5.6)\n",
            "Requirement already satisfied: pydantic>=2.0.0 in /usr/local/lib/python3.10/dist-packages (from mteb) (2.9.2)\n",
            "Requirement already satisfied: eval-type-backport>=0.0.0 in /usr/local/lib/python3.10/dist-packages (from mteb) (0.2.0)\n",
            "Requirement already satisfied: polars>=0.20.22 in /usr/local/lib/python3.10/dist-packages (from mteb) (1.9.0)\n",
            "Requirement already satisfied: filelock in /usr/local/lib/python3.10/dist-packages (from datasets>=2.19.0->mteb) (3.16.1)\n",
            "Requirement already satisfied: pyarrow>=15.0.0 in /usr/local/lib/python3.10/dist-packages (from datasets>=2.19.0->mteb) (17.0.0)\n",
            "Requirement already satisfied: dill<0.3.9,>=0.3.0 in /usr/local/lib/python3.10/dist-packages (from datasets>=2.19.0->mteb) (0.3.8)\n",
            "Requirement already satisfied: pandas in /usr/local/lib/python3.10/dist-packages (from datasets>=2.19.0->mteb) (2.2.2)\n",
            "Requirement already satisfied: xxhash in /usr/local/lib/python3.10/dist-packages (from datasets>=2.19.0->mteb) (3.5.0)\n",
            "Requirement already satisfied: multiprocess<0.70.17 in /usr/local/lib/python3.10/dist-packages (from datasets>=2.19.0->mteb) (0.70.16)\n",
            "Requirement already satisfied: fsspec<=2024.9.0,>=2023.1.0 in /usr/local/lib/python3.10/dist-packages (from fsspec[http]<=2024.9.0,>=2023.1.0->datasets>=2.19.0->mteb) (2024.9.0)\n",
            "Requirement already satisfied: aiohttp in /usr/local/lib/python3.10/dist-packages (from datasets>=2.19.0->mteb) (3.10.10)\n",
            "Requirement already satisfied: pyyaml>=5.1 in /usr/local/lib/python3.10/dist-packages (from datasets>=2.19.0->mteb) (6.0.2)\n",
            "Requirement already satisfied: llvmlite<0.44,>=0.43.0dev0 in /usr/local/lib/python3.10/dist-packages (from numba>=0.51.2->umap-learn==0.5.6) (0.43.0)\n",
            "Requirement already satisfied: annotated-types>=0.6.0 in /usr/local/lib/python3.10/dist-packages (from pydantic>=2.0.0->mteb) (0.7.0)\n",
            "Requirement already satisfied: pydantic-core==2.23.4 in /usr/local/lib/python3.10/dist-packages (from pydantic>=2.0.0->mteb) (2.23.4)\n",
            "Requirement already satisfied: six>=1.5 in /usr/local/lib/python3.10/dist-packages (from python-dateutil>=2.7->matplotlib==3.7.1) (1.16.0)\n",
            "Requirement already satisfied: charset-normalizer<4,>=2 in /usr/local/lib/python3.10/dist-packages (from requests>=2.26.0->mteb) (3.4.0)\n",
            "Requirement already satisfied: idna<4,>=2.5 in /usr/local/lib/python3.10/dist-packages (from requests>=2.26.0->mteb) (3.10)\n",
            "Requirement already satisfied: urllib3<3,>=1.21.1 in /usr/local/lib/python3.10/dist-packages (from requests>=2.26.0->mteb) (2.2.3)\n",
            "Requirement already satisfied: certifi>=2017.4.17 in /usr/local/lib/python3.10/dist-packages (from requests>=2.26.0->mteb) (2024.8.30)\n",
            "Requirement already satisfied: markdown-it-py>=2.2.0 in /usr/local/lib/python3.10/dist-packages (from rich>=0.0.0->mteb) (3.0.0)\n",
            "Requirement already satisfied: pygments<3.0.0,>=2.13.0 in /usr/local/lib/python3.10/dist-packages (from rich>=0.0.0->mteb) (2.18.0)\n",
            "Requirement already satisfied: wrapt in /usr/local/lib/python3.10/dist-packages (from smart-open>=1.8.1->gensim==4.3.2) (1.16.0)\n",
            "Requirement already satisfied: networkx in /usr/local/lib/python3.10/dist-packages (from torch>=1.11.0->sentence-transformers) (3.4.2)\n",
            "Requirement already satisfied: jinja2 in /usr/local/lib/python3.10/dist-packages (from torch>=1.11.0->sentence-transformers) (3.1.4)\n",
            "Requirement already satisfied: sympy==1.13.1 in /usr/local/lib/python3.10/dist-packages (from torch>=1.11.0->sentence-transformers) (1.13.1)\n",
            "Requirement already satisfied: mpmath<1.4,>=1.1.0 in /usr/local/lib/python3.10/dist-packages (from sympy==1.13.1->torch>=1.11.0->sentence-transformers) (1.3.0)\n",
            "Requirement already satisfied: regex!=2019.12.17 in /usr/local/lib/python3.10/dist-packages (from transformers<5.0.0,>=4.41.0->sentence-transformers) (2024.9.11)\n",
            "Requirement already satisfied: safetensors>=0.4.1 in /usr/local/lib/python3.10/dist-packages (from transformers<5.0.0,>=4.41.0->sentence-transformers) (0.4.5)\n",
            "Requirement already satisfied: tokenizers<0.20,>=0.19 in /usr/local/lib/python3.10/dist-packages (from transformers<5.0.0,>=4.41.0->sentence-transformers) (0.19.1)\n",
            "Requirement already satisfied: aiohappyeyeballs>=2.3.0 in /usr/local/lib/python3.10/dist-packages (from aiohttp->datasets>=2.19.0->mteb) (2.4.3)\n",
            "Requirement already satisfied: aiosignal>=1.1.2 in /usr/local/lib/python3.10/dist-packages (from aiohttp->datasets>=2.19.0->mteb) (1.3.1)\n",
            "Requirement already satisfied: attrs>=17.3.0 in /usr/local/lib/python3.10/dist-packages (from aiohttp->datasets>=2.19.0->mteb) (24.2.0)\n",
            "Requirement already satisfied: frozenlist>=1.1.1 in /usr/local/lib/python3.10/dist-packages (from aiohttp->datasets>=2.19.0->mteb) (1.5.0)\n",
            "Requirement already satisfied: multidict<7.0,>=4.5 in /usr/local/lib/python3.10/dist-packages (from aiohttp->datasets>=2.19.0->mteb) (6.1.0)\n",
            "Requirement already satisfied: yarl<2.0,>=1.12.0 in /usr/local/lib/python3.10/dist-packages (from aiohttp->datasets>=2.19.0->mteb) (1.17.0)\n",
            "Requirement already satisfied: async-timeout<5.0,>=4.0 in /usr/local/lib/python3.10/dist-packages (from aiohttp->datasets>=2.19.0->mteb) (4.0.3)\n",
            "Requirement already satisfied: mdurl~=0.1 in /usr/local/lib/python3.10/dist-packages (from markdown-it-py>=2.2.0->rich>=0.0.0->mteb) (0.1.2)\n",
            "Requirement already satisfied: MarkupSafe>=2.0 in /usr/local/lib/python3.10/dist-packages (from jinja2->torch>=1.11.0->sentence-transformers) (3.0.2)\n",
            "Requirement already satisfied: pytz>=2020.1 in /usr/local/lib/python3.10/dist-packages (from pandas->datasets>=2.19.0->mteb) (2024.2)\n",
            "Requirement already satisfied: tzdata>=2022.7 in /usr/local/lib/python3.10/dist-packages (from pandas->datasets>=2.19.0->mteb) (2024.2)\n",
            "Requirement already satisfied: propcache>=0.2.0 in /usr/local/lib/python3.10/dist-packages (from yarl<2.0,>=1.12.0->aiohttp->datasets>=2.19.0->mteb) (0.2.0)\n"
          ]
        }
      ]
    },
    {
      "cell_type": "markdown",
      "source": [
        "##  Library Import"
      ],
      "metadata": {
        "id": "wKThVTOUqhBU"
      }
    },
    {
      "cell_type": "code",
      "source": [
        "# Basic\n",
        "import numpy as np\n",
        "import matplotlib.pyplot as plt\n",
        "import plotly.express as px\n",
        "\n",
        "# Dimensionality Reduction\n",
        "from sklearn.decomposition import PCA\n",
        "from sklearn.manifold import TSNE\n",
        "import umap\n",
        "\n",
        "# Import the Sentence Transformer library for generating word embeddings\n",
        "from sentence_transformers import SentenceTransformer\n",
        "from mteb import MTEB, Banking77Classification\n",
        "from datasets import load_dataset"
      ],
      "metadata": {
        "id": "IkK-VRM3e_JX"
      },
      "execution_count": 3,
      "outputs": []
    },
    {
      "cell_type": "code",
      "source": [
        "!pip install --upgrade mteb"
      ],
      "metadata": {
        "id": "x7BkNINFMikS",
        "outputId": "fcb5c5dc-e082-4179-eb93-43f69809dfea",
        "colab": {
          "base_uri": "https://localhost:8080/"
        }
      },
      "execution_count": 4,
      "outputs": [
        {
          "output_type": "stream",
          "name": "stdout",
          "text": [
            "Requirement already satisfied: mteb in /usr/local/lib/python3.10/dist-packages (1.18.8)\n",
            "Requirement already satisfied: datasets>=2.19.0 in /usr/local/lib/python3.10/dist-packages (from mteb) (3.1.0)\n",
            "Requirement already satisfied: numpy<3.0.0,>=1.0.0 in /usr/local/lib/python3.10/dist-packages (from mteb) (1.26.4)\n",
            "Requirement already satisfied: requests>=2.26.0 in /usr/local/lib/python3.10/dist-packages (from mteb) (2.32.3)\n",
            "Requirement already satisfied: scikit-learn>=1.0.2 in /usr/local/lib/python3.10/dist-packages (from mteb) (1.2.2)\n",
            "Requirement already satisfied: scipy>=0.0.0 in /usr/local/lib/python3.10/dist-packages (from mteb) (1.13.1)\n",
            "Requirement already satisfied: sentence-transformers>=3.0.0 in /usr/local/lib/python3.10/dist-packages (from mteb) (3.2.1)\n",
            "Requirement already satisfied: typing-extensions>=4.5.0 in /usr/local/lib/python3.10/dist-packages (from mteb) (4.12.2)\n",
            "Requirement already satisfied: torch>1.0.0 in /usr/local/lib/python3.10/dist-packages (from mteb) (2.5.0+cu121)\n",
            "Requirement already satisfied: tqdm>1.0.0 in /usr/local/lib/python3.10/dist-packages (from mteb) (4.66.6)\n",
            "Requirement already satisfied: rich>=0.0.0 in /usr/local/lib/python3.10/dist-packages (from mteb) (13.9.3)\n",
            "Requirement already satisfied: pytrec-eval-terrier>=0.5.6 in /usr/local/lib/python3.10/dist-packages (from mteb) (0.5.6)\n",
            "Requirement already satisfied: pydantic>=2.0.0 in /usr/local/lib/python3.10/dist-packages (from mteb) (2.9.2)\n",
            "Requirement already satisfied: eval-type-backport>=0.0.0 in /usr/local/lib/python3.10/dist-packages (from mteb) (0.2.0)\n",
            "Requirement already satisfied: polars>=0.20.22 in /usr/local/lib/python3.10/dist-packages (from mteb) (1.9.0)\n",
            "Requirement already satisfied: filelock in /usr/local/lib/python3.10/dist-packages (from datasets>=2.19.0->mteb) (3.16.1)\n",
            "Requirement already satisfied: pyarrow>=15.0.0 in /usr/local/lib/python3.10/dist-packages (from datasets>=2.19.0->mteb) (17.0.0)\n",
            "Requirement already satisfied: dill<0.3.9,>=0.3.0 in /usr/local/lib/python3.10/dist-packages (from datasets>=2.19.0->mteb) (0.3.8)\n",
            "Requirement already satisfied: pandas in /usr/local/lib/python3.10/dist-packages (from datasets>=2.19.0->mteb) (2.2.2)\n",
            "Requirement already satisfied: xxhash in /usr/local/lib/python3.10/dist-packages (from datasets>=2.19.0->mteb) (3.5.0)\n",
            "Requirement already satisfied: multiprocess<0.70.17 in /usr/local/lib/python3.10/dist-packages (from datasets>=2.19.0->mteb) (0.70.16)\n",
            "Requirement already satisfied: fsspec<=2024.9.0,>=2023.1.0 in /usr/local/lib/python3.10/dist-packages (from fsspec[http]<=2024.9.0,>=2023.1.0->datasets>=2.19.0->mteb) (2024.9.0)\n",
            "Requirement already satisfied: aiohttp in /usr/local/lib/python3.10/dist-packages (from datasets>=2.19.0->mteb) (3.10.10)\n",
            "Requirement already satisfied: huggingface-hub>=0.23.0 in /usr/local/lib/python3.10/dist-packages (from datasets>=2.19.0->mteb) (0.24.7)\n",
            "Requirement already satisfied: packaging in /usr/local/lib/python3.10/dist-packages (from datasets>=2.19.0->mteb) (24.1)\n",
            "Requirement already satisfied: pyyaml>=5.1 in /usr/local/lib/python3.10/dist-packages (from datasets>=2.19.0->mteb) (6.0.2)\n",
            "Requirement already satisfied: annotated-types>=0.6.0 in /usr/local/lib/python3.10/dist-packages (from pydantic>=2.0.0->mteb) (0.7.0)\n",
            "Requirement already satisfied: pydantic-core==2.23.4 in /usr/local/lib/python3.10/dist-packages (from pydantic>=2.0.0->mteb) (2.23.4)\n",
            "Requirement already satisfied: charset-normalizer<4,>=2 in /usr/local/lib/python3.10/dist-packages (from requests>=2.26.0->mteb) (3.4.0)\n",
            "Requirement already satisfied: idna<4,>=2.5 in /usr/local/lib/python3.10/dist-packages (from requests>=2.26.0->mteb) (3.10)\n",
            "Requirement already satisfied: urllib3<3,>=1.21.1 in /usr/local/lib/python3.10/dist-packages (from requests>=2.26.0->mteb) (2.2.3)\n",
            "Requirement already satisfied: certifi>=2017.4.17 in /usr/local/lib/python3.10/dist-packages (from requests>=2.26.0->mteb) (2024.8.30)\n",
            "Requirement already satisfied: markdown-it-py>=2.2.0 in /usr/local/lib/python3.10/dist-packages (from rich>=0.0.0->mteb) (3.0.0)\n",
            "Requirement already satisfied: pygments<3.0.0,>=2.13.0 in /usr/local/lib/python3.10/dist-packages (from rich>=0.0.0->mteb) (2.18.0)\n",
            "Requirement already satisfied: joblib>=1.1.1 in /usr/local/lib/python3.10/dist-packages (from scikit-learn>=1.0.2->mteb) (1.4.2)\n",
            "Requirement already satisfied: threadpoolctl>=2.0.0 in /usr/local/lib/python3.10/dist-packages (from scikit-learn>=1.0.2->mteb) (3.5.0)\n",
            "Requirement already satisfied: transformers<5.0.0,>=4.41.0 in /usr/local/lib/python3.10/dist-packages (from sentence-transformers>=3.0.0->mteb) (4.44.2)\n",
            "Requirement already satisfied: Pillow in /usr/local/lib/python3.10/dist-packages (from sentence-transformers>=3.0.0->mteb) (10.4.0)\n",
            "Requirement already satisfied: networkx in /usr/local/lib/python3.10/dist-packages (from torch>1.0.0->mteb) (3.4.2)\n",
            "Requirement already satisfied: jinja2 in /usr/local/lib/python3.10/dist-packages (from torch>1.0.0->mteb) (3.1.4)\n",
            "Requirement already satisfied: sympy==1.13.1 in /usr/local/lib/python3.10/dist-packages (from torch>1.0.0->mteb) (1.13.1)\n",
            "Requirement already satisfied: mpmath<1.4,>=1.1.0 in /usr/local/lib/python3.10/dist-packages (from sympy==1.13.1->torch>1.0.0->mteb) (1.3.0)\n",
            "Requirement already satisfied: aiohappyeyeballs>=2.3.0 in /usr/local/lib/python3.10/dist-packages (from aiohttp->datasets>=2.19.0->mteb) (2.4.3)\n",
            "Requirement already satisfied: aiosignal>=1.1.2 in /usr/local/lib/python3.10/dist-packages (from aiohttp->datasets>=2.19.0->mteb) (1.3.1)\n",
            "Requirement already satisfied: attrs>=17.3.0 in /usr/local/lib/python3.10/dist-packages (from aiohttp->datasets>=2.19.0->mteb) (24.2.0)\n",
            "Requirement already satisfied: frozenlist>=1.1.1 in /usr/local/lib/python3.10/dist-packages (from aiohttp->datasets>=2.19.0->mteb) (1.5.0)\n",
            "Requirement already satisfied: multidict<7.0,>=4.5 in /usr/local/lib/python3.10/dist-packages (from aiohttp->datasets>=2.19.0->mteb) (6.1.0)\n",
            "Requirement already satisfied: yarl<2.0,>=1.12.0 in /usr/local/lib/python3.10/dist-packages (from aiohttp->datasets>=2.19.0->mteb) (1.17.0)\n",
            "Requirement already satisfied: async-timeout<5.0,>=4.0 in /usr/local/lib/python3.10/dist-packages (from aiohttp->datasets>=2.19.0->mteb) (4.0.3)\n",
            "Requirement already satisfied: mdurl~=0.1 in /usr/local/lib/python3.10/dist-packages (from markdown-it-py>=2.2.0->rich>=0.0.0->mteb) (0.1.2)\n",
            "Requirement already satisfied: regex!=2019.12.17 in /usr/local/lib/python3.10/dist-packages (from transformers<5.0.0,>=4.41.0->sentence-transformers>=3.0.0->mteb) (2024.9.11)\n",
            "Requirement already satisfied: safetensors>=0.4.1 in /usr/local/lib/python3.10/dist-packages (from transformers<5.0.0,>=4.41.0->sentence-transformers>=3.0.0->mteb) (0.4.5)\n",
            "Requirement already satisfied: tokenizers<0.20,>=0.19 in /usr/local/lib/python3.10/dist-packages (from transformers<5.0.0,>=4.41.0->sentence-transformers>=3.0.0->mteb) (0.19.1)\n",
            "Requirement already satisfied: MarkupSafe>=2.0 in /usr/local/lib/python3.10/dist-packages (from jinja2->torch>1.0.0->mteb) (3.0.2)\n",
            "Requirement already satisfied: python-dateutil>=2.8.2 in /usr/local/lib/python3.10/dist-packages (from pandas->datasets>=2.19.0->mteb) (2.8.2)\n",
            "Requirement already satisfied: pytz>=2020.1 in /usr/local/lib/python3.10/dist-packages (from pandas->datasets>=2.19.0->mteb) (2024.2)\n",
            "Requirement already satisfied: tzdata>=2022.7 in /usr/local/lib/python3.10/dist-packages (from pandas->datasets>=2.19.0->mteb) (2024.2)\n",
            "Requirement already satisfied: six>=1.5 in /usr/local/lib/python3.10/dist-packages (from python-dateutil>=2.8.2->pandas->datasets>=2.19.0->mteb) (1.16.0)\n",
            "Requirement already satisfied: propcache>=0.2.0 in /usr/local/lib/python3.10/dist-packages (from yarl<2.0,>=1.12.0->aiohttp->datasets>=2.19.0->mteb) (0.2.0)\n"
          ]
        }
      ]
    },
    {
      "cell_type": "markdown",
      "source": [
        "# Data Preparation"
      ],
      "metadata": {
        "id": "aFjhp7ipqqyq"
      }
    },
    {
      "cell_type": "code",
      "source": [
        "# Load MTEB evaluation dataset\n",
        "dataset = load_dataset(\"banking77\")\n",
        "texts = dataset['train']['text'][:300]  # Using 300 samples for visualization\n",
        "\n",
        "# Initialize MTEB evaluation with tasks\n",
        "tasks = [Banking77Classification()]\n",
        "evaluation = MTEB(tasks=tasks)\n",
        "\n",
        "# Load model from MTEB leaderboard\n",
        "model = SentenceTransformer('intfloat/e5-large-v2')\n",
        "\n",
        "# Generate embeddings for the texts\n",
        "embeddings = model.encode(texts, batch_size=32, show_progress_bar=True)\n",
        "print(f\"Generated embeddings shape: {embeddings.shape}\")\n"
      ],
      "metadata": {
        "colab": {
          "base_uri": "https://localhost:8080/",
          "height": 194,
          "referenced_widgets": [
            "f9dedda34f58493b82201f6e5ac48841",
            "3381cd7f46d94decb863c7c7849a68a1",
            "4eaa875312dc4aa49183f87c35d50667",
            "813ddc49ef27475bbaacea6175e0891c",
            "137b7c555eed423aa24b245c8e8c002e",
            "746e9a4316df42008c57b5da1266a3b8",
            "a084eae22daa45e68c2d0dbdfb57fca3",
            "03ee2d1b9545435f91334a14a0d529e6",
            "e847a16615684b3a8a441fc1830fc4d3",
            "60ba63cd988c48fe98469b2325da213c",
            "ddea69cd6fad427387be40adeb11f76d"
          ]
        },
        "id": "lPc9V-_TXE2C",
        "outputId": "0caccb52-15ab-49fd-8102-635ee2f77df1"
      },
      "execution_count": 5,
      "outputs": [
        {
          "output_type": "stream",
          "name": "stderr",
          "text": [
            "/usr/local/lib/python3.10/dist-packages/huggingface_hub/utils/_token.py:89: UserWarning: \n",
            "The secret `HF_TOKEN` does not exist in your Colab secrets.\n",
            "To authenticate with the Hugging Face Hub, create a token in your settings tab (https://huggingface.co/settings/tokens), set it as secret in your Google Colab and restart your session.\n",
            "You will be able to reuse this secret in all of your notebooks.\n",
            "Please note that authentication is recommended but still optional to access public models or datasets.\n",
            "  warnings.warn(\n"
          ]
        },
        {
          "output_type": "display_data",
          "data": {
            "text/plain": [
              "Batches:   0%|          | 0/10 [00:00<?, ?it/s]"
            ],
            "application/vnd.jupyter.widget-view+json": {
              "version_major": 2,
              "version_minor": 0,
              "model_id": "f9dedda34f58493b82201f6e5ac48841"
            }
          },
          "metadata": {}
        },
        {
          "output_type": "stream",
          "name": "stdout",
          "text": [
            "Generated embeddings shape: (300, 1024)\n"
          ]
        }
      ]
    },
    {
      "cell_type": "markdown",
      "source": [
        "This code loads the banking77 dataset from the Hugging Face library and uses the all-mpnet-base-v2 model from the SentenceTransformers library to generate embeddings for the text data. The code specifically takes the first 300 text entries from the training set of the dataset as input and encodes them into embeddings. The resulting embedding matrix has a shape of (300, 1024), where each text entry is represented by a 1024-dimensional vector. This demonstrates the model's ability to generate sentence embeddings suitable for downstream tasks such as dimensionality reduction and visualization analysis."
      ],
      "metadata": {
        "id": "ZfsEZEVprRZT"
      }
    },
    {
      "cell_type": "markdown",
      "source": [
        "# PCA (Principal Component Analysis):\n",
        "- Linear dimensionality reduction technique\n",
        "- Finds directions of maximum variance\n",
        "- Useful for understanding global structure\n"
      ],
      "metadata": {
        "id": "NhgQwSgLfRHU"
      }
    },
    {
      "cell_type": "code",
      "source": [
        "# PCA Visualization\n",
        "pca = PCA(n_components=2)\n",
        "embeddings_pca = pca.fit_transform(embeddings)\n",
        "\n",
        "# Calculate and print explained variance ratio\n",
        "explained_variance = pca.explained_variance_ratio_\n",
        "print(f\"\\nPCA explained variance ratio: {explained_variance}\")\n",
        "print(f\"Total variance explained: {sum(explained_variance):.4f}\")\n",
        "\n",
        "# Create PCA visualization\n",
        "fig_pca = px.scatter(\n",
        "    embeddings_pca,\n",
        "    x=0,\n",
        "    y=1,\n",
        "    hover_data={'text': texts},\n",
        "    title=\"PCA of MTEB Banking77 Embeddings (e5-large-v2)\",\n",
        "    labels={'0': 'Principal Component 1', '1': 'Principal Component 2'}\n",
        ")\n",
        "fig_pca.update_traces(marker=dict(size=8))\n",
        "fig_pca.show()"
      ],
      "metadata": {
        "colab": {
          "base_uri": "https://localhost:8080/",
          "height": 596
        },
        "id": "jwwDpB81bDA4",
        "outputId": "383874e3-30fb-4c4e-e624-bb116e62d732"
      },
      "execution_count": 6,
      "outputs": [
        {
          "output_type": "stream",
          "name": "stdout",
          "text": [
            "\n",
            "PCA explained variance ratio: [0.10799668 0.08677929]\n",
            "Total variance explained: 0.1948\n"
          ]
        },
        {
          "output_type": "display_data",
          "data": {
            "text/html": [
              "<html>\n",
              "<head><meta charset=\"utf-8\" /></head>\n",
              "<body>\n",
              "    <div>            <script src=\"https://cdnjs.cloudflare.com/ajax/libs/mathjax/2.7.5/MathJax.js?config=TeX-AMS-MML_SVG\"></script><script type=\"text/javascript\">if (window.MathJax && window.MathJax.Hub && window.MathJax.Hub.Config) {window.MathJax.Hub.Config({SVG: {font: \"STIX-Web\"}});}</script>                <script type=\"text/javascript\">window.PlotlyConfig = {MathJaxConfig: 'local'};</script>\n",
              "        <script charset=\"utf-8\" src=\"https://cdn.plot.ly/plotly-2.24.1.min.js\"></script>                <div id=\"78946b20-511e-487b-8945-e147a69dd771\" class=\"plotly-graph-div\" style=\"height:525px; width:100%;\"></div>            <script type=\"text/javascript\">                                    window.PLOTLYENV=window.PLOTLYENV || {};                                    if (document.getElementById(\"78946b20-511e-487b-8945-e147a69dd771\")) {                    Plotly.newPlot(                        \"78946b20-511e-487b-8945-e147a69dd771\",                        [{\"customdata\":[[\"I am still waiting on my card?\"],[\"What can I do if my card still hasn't arrived after 2 weeks?\"],[\"I have been waiting over a week. Is the card still coming?\"],[\"Can I track my card while it is in the process of delivery?\"],[\"How do I know if I will get my card, or if it is lost?\"],[\"When did you send me my new card?\"],[\"Do you have info about the card on delivery?\"],[\"What do I do if I still have not received my new card?\"],[\"Does the package with my card have tracking?\"],[\"I ordered my card but it still isn't here\"],[\"Why has my new card still not come?\"],[\"I still haven't received my card after two weeks, is it lost?\"],[\"Can you track my card for me?\"],[\"Is there a way to track the delivery of my card?\"],[\"It's been a week since I ordered my card and it's not here. Please help?\"],[\"Will I be able to track the card that was sent to me?\"],[\"I don't have my card in 1 week.  Should I be worried?\"],[\"How do I know when my new card is going to arrive?\"],[\"My new card has not been delivered to my home yet. What is going on?\"],[\"It's been a week since you issued me a card and I still didn't get it. Should I keep waiting?\"],[\"On the card that is coming, what's the tracking info?\"],[\"What is the status of my card's delivery?\"],[\"Have you sent out my card yet?\"],[\"My card isn't here yet.\"],[\"where is my new card?\"],[\"It's been a week since you sent my card and I still don't have it.\"],[\"How do I track the card you sent me?\"],[\"When will I recieve my new card?\"],[\"When will I get my new card?\"],[\"What is the expected delivery date for my card?\"],[\"Is there a tracking number for the card you sent me?\"],[\"I would like to track the card you sent to me.\"],[\"Has my card been lost in delivery?\"],[\"My new card hasn't came in.\"],[\"Where is the card I ordered 2 weeks ago?\"],[\"Can I get an update on my replacement card?\"],[\"How long does it take for a new card to ship?\"],[\"What's the tracking on the card you sent?\"],[\"I haven't received my card and am worried it is lost.\"],[\"My card still hasn't been delivered\"],[\"I need to find out where the card is that I ordered.\"],[\"Where is my credit card that was to be mailed?\"],[\"I ordered my card but it hasn't been delivered yet\"],[\"Am I able to track the card that was just sent to me?\"],[\"Can you tell me why I haven't received my new card?\"],[\"I'm still waiting for my new card.\"],[\"Is my card lost? I am still waiting for it to be delivered.\"],[\"Should I keep waiting for my card to be delivered?\"],[\"Can I track when my card will be delivered?\"],[\"How can I check on the status of my new card?\"],[\"A card has been sent to me, how do I track it?\"],[\"Is there a way I can get my card expedited?\"],[\"What can I do to track the card you sent me?\"],[\"why hasnt my card come in yet?\"],[\"How can I periodically check the delivery of the card you sent?\"],[\"What's the reason my new card hasn't come?\"],[\"How long does it take for me to get my new card?\"],[\"I don't have my card after 1 week. What are my next steps?\"],[\"I know I'm getting a new card but would like know when I can expect to receive it.\"],[\"I want to find out what happened to my new card?\"],[\"Was there a way for me to get tracking for that?\"],[\"I am still waiting for my card.\"],[\"My card hasn't arrived.\"],[\"Can I track the card you sent to me?\"],[\"I haven't gotten my new card.\"],[\"How long should it take for my new card to arrive in them mail? What should I do if I never receive it?\"],[\"Will I have to wait much longer for my new card to arrive?\"],[\"how to track the card you sent\"],[\"2 weeks ago I ordered my new card.  It isn't here.  What should I do?\"],[\"How can I check on the delivery status of my card?\"],[\"My card has not been delivered yet and its been a week since I ordered it, please help\"],[\"What's the expected wait time to recieve my new card?\"],[\"How can I see the progress of delivery of the card that was sent?\"],[\"My card was supposed to arrive, but hasn't?\"],[\"I ordered a card and would like to know how to track the delivery progress of it.\"],[\"How long will it take for me to get my card?\"],[\"My card hasn't shown up yet.\"],[\"Does the card you sent have a tracking number?\"],[\"My card hasn't arrived in the mail yet. I ordered it two weeks ago. What can I do?\"],[\"maximum how many days get the courier?\"],[\"Is there a reason my new card hasn't arrived yet?\"],[\"I've been waiting a while for my card, is there a way to know when it will arrive?\"],[\"How can I track my card's delivery?\"],[\"Can I track the card that was just sent to me?\"],[\"If I ordered my new card last week, how much longer should I wait to receive it?\"],[\"What's go on, where is my new card?\"],[\"Where is my new card if I haven't received it yet?\"],[\"Where is my card?\"],[\"Can you tell me why I haven't received my new card yet?\"],[\"Is there a way to track my card?\"],[\"Is there a way to track the new card you sent me?\"],[\"I'm still waiting for my card.\"],[\"What do I need to do to get my new card which I have requested 2 weeks ago?\"],[\"WHAT IS THE SOLUTION OF THIS PROBLEM\"],[\"Could I get tracking on the card?\"],[\"Can you help me track my card?\"],[\"Shouldn't my new card be here by now?\"],[\"Is there a reason my new card hasn't arrived?\"],[\"I would like to track a card sent to me, how do I do that?\"],[\"Is there a tracking number for the card?\"],[\"can you share card tracking number?\"],[\"I have not received my card and it's been a week, what do I do?\"],[\"Is there a way I can check on the card on route to me?\"],[\"When will my new card arrive?\"],[\"Why haven't I received my new card yet?\"],[\"What is the expected delivery date of my card?\"],[\"My card hasn't came in the mail yet?\"],[\"I haven't received my card.\"],[\"Is it possible for me to track the card is was mailed to me?\"],[\"When will my new card be delivered?\"],[\"I was issued a card about a week ago. why hasn't it come in yet?\"],[\"Can you please tell me where my card is? I ordered it 2 weeks ago!\"],[\"I still haven't received my card in the mail\"],[\"I'm still waiting for my card that was issued a week ago. What should I do?\"],[\"I still haven't gotten my new card.  When will it get here?\"],[\"Do you have a tracking number for the card I was sent?\"],[\"How do I track the card you sent to me?\"],[\"Is my new bank card on the way and is there a way to track it?\"],[\"Could you send me and up date on the arrival of my card?\"],[\"How long does it take to recieve my new card?\"],[\"My card has not come in the mail yet.\"],[\"What's the card you sent me's tracking number?\"],[\"i havent got my card\"],[\"Why hasn't my card arrived yet?\"],[\"I thought I would have received my new card at this point.\"],[\"How long until my new card gets here?\"],[\"How much longer until I get my new card?\"],[\"Am I able to track a card that has already been sent?\"],[\"Is it possible to track the card you sent me?\"],[\"How long will it be to get this new card?\"],[\"how can i track card you sent\"],[\"Can the card was sen to me be tracked?\"],[\"why have i not got my new card?\"],[\"I need to track the card sent to me.\"],[\"It's been two weeks and I haven't gotten my card, what do I do?\"],[\"I was expecting my new card by now.\"],[\"Where is the tracking number for the card?\"],[\"I was issued a new card a week ago but still haven't received it. How long will it be until I receive it?\"],[\"Can I track the card that you sent me in the mail?\"],[\"Can you tell me if I can track the card you sent me?\"],[\"Why have I not gotten my new card?\"],[\"I'm still waiting on my new card to be delivered!\"],[\"My new card isn't here and it was issued a week ago.\"],[\"I was supposed to receive my new card by now, but it hasn't came in.\"],[\"Is a tracking number available for the card that was just sent?\"],[\"Why haven't I gotten my new card?\"],[\"Was there a number to track that I could get?\"],[\"How much longer is it going to take to get my new card?\"],[\"I haven't gotten my credit card in the mail.\"],[\"My card hasn't arrived yet. What do I do?\"],[\"My card still hasn't arrived after two weeks, now what?\"],[\"My card appears to have never arrived?\"],[\"My card never arrived.\"],[\"My card has been found. Is there any way for me to put it back into the app?\"],[\"I was able to find my card. How to I go about putting it into my app?\"],[\"how do I get my card to show in the app?\"],[\"I just got my card.  It's not linked yet--how do I do that?\"],[\"lost card found, want to put it back in app\"],[\"I just got a card, how can I add it to the app?\"],[\"Is there any way to see my card in the app?\"],[\"If I find a card I lost do I need to dispose of it? Or can I re-active the card and continue to use it?\"],[\"I found my card. How can I put it into my app?\"],[\"How do I make my card show up in the app?\"],[\"Can you show me where to link the new card?\"],[\"I found my old card. Can I link it back into the app?\"],[\"Show me how to link the new card,\"],[\"How do I add an existing card to the app?\"],[\"I finally got my card.  Now I want to link it.  Is that something you have to do or can I do that?\"],[\"How do I link one of your card that I already have?\"],[\"If I have a physical card can I link it?\"],[\"I found my lost card in my jacket pocket this morning so I'd like to reactivate it please.\"],[\"Can I add a card that I just found (again) to the app?\"],[\"How can I make my card show up in the app?\"],[\"I would like to re-activate my card, it was previously reported  lost but I found it this morning.\"],[\"Okay, I found my card, can I put it back in the app?\"],[\"Can I reactivate a card?\"],[\"I would like to reactivate a card and wondered if that could be done?\"],[\"I got my card now, how do I make it show up in the app?\"],[\"How do I link an existing card?\"],[\"How do I link a new card in the app?\"],[\"The card I thought was lost was just in my jacket, so can I reactivate it since I found it this morning?\"],[\"I already have a card and want to link it\"],[\"Can you please reactivate my card?\"],[\"Where do I go to add a new card?\"],[\"I want my card I just received to show up in the app. How do I do that?\"],[\"I received my card, how do I get it to show in the app?\"],[\"If I have a credit card with you how I get set up to link to it?\"],[\"How do I add my new card?\"],[\"I want to reactivate my card, I thought I had lost it but found it again this morning.\"],[\"I need a card reactivation, I had reported my card lost but I ran across it in my jacket.\"],[\"My card is no longer lost. How do I enter it back into the app?\"],[\"I want to reactivate my card, I thought I had lost it but found it again in my jacket.\"],[\"May I reactivate my card? I previously reported it lost, but have now found it safe and sound.\"],[\"How do I reactivate a card I thought I lost?\"],[\"Help me figure out how to link the new card.\"],[\"I found my lost card. Am I still able to use it?\"],[\"Will I need a new card or can I put my old card back into the app?\"],[\"Is there a way to link the card i just got?\"],[\"How do I add a new card?\"],[\"I want to reactivate my card, I found it after thinking it was lost.\"],[\"Can I put my old card back in the app?\"],[\"I got a new card, how do I link it?\"],[\"I found the card I thought I lost this morning. Can I reactivate this card?\"],[\"How do i go about linking a new card?\"],[\"how do i get the card linked\"],[\"I have one of your cards, but I don't know how to link it.\"],[\"how do I link an old card?\"],[\"I received my card. How do I link it to the app?\"],[\"Now that I have my card, how do I connect it to the app?\"],[\"How do I add the card I just received to show up in the app?\"],[\"I want to reactivate my card, I thought I had lost it but I found it.\"],[\"What do I need to do to link my new card for my account?\"],[\"Can I add a card to back into the app?\"],[\"I want to link my new card. Can you help?\"],[\"What is the process to link the new card?\"],[\"I found my card, am I able to put it back into the app?\"],[\"I have found my lost or stolen card, would I still have to activate the new card that was sent to me through the mail in order to access my account?\"],[\"Where can I link a new card?\"],[\"How do I add a card on to the app?\"],[\"I found my card in my jacket this morning, so can I reactivate it?\"],[\"I've obtained the card, how do I enable it on the app?\"],[\"I need to find the card I received in the app.\"],[\"How do I get my card on the app?\"],[\"In the app, how can I make it show the new card that arrived?\"],[\"How do I link my new card?\"],[\"Can I activate a card in the app?\"],[\"I want to link to my card card with you, how?\"],[\"I would like to link my card to my account.\"],[\"I thought I lost my card so I cancelled it, but recently I found it in my jacket and I would like to re-establish the card.\"],[\"How can I link the new card?\"],[\"I got a new card and can't find where to link it.\"],[\"Hey, I have my card, how do I get it to show in the app?\"],[\"Where in the app do I go to make my new card show up?\"],[\"Where do I scan my card?\"],[\"Can I reactivate my card? I reported it lost and found it this morning in my jacket.\"],[\"Can I link my card I previously received?\"],[\"I want to reactivate my card, I thought I had lost it but found it again in my jacket this morning.\"],[\"I'd lke my card reactivated, I was thinking it was misplaced but I discovered when I woke up that I had left it in my coat.\"],[\"You sent me a card and now I want to link it.\"],[\"How do I add my new card to the app?\"],[\"Can I add a card back to the app?\"],[\"What if I want to add a card I already have to the app?\"],[\"I recently reported my card as missing\\u002flost, and I just found it. Can I still use it?\"],[\"Could I reactivate my card please, I couldn't find it but it turns out it was in my jacket pocket.\"],[\"Is there a way to link cards if I have one of yours?\"],[\"If my card was lost or stolen can I re-link it?\"],[\"How do I link a new card to an existing one?\"],[\"How do I link a new payment card?\"],[\"I would like to reactivate my card that I previously reported lost. I located the card this morning.\"],[\"Card has been received, how will it show up on the app?\"],[\"Can I re-link a lost card with the app?\"],[\"What do I do to link my new card?\"],[\"Is it possible to link a new card?\"],[\"I deactivated my card but would like to reactivate it.\"],[\"I found my card that I thought I had lost, I need to reactive it, please help.\"],[\"can I link a card of yours I already have?\"],[\"Can I put my found card back into the app on my phone?\"],[\"My card arrived but I need to make it work in the app, how do I do that?\"],[\"I found the card that I thought I lost, and I would like to reactivate it.\"],[\"I found my card again. Can I put it back into the app?\"],[\"I need some help linking my new card.\"],[\"help me link my card\"],[\"How do I link my card in the app.\"],[\"How do I get my card into the app?\"],[\"I found my card! Can I link it back into the app?\"],[\"How do I reactivate my card?\"],[\"Where do I go to get my new card linked?\"],[\"I thought I lost my card but I found it today, so I would like to reactivate it.\"],[\"How do I link the new card that I just got from you guys?\"],[\"How can I add a new card?\"],[\"Can you tell me how to get my card on the app?\"],[\"Is it possible to reactivate the card I thought I lost but found this morning in my jacket?\"],[\"How do I make my card appear on the app?\"],[\"How do I link the new card?\"],[\"Where in the app do I link a new card?\"],[\"How do I add my card to the app once I get it?\"],[\"Can I link your physical card\"],[\"How do I activate and link my new card?\"],[\"I got a card, how do I get it in the app?\"],[\"I received my new card.  Where is it in the app?\"],[\"I found my card, how can I use it again?\"],[\"I just received a new card, where do I go to link it to my account?\"],[\"found card, how to put it back in app\"],[\"How do I see my card in the app?\"],[\"The card I thought I lost was in my jacket pocket this morning, so can I reactivate that?\"],[\"I don't see my card anywhere in the app.\"],[\"I received my card, how do I get it to work in the app?\"],[\"What do I do if I already had a card with you guys?\"],[\"if i found a lost card can i put it back in app\"],[\"I have a card that was deactivated can I reactivate it?\"],[\"My new card isn't in my app, how do I get it in there?\"],[\"Help me access the card I already got so I can information from it.\"],[\"What is my money worth in other countries?\"],[\"Will my money be of equal value when I travel abroad?\"],[\"Do you know the rate of exchange?\"],[\"What foreign exchange rate will I get on weekdays and on the weekends?\"],[\"What is the exchange looking like?\"],[\"How is the exchange rate doing?\"],[\"I would like to know how exchange rates are calculated when transferring funds.\"],[\"I would like to know what exchange rates you use?\"]],\"hovertemplate\":\"Principal Component 1=%{x}\\u003cbr\\u003ePrincipal Component 2=%{y}\\u003cbr\\u003etext=%{customdata[0]}\\u003cextra\\u003e\\u003c\\u002fextra\\u003e\",\"legendgroup\":\"\",\"marker\":{\"color\":\"#636efa\",\"symbol\":\"circle\",\"size\":8},\"mode\":\"markers\",\"name\":\"\",\"orientation\":\"v\",\"showlegend\":false,\"x\":[0.21076578,0.15680885,0.123523094,0.03565734,0.037850477,0.04497975,0.055576127,0.11093458,0.031661104,0.22549433,0.21314314,0.13584234,-0.033450805,0.019519523,0.122388355,-0.028902873,0.121231854,0.059012547,0.16787538,0.16383168,0.032354485,0.16110277,0.114054896,0.23731513,0.06841367,0.23728658,-0.06493301,0.079904966,0.08709629,0.14848961,0.03140893,0.0033110871,0.09232296,0.24777596,0.11842653,0.024444552,0.12683265,0.018325329,0.1514548,0.26488766,0.06252511,0.117509596,0.23926802,-0.019479439,0.15334369,0.26507902,0.16826546,0.14929807,0.044315223,0.028081654,-0.027034393,0.04570924,-0.024461545,0.21062317,0.027906302,0.19520551,0.10044416,0.058398917,0.07633397,0.059542943,-0.047241203,0.26101547,0.26378122,-0.015391592,0.2631953,0.12534915,0.122826084,-0.039856683,0.11741135,0.07615014,0.116532475,0.11029965,0.034726236,0.22719347,0.05238213,0.11540271,0.2284311,0.037852794,0.124699764,0.08911342,0.16880773,0.07772092,0.016093642,-0.026941419,0.1359611,0.08472021,0.13204679,0.08371778,0.1670197,-0.027789196,-0.012294321,0.26906303,0.05322631,0.0032968891,-0.03626031,-0.022499492,0.14847061,0.16494782,-0.06003653,0.017014086,-0.03765953,0.1235082,-0.0050359964,0.110887595,0.2172911,0.14536418,0.22402214,0.27430448,-0.024066398,0.10085692,0.15035933,0.052157167,0.25448164,0.1467737,0.16795197,0.024203785,-0.058298998,0.039885987,0.039345313,0.1047006,0.25592816,0.048850257,0.18741606,0.24177857,0.15192913,0.14803888,0.13793789,-0.012889692,-0.016988037,0.10600873,-0.02652614,-0.037652545,0.19440097,0.026968485,0.12709369,0.14553005,0.028485773,0.15898164,-0.013591989,-0.020382423,0.19923544,0.23969881,0.20585148,0.2329909,0.008633124,0.20199427,-0.019448513,0.1483587,0.26657242,0.118623324,0.1621461,0.18235362,0.24248862,-0.17529239,-0.18052675,-0.15024434,-0.05905545,-0.1411232,-0.15825117,-0.13240498,-0.085245706,-0.17581664,-0.15545088,-0.085422635,-0.2245953,-0.12362086,-0.18075262,-0.119793594,-0.13642152,-0.14363474,-0.04024376,-0.19376059,-0.12823455,-0.0548922,-0.17565253,-0.07932251,-0.090584524,-0.1353635,-0.168109,-0.24322958,-0.06872203,-0.10317632,-0.036227714,-0.091945656,-0.13085195,-0.12626563,-0.12987217,-0.10196228,-0.0554828,-0.0023834885,-0.15568234,-0.031597722,-0.07454758,-0.08311848,-0.12169599,-0.044834264,-0.16542181,-0.14278026,-0.10761259,-0.06022997,-0.18327384,-0.14123887,-0.0956424,-0.1554311,-0.1527293,-0.041014805,-0.1637456,-0.18292995,-0.15881167,-0.14922996,-0.06099618,-0.12654114,-0.17836376,-0.110098414,-0.110288836,-0.17573716,-0.06471558,-0.13128512,-0.19961457,-0.07677977,-0.14743899,-0.051331762,-0.15215157,-0.07988188,-0.1589456,-0.16234788,-0.128774,-0.08917823,-0.022888988,-0.14966312,-0.005372775,-0.1359431,-0.11912595,-0.030114725,-0.08240454,-0.13158076,-0.040507838,0.027667966,-0.048091214,-0.18716983,-0.19911668,-0.15097389,-0.068733774,-0.034855325,-0.12051311,-0.11960787,-0.14702554,-0.13877094,-0.07266411,-0.06272986,-0.21408916,-0.13494778,-0.15900113,-0.016188428,-0.045107376,-0.110079914,-0.19063242,-0.12180736,-0.05445277,-0.16583903,-0.09262572,-0.1061363,-0.22618176,-0.165286,-0.21417364,-0.083438344,-0.086962484,-0.056109425,-0.13744299,-0.09465663,-0.12505017,-0.07493981,-0.1518441,-0.1662307,-0.20169222,-0.17177595,-0.12472543,-0.13463256,-0.13198064,-0.08069658,-0.09768245,-0.1047659,-0.16840252,-0.14490864,-0.0682555,0.08450905,-0.12778331,-0.045760836,-0.16363466,-0.058137886,-0.111242704,-0.042955697,0.07540832,0.044909157,0.04762003,0.0618375,0.04496498,0.096688084,-0.002434186,0.0020141348],\"xaxis\":\"x\",\"y\":[-0.004353589,-0.005378114,-0.020106588,0.08667249,-0.00507205,-0.09423323,0.044502724,-0.11259736,0.073686875,-0.023534695,-0.1129257,0.09603787,0.074073054,0.046913713,0.024556473,0.09900148,0.08634061,-0.15844288,-0.07287835,0.05570477,-0.043015756,-0.006954199,0.0076389066,-0.029680291,-0.12697881,0.021717662,-0.031697907,-0.1002105,-0.1566163,-0.07808201,0.060912203,0.10302272,0.11876482,-0.07075803,-0.0020653675,0.04344438,-0.1382642,0.04195988,0.10380054,-0.0067932024,0.06283015,0.04419859,-0.02725437,0.102315925,-0.052977987,-0.051608264,0.10354231,0.04006553,0.036278307,-0.076031074,-0.0053548953,0.012248901,0.032961812,-0.07087757,0.044351514,-0.11252936,-0.13295896,0.0273479,-0.058415934,0.010583134,0.08892216,-0.0034916783,-0.002949656,0.09542969,-0.07747994,-0.046755288,-0.048191935,0.031409483,0.004131875,-0.009374109,0.024765432,-0.07098895,-0.0023299677,0.007930656,0.025635477,-0.07571986,-0.02353656,0.07664557,0.022845745,-0.007491136,-0.043746624,0.007699709,-0.032753352,0.091953464,-0.060262136,-0.08842427,-0.09209083,-0.019093642,-0.06179126,0.062478427,0.0037943395,-0.0032347469,-0.080739714,0.013992233,0.08864206,0.07926176,-0.047322016,-0.03621188,0.000104018494,0.04798739,0.038135353,0.0041662185,0.057888485,-0.15817386,-0.10058111,-0.07404214,-0.011578951,0.007743743,0.12801154,-0.14193325,-0.022822984,0.032177947,-0.0012332957,0.004479111,-0.089886144,0.08326734,-0.031208681,-0.003044045,0.036936454,-0.08217145,-0.014144597,0.031993102,0.0037820132,-0.059821837,0.043824438,-0.13671462,-0.12670492,0.08466401,0.10336718,-0.12290295,0.04684635,0.12063515,-0.08055763,0.07488839,-0.0000040639156,-0.011381159,-0.021370357,-0.05117441,0.10626201,0.11843565,-0.08112867,-0.04981259,0.011159578,-0.03091343,0.06712005,-0.08933956,0.12819847,-0.12086289,0.03708337,-0.054207303,-0.014717805,0.059177525,0.021363225,0.13964857,0.018972747,-0.14785217,-0.08952341,0.1340036,-0.10236894,-0.0039286055,0.15728624,-0.00060797133,-0.14131466,-0.11790399,0.08230352,-0.15235175,-0.15790366,-0.0326023,-0.08837824,-0.002756159,0.28580016,0.05017532,-0.106676824,0.23207648,0.12729287,0.20674494,0.24113876,-0.100693256,-0.14953035,-0.21634525,0.31180114,-0.02915349,0.20090245,-0.17872228,-0.0976241,-0.12279974,-0.026024578,-0.17828155,0.2594275,0.23812129,0.059321966,0.27875963,0.2597424,0.1638961,-0.11602089,0.19927894,-0.03347887,-0.034083094,-0.17613368,0.2450592,0.04207081,-0.13605686,0.2969796,-0.1433136,-0.11246721,0.0025467009,-0.09947509,-0.123399995,-0.07931964,-0.12753093,0.26004073,-0.18059435,0.0031714847,-0.045652997,-0.17343605,0.14379174,0.11843846,-0.16432728,-0.17850299,0.28419366,-0.06758036,0.025179518,-0.16137068,-0.122030355,-0.20233479,0.008807467,-0.06636568,-0.011158532,0.24049574,-0.17809543,-0.10650317,-0.07519604,-0.1569409,-0.08429475,0.29872754,0.022305233,0.27851722,0.23353252,0.039845154,-0.212387,0.053632766,-0.05882483,0.2075709,0.28727376,-0.0036233857,0.14090739,-0.16425186,-0.16795704,0.26267397,-0.08288019,0.10054446,-0.17683685,-0.08611844,0.204314,0.14213885,0.007621455,0.12555437,-0.091887176,0.25967202,0.1517894,-0.07839159,-0.050163683,-0.16343194,-0.15361416,0.09353467,0.07389114,-0.1754601,0.27779746,-0.1299814,-0.15374017,-0.062562004,0.2914572,-0.15208732,-0.20180236,-0.17984398,-0.14927773,-0.01162187,-0.1495557,-0.11061822,-0.13175157,0.1042866,-0.11692339,0.07597067,-0.13819656,0.29753712,-0.0043973164,-0.11448208,-0.006545222,0.15254886,0.21185161,-0.15587738,0.01495257,-0.004564697,0.069663905,0.054369684,-0.0014713468,-0.029273495,-0.0030652476,-0.009478966,0.00434928],\"yaxis\":\"y\",\"type\":\"scatter\"}],                        {\"template\":{\"data\":{\"histogram2dcontour\":[{\"type\":\"histogram2dcontour\",\"colorbar\":{\"outlinewidth\":0,\"ticks\":\"\"},\"colorscale\":[[0.0,\"#0d0887\"],[0.1111111111111111,\"#46039f\"],[0.2222222222222222,\"#7201a8\"],[0.3333333333333333,\"#9c179e\"],[0.4444444444444444,\"#bd3786\"],[0.5555555555555556,\"#d8576b\"],[0.6666666666666666,\"#ed7953\"],[0.7777777777777778,\"#fb9f3a\"],[0.8888888888888888,\"#fdca26\"],[1.0,\"#f0f921\"]]}],\"choropleth\":[{\"type\":\"choropleth\",\"colorbar\":{\"outlinewidth\":0,\"ticks\":\"\"}}],\"histogram2d\":[{\"type\":\"histogram2d\",\"colorbar\":{\"outlinewidth\":0,\"ticks\":\"\"},\"colorscale\":[[0.0,\"#0d0887\"],[0.1111111111111111,\"#46039f\"],[0.2222222222222222,\"#7201a8\"],[0.3333333333333333,\"#9c179e\"],[0.4444444444444444,\"#bd3786\"],[0.5555555555555556,\"#d8576b\"],[0.6666666666666666,\"#ed7953\"],[0.7777777777777778,\"#fb9f3a\"],[0.8888888888888888,\"#fdca26\"],[1.0,\"#f0f921\"]]}],\"heatmap\":[{\"type\":\"heatmap\",\"colorbar\":{\"outlinewidth\":0,\"ticks\":\"\"},\"colorscale\":[[0.0,\"#0d0887\"],[0.1111111111111111,\"#46039f\"],[0.2222222222222222,\"#7201a8\"],[0.3333333333333333,\"#9c179e\"],[0.4444444444444444,\"#bd3786\"],[0.5555555555555556,\"#d8576b\"],[0.6666666666666666,\"#ed7953\"],[0.7777777777777778,\"#fb9f3a\"],[0.8888888888888888,\"#fdca26\"],[1.0,\"#f0f921\"]]}],\"heatmapgl\":[{\"type\":\"heatmapgl\",\"colorbar\":{\"outlinewidth\":0,\"ticks\":\"\"},\"colorscale\":[[0.0,\"#0d0887\"],[0.1111111111111111,\"#46039f\"],[0.2222222222222222,\"#7201a8\"],[0.3333333333333333,\"#9c179e\"],[0.4444444444444444,\"#bd3786\"],[0.5555555555555556,\"#d8576b\"],[0.6666666666666666,\"#ed7953\"],[0.7777777777777778,\"#fb9f3a\"],[0.8888888888888888,\"#fdca26\"],[1.0,\"#f0f921\"]]}],\"contourcarpet\":[{\"type\":\"contourcarpet\",\"colorbar\":{\"outlinewidth\":0,\"ticks\":\"\"}}],\"contour\":[{\"type\":\"contour\",\"colorbar\":{\"outlinewidth\":0,\"ticks\":\"\"},\"colorscale\":[[0.0,\"#0d0887\"],[0.1111111111111111,\"#46039f\"],[0.2222222222222222,\"#7201a8\"],[0.3333333333333333,\"#9c179e\"],[0.4444444444444444,\"#bd3786\"],[0.5555555555555556,\"#d8576b\"],[0.6666666666666666,\"#ed7953\"],[0.7777777777777778,\"#fb9f3a\"],[0.8888888888888888,\"#fdca26\"],[1.0,\"#f0f921\"]]}],\"surface\":[{\"type\":\"surface\",\"colorbar\":{\"outlinewidth\":0,\"ticks\":\"\"},\"colorscale\":[[0.0,\"#0d0887\"],[0.1111111111111111,\"#46039f\"],[0.2222222222222222,\"#7201a8\"],[0.3333333333333333,\"#9c179e\"],[0.4444444444444444,\"#bd3786\"],[0.5555555555555556,\"#d8576b\"],[0.6666666666666666,\"#ed7953\"],[0.7777777777777778,\"#fb9f3a\"],[0.8888888888888888,\"#fdca26\"],[1.0,\"#f0f921\"]]}],\"mesh3d\":[{\"type\":\"mesh3d\",\"colorbar\":{\"outlinewidth\":0,\"ticks\":\"\"}}],\"scatter\":[{\"fillpattern\":{\"fillmode\":\"overlay\",\"size\":10,\"solidity\":0.2},\"type\":\"scatter\"}],\"parcoords\":[{\"type\":\"parcoords\",\"line\":{\"colorbar\":{\"outlinewidth\":0,\"ticks\":\"\"}}}],\"scatterpolargl\":[{\"type\":\"scatterpolargl\",\"marker\":{\"colorbar\":{\"outlinewidth\":0,\"ticks\":\"\"}}}],\"bar\":[{\"error_x\":{\"color\":\"#2a3f5f\"},\"error_y\":{\"color\":\"#2a3f5f\"},\"marker\":{\"line\":{\"color\":\"#E5ECF6\",\"width\":0.5},\"pattern\":{\"fillmode\":\"overlay\",\"size\":10,\"solidity\":0.2}},\"type\":\"bar\"}],\"scattergeo\":[{\"type\":\"scattergeo\",\"marker\":{\"colorbar\":{\"outlinewidth\":0,\"ticks\":\"\"}}}],\"scatterpolar\":[{\"type\":\"scatterpolar\",\"marker\":{\"colorbar\":{\"outlinewidth\":0,\"ticks\":\"\"}}}],\"histogram\":[{\"marker\":{\"pattern\":{\"fillmode\":\"overlay\",\"size\":10,\"solidity\":0.2}},\"type\":\"histogram\"}],\"scattergl\":[{\"type\":\"scattergl\",\"marker\":{\"colorbar\":{\"outlinewidth\":0,\"ticks\":\"\"}}}],\"scatter3d\":[{\"type\":\"scatter3d\",\"line\":{\"colorbar\":{\"outlinewidth\":0,\"ticks\":\"\"}},\"marker\":{\"colorbar\":{\"outlinewidth\":0,\"ticks\":\"\"}}}],\"scattermapbox\":[{\"type\":\"scattermapbox\",\"marker\":{\"colorbar\":{\"outlinewidth\":0,\"ticks\":\"\"}}}],\"scatterternary\":[{\"type\":\"scatterternary\",\"marker\":{\"colorbar\":{\"outlinewidth\":0,\"ticks\":\"\"}}}],\"scattercarpet\":[{\"type\":\"scattercarpet\",\"marker\":{\"colorbar\":{\"outlinewidth\":0,\"ticks\":\"\"}}}],\"carpet\":[{\"aaxis\":{\"endlinecolor\":\"#2a3f5f\",\"gridcolor\":\"white\",\"linecolor\":\"white\",\"minorgridcolor\":\"white\",\"startlinecolor\":\"#2a3f5f\"},\"baxis\":{\"endlinecolor\":\"#2a3f5f\",\"gridcolor\":\"white\",\"linecolor\":\"white\",\"minorgridcolor\":\"white\",\"startlinecolor\":\"#2a3f5f\"},\"type\":\"carpet\"}],\"table\":[{\"cells\":{\"fill\":{\"color\":\"#EBF0F8\"},\"line\":{\"color\":\"white\"}},\"header\":{\"fill\":{\"color\":\"#C8D4E3\"},\"line\":{\"color\":\"white\"}},\"type\":\"table\"}],\"barpolar\":[{\"marker\":{\"line\":{\"color\":\"#E5ECF6\",\"width\":0.5},\"pattern\":{\"fillmode\":\"overlay\",\"size\":10,\"solidity\":0.2}},\"type\":\"barpolar\"}],\"pie\":[{\"automargin\":true,\"type\":\"pie\"}]},\"layout\":{\"autotypenumbers\":\"strict\",\"colorway\":[\"#636efa\",\"#EF553B\",\"#00cc96\",\"#ab63fa\",\"#FFA15A\",\"#19d3f3\",\"#FF6692\",\"#B6E880\",\"#FF97FF\",\"#FECB52\"],\"font\":{\"color\":\"#2a3f5f\"},\"hovermode\":\"closest\",\"hoverlabel\":{\"align\":\"left\"},\"paper_bgcolor\":\"white\",\"plot_bgcolor\":\"#E5ECF6\",\"polar\":{\"bgcolor\":\"#E5ECF6\",\"angularaxis\":{\"gridcolor\":\"white\",\"linecolor\":\"white\",\"ticks\":\"\"},\"radialaxis\":{\"gridcolor\":\"white\",\"linecolor\":\"white\",\"ticks\":\"\"}},\"ternary\":{\"bgcolor\":\"#E5ECF6\",\"aaxis\":{\"gridcolor\":\"white\",\"linecolor\":\"white\",\"ticks\":\"\"},\"baxis\":{\"gridcolor\":\"white\",\"linecolor\":\"white\",\"ticks\":\"\"},\"caxis\":{\"gridcolor\":\"white\",\"linecolor\":\"white\",\"ticks\":\"\"}},\"coloraxis\":{\"colorbar\":{\"outlinewidth\":0,\"ticks\":\"\"}},\"colorscale\":{\"sequential\":[[0.0,\"#0d0887\"],[0.1111111111111111,\"#46039f\"],[0.2222222222222222,\"#7201a8\"],[0.3333333333333333,\"#9c179e\"],[0.4444444444444444,\"#bd3786\"],[0.5555555555555556,\"#d8576b\"],[0.6666666666666666,\"#ed7953\"],[0.7777777777777778,\"#fb9f3a\"],[0.8888888888888888,\"#fdca26\"],[1.0,\"#f0f921\"]],\"sequentialminus\":[[0.0,\"#0d0887\"],[0.1111111111111111,\"#46039f\"],[0.2222222222222222,\"#7201a8\"],[0.3333333333333333,\"#9c179e\"],[0.4444444444444444,\"#bd3786\"],[0.5555555555555556,\"#d8576b\"],[0.6666666666666666,\"#ed7953\"],[0.7777777777777778,\"#fb9f3a\"],[0.8888888888888888,\"#fdca26\"],[1.0,\"#f0f921\"]],\"diverging\":[[0,\"#8e0152\"],[0.1,\"#c51b7d\"],[0.2,\"#de77ae\"],[0.3,\"#f1b6da\"],[0.4,\"#fde0ef\"],[0.5,\"#f7f7f7\"],[0.6,\"#e6f5d0\"],[0.7,\"#b8e186\"],[0.8,\"#7fbc41\"],[0.9,\"#4d9221\"],[1,\"#276419\"]]},\"xaxis\":{\"gridcolor\":\"white\",\"linecolor\":\"white\",\"ticks\":\"\",\"title\":{\"standoff\":15},\"zerolinecolor\":\"white\",\"automargin\":true,\"zerolinewidth\":2},\"yaxis\":{\"gridcolor\":\"white\",\"linecolor\":\"white\",\"ticks\":\"\",\"title\":{\"standoff\":15},\"zerolinecolor\":\"white\",\"automargin\":true,\"zerolinewidth\":2},\"scene\":{\"xaxis\":{\"backgroundcolor\":\"#E5ECF6\",\"gridcolor\":\"white\",\"linecolor\":\"white\",\"showbackground\":true,\"ticks\":\"\",\"zerolinecolor\":\"white\",\"gridwidth\":2},\"yaxis\":{\"backgroundcolor\":\"#E5ECF6\",\"gridcolor\":\"white\",\"linecolor\":\"white\",\"showbackground\":true,\"ticks\":\"\",\"zerolinecolor\":\"white\",\"gridwidth\":2},\"zaxis\":{\"backgroundcolor\":\"#E5ECF6\",\"gridcolor\":\"white\",\"linecolor\":\"white\",\"showbackground\":true,\"ticks\":\"\",\"zerolinecolor\":\"white\",\"gridwidth\":2}},\"shapedefaults\":{\"line\":{\"color\":\"#2a3f5f\"}},\"annotationdefaults\":{\"arrowcolor\":\"#2a3f5f\",\"arrowhead\":0,\"arrowwidth\":1},\"geo\":{\"bgcolor\":\"white\",\"landcolor\":\"#E5ECF6\",\"subunitcolor\":\"white\",\"showland\":true,\"showlakes\":true,\"lakecolor\":\"white\"},\"title\":{\"x\":0.05},\"mapbox\":{\"style\":\"light\"}}},\"xaxis\":{\"anchor\":\"y\",\"domain\":[0.0,1.0],\"title\":{\"text\":\"Principal Component 1\"}},\"yaxis\":{\"anchor\":\"x\",\"domain\":[0.0,1.0],\"title\":{\"text\":\"Principal Component 2\"}},\"legend\":{\"tracegroupgap\":0},\"title\":{\"text\":\"PCA of MTEB Banking77 Embeddings (e5-large-v2)\"}},                        {\"responsive\": true}                    ).then(function(){\n",
              "                            \n",
              "var gd = document.getElementById('78946b20-511e-487b-8945-e147a69dd771');\n",
              "var x = new MutationObserver(function (mutations, observer) {{\n",
              "        var display = window.getComputedStyle(gd).display;\n",
              "        if (!display || display === 'none') {{\n",
              "            console.log([gd, 'removed!']);\n",
              "            Plotly.purge(gd);\n",
              "            observer.disconnect();\n",
              "        }}\n",
              "}});\n",
              "\n",
              "// Listen for the removal of the full notebook cells\n",
              "var notebookContainer = gd.closest('#notebook-container');\n",
              "if (notebookContainer) {{\n",
              "    x.observe(notebookContainer, {childList: true});\n",
              "}}\n",
              "\n",
              "// Listen for the clearing of the current output cell\n",
              "var outputEl = gd.closest('.output');\n",
              "if (outputEl) {{\n",
              "    x.observe(outputEl, {childList: true});\n",
              "}}\n",
              "\n",
              "                        })                };                            </script>        </div>\n",
              "</body>\n",
              "</html>"
            ]
          },
          "metadata": {}
        }
      ]
    },
    {
      "cell_type": "markdown",
      "source": [
        "- PCA While the first two principal components capture 19.48% of the variance, this suggests that there is still about 80.52% of the data variance not explained in these two dimensions. This usually implies that the data has a complex structure in the higher dimensional space and the number of principal components can be increased if higher explained variance is required.\n",
        "- **Clustering and distribution:** The PCA visualization shows most embeddings are concentrated in the center, indicating similar semantic features. Some points are scattered, suggesting unique characteristics.\n",
        "\n",
        "- **Variance and visualization limitations:** The explained variance of the first two components is limited, meaning some information is lost. The dense clustering makes individual points hard to distinguish. Using methods like t-SNE or UMAP could improve clarity and separability by better capturing non-linear relationships."
      ],
      "metadata": {
        "id": "rVcVyljPrvDm"
      }
    },
    {
      "cell_type": "markdown",
      "source": [
        "# t-SNE (t-Distributed Stochastic Neighbor Embedding):\n",
        "- Non-linear dimensionality reduction technique\n",
        "- Focuses on preserving local structure\n"
      ],
      "metadata": {
        "id": "Cyz3bZ8YbB6u"
      }
    },
    {
      "cell_type": "code",
      "source": [
        "tsne = TSNE(\n",
        "    n_components=2,\n",
        "    perplexity=30,\n",
        "    n_iter=1000,\n",
        "    random_state=42\n",
        ")\n",
        "embeddings_tsne = tsne.fit_transform(embeddings)\n",
        "\n",
        "# Plot t-SNE results\n",
        "fig_tsne = px.scatter(\n",
        "    embeddings_tsne,\n",
        "    x=0,\n",
        "    y=1,\n",
        "    hover_data={'text': texts},\n",
        "    title=\"t-SNE of MTEB Banking77 Embeddings (e5-large-v2)\",\n",
        "    labels={'0': 'Component 1', '1': 'Component 2'}\n",
        ")\n",
        "fig_tsne.update_traces(marker=dict(size=8))\n",
        "fig_tsne.show()"
      ],
      "metadata": {
        "colab": {
          "base_uri": "https://localhost:8080/",
          "height": 542
        },
        "id": "YVAsaAubYj-d",
        "outputId": "6b6f75fc-acea-4c33-96ae-ebee374faf94"
      },
      "execution_count": 7,
      "outputs": [
        {
          "output_type": "display_data",
          "data": {
            "text/html": [
              "<html>\n",
              "<head><meta charset=\"utf-8\" /></head>\n",
              "<body>\n",
              "    <div>            <script src=\"https://cdnjs.cloudflare.com/ajax/libs/mathjax/2.7.5/MathJax.js?config=TeX-AMS-MML_SVG\"></script><script type=\"text/javascript\">if (window.MathJax && window.MathJax.Hub && window.MathJax.Hub.Config) {window.MathJax.Hub.Config({SVG: {font: \"STIX-Web\"}});}</script>                <script type=\"text/javascript\">window.PlotlyConfig = {MathJaxConfig: 'local'};</script>\n",
              "        <script charset=\"utf-8\" src=\"https://cdn.plot.ly/plotly-2.24.1.min.js\"></script>                <div id=\"1ca75962-3ec2-42e9-bf53-50f944775f90\" class=\"plotly-graph-div\" style=\"height:525px; width:100%;\"></div>            <script type=\"text/javascript\">                                    window.PLOTLYENV=window.PLOTLYENV || {};                                    if (document.getElementById(\"1ca75962-3ec2-42e9-bf53-50f944775f90\")) {                    Plotly.newPlot(                        \"1ca75962-3ec2-42e9-bf53-50f944775f90\",                        [{\"customdata\":[[\"I am still waiting on my card?\"],[\"What can I do if my card still hasn't arrived after 2 weeks?\"],[\"I have been waiting over a week. Is the card still coming?\"],[\"Can I track my card while it is in the process of delivery?\"],[\"How do I know if I will get my card, or if it is lost?\"],[\"When did you send me my new card?\"],[\"Do you have info about the card on delivery?\"],[\"What do I do if I still have not received my new card?\"],[\"Does the package with my card have tracking?\"],[\"I ordered my card but it still isn't here\"],[\"Why has my new card still not come?\"],[\"I still haven't received my card after two weeks, is it lost?\"],[\"Can you track my card for me?\"],[\"Is there a way to track the delivery of my card?\"],[\"It's been a week since I ordered my card and it's not here. Please help?\"],[\"Will I be able to track the card that was sent to me?\"],[\"I don't have my card in 1 week.  Should I be worried?\"],[\"How do I know when my new card is going to arrive?\"],[\"My new card has not been delivered to my home yet. What is going on?\"],[\"It's been a week since you issued me a card and I still didn't get it. Should I keep waiting?\"],[\"On the card that is coming, what's the tracking info?\"],[\"What is the status of my card's delivery?\"],[\"Have you sent out my card yet?\"],[\"My card isn't here yet.\"],[\"where is my new card?\"],[\"It's been a week since you sent my card and I still don't have it.\"],[\"How do I track the card you sent me?\"],[\"When will I recieve my new card?\"],[\"When will I get my new card?\"],[\"What is the expected delivery date for my card?\"],[\"Is there a tracking number for the card you sent me?\"],[\"I would like to track the card you sent to me.\"],[\"Has my card been lost in delivery?\"],[\"My new card hasn't came in.\"],[\"Where is the card I ordered 2 weeks ago?\"],[\"Can I get an update on my replacement card?\"],[\"How long does it take for a new card to ship?\"],[\"What's the tracking on the card you sent?\"],[\"I haven't received my card and am worried it is lost.\"],[\"My card still hasn't been delivered\"],[\"I need to find out where the card is that I ordered.\"],[\"Where is my credit card that was to be mailed?\"],[\"I ordered my card but it hasn't been delivered yet\"],[\"Am I able to track the card that was just sent to me?\"],[\"Can you tell me why I haven't received my new card?\"],[\"I'm still waiting for my new card.\"],[\"Is my card lost? I am still waiting for it to be delivered.\"],[\"Should I keep waiting for my card to be delivered?\"],[\"Can I track when my card will be delivered?\"],[\"How can I check on the status of my new card?\"],[\"A card has been sent to me, how do I track it?\"],[\"Is there a way I can get my card expedited?\"],[\"What can I do to track the card you sent me?\"],[\"why hasnt my card come in yet?\"],[\"How can I periodically check the delivery of the card you sent?\"],[\"What's the reason my new card hasn't come?\"],[\"How long does it take for me to get my new card?\"],[\"I don't have my card after 1 week. What are my next steps?\"],[\"I know I'm getting a new card but would like know when I can expect to receive it.\"],[\"I want to find out what happened to my new card?\"],[\"Was there a way for me to get tracking for that?\"],[\"I am still waiting for my card.\"],[\"My card hasn't arrived.\"],[\"Can I track the card you sent to me?\"],[\"I haven't gotten my new card.\"],[\"How long should it take for my new card to arrive in them mail? What should I do if I never receive it?\"],[\"Will I have to wait much longer for my new card to arrive?\"],[\"how to track the card you sent\"],[\"2 weeks ago I ordered my new card.  It isn't here.  What should I do?\"],[\"How can I check on the delivery status of my card?\"],[\"My card has not been delivered yet and its been a week since I ordered it, please help\"],[\"What's the expected wait time to recieve my new card?\"],[\"How can I see the progress of delivery of the card that was sent?\"],[\"My card was supposed to arrive, but hasn't?\"],[\"I ordered a card and would like to know how to track the delivery progress of it.\"],[\"How long will it take for me to get my card?\"],[\"My card hasn't shown up yet.\"],[\"Does the card you sent have a tracking number?\"],[\"My card hasn't arrived in the mail yet. I ordered it two weeks ago. What can I do?\"],[\"maximum how many days get the courier?\"],[\"Is there a reason my new card hasn't arrived yet?\"],[\"I've been waiting a while for my card, is there a way to know when it will arrive?\"],[\"How can I track my card's delivery?\"],[\"Can I track the card that was just sent to me?\"],[\"If I ordered my new card last week, how much longer should I wait to receive it?\"],[\"What's go on, where is my new card?\"],[\"Where is my new card if I haven't received it yet?\"],[\"Where is my card?\"],[\"Can you tell me why I haven't received my new card yet?\"],[\"Is there a way to track my card?\"],[\"Is there a way to track the new card you sent me?\"],[\"I'm still waiting for my card.\"],[\"What do I need to do to get my new card which I have requested 2 weeks ago?\"],[\"WHAT IS THE SOLUTION OF THIS PROBLEM\"],[\"Could I get tracking on the card?\"],[\"Can you help me track my card?\"],[\"Shouldn't my new card be here by now?\"],[\"Is there a reason my new card hasn't arrived?\"],[\"I would like to track a card sent to me, how do I do that?\"],[\"Is there a tracking number for the card?\"],[\"can you share card tracking number?\"],[\"I have not received my card and it's been a week, what do I do?\"],[\"Is there a way I can check on the card on route to me?\"],[\"When will my new card arrive?\"],[\"Why haven't I received my new card yet?\"],[\"What is the expected delivery date of my card?\"],[\"My card hasn't came in the mail yet?\"],[\"I haven't received my card.\"],[\"Is it possible for me to track the card is was mailed to me?\"],[\"When will my new card be delivered?\"],[\"I was issued a card about a week ago. why hasn't it come in yet?\"],[\"Can you please tell me where my card is? I ordered it 2 weeks ago!\"],[\"I still haven't received my card in the mail\"],[\"I'm still waiting for my card that was issued a week ago. What should I do?\"],[\"I still haven't gotten my new card.  When will it get here?\"],[\"Do you have a tracking number for the card I was sent?\"],[\"How do I track the card you sent to me?\"],[\"Is my new bank card on the way and is there a way to track it?\"],[\"Could you send me and up date on the arrival of my card?\"],[\"How long does it take to recieve my new card?\"],[\"My card has not come in the mail yet.\"],[\"What's the card you sent me's tracking number?\"],[\"i havent got my card\"],[\"Why hasn't my card arrived yet?\"],[\"I thought I would have received my new card at this point.\"],[\"How long until my new card gets here?\"],[\"How much longer until I get my new card?\"],[\"Am I able to track a card that has already been sent?\"],[\"Is it possible to track the card you sent me?\"],[\"How long will it be to get this new card?\"],[\"how can i track card you sent\"],[\"Can the card was sen to me be tracked?\"],[\"why have i not got my new card?\"],[\"I need to track the card sent to me.\"],[\"It's been two weeks and I haven't gotten my card, what do I do?\"],[\"I was expecting my new card by now.\"],[\"Where is the tracking number for the card?\"],[\"I was issued a new card a week ago but still haven't received it. How long will it be until I receive it?\"],[\"Can I track the card that you sent me in the mail?\"],[\"Can you tell me if I can track the card you sent me?\"],[\"Why have I not gotten my new card?\"],[\"I'm still waiting on my new card to be delivered!\"],[\"My new card isn't here and it was issued a week ago.\"],[\"I was supposed to receive my new card by now, but it hasn't came in.\"],[\"Is a tracking number available for the card that was just sent?\"],[\"Why haven't I gotten my new card?\"],[\"Was there a number to track that I could get?\"],[\"How much longer is it going to take to get my new card?\"],[\"I haven't gotten my credit card in the mail.\"],[\"My card hasn't arrived yet. What do I do?\"],[\"My card still hasn't arrived after two weeks, now what?\"],[\"My card appears to have never arrived?\"],[\"My card never arrived.\"],[\"My card has been found. Is there any way for me to put it back into the app?\"],[\"I was able to find my card. How to I go about putting it into my app?\"],[\"how do I get my card to show in the app?\"],[\"I just got my card.  It's not linked yet--how do I do that?\"],[\"lost card found, want to put it back in app\"],[\"I just got a card, how can I add it to the app?\"],[\"Is there any way to see my card in the app?\"],[\"If I find a card I lost do I need to dispose of it? Or can I re-active the card and continue to use it?\"],[\"I found my card. How can I put it into my app?\"],[\"How do I make my card show up in the app?\"],[\"Can you show me where to link the new card?\"],[\"I found my old card. Can I link it back into the app?\"],[\"Show me how to link the new card,\"],[\"How do I add an existing card to the app?\"],[\"I finally got my card.  Now I want to link it.  Is that something you have to do or can I do that?\"],[\"How do I link one of your card that I already have?\"],[\"If I have a physical card can I link it?\"],[\"I found my lost card in my jacket pocket this morning so I'd like to reactivate it please.\"],[\"Can I add a card that I just found (again) to the app?\"],[\"How can I make my card show up in the app?\"],[\"I would like to re-activate my card, it was previously reported  lost but I found it this morning.\"],[\"Okay, I found my card, can I put it back in the app?\"],[\"Can I reactivate a card?\"],[\"I would like to reactivate a card and wondered if that could be done?\"],[\"I got my card now, how do I make it show up in the app?\"],[\"How do I link an existing card?\"],[\"How do I link a new card in the app?\"],[\"The card I thought was lost was just in my jacket, so can I reactivate it since I found it this morning?\"],[\"I already have a card and want to link it\"],[\"Can you please reactivate my card?\"],[\"Where do I go to add a new card?\"],[\"I want my card I just received to show up in the app. How do I do that?\"],[\"I received my card, how do I get it to show in the app?\"],[\"If I have a credit card with you how I get set up to link to it?\"],[\"How do I add my new card?\"],[\"I want to reactivate my card, I thought I had lost it but found it again this morning.\"],[\"I need a card reactivation, I had reported my card lost but I ran across it in my jacket.\"],[\"My card is no longer lost. How do I enter it back into the app?\"],[\"I want to reactivate my card, I thought I had lost it but found it again in my jacket.\"],[\"May I reactivate my card? I previously reported it lost, but have now found it safe and sound.\"],[\"How do I reactivate a card I thought I lost?\"],[\"Help me figure out how to link the new card.\"],[\"I found my lost card. Am I still able to use it?\"],[\"Will I need a new card or can I put my old card back into the app?\"],[\"Is there a way to link the card i just got?\"],[\"How do I add a new card?\"],[\"I want to reactivate my card, I found it after thinking it was lost.\"],[\"Can I put my old card back in the app?\"],[\"I got a new card, how do I link it?\"],[\"I found the card I thought I lost this morning. Can I reactivate this card?\"],[\"How do i go about linking a new card?\"],[\"how do i get the card linked\"],[\"I have one of your cards, but I don't know how to link it.\"],[\"how do I link an old card?\"],[\"I received my card. How do I link it to the app?\"],[\"Now that I have my card, how do I connect it to the app?\"],[\"How do I add the card I just received to show up in the app?\"],[\"I want to reactivate my card, I thought I had lost it but I found it.\"],[\"What do I need to do to link my new card for my account?\"],[\"Can I add a card to back into the app?\"],[\"I want to link my new card. Can you help?\"],[\"What is the process to link the new card?\"],[\"I found my card, am I able to put it back into the app?\"],[\"I have found my lost or stolen card, would I still have to activate the new card that was sent to me through the mail in order to access my account?\"],[\"Where can I link a new card?\"],[\"How do I add a card on to the app?\"],[\"I found my card in my jacket this morning, so can I reactivate it?\"],[\"I've obtained the card, how do I enable it on the app?\"],[\"I need to find the card I received in the app.\"],[\"How do I get my card on the app?\"],[\"In the app, how can I make it show the new card that arrived?\"],[\"How do I link my new card?\"],[\"Can I activate a card in the app?\"],[\"I want to link to my card card with you, how?\"],[\"I would like to link my card to my account.\"],[\"I thought I lost my card so I cancelled it, but recently I found it in my jacket and I would like to re-establish the card.\"],[\"How can I link the new card?\"],[\"I got a new card and can't find where to link it.\"],[\"Hey, I have my card, how do I get it to show in the app?\"],[\"Where in the app do I go to make my new card show up?\"],[\"Where do I scan my card?\"],[\"Can I reactivate my card? I reported it lost and found it this morning in my jacket.\"],[\"Can I link my card I previously received?\"],[\"I want to reactivate my card, I thought I had lost it but found it again in my jacket this morning.\"],[\"I'd lke my card reactivated, I was thinking it was misplaced but I discovered when I woke up that I had left it in my coat.\"],[\"You sent me a card and now I want to link it.\"],[\"How do I add my new card to the app?\"],[\"Can I add a card back to the app?\"],[\"What if I want to add a card I already have to the app?\"],[\"I recently reported my card as missing\\u002flost, and I just found it. Can I still use it?\"],[\"Could I reactivate my card please, I couldn't find it but it turns out it was in my jacket pocket.\"],[\"Is there a way to link cards if I have one of yours?\"],[\"If my card was lost or stolen can I re-link it?\"],[\"How do I link a new card to an existing one?\"],[\"How do I link a new payment card?\"],[\"I would like to reactivate my card that I previously reported lost. I located the card this morning.\"],[\"Card has been received, how will it show up on the app?\"],[\"Can I re-link a lost card with the app?\"],[\"What do I do to link my new card?\"],[\"Is it possible to link a new card?\"],[\"I deactivated my card but would like to reactivate it.\"],[\"I found my card that I thought I had lost, I need to reactive it, please help.\"],[\"can I link a card of yours I already have?\"],[\"Can I put my found card back into the app on my phone?\"],[\"My card arrived but I need to make it work in the app, how do I do that?\"],[\"I found the card that I thought I lost, and I would like to reactivate it.\"],[\"I found my card again. Can I put it back into the app?\"],[\"I need some help linking my new card.\"],[\"help me link my card\"],[\"How do I link my card in the app.\"],[\"How do I get my card into the app?\"],[\"I found my card! Can I link it back into the app?\"],[\"How do I reactivate my card?\"],[\"Where do I go to get my new card linked?\"],[\"I thought I lost my card but I found it today, so I would like to reactivate it.\"],[\"How do I link the new card that I just got from you guys?\"],[\"How can I add a new card?\"],[\"Can you tell me how to get my card on the app?\"],[\"Is it possible to reactivate the card I thought I lost but found this morning in my jacket?\"],[\"How do I make my card appear on the app?\"],[\"How do I link the new card?\"],[\"Where in the app do I link a new card?\"],[\"How do I add my card to the app once I get it?\"],[\"Can I link your physical card\"],[\"How do I activate and link my new card?\"],[\"I got a card, how do I get it in the app?\"],[\"I received my new card.  Where is it in the app?\"],[\"I found my card, how can I use it again?\"],[\"I just received a new card, where do I go to link it to my account?\"],[\"found card, how to put it back in app\"],[\"How do I see my card in the app?\"],[\"The card I thought I lost was in my jacket pocket this morning, so can I reactivate that?\"],[\"I don't see my card anywhere in the app.\"],[\"I received my card, how do I get it to work in the app?\"],[\"What do I do if I already had a card with you guys?\"],[\"if i found a lost card can i put it back in app\"],[\"I have a card that was deactivated can I reactivate it?\"],[\"My new card isn't in my app, how do I get it in there?\"],[\"Help me access the card I already got so I can information from it.\"],[\"What is my money worth in other countries?\"],[\"Will my money be of equal value when I travel abroad?\"],[\"Do you know the rate of exchange?\"],[\"What foreign exchange rate will I get on weekdays and on the weekends?\"],[\"What is the exchange looking like?\"],[\"How is the exchange rate doing?\"],[\"I would like to know how exchange rates are calculated when transferring funds.\"],[\"I would like to know what exchange rates you use?\"]],\"hovertemplate\":\"Component 1=%{x}\\u003cbr\\u003eComponent 2=%{y}\\u003cbr\\u003etext=%{customdata[0]}\\u003cextra\\u003e\\u003c\\u002fextra\\u003e\",\"legendgroup\":\"\",\"marker\":{\"color\":\"#636efa\",\"symbol\":\"circle\",\"size\":8},\"mode\":\"markers\",\"name\":\"\",\"orientation\":\"v\",\"showlegend\":false,\"x\":[-20.62862,-14.922192,-17.616096,-10.154148,-9.282746,-14.221727,-6.178798,-14.931024,-7.395937,-23.328012,-19.315422,-20.147587,-9.016821,-4.431462,-18.182426,-6.972073,-17.95101,-9.705122,-20.946898,-18.405653,-4.575403,-13.460974,-22.14387,-24.517365,-15.918823,-22.254347,-10.39899,-12.184311,-13.807729,-12.463102,-7.078276,-8.5323105,-21.545057,-23.46233,-12.50888,-13.575385,-12.900629,-5.656719,-25.24681,-22.63543,2.0934157,-18.890034,-23.54954,-6.7811,-20.70216,-20.77167,-20.69615,-19.652803,-10.133634,-14.165531,-11.092657,-2.4895802,-8.991539,-21.561533,-12.991924,-19.491194,-12.44186,-16.776907,-11.401671,-15.471697,-3.6561577,-21.245955,-25.325876,-7.8979135,-22.82168,-14.023735,-14.661889,-10.1121645,-14.090184,-13.566727,-18.180702,-11.654222,-12.95091,-24.511595,-12.7279005,-11.760308,-24.639742,-6.7236958,-14.321146,-10.925633,-19.050013,-2.4104173,-11.246183,-7.0528164,-14.895588,-16.601738,-16.761211,-15.981708,-20.728342,-3.878012,-4.8129377,-21.329302,-13.024579,23.074121,-7.3470607,-8.987877,-18.051998,-19.048708,-11.415623,-6.027964,-8.486773,-16.31914,-3.9530396,-13.619677,-20.455788,-12.455151,-23.160957,-25.684101,-5.8852925,-13.221868,-17.355577,-12.333648,-22.228748,-16.481579,-16.542055,-7.4804564,-10.422237,-3.889175,-9.570089,-11.807449,-23.900188,-7.129544,-26.285065,-21.316175,-25.15424,-14.049835,-13.888701,-6.1337905,-6.762175,-13.331258,-9.884912,-6.186505,-19.557253,-8.9168215,-15.319672,-25.093458,-5.3411174,-16.23677,-8.112925,-7.575506,-19.579937,-20.487652,-23.118406,-23.955372,-6.0929775,-20.010487,-3.6828027,-13.579206,-25.478306,-15.292215,-15.226153,-25.041903,-25.899162,21.60818,19.565825,13.499097,12.963615,23.445982,12.595925,15.6289015,25.585062,19.89477,12.738956,10.667763,21.357445,9.811702,11.304994,13.672422,11.674516,14.896982,30.45108,20.13777,12.030488,29.557348,21.00285,32.265858,32.855618,12.197068,7.8700914,12.1801815,29.147224,10.090338,31.974834,8.631109,11.533065,12.71606,13.901806,7.9914026,30.37621,31.947578,21.754498,31.703556,28.04926,30.489862,8.928839,25.633553,19.068647,12.448613,8.007905,29.962149,19.46927,9.002478,28.365128,8.728021,7.0467534,11.201126,7.1617384,13.803745,14.556738,11.108977,30.198154,9.903881,18.285416,9.743222,10.662191,21.580297,24.496162,10.433193,11.863082,29.628893,15.099131,2.3786178,14.512193,9.95358,9.267793,17.101963,6.5472975,6.6282988,32.60457,9.991154,8.430166,13.90382,9.958256,6.9120393,29.22202,13.0846195,31.023458,32.370144,9.315045,11.296894,18.663343,16.613472,25.946785,31.004747,11.791263,23.353802,8.139073,8.33219,29.333084,11.177928,22.665794,9.638576,11.259587,32.631565,28.706211,11.425703,22.018051,11.922787,30.98349,21.396017,8.5820265,8.190079,12.656203,14.383035,21.422203,31.023998,10.588068,30.985931,11.953474,7.5815682,15.742142,28.784489,13.180812,9.5527,12.088301,13.114658,14.980738,9.211072,13.892128,9.890487,25.669844,11.993245,23.3119,14.429075,29.504114,-27.391577,12.692991,2.9556758,22.792849,33.038425,10.86273,7.530976,-6.0402784,-6.1065445,-3.671917,-5.5731044,-2.7147686,-3.4269774,-4.792479,-4.5972586],\"xaxis\":\"x\",\"y\":[8.413977,12.699357,8.350026,-7.9283323,2.2245634,1.1943837,-4.189147,9.6078615,-7.8897877,7.4746585,4.7225137,11.850128,-9.721751,-10.452037,13.883641,-10.874922,11.768127,2.214128,2.407823,9.816627,-5.8363585,-5.7526903,-0.7681994,5.6593723,0.6462764,9.941346,-12.796032,2.9514718,2.3784297,0.20524102,-6.1780033,-13.380635,12.177892,3.5585785,13.139235,-2.6962383,5.6636953,-5.5612874,10.208351,7.564032,-7.506776,-2.6443028,6.5737166,-10.092169,0.7664813,6.975233,11.643042,9.494097,-8.64075,-6.6055536,-12.036203,-10.74692,-11.796674,4.5687737,-7.9151325,2.5123448,5.176318,11.914262,1.86175,-1.8942931,-14.631682,7.965818,6.708591,-11.172367,3.6023536,8.621151,5.230718,-11.2378645,12.074219,-6.816185,13.945131,3.519055,-8.932805,8.043416,-9.382206,5.44216,5.555273,-6.638374,12.723771,-0.7543518,1.3120047,-9.0420065,-9.237414,-10.03266,6.504199,0.95060176,2.7717412,0.053382557,0.78733265,-10.550641,-9.926937,7.73665,11.899975,3.819867,-9.002302,-9.717147,3.364799,1.3072731,-12.843531,-6.7784915,-8.153329,11.449992,-11.727309,2.273953,3.8964686,0.18460755,5.1195207,6.6784763,-11.626048,1.6997212,6.887498,13.359195,6.7009463,10.739949,4.903428,-5.874981,-12.734461,-9.426463,-5.143001,3.9722226,5.2318764,-5.169563,5.9566097,4.573655,0.40683365,3.7426596,4.567412,-10.155245,-11.542631,3.9112763,-11.270364,-13.140798,3.969739,-12.906699,11.988479,0.4513421,-6.584997,6.8240466,-10.825198,-12.453052,3.9707584,6.6489,9.96494,2.8008783,-7.8983445,3.540359,-14.625569,4.9150515,4.493801,10.212412,12.6791935,8.334956,7.722542,-5.2314773,-6.4950433,-8.2476845,2.748074,-4.904541,-5.343075,-9.210614,-0.12174745,-6.196034,-8.729365,6.344187,-2.4419692,6.0607753,-3.9327018,4.565302,8.7578745,7.5339866,-0.7372862,-3.6466768,-9.312421,-2.2241738,-4.4239025,-5.2456713,-5.1867085,-7.9722247,2.9956834,-1.9438704,-0.022783516,8.851804,-5.0581045,-1.1571542,-7.950395,-7.2036357,8.671911,-1.6799363,-2.312157,-0.5151581,-6.385996,-1.2519841,-2.116969,-4.9888268,6.527589,-2.144329,-2.2528653,5.3227367,-1.3636389,-3.581933,-2.7898042,4.92953,-0.78400785,4.0423284,4.289069,10.535541,2.864146,-3.7953973,-4.4613953,-8.220343,-3.4084003,1.7884561,-3.753983,7.14567,3.687463,-4.5473704,-0.021314068,4.543451,-4.3602395,-0.2498938,-5.669293,-7.5327363,-7.432482,-8.967812,2.9456651,-5.3368654,5.5412116,6.7068563,-1.2022249,4.704681,5.564104,-9.891323,-7.940572,-3.5359564,-0.82791394,6.168345,-1.3460344,0.83759457,9.919828,-4.627819,-3.633606,-2.910132,-1.7880838,0.32371917,9.839876,-0.7832374,2.752306,1.7120471,-2.137128,-10.092545,-1.4109559,2.7033136,5.229669,-3.7105253,-4.122069,9.43083,-3.8471925,-6.7072253,-3.3954554,-3.9318268,7.109979,7.6401467,-2.7139347,-7.249595,-2.7520638,-5.6795616,2.277274,-2.4924738,3.9642203,-0.8112524,-7.5374985,0.2708012,-8.691682,3.804417,-1.2924085,-4.965878,7.4487414,1.9954246,-6.259775,-6.6837826,-3.7907465,2.921231,-5.040631,-8.508596,0.5151889,6.88909,-6.7120733,8.493323,-3.605277,-4.3318934,-6.020916,8.677353,4.642261,4.76169,2.806572,3.6737611,3.1490412,2.9822602,2.2962518,2.4207141],\"yaxis\":\"y\",\"type\":\"scatter\"}],                        {\"template\":{\"data\":{\"histogram2dcontour\":[{\"type\":\"histogram2dcontour\",\"colorbar\":{\"outlinewidth\":0,\"ticks\":\"\"},\"colorscale\":[[0.0,\"#0d0887\"],[0.1111111111111111,\"#46039f\"],[0.2222222222222222,\"#7201a8\"],[0.3333333333333333,\"#9c179e\"],[0.4444444444444444,\"#bd3786\"],[0.5555555555555556,\"#d8576b\"],[0.6666666666666666,\"#ed7953\"],[0.7777777777777778,\"#fb9f3a\"],[0.8888888888888888,\"#fdca26\"],[1.0,\"#f0f921\"]]}],\"choropleth\":[{\"type\":\"choropleth\",\"colorbar\":{\"outlinewidth\":0,\"ticks\":\"\"}}],\"histogram2d\":[{\"type\":\"histogram2d\",\"colorbar\":{\"outlinewidth\":0,\"ticks\":\"\"},\"colorscale\":[[0.0,\"#0d0887\"],[0.1111111111111111,\"#46039f\"],[0.2222222222222222,\"#7201a8\"],[0.3333333333333333,\"#9c179e\"],[0.4444444444444444,\"#bd3786\"],[0.5555555555555556,\"#d8576b\"],[0.6666666666666666,\"#ed7953\"],[0.7777777777777778,\"#fb9f3a\"],[0.8888888888888888,\"#fdca26\"],[1.0,\"#f0f921\"]]}],\"heatmap\":[{\"type\":\"heatmap\",\"colorbar\":{\"outlinewidth\":0,\"ticks\":\"\"},\"colorscale\":[[0.0,\"#0d0887\"],[0.1111111111111111,\"#46039f\"],[0.2222222222222222,\"#7201a8\"],[0.3333333333333333,\"#9c179e\"],[0.4444444444444444,\"#bd3786\"],[0.5555555555555556,\"#d8576b\"],[0.6666666666666666,\"#ed7953\"],[0.7777777777777778,\"#fb9f3a\"],[0.8888888888888888,\"#fdca26\"],[1.0,\"#f0f921\"]]}],\"heatmapgl\":[{\"type\":\"heatmapgl\",\"colorbar\":{\"outlinewidth\":0,\"ticks\":\"\"},\"colorscale\":[[0.0,\"#0d0887\"],[0.1111111111111111,\"#46039f\"],[0.2222222222222222,\"#7201a8\"],[0.3333333333333333,\"#9c179e\"],[0.4444444444444444,\"#bd3786\"],[0.5555555555555556,\"#d8576b\"],[0.6666666666666666,\"#ed7953\"],[0.7777777777777778,\"#fb9f3a\"],[0.8888888888888888,\"#fdca26\"],[1.0,\"#f0f921\"]]}],\"contourcarpet\":[{\"type\":\"contourcarpet\",\"colorbar\":{\"outlinewidth\":0,\"ticks\":\"\"}}],\"contour\":[{\"type\":\"contour\",\"colorbar\":{\"outlinewidth\":0,\"ticks\":\"\"},\"colorscale\":[[0.0,\"#0d0887\"],[0.1111111111111111,\"#46039f\"],[0.2222222222222222,\"#7201a8\"],[0.3333333333333333,\"#9c179e\"],[0.4444444444444444,\"#bd3786\"],[0.5555555555555556,\"#d8576b\"],[0.6666666666666666,\"#ed7953\"],[0.7777777777777778,\"#fb9f3a\"],[0.8888888888888888,\"#fdca26\"],[1.0,\"#f0f921\"]]}],\"surface\":[{\"type\":\"surface\",\"colorbar\":{\"outlinewidth\":0,\"ticks\":\"\"},\"colorscale\":[[0.0,\"#0d0887\"],[0.1111111111111111,\"#46039f\"],[0.2222222222222222,\"#7201a8\"],[0.3333333333333333,\"#9c179e\"],[0.4444444444444444,\"#bd3786\"],[0.5555555555555556,\"#d8576b\"],[0.6666666666666666,\"#ed7953\"],[0.7777777777777778,\"#fb9f3a\"],[0.8888888888888888,\"#fdca26\"],[1.0,\"#f0f921\"]]}],\"mesh3d\":[{\"type\":\"mesh3d\",\"colorbar\":{\"outlinewidth\":0,\"ticks\":\"\"}}],\"scatter\":[{\"fillpattern\":{\"fillmode\":\"overlay\",\"size\":10,\"solidity\":0.2},\"type\":\"scatter\"}],\"parcoords\":[{\"type\":\"parcoords\",\"line\":{\"colorbar\":{\"outlinewidth\":0,\"ticks\":\"\"}}}],\"scatterpolargl\":[{\"type\":\"scatterpolargl\",\"marker\":{\"colorbar\":{\"outlinewidth\":0,\"ticks\":\"\"}}}],\"bar\":[{\"error_x\":{\"color\":\"#2a3f5f\"},\"error_y\":{\"color\":\"#2a3f5f\"},\"marker\":{\"line\":{\"color\":\"#E5ECF6\",\"width\":0.5},\"pattern\":{\"fillmode\":\"overlay\",\"size\":10,\"solidity\":0.2}},\"type\":\"bar\"}],\"scattergeo\":[{\"type\":\"scattergeo\",\"marker\":{\"colorbar\":{\"outlinewidth\":0,\"ticks\":\"\"}}}],\"scatterpolar\":[{\"type\":\"scatterpolar\",\"marker\":{\"colorbar\":{\"outlinewidth\":0,\"ticks\":\"\"}}}],\"histogram\":[{\"marker\":{\"pattern\":{\"fillmode\":\"overlay\",\"size\":10,\"solidity\":0.2}},\"type\":\"histogram\"}],\"scattergl\":[{\"type\":\"scattergl\",\"marker\":{\"colorbar\":{\"outlinewidth\":0,\"ticks\":\"\"}}}],\"scatter3d\":[{\"type\":\"scatter3d\",\"line\":{\"colorbar\":{\"outlinewidth\":0,\"ticks\":\"\"}},\"marker\":{\"colorbar\":{\"outlinewidth\":0,\"ticks\":\"\"}}}],\"scattermapbox\":[{\"type\":\"scattermapbox\",\"marker\":{\"colorbar\":{\"outlinewidth\":0,\"ticks\":\"\"}}}],\"scatterternary\":[{\"type\":\"scatterternary\",\"marker\":{\"colorbar\":{\"outlinewidth\":0,\"ticks\":\"\"}}}],\"scattercarpet\":[{\"type\":\"scattercarpet\",\"marker\":{\"colorbar\":{\"outlinewidth\":0,\"ticks\":\"\"}}}],\"carpet\":[{\"aaxis\":{\"endlinecolor\":\"#2a3f5f\",\"gridcolor\":\"white\",\"linecolor\":\"white\",\"minorgridcolor\":\"white\",\"startlinecolor\":\"#2a3f5f\"},\"baxis\":{\"endlinecolor\":\"#2a3f5f\",\"gridcolor\":\"white\",\"linecolor\":\"white\",\"minorgridcolor\":\"white\",\"startlinecolor\":\"#2a3f5f\"},\"type\":\"carpet\"}],\"table\":[{\"cells\":{\"fill\":{\"color\":\"#EBF0F8\"},\"line\":{\"color\":\"white\"}},\"header\":{\"fill\":{\"color\":\"#C8D4E3\"},\"line\":{\"color\":\"white\"}},\"type\":\"table\"}],\"barpolar\":[{\"marker\":{\"line\":{\"color\":\"#E5ECF6\",\"width\":0.5},\"pattern\":{\"fillmode\":\"overlay\",\"size\":10,\"solidity\":0.2}},\"type\":\"barpolar\"}],\"pie\":[{\"automargin\":true,\"type\":\"pie\"}]},\"layout\":{\"autotypenumbers\":\"strict\",\"colorway\":[\"#636efa\",\"#EF553B\",\"#00cc96\",\"#ab63fa\",\"#FFA15A\",\"#19d3f3\",\"#FF6692\",\"#B6E880\",\"#FF97FF\",\"#FECB52\"],\"font\":{\"color\":\"#2a3f5f\"},\"hovermode\":\"closest\",\"hoverlabel\":{\"align\":\"left\"},\"paper_bgcolor\":\"white\",\"plot_bgcolor\":\"#E5ECF6\",\"polar\":{\"bgcolor\":\"#E5ECF6\",\"angularaxis\":{\"gridcolor\":\"white\",\"linecolor\":\"white\",\"ticks\":\"\"},\"radialaxis\":{\"gridcolor\":\"white\",\"linecolor\":\"white\",\"ticks\":\"\"}},\"ternary\":{\"bgcolor\":\"#E5ECF6\",\"aaxis\":{\"gridcolor\":\"white\",\"linecolor\":\"white\",\"ticks\":\"\"},\"baxis\":{\"gridcolor\":\"white\",\"linecolor\":\"white\",\"ticks\":\"\"},\"caxis\":{\"gridcolor\":\"white\",\"linecolor\":\"white\",\"ticks\":\"\"}},\"coloraxis\":{\"colorbar\":{\"outlinewidth\":0,\"ticks\":\"\"}},\"colorscale\":{\"sequential\":[[0.0,\"#0d0887\"],[0.1111111111111111,\"#46039f\"],[0.2222222222222222,\"#7201a8\"],[0.3333333333333333,\"#9c179e\"],[0.4444444444444444,\"#bd3786\"],[0.5555555555555556,\"#d8576b\"],[0.6666666666666666,\"#ed7953\"],[0.7777777777777778,\"#fb9f3a\"],[0.8888888888888888,\"#fdca26\"],[1.0,\"#f0f921\"]],\"sequentialminus\":[[0.0,\"#0d0887\"],[0.1111111111111111,\"#46039f\"],[0.2222222222222222,\"#7201a8\"],[0.3333333333333333,\"#9c179e\"],[0.4444444444444444,\"#bd3786\"],[0.5555555555555556,\"#d8576b\"],[0.6666666666666666,\"#ed7953\"],[0.7777777777777778,\"#fb9f3a\"],[0.8888888888888888,\"#fdca26\"],[1.0,\"#f0f921\"]],\"diverging\":[[0,\"#8e0152\"],[0.1,\"#c51b7d\"],[0.2,\"#de77ae\"],[0.3,\"#f1b6da\"],[0.4,\"#fde0ef\"],[0.5,\"#f7f7f7\"],[0.6,\"#e6f5d0\"],[0.7,\"#b8e186\"],[0.8,\"#7fbc41\"],[0.9,\"#4d9221\"],[1,\"#276419\"]]},\"xaxis\":{\"gridcolor\":\"white\",\"linecolor\":\"white\",\"ticks\":\"\",\"title\":{\"standoff\":15},\"zerolinecolor\":\"white\",\"automargin\":true,\"zerolinewidth\":2},\"yaxis\":{\"gridcolor\":\"white\",\"linecolor\":\"white\",\"ticks\":\"\",\"title\":{\"standoff\":15},\"zerolinecolor\":\"white\",\"automargin\":true,\"zerolinewidth\":2},\"scene\":{\"xaxis\":{\"backgroundcolor\":\"#E5ECF6\",\"gridcolor\":\"white\",\"linecolor\":\"white\",\"showbackground\":true,\"ticks\":\"\",\"zerolinecolor\":\"white\",\"gridwidth\":2},\"yaxis\":{\"backgroundcolor\":\"#E5ECF6\",\"gridcolor\":\"white\",\"linecolor\":\"white\",\"showbackground\":true,\"ticks\":\"\",\"zerolinecolor\":\"white\",\"gridwidth\":2},\"zaxis\":{\"backgroundcolor\":\"#E5ECF6\",\"gridcolor\":\"white\",\"linecolor\":\"white\",\"showbackground\":true,\"ticks\":\"\",\"zerolinecolor\":\"white\",\"gridwidth\":2}},\"shapedefaults\":{\"line\":{\"color\":\"#2a3f5f\"}},\"annotationdefaults\":{\"arrowcolor\":\"#2a3f5f\",\"arrowhead\":0,\"arrowwidth\":1},\"geo\":{\"bgcolor\":\"white\",\"landcolor\":\"#E5ECF6\",\"subunitcolor\":\"white\",\"showland\":true,\"showlakes\":true,\"lakecolor\":\"white\"},\"title\":{\"x\":0.05},\"mapbox\":{\"style\":\"light\"}}},\"xaxis\":{\"anchor\":\"y\",\"domain\":[0.0,1.0],\"title\":{\"text\":\"Component 1\"}},\"yaxis\":{\"anchor\":\"x\",\"domain\":[0.0,1.0],\"title\":{\"text\":\"Component 2\"}},\"legend\":{\"tracegroupgap\":0},\"title\":{\"text\":\"t-SNE of MTEB Banking77 Embeddings (e5-large-v2)\"}},                        {\"responsive\": true}                    ).then(function(){\n",
              "                            \n",
              "var gd = document.getElementById('1ca75962-3ec2-42e9-bf53-50f944775f90');\n",
              "var x = new MutationObserver(function (mutations, observer) {{\n",
              "        var display = window.getComputedStyle(gd).display;\n",
              "        if (!display || display === 'none') {{\n",
              "            console.log([gd, 'removed!']);\n",
              "            Plotly.purge(gd);\n",
              "            observer.disconnect();\n",
              "        }}\n",
              "}});\n",
              "\n",
              "// Listen for the removal of the full notebook cells\n",
              "var notebookContainer = gd.closest('#notebook-container');\n",
              "if (notebookContainer) {{\n",
              "    x.observe(notebookContainer, {childList: true});\n",
              "}}\n",
              "\n",
              "// Listen for the clearing of the current output cell\n",
              "var outputEl = gd.closest('.output');\n",
              "if (outputEl) {{\n",
              "    x.observe(outputEl, {childList: true});\n",
              "}}\n",
              "\n",
              "                        })                };                            </script>        </div>\n",
              "</body>\n",
              "</html>"
            ]
          },
          "metadata": {}
        }
      ]
    },
    {
      "cell_type": "markdown",
      "source": [
        "- **Distribution and clustering:** The t-SNE visuals unveil evident clusters, revealing semantic similarity-based grouping of the embeddings. A more evident separation into several clusters provides evidence that the model easily differentiates different categories or themes of some text data. In free space, there is clear grouping of points with some clusters tighter and others more spread out, illustrating the variation in how the model interprets the relationships between these texts.\n",
        "- **Benefits of Visualization:** t-SNE correctly captures the non-linear structures in the data so that a richer representation can be achieved than would be possible via linear techniques like PCA. This plot shows much more separation between groups, indicating that t-SNE is doing a better job of revealing high-dimensional embedding structure.\n"
      ],
      "metadata": {
        "id": "u8JtnTr2sVL0"
      }
    },
    {
      "cell_type": "markdown",
      "source": [
        "# UMAP (Uniform Manifold Approximation and Projection):\n",
        "- Modern dimensionality reduction technique\n",
        "- Balances local and global structure preservation\n",
        "- Parameters:\n",
        "  1. n_neighbors=5: Small neighborhood size for detailed local structure\n",
        "  2. min_dist=0.1: Minimum distance between points\n",
        "  3. random_state=42: For reproducibility"
      ],
      "metadata": {
        "id": "yaecHbZMfaSy"
      }
    },
    {
      "cell_type": "code",
      "source": [
        "# UMAP Visualization\n",
        "umap_model = umap.UMAP(\n",
        "    n_components=2,\n",
        "    n_neighbors=15,\n",
        "    min_dist=0.1,\n",
        "    random_state=42\n",
        ")\n",
        "embeddings_umap = umap_model.fit_transform(embeddings)\n",
        "\n",
        "# Plot UMAP results\n",
        "fig_umap = px.scatter(\n",
        "    embeddings_umap,\n",
        "    x=0,\n",
        "    y=1,\n",
        "    hover_data={'text': texts},\n",
        "    title=\"UMAP of MTEB Banking77 Embeddings (e5-large-v2)\",\n",
        "    labels={'0': 'Component 1', '1': 'Component 2'}\n",
        ")\n",
        "fig_umap.update_traces(marker=dict(size=8))\n",
        "fig_umap.show()"
      ],
      "metadata": {
        "colab": {
          "base_uri": "https://localhost:8080/",
          "height": 613
        },
        "id": "koYg-50kYu8L",
        "outputId": "4b10ce98-0bed-4485-ce44-713eec52df33"
      },
      "execution_count": 8,
      "outputs": [
        {
          "output_type": "stream",
          "name": "stderr",
          "text": [
            "/usr/local/lib/python3.10/dist-packages/umap/umap_.py:1945: UserWarning:\n",
            "\n",
            "n_jobs value 1 overridden to 1 by setting random_state. Use no seed for parallelism.\n",
            "\n"
          ]
        },
        {
          "output_type": "display_data",
          "data": {
            "text/html": [
              "<html>\n",
              "<head><meta charset=\"utf-8\" /></head>\n",
              "<body>\n",
              "    <div>            <script src=\"https://cdnjs.cloudflare.com/ajax/libs/mathjax/2.7.5/MathJax.js?config=TeX-AMS-MML_SVG\"></script><script type=\"text/javascript\">if (window.MathJax && window.MathJax.Hub && window.MathJax.Hub.Config) {window.MathJax.Hub.Config({SVG: {font: \"STIX-Web\"}});}</script>                <script type=\"text/javascript\">window.PlotlyConfig = {MathJaxConfig: 'local'};</script>\n",
              "        <script charset=\"utf-8\" src=\"https://cdn.plot.ly/plotly-2.24.1.min.js\"></script>                <div id=\"09238096-3aee-4551-a7e6-f17cc1bc6afd\" class=\"plotly-graph-div\" style=\"height:525px; width:100%;\"></div>            <script type=\"text/javascript\">                                    window.PLOTLYENV=window.PLOTLYENV || {};                                    if (document.getElementById(\"09238096-3aee-4551-a7e6-f17cc1bc6afd\")) {                    Plotly.newPlot(                        \"09238096-3aee-4551-a7e6-f17cc1bc6afd\",                        [{\"customdata\":[[\"I am still waiting on my card?\"],[\"What can I do if my card still hasn't arrived after 2 weeks?\"],[\"I have been waiting over a week. Is the card still coming?\"],[\"Can I track my card while it is in the process of delivery?\"],[\"How do I know if I will get my card, or if it is lost?\"],[\"When did you send me my new card?\"],[\"Do you have info about the card on delivery?\"],[\"What do I do if I still have not received my new card?\"],[\"Does the package with my card have tracking?\"],[\"I ordered my card but it still isn't here\"],[\"Why has my new card still not come?\"],[\"I still haven't received my card after two weeks, is it lost?\"],[\"Can you track my card for me?\"],[\"Is there a way to track the delivery of my card?\"],[\"It's been a week since I ordered my card and it's not here. Please help?\"],[\"Will I be able to track the card that was sent to me?\"],[\"I don't have my card in 1 week.  Should I be worried?\"],[\"How do I know when my new card is going to arrive?\"],[\"My new card has not been delivered to my home yet. What is going on?\"],[\"It's been a week since you issued me a card and I still didn't get it. Should I keep waiting?\"],[\"On the card that is coming, what's the tracking info?\"],[\"What is the status of my card's delivery?\"],[\"Have you sent out my card yet?\"],[\"My card isn't here yet.\"],[\"where is my new card?\"],[\"It's been a week since you sent my card and I still don't have it.\"],[\"How do I track the card you sent me?\"],[\"When will I recieve my new card?\"],[\"When will I get my new card?\"],[\"What is the expected delivery date for my card?\"],[\"Is there a tracking number for the card you sent me?\"],[\"I would like to track the card you sent to me.\"],[\"Has my card been lost in delivery?\"],[\"My new card hasn't came in.\"],[\"Where is the card I ordered 2 weeks ago?\"],[\"Can I get an update on my replacement card?\"],[\"How long does it take for a new card to ship?\"],[\"What's the tracking on the card you sent?\"],[\"I haven't received my card and am worried it is lost.\"],[\"My card still hasn't been delivered\"],[\"I need to find out where the card is that I ordered.\"],[\"Where is my credit card that was to be mailed?\"],[\"I ordered my card but it hasn't been delivered yet\"],[\"Am I able to track the card that was just sent to me?\"],[\"Can you tell me why I haven't received my new card?\"],[\"I'm still waiting for my new card.\"],[\"Is my card lost? I am still waiting for it to be delivered.\"],[\"Should I keep waiting for my card to be delivered?\"],[\"Can I track when my card will be delivered?\"],[\"How can I check on the status of my new card?\"],[\"A card has been sent to me, how do I track it?\"],[\"Is there a way I can get my card expedited?\"],[\"What can I do to track the card you sent me?\"],[\"why hasnt my card come in yet?\"],[\"How can I periodically check the delivery of the card you sent?\"],[\"What's the reason my new card hasn't come?\"],[\"How long does it take for me to get my new card?\"],[\"I don't have my card after 1 week. What are my next steps?\"],[\"I know I'm getting a new card but would like know when I can expect to receive it.\"],[\"I want to find out what happened to my new card?\"],[\"Was there a way for me to get tracking for that?\"],[\"I am still waiting for my card.\"],[\"My card hasn't arrived.\"],[\"Can I track the card you sent to me?\"],[\"I haven't gotten my new card.\"],[\"How long should it take for my new card to arrive in them mail? What should I do if I never receive it?\"],[\"Will I have to wait much longer for my new card to arrive?\"],[\"how to track the card you sent\"],[\"2 weeks ago I ordered my new card.  It isn't here.  What should I do?\"],[\"How can I check on the delivery status of my card?\"],[\"My card has not been delivered yet and its been a week since I ordered it, please help\"],[\"What's the expected wait time to recieve my new card?\"],[\"How can I see the progress of delivery of the card that was sent?\"],[\"My card was supposed to arrive, but hasn't?\"],[\"I ordered a card and would like to know how to track the delivery progress of it.\"],[\"How long will it take for me to get my card?\"],[\"My card hasn't shown up yet.\"],[\"Does the card you sent have a tracking number?\"],[\"My card hasn't arrived in the mail yet. I ordered it two weeks ago. What can I do?\"],[\"maximum how many days get the courier?\"],[\"Is there a reason my new card hasn't arrived yet?\"],[\"I've been waiting a while for my card, is there a way to know when it will arrive?\"],[\"How can I track my card's delivery?\"],[\"Can I track the card that was just sent to me?\"],[\"If I ordered my new card last week, how much longer should I wait to receive it?\"],[\"What's go on, where is my new card?\"],[\"Where is my new card if I haven't received it yet?\"],[\"Where is my card?\"],[\"Can you tell me why I haven't received my new card yet?\"],[\"Is there a way to track my card?\"],[\"Is there a way to track the new card you sent me?\"],[\"I'm still waiting for my card.\"],[\"What do I need to do to get my new card which I have requested 2 weeks ago?\"],[\"WHAT IS THE SOLUTION OF THIS PROBLEM\"],[\"Could I get tracking on the card?\"],[\"Can you help me track my card?\"],[\"Shouldn't my new card be here by now?\"],[\"Is there a reason my new card hasn't arrived?\"],[\"I would like to track a card sent to me, how do I do that?\"],[\"Is there a tracking number for the card?\"],[\"can you share card tracking number?\"],[\"I have not received my card and it's been a week, what do I do?\"],[\"Is there a way I can check on the card on route to me?\"],[\"When will my new card arrive?\"],[\"Why haven't I received my new card yet?\"],[\"What is the expected delivery date of my card?\"],[\"My card hasn't came in the mail yet?\"],[\"I haven't received my card.\"],[\"Is it possible for me to track the card is was mailed to me?\"],[\"When will my new card be delivered?\"],[\"I was issued a card about a week ago. why hasn't it come in yet?\"],[\"Can you please tell me where my card is? I ordered it 2 weeks ago!\"],[\"I still haven't received my card in the mail\"],[\"I'm still waiting for my card that was issued a week ago. What should I do?\"],[\"I still haven't gotten my new card.  When will it get here?\"],[\"Do you have a tracking number for the card I was sent?\"],[\"How do I track the card you sent to me?\"],[\"Is my new bank card on the way and is there a way to track it?\"],[\"Could you send me and up date on the arrival of my card?\"],[\"How long does it take to recieve my new card?\"],[\"My card has not come in the mail yet.\"],[\"What's the card you sent me's tracking number?\"],[\"i havent got my card\"],[\"Why hasn't my card arrived yet?\"],[\"I thought I would have received my new card at this point.\"],[\"How long until my new card gets here?\"],[\"How much longer until I get my new card?\"],[\"Am I able to track a card that has already been sent?\"],[\"Is it possible to track the card you sent me?\"],[\"How long will it be to get this new card?\"],[\"how can i track card you sent\"],[\"Can the card was sen to me be tracked?\"],[\"why have i not got my new card?\"],[\"I need to track the card sent to me.\"],[\"It's been two weeks and I haven't gotten my card, what do I do?\"],[\"I was expecting my new card by now.\"],[\"Where is the tracking number for the card?\"],[\"I was issued a new card a week ago but still haven't received it. How long will it be until I receive it?\"],[\"Can I track the card that you sent me in the mail?\"],[\"Can you tell me if I can track the card you sent me?\"],[\"Why have I not gotten my new card?\"],[\"I'm still waiting on my new card to be delivered!\"],[\"My new card isn't here and it was issued a week ago.\"],[\"I was supposed to receive my new card by now, but it hasn't came in.\"],[\"Is a tracking number available for the card that was just sent?\"],[\"Why haven't I gotten my new card?\"],[\"Was there a number to track that I could get?\"],[\"How much longer is it going to take to get my new card?\"],[\"I haven't gotten my credit card in the mail.\"],[\"My card hasn't arrived yet. What do I do?\"],[\"My card still hasn't arrived after two weeks, now what?\"],[\"My card appears to have never arrived?\"],[\"My card never arrived.\"],[\"My card has been found. Is there any way for me to put it back into the app?\"],[\"I was able to find my card. How to I go about putting it into my app?\"],[\"how do I get my card to show in the app?\"],[\"I just got my card.  It's not linked yet--how do I do that?\"],[\"lost card found, want to put it back in app\"],[\"I just got a card, how can I add it to the app?\"],[\"Is there any way to see my card in the app?\"],[\"If I find a card I lost do I need to dispose of it? Or can I re-active the card and continue to use it?\"],[\"I found my card. How can I put it into my app?\"],[\"How do I make my card show up in the app?\"],[\"Can you show me where to link the new card?\"],[\"I found my old card. Can I link it back into the app?\"],[\"Show me how to link the new card,\"],[\"How do I add an existing card to the app?\"],[\"I finally got my card.  Now I want to link it.  Is that something you have to do or can I do that?\"],[\"How do I link one of your card that I already have?\"],[\"If I have a physical card can I link it?\"],[\"I found my lost card in my jacket pocket this morning so I'd like to reactivate it please.\"],[\"Can I add a card that I just found (again) to the app?\"],[\"How can I make my card show up in the app?\"],[\"I would like to re-activate my card, it was previously reported  lost but I found it this morning.\"],[\"Okay, I found my card, can I put it back in the app?\"],[\"Can I reactivate a card?\"],[\"I would like to reactivate a card and wondered if that could be done?\"],[\"I got my card now, how do I make it show up in the app?\"],[\"How do I link an existing card?\"],[\"How do I link a new card in the app?\"],[\"The card I thought was lost was just in my jacket, so can I reactivate it since I found it this morning?\"],[\"I already have a card and want to link it\"],[\"Can you please reactivate my card?\"],[\"Where do I go to add a new card?\"],[\"I want my card I just received to show up in the app. How do I do that?\"],[\"I received my card, how do I get it to show in the app?\"],[\"If I have a credit card with you how I get set up to link to it?\"],[\"How do I add my new card?\"],[\"I want to reactivate my card, I thought I had lost it but found it again this morning.\"],[\"I need a card reactivation, I had reported my card lost but I ran across it in my jacket.\"],[\"My card is no longer lost. How do I enter it back into the app?\"],[\"I want to reactivate my card, I thought I had lost it but found it again in my jacket.\"],[\"May I reactivate my card? I previously reported it lost, but have now found it safe and sound.\"],[\"How do I reactivate a card I thought I lost?\"],[\"Help me figure out how to link the new card.\"],[\"I found my lost card. Am I still able to use it?\"],[\"Will I need a new card or can I put my old card back into the app?\"],[\"Is there a way to link the card i just got?\"],[\"How do I add a new card?\"],[\"I want to reactivate my card, I found it after thinking it was lost.\"],[\"Can I put my old card back in the app?\"],[\"I got a new card, how do I link it?\"],[\"I found the card I thought I lost this morning. Can I reactivate this card?\"],[\"How do i go about linking a new card?\"],[\"how do i get the card linked\"],[\"I have one of your cards, but I don't know how to link it.\"],[\"how do I link an old card?\"],[\"I received my card. How do I link it to the app?\"],[\"Now that I have my card, how do I connect it to the app?\"],[\"How do I add the card I just received to show up in the app?\"],[\"I want to reactivate my card, I thought I had lost it but I found it.\"],[\"What do I need to do to link my new card for my account?\"],[\"Can I add a card to back into the app?\"],[\"I want to link my new card. Can you help?\"],[\"What is the process to link the new card?\"],[\"I found my card, am I able to put it back into the app?\"],[\"I have found my lost or stolen card, would I still have to activate the new card that was sent to me through the mail in order to access my account?\"],[\"Where can I link a new card?\"],[\"How do I add a card on to the app?\"],[\"I found my card in my jacket this morning, so can I reactivate it?\"],[\"I've obtained the card, how do I enable it on the app?\"],[\"I need to find the card I received in the app.\"],[\"How do I get my card on the app?\"],[\"In the app, how can I make it show the new card that arrived?\"],[\"How do I link my new card?\"],[\"Can I activate a card in the app?\"],[\"I want to link to my card card with you, how?\"],[\"I would like to link my card to my account.\"],[\"I thought I lost my card so I cancelled it, but recently I found it in my jacket and I would like to re-establish the card.\"],[\"How can I link the new card?\"],[\"I got a new card and can't find where to link it.\"],[\"Hey, I have my card, how do I get it to show in the app?\"],[\"Where in the app do I go to make my new card show up?\"],[\"Where do I scan my card?\"],[\"Can I reactivate my card? I reported it lost and found it this morning in my jacket.\"],[\"Can I link my card I previously received?\"],[\"I want to reactivate my card, I thought I had lost it but found it again in my jacket this morning.\"],[\"I'd lke my card reactivated, I was thinking it was misplaced but I discovered when I woke up that I had left it in my coat.\"],[\"You sent me a card and now I want to link it.\"],[\"How do I add my new card to the app?\"],[\"Can I add a card back to the app?\"],[\"What if I want to add a card I already have to the app?\"],[\"I recently reported my card as missing\\u002flost, and I just found it. Can I still use it?\"],[\"Could I reactivate my card please, I couldn't find it but it turns out it was in my jacket pocket.\"],[\"Is there a way to link cards if I have one of yours?\"],[\"If my card was lost or stolen can I re-link it?\"],[\"How do I link a new card to an existing one?\"],[\"How do I link a new payment card?\"],[\"I would like to reactivate my card that I previously reported lost. I located the card this morning.\"],[\"Card has been received, how will it show up on the app?\"],[\"Can I re-link a lost card with the app?\"],[\"What do I do to link my new card?\"],[\"Is it possible to link a new card?\"],[\"I deactivated my card but would like to reactivate it.\"],[\"I found my card that I thought I had lost, I need to reactive it, please help.\"],[\"can I link a card of yours I already have?\"],[\"Can I put my found card back into the app on my phone?\"],[\"My card arrived but I need to make it work in the app, how do I do that?\"],[\"I found the card that I thought I lost, and I would like to reactivate it.\"],[\"I found my card again. Can I put it back into the app?\"],[\"I need some help linking my new card.\"],[\"help me link my card\"],[\"How do I link my card in the app.\"],[\"How do I get my card into the app?\"],[\"I found my card! Can I link it back into the app?\"],[\"How do I reactivate my card?\"],[\"Where do I go to get my new card linked?\"],[\"I thought I lost my card but I found it today, so I would like to reactivate it.\"],[\"How do I link the new card that I just got from you guys?\"],[\"How can I add a new card?\"],[\"Can you tell me how to get my card on the app?\"],[\"Is it possible to reactivate the card I thought I lost but found this morning in my jacket?\"],[\"How do I make my card appear on the app?\"],[\"How do I link the new card?\"],[\"Where in the app do I link a new card?\"],[\"How do I add my card to the app once I get it?\"],[\"Can I link your physical card\"],[\"How do I activate and link my new card?\"],[\"I got a card, how do I get it in the app?\"],[\"I received my new card.  Where is it in the app?\"],[\"I found my card, how can I use it again?\"],[\"I just received a new card, where do I go to link it to my account?\"],[\"found card, how to put it back in app\"],[\"How do I see my card in the app?\"],[\"The card I thought I lost was in my jacket pocket this morning, so can I reactivate that?\"],[\"I don't see my card anywhere in the app.\"],[\"I received my card, how do I get it to work in the app?\"],[\"What do I do if I already had a card with you guys?\"],[\"if i found a lost card can i put it back in app\"],[\"I have a card that was deactivated can I reactivate it?\"],[\"My new card isn't in my app, how do I get it in there?\"],[\"Help me access the card I already got so I can information from it.\"],[\"What is my money worth in other countries?\"],[\"Will my money be of equal value when I travel abroad?\"],[\"Do you know the rate of exchange?\"],[\"What foreign exchange rate will I get on weekdays and on the weekends?\"],[\"What is the exchange looking like?\"],[\"How is the exchange rate doing?\"],[\"I would like to know how exchange rates are calculated when transferring funds.\"],[\"I would like to know what exchange rates you use?\"]],\"hovertemplate\":\"Component 1=%{x}\\u003cbr\\u003eComponent 2=%{y}\\u003cbr\\u003etext=%{customdata[0]}\\u003cextra\\u003e\\u003c\\u002fextra\\u003e\",\"legendgroup\":\"\",\"marker\":{\"color\":\"#636efa\",\"symbol\":\"circle\",\"size\":8},\"mode\":\"markers\",\"name\":\"\",\"orientation\":\"v\",\"showlegend\":false,\"x\":[-1.0586308,-0.53323305,-1.2055535,-5.150401,-1.8395122,-2.5849466,-4.794982,-0.9848608,-5.080549,-1.1432453,-2.1889408,-0.50126296,-4.955487,-5.692908,-0.8701957,-5.2476416,-0.49546325,-2.2123342,-2.0476365,-0.8376807,-4.9744444,-3.7076612,-1.7296722,-1.3859782,-2.400835,-0.9825136,-4.815806,-2.6660345,-2.5775537,-2.873792,-4.8589606,-4.6641507,-0.6772363,-1.8693794,-0.5209573,-3.0955594,-2.427544,-4.8777523,-0.736881,-0.95715356,-3.9678888,-1.402791,-1.3787471,-5.2050714,-2.1816838,-0.9763162,-0.7803894,-0.8312593,-4.8135567,-3.676699,-4.9210067,-5.8855963,-4.9291606,-1.7135388,-4.4061804,-2.204193,-2.4735973,-0.6113676,-2.3558452,-2.7027364,-5.612727,-0.88196206,-1.3020264,-4.943584,-1.9737295,-1.4565123,-2.3542192,-4.745688,-0.51196975,-4.043572,-0.8302717,-2.7748537,-4.273368,-1.4546585,-4.410939,-2.531857,-1.2223985,-4.811962,-0.464304,-2.4046564,-2.061482,-5.836195,-4.5335603,-5.0870733,-1.9977244,-2.3231587,-1.8545452,-2.0289404,-2.0607915,-5.748516,-5.51677,-0.88293386,-0.48479748,11.0856905,-5.125399,-4.8472123,-2.209363,-1.9879328,-4.778684,-4.941944,-4.9534245,-0.635736,-5.709282,-2.4784944,-2.1404133,-2.8921666,-1.5535127,-1.1780132,-5.5072474,-2.7269213,-1.5372903,-0.6248307,-0.9238065,-0.6602944,-2.3170292,-4.667064,-4.9734163,-5.6295,-4.5456533,-2.6472647,-1.158333,-4.650092,-1.303892,-1.6825867,-2.205082,-2.3979297,-2.3191533,-5.3563766,-5.3645234,-2.2602236,-4.8571997,-5.0522,-2.3325586,-4.580444,-0.5707839,-2.3578482,-4.885432,-1.7599703,-5.017798,-4.8570223,-2.343137,-0.9712085,-1.5263207,-1.9555943,-4.943751,-2.2071362,-5.5139146,-2.1788323,-0.98972,-0.7729195,-0.45100075,-1.1884059,-1.2402285,12.704514,12.359704,12.888204,10.957553,12.782052,12.807215,12.669613,12.237062,12.495827,12.824273,10.699279,12.853837,10.48518,12.311504,10.562285,10.355852,10.401441,12.168291,12.698573,13.148191,12.065434,12.661418,11.482975,11.603051,12.920051,11.328183,11.985984,12.057795,10.056942,11.475264,11.691742,12.998138,12.934281,10.78582,11.829701,11.988442,12.260216,12.795167,12.234453,12.068851,11.612654,10.394159,12.335345,12.928548,10.556125,11.797105,11.800696,12.922275,10.856664,11.879593,11.073538,11.224393,10.080125,11.313364,12.39004,12.381896,13.008057,11.780379,11.265218,12.849981,10.278221,10.972356,12.752195,12.156202,11.008856,12.408221,12.0902815,12.523346,12.576515,12.493568,13.239881,11.246952,12.657013,10.761967,10.365509,12.165262,10.911896,10.75715,12.760288,13.13908,11.949955,12.17971,10.491776,12.137813,12.369493,10.180827,12.288239,12.903138,12.776814,12.255457,12.358138,10.122723,12.209902,11.35704,11.380411,11.92533,13.078489,12.496864,11.252499,10.58935,11.503055,11.668926,10.017208,12.790555,12.936494,11.758185,12.591876,10.21106,10.287607,12.253948,12.450535,12.551837,11.462435,11.327188,11.96139,10.832634,11.779819,12.496352,12.176854,12.773699,11.065778,11.885508,12.3808365,10.348353,11.469279,12.68075,12.879083,12.419159,10.95913,12.745769,12.601735,12.190925,-1.2726288,12.811007,-0.6238335,12.564153,11.421345,12.813342,10.170692,-3.235732,-3.2232578,-3.4895713,-3.2454214,-3.4539266,-3.4125183,-3.380004,-3.4963744],\"xaxis\":\"x\",\"y\":[4.0312257,5.426195,4.757215,7.016774,5.9827957,5.295734,7.9308047,5.7139034,7.6672053,3.6000319,4.2969713,4.8913774,6.9604363,6.9195986,4.890489,7.1911383,5.04152,5.879316,4.134876,4.59696,7.8924193,5.8875585,3.950851,3.162123,4.9148693,4.1451163,6.5990915,5.7664423,5.433708,5.739739,7.955379,6.8551226,4.135315,3.5737283,5.273408,5.3960767,5.94107,7.952038,3.5260112,3.6065485,6.282559,4.1478887,3.5277195,7.260223,4.0437307,3.8129423,3.9804394,4.2485805,6.848829,5.77171,6.5001917,6.84194,6.7069225,4.0142107,6.231399,4.192354,5.9269686,5.2881413,5.6841884,4.7083893,7.344945,3.713961,3.3290854,7.0826144,3.7011368,5.7890434,5.5796757,6.5852256,5.5004525,5.939422,5.0254416,5.93639,6.096098,3.8036852,6.268616,5.8102493,3.1673965,8.035536,5.421697,5.611359,4.2976727,6.8682704,6.254464,7.3842483,5.6734605,4.7187085,4.891945,4.6360674,4.1200767,6.9174695,6.7964087,3.6185195,5.4852204,5.6344533,7.6772075,7.039529,4.2411203,4.398067,6.441792,7.972629,7.4115357,5.356913,7.0253067,5.5514994,4.2244825,5.7594233,3.6463447,3.2203243,7.060314,5.6262207,4.693897,5.165602,3.6472976,5.4614015,5.377185,7.8992424,6.5834303,6.778711,7.3823,5.8910613,3.168785,8.09797,3.233866,4.0376368,3.715464,5.7085066,5.814973,7.1535645,6.807242,5.9316163,6.754209,7.394554,4.203251,6.7054477,5.363423,3.821561,7.9708524,5.238612,7.113531,7.172757,4.313171,3.8579624,3.5989523,3.599897,7.815601,4.2592645,7.401463,5.749165,3.0275013,5.6974316,5.463332,3.3920238,3.417861,7.4957476,7.9645376,9.918029,11.187555,7.42878,10.159667,9.988418,6.427371,7.413199,9.84753,11.743608,7.653987,11.882642,10.1020775,11.254301,11.383613,11.359378,4.894382,7.8582835,9.824599,4.7738853,7.4780946,4.8683696,4.925606,10.100072,11.576524,10.323072,5.245519,11.522829,4.8003063,11.310325,9.956139,9.638444,11.647582,11.111204,4.6628456,4.5746717,7.3969436,4.636962,5.1210213,4.584727,11.959913,6.598119,7.733744,11.170803,11.197541,4.4851255,7.797459,11.604649,5.16005,11.403299,11.747363,11.3963785,11.697666,9.536462,9.596235,9.96227,4.5041585,11.296532,7.9791718,11.591244,11.498547,7.5707145,6.386436,11.395873,10.153672,5.153027,9.3185425,8.852301,9.816043,9.790779,11.499341,8.779169,11.729007,11.803747,4.6058245,11.610873,11.832609,10.030137,9.7095375,10.924779,5.262048,11.005013,4.701141,4.6535153,11.547918,10.086153,8.05386,8.179172,6.3199573,4.893809,11.182779,6.5427694,11.615034,11.352035,4.7364073,9.744381,7.486042,11.475124,11.171526,4.820858,4.374908,11.37383,7.6700134,9.540504,4.41189,7.4370737,11.860691,11.966585,9.879981,9.809165,7.7325635,4.7865868,11.328175,4.5233526,11.371464,11.255666,9.619299,5.2121706,10.116084,11.522246,10.424244,9.978404,11.313767,11.571606,9.424662,9.346415,6.8704114,11.319387,7.5044622,9.8893385,5.0908465,3.0345697,9.542897,6.043225,7.633245,4.892222,9.590755,11.891188,6.9956465,6.9694734,7.2651186,7.046392,7.205741,7.189067,7.0821896,7.2542915],\"yaxis\":\"y\",\"type\":\"scatter\"}],                        {\"template\":{\"data\":{\"histogram2dcontour\":[{\"type\":\"histogram2dcontour\",\"colorbar\":{\"outlinewidth\":0,\"ticks\":\"\"},\"colorscale\":[[0.0,\"#0d0887\"],[0.1111111111111111,\"#46039f\"],[0.2222222222222222,\"#7201a8\"],[0.3333333333333333,\"#9c179e\"],[0.4444444444444444,\"#bd3786\"],[0.5555555555555556,\"#d8576b\"],[0.6666666666666666,\"#ed7953\"],[0.7777777777777778,\"#fb9f3a\"],[0.8888888888888888,\"#fdca26\"],[1.0,\"#f0f921\"]]}],\"choropleth\":[{\"type\":\"choropleth\",\"colorbar\":{\"outlinewidth\":0,\"ticks\":\"\"}}],\"histogram2d\":[{\"type\":\"histogram2d\",\"colorbar\":{\"outlinewidth\":0,\"ticks\":\"\"},\"colorscale\":[[0.0,\"#0d0887\"],[0.1111111111111111,\"#46039f\"],[0.2222222222222222,\"#7201a8\"],[0.3333333333333333,\"#9c179e\"],[0.4444444444444444,\"#bd3786\"],[0.5555555555555556,\"#d8576b\"],[0.6666666666666666,\"#ed7953\"],[0.7777777777777778,\"#fb9f3a\"],[0.8888888888888888,\"#fdca26\"],[1.0,\"#f0f921\"]]}],\"heatmap\":[{\"type\":\"heatmap\",\"colorbar\":{\"outlinewidth\":0,\"ticks\":\"\"},\"colorscale\":[[0.0,\"#0d0887\"],[0.1111111111111111,\"#46039f\"],[0.2222222222222222,\"#7201a8\"],[0.3333333333333333,\"#9c179e\"],[0.4444444444444444,\"#bd3786\"],[0.5555555555555556,\"#d8576b\"],[0.6666666666666666,\"#ed7953\"],[0.7777777777777778,\"#fb9f3a\"],[0.8888888888888888,\"#fdca26\"],[1.0,\"#f0f921\"]]}],\"heatmapgl\":[{\"type\":\"heatmapgl\",\"colorbar\":{\"outlinewidth\":0,\"ticks\":\"\"},\"colorscale\":[[0.0,\"#0d0887\"],[0.1111111111111111,\"#46039f\"],[0.2222222222222222,\"#7201a8\"],[0.3333333333333333,\"#9c179e\"],[0.4444444444444444,\"#bd3786\"],[0.5555555555555556,\"#d8576b\"],[0.6666666666666666,\"#ed7953\"],[0.7777777777777778,\"#fb9f3a\"],[0.8888888888888888,\"#fdca26\"],[1.0,\"#f0f921\"]]}],\"contourcarpet\":[{\"type\":\"contourcarpet\",\"colorbar\":{\"outlinewidth\":0,\"ticks\":\"\"}}],\"contour\":[{\"type\":\"contour\",\"colorbar\":{\"outlinewidth\":0,\"ticks\":\"\"},\"colorscale\":[[0.0,\"#0d0887\"],[0.1111111111111111,\"#46039f\"],[0.2222222222222222,\"#7201a8\"],[0.3333333333333333,\"#9c179e\"],[0.4444444444444444,\"#bd3786\"],[0.5555555555555556,\"#d8576b\"],[0.6666666666666666,\"#ed7953\"],[0.7777777777777778,\"#fb9f3a\"],[0.8888888888888888,\"#fdca26\"],[1.0,\"#f0f921\"]]}],\"surface\":[{\"type\":\"surface\",\"colorbar\":{\"outlinewidth\":0,\"ticks\":\"\"},\"colorscale\":[[0.0,\"#0d0887\"],[0.1111111111111111,\"#46039f\"],[0.2222222222222222,\"#7201a8\"],[0.3333333333333333,\"#9c179e\"],[0.4444444444444444,\"#bd3786\"],[0.5555555555555556,\"#d8576b\"],[0.6666666666666666,\"#ed7953\"],[0.7777777777777778,\"#fb9f3a\"],[0.8888888888888888,\"#fdca26\"],[1.0,\"#f0f921\"]]}],\"mesh3d\":[{\"type\":\"mesh3d\",\"colorbar\":{\"outlinewidth\":0,\"ticks\":\"\"}}],\"scatter\":[{\"fillpattern\":{\"fillmode\":\"overlay\",\"size\":10,\"solidity\":0.2},\"type\":\"scatter\"}],\"parcoords\":[{\"type\":\"parcoords\",\"line\":{\"colorbar\":{\"outlinewidth\":0,\"ticks\":\"\"}}}],\"scatterpolargl\":[{\"type\":\"scatterpolargl\",\"marker\":{\"colorbar\":{\"outlinewidth\":0,\"ticks\":\"\"}}}],\"bar\":[{\"error_x\":{\"color\":\"#2a3f5f\"},\"error_y\":{\"color\":\"#2a3f5f\"},\"marker\":{\"line\":{\"color\":\"#E5ECF6\",\"width\":0.5},\"pattern\":{\"fillmode\":\"overlay\",\"size\":10,\"solidity\":0.2}},\"type\":\"bar\"}],\"scattergeo\":[{\"type\":\"scattergeo\",\"marker\":{\"colorbar\":{\"outlinewidth\":0,\"ticks\":\"\"}}}],\"scatterpolar\":[{\"type\":\"scatterpolar\",\"marker\":{\"colorbar\":{\"outlinewidth\":0,\"ticks\":\"\"}}}],\"histogram\":[{\"marker\":{\"pattern\":{\"fillmode\":\"overlay\",\"size\":10,\"solidity\":0.2}},\"type\":\"histogram\"}],\"scattergl\":[{\"type\":\"scattergl\",\"marker\":{\"colorbar\":{\"outlinewidth\":0,\"ticks\":\"\"}}}],\"scatter3d\":[{\"type\":\"scatter3d\",\"line\":{\"colorbar\":{\"outlinewidth\":0,\"ticks\":\"\"}},\"marker\":{\"colorbar\":{\"outlinewidth\":0,\"ticks\":\"\"}}}],\"scattermapbox\":[{\"type\":\"scattermapbox\",\"marker\":{\"colorbar\":{\"outlinewidth\":0,\"ticks\":\"\"}}}],\"scatterternary\":[{\"type\":\"scatterternary\",\"marker\":{\"colorbar\":{\"outlinewidth\":0,\"ticks\":\"\"}}}],\"scattercarpet\":[{\"type\":\"scattercarpet\",\"marker\":{\"colorbar\":{\"outlinewidth\":0,\"ticks\":\"\"}}}],\"carpet\":[{\"aaxis\":{\"endlinecolor\":\"#2a3f5f\",\"gridcolor\":\"white\",\"linecolor\":\"white\",\"minorgridcolor\":\"white\",\"startlinecolor\":\"#2a3f5f\"},\"baxis\":{\"endlinecolor\":\"#2a3f5f\",\"gridcolor\":\"white\",\"linecolor\":\"white\",\"minorgridcolor\":\"white\",\"startlinecolor\":\"#2a3f5f\"},\"type\":\"carpet\"}],\"table\":[{\"cells\":{\"fill\":{\"color\":\"#EBF0F8\"},\"line\":{\"color\":\"white\"}},\"header\":{\"fill\":{\"color\":\"#C8D4E3\"},\"line\":{\"color\":\"white\"}},\"type\":\"table\"}],\"barpolar\":[{\"marker\":{\"line\":{\"color\":\"#E5ECF6\",\"width\":0.5},\"pattern\":{\"fillmode\":\"overlay\",\"size\":10,\"solidity\":0.2}},\"type\":\"barpolar\"}],\"pie\":[{\"automargin\":true,\"type\":\"pie\"}]},\"layout\":{\"autotypenumbers\":\"strict\",\"colorway\":[\"#636efa\",\"#EF553B\",\"#00cc96\",\"#ab63fa\",\"#FFA15A\",\"#19d3f3\",\"#FF6692\",\"#B6E880\",\"#FF97FF\",\"#FECB52\"],\"font\":{\"color\":\"#2a3f5f\"},\"hovermode\":\"closest\",\"hoverlabel\":{\"align\":\"left\"},\"paper_bgcolor\":\"white\",\"plot_bgcolor\":\"#E5ECF6\",\"polar\":{\"bgcolor\":\"#E5ECF6\",\"angularaxis\":{\"gridcolor\":\"white\",\"linecolor\":\"white\",\"ticks\":\"\"},\"radialaxis\":{\"gridcolor\":\"white\",\"linecolor\":\"white\",\"ticks\":\"\"}},\"ternary\":{\"bgcolor\":\"#E5ECF6\",\"aaxis\":{\"gridcolor\":\"white\",\"linecolor\":\"white\",\"ticks\":\"\"},\"baxis\":{\"gridcolor\":\"white\",\"linecolor\":\"white\",\"ticks\":\"\"},\"caxis\":{\"gridcolor\":\"white\",\"linecolor\":\"white\",\"ticks\":\"\"}},\"coloraxis\":{\"colorbar\":{\"outlinewidth\":0,\"ticks\":\"\"}},\"colorscale\":{\"sequential\":[[0.0,\"#0d0887\"],[0.1111111111111111,\"#46039f\"],[0.2222222222222222,\"#7201a8\"],[0.3333333333333333,\"#9c179e\"],[0.4444444444444444,\"#bd3786\"],[0.5555555555555556,\"#d8576b\"],[0.6666666666666666,\"#ed7953\"],[0.7777777777777778,\"#fb9f3a\"],[0.8888888888888888,\"#fdca26\"],[1.0,\"#f0f921\"]],\"sequentialminus\":[[0.0,\"#0d0887\"],[0.1111111111111111,\"#46039f\"],[0.2222222222222222,\"#7201a8\"],[0.3333333333333333,\"#9c179e\"],[0.4444444444444444,\"#bd3786\"],[0.5555555555555556,\"#d8576b\"],[0.6666666666666666,\"#ed7953\"],[0.7777777777777778,\"#fb9f3a\"],[0.8888888888888888,\"#fdca26\"],[1.0,\"#f0f921\"]],\"diverging\":[[0,\"#8e0152\"],[0.1,\"#c51b7d\"],[0.2,\"#de77ae\"],[0.3,\"#f1b6da\"],[0.4,\"#fde0ef\"],[0.5,\"#f7f7f7\"],[0.6,\"#e6f5d0\"],[0.7,\"#b8e186\"],[0.8,\"#7fbc41\"],[0.9,\"#4d9221\"],[1,\"#276419\"]]},\"xaxis\":{\"gridcolor\":\"white\",\"linecolor\":\"white\",\"ticks\":\"\",\"title\":{\"standoff\":15},\"zerolinecolor\":\"white\",\"automargin\":true,\"zerolinewidth\":2},\"yaxis\":{\"gridcolor\":\"white\",\"linecolor\":\"white\",\"ticks\":\"\",\"title\":{\"standoff\":15},\"zerolinecolor\":\"white\",\"automargin\":true,\"zerolinewidth\":2},\"scene\":{\"xaxis\":{\"backgroundcolor\":\"#E5ECF6\",\"gridcolor\":\"white\",\"linecolor\":\"white\",\"showbackground\":true,\"ticks\":\"\",\"zerolinecolor\":\"white\",\"gridwidth\":2},\"yaxis\":{\"backgroundcolor\":\"#E5ECF6\",\"gridcolor\":\"white\",\"linecolor\":\"white\",\"showbackground\":true,\"ticks\":\"\",\"zerolinecolor\":\"white\",\"gridwidth\":2},\"zaxis\":{\"backgroundcolor\":\"#E5ECF6\",\"gridcolor\":\"white\",\"linecolor\":\"white\",\"showbackground\":true,\"ticks\":\"\",\"zerolinecolor\":\"white\",\"gridwidth\":2}},\"shapedefaults\":{\"line\":{\"color\":\"#2a3f5f\"}},\"annotationdefaults\":{\"arrowcolor\":\"#2a3f5f\",\"arrowhead\":0,\"arrowwidth\":1},\"geo\":{\"bgcolor\":\"white\",\"landcolor\":\"#E5ECF6\",\"subunitcolor\":\"white\",\"showland\":true,\"showlakes\":true,\"lakecolor\":\"white\"},\"title\":{\"x\":0.05},\"mapbox\":{\"style\":\"light\"}}},\"xaxis\":{\"anchor\":\"y\",\"domain\":[0.0,1.0],\"title\":{\"text\":\"Component 1\"}},\"yaxis\":{\"anchor\":\"x\",\"domain\":[0.0,1.0],\"title\":{\"text\":\"Component 2\"}},\"legend\":{\"tracegroupgap\":0},\"title\":{\"text\":\"UMAP of MTEB Banking77 Embeddings (e5-large-v2)\"}},                        {\"responsive\": true}                    ).then(function(){\n",
              "                            \n",
              "var gd = document.getElementById('09238096-3aee-4551-a7e6-f17cc1bc6afd');\n",
              "var x = new MutationObserver(function (mutations, observer) {{\n",
              "        var display = window.getComputedStyle(gd).display;\n",
              "        if (!display || display === 'none') {{\n",
              "            console.log([gd, 'removed!']);\n",
              "            Plotly.purge(gd);\n",
              "            observer.disconnect();\n",
              "        }}\n",
              "}});\n",
              "\n",
              "// Listen for the removal of the full notebook cells\n",
              "var notebookContainer = gd.closest('#notebook-container');\n",
              "if (notebookContainer) {{\n",
              "    x.observe(notebookContainer, {childList: true});\n",
              "}}\n",
              "\n",
              "// Listen for the clearing of the current output cell\n",
              "var outputEl = gd.closest('.output');\n",
              "if (outputEl) {{\n",
              "    x.observe(outputEl, {childList: true});\n",
              "}}\n",
              "\n",
              "                        })                };                            </script>        </div>\n",
              "</body>\n",
              "</html>"
            ]
          },
          "metadata": {}
        }
      ]
    },
    {
      "cell_type": "markdown",
      "source": [
        "- **Distribution and clustering:** the UMAP visualization shows several distinct clustering regions, in particular a relatively tight cluster in the right-hand region of the figure, which suggests that these words have similar semantic features in the embedding space. In addition, there is a small, more isolated cluster in the lower left corner, suggesting that these words may have unique semantics or special labeling in the model.\n",
        "- **Label overlap and readability:** label overlap is more severe in the figure, especially in the main clustered regions, making it difficult to recognize specific words. This suggests that while UMAP does an excellent job of maintaining local structure, there is still a need to improve the display methods in this dense label visualization, such as increasing label spacing or using interactive tools to see individual words and cluster structure more clearly."
      ],
      "metadata": {
        "id": "_dtMYoBZfY0V"
      }
    },
    {
      "cell_type": "markdown",
      "source": [
        "# Compare and Summary\n",
        "- Each of these methods has its strengths and weaknesses: PCA, t-SNE, and UMAP regarding embedding space visualization. The output of pCA presents most words in a dense region-smooth overall structure; yet, it cannot separate the semantic groups well. While t-SNE is much better to highlight the local structure, showing more pronounced clustering between words, the labels are too seriously overlapped, making reading less readable. uMAP is more decentralized, since there are several distinct clusters, with dense clusters towards the right, which are isolated to the bottom left. This means that it has a better balance between global and local structure preservation, though the tags still overlap.\n",
        "- PCA is proper for viewing overall pattern distribution, t-SNE shows better local relationships and proximity, while UMAP balances the local and global structure better. To get better visualization, it may be effectively improved by decreasing the sample size or adopting an interactive visualization tool. Taking all the above together, the present analysis illustrates that UMAP actually conveys richer semantic structure, while t-SNE might be more applicable to in-depth analysis of the local patterns."
      ],
      "metadata": {
        "id": "ESINmvPzvYm3"
      }
    },
    {
      "cell_type": "markdown",
      "source": [
        "# Reference\n",
        "1. AIPI-590-XAI. “Duke-Ai-Xai/Explainable-Ml-Example-Notebooks/Embedding-Visualization.Ipynb at Main · AIPI-590-Xai/Duke-Ai-Xai.” GitHub, https://github.com/AIPI-590-XAI/Duke-AI-XAI/blob/main/explainable-ml-example-notebooks/embedding-visualization.ipynb Accessed 30 Oct. 2024.\n",
        "2. “Sentencetransformers Documentation.” SentenceTransformers Documentation - Sentence Transformers Documentation, https://sbert.net/ Accessed 30 Oct. 2024.\n",
        "3. Chatgpt. Explanation of Python code for models"
      ],
      "metadata": {
        "id": "KOstXctLWNmi"
      }
    }
  ]
}