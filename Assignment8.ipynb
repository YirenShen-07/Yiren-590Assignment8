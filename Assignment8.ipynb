{
  "nbformat": 4,
  "nbformat_minor": 0,
  "metadata": {
    "colab": {
      "provenance": [],
      "include_colab_link": true
    },
    "kernelspec": {
      "name": "python3",
      "display_name": "Python 3"
    },
    "language_info": {
      "name": "python"
    }
  },
  "cells": [
    {
      "cell_type": "markdown",
      "metadata": {
        "id": "view-in-github",
        "colab_type": "text"
      },
      "source": [
        "<a href=\"https://colab.research.google.com/github/YirenShen-07/Yiren-590Assignment8/blob/main/Assignment8.ipynb\" target=\"_parent\"><img src=\"https://colab.research.google.com/assets/colab-badge.svg\" alt=\"Open In Colab\"/></a>"
      ]
    },
    {
      "cell_type": "markdown",
      "source": [
        "# AIPI 590 - XAI | Assignment #08\n",
        "### This notebook explores different dimensionality reduction techniques for visualizing embedding spaces of language models. I compare PCA, t-SNE, and UMAP to understand how they represent the semantic relationships between words.\n",
        "\n",
        "### Yiren Shen\n",
        "\n",
        "#### Include the button below. Change the link to the location in your github repository:https://github.com/YirenShen-07/Yiren-590Assignment8/blob/main/Assignment8.ipynb"
      ],
      "metadata": {
        "id": "yS3YjlmDeMn2"
      }
    },
    {
      "cell_type": "markdown",
      "source": [
        "## DO:\n",
        "Visualize the embedding space of an embedding model on the MTEB leaderboard using tSNE, PCA, and UMAP. Compare/contrast the approaches.\n",
        "\n",
        "Rubric:\n",
        "Code implementing the explanation techniques is correct\n",
        "\n",
        "Code implementing the explanation techniques is clear and well documented\n",
        "\n",
        "Visualizations are clear, follow best practices, and has a clear caption/explanation in the notebook markdown\n",
        "\n",
        "Notebook includes markdown cell(s) with comprehensive explanations of the approach\n",
        "\n",
        "Includes summary of results\n"
      ],
      "metadata": {
        "id": "M-KJmW7ieSkN"
      }
    },
    {
      "cell_type": "code",
      "execution_count": 1,
      "metadata": {
        "id": "EHy6oM37dr7f",
        "colab": {
          "base_uri": "https://localhost:8080/"
        },
        "outputId": "01825dbf-31eb-417c-d80c-98767b6f9e3d"
      },
      "outputs": [
        {
          "output_type": "stream",
          "name": "stdout",
          "text": [
            "Cloning into 'Duke-AI-XAI'...\n",
            "remote: Enumerating objects: 68, done.\u001b[K\n",
            "remote: Counting objects: 100% (68/68), done.\u001b[K\n",
            "remote: Compressing objects: 100% (53/53), done.\u001b[K\n",
            "remote: Total 68 (delta 22), reused 49 (delta 12), pack-reused 0 (from 0)\u001b[K\n",
            "Receiving objects: 100% (68/68), 6.59 MiB | 5.80 MiB/s, done.\n",
            "Resolving deltas: 100% (22/22), done.\n",
            "/content/Duke-AI-XAI/templates\n",
            "template.ipynb\n"
          ]
        }
      ],
      "source": [
        "# Please use this to connect your GitHub repository to your Google Colab notebook\n",
        "# Connects to any needed files from GitHub and Google Drive\n",
        "import os\n",
        "\n",
        "# Remove Colab default sample_data\n",
        "!rm -r ./sample_data\n",
        "\n",
        "# Clone GitHub files to colab workspace\n",
        "repo_name = \"Duke-AI-XAI\" # Change to your repo name\n",
        "git_path = 'https://github.com/AIPI-590-XAI/Duke-AI-XAI.git' #Change to your path\n",
        "!git clone \"{git_path}\"\n",
        "\n",
        "# Install dependencies from requirements.txt file\n",
        "#!pip install -r \"{os.path.join(repo_name,'requirements.txt')}\" #Add if using requirements.txt\n",
        "\n",
        "# Change working directory to location of notebook\n",
        "notebook_dir = 'templates'\n",
        "path_to_notebook = os.path.join(repo_name,notebook_dir)\n",
        "%cd \"{path_to_notebook}\"\n",
        "%ls"
      ]
    },
    {
      "cell_type": "code",
      "source": [
        "!pip install gensim==4.3.2 matplotlib==3.7.1 scikit-learn==1.2.2 umap-learn==0.5.6 plotly==5.15.0 sentence-transformers mteb"
      ],
      "metadata": {
        "colab": {
          "base_uri": "https://localhost:8080/"
        },
        "id": "8n283Nkje0-b",
        "outputId": "c5b92812-8e05-4497-a4bb-4b2026d79524"
      },
      "execution_count": 2,
      "outputs": [
        {
          "output_type": "stream",
          "name": "stdout",
          "text": [
            "Requirement already satisfied: gensim==4.3.2 in /usr/local/lib/python3.10/dist-packages (4.3.2)\n",
            "Requirement already satisfied: matplotlib==3.7.1 in /usr/local/lib/python3.10/dist-packages (3.7.1)\n",
            "Requirement already satisfied: scikit-learn==1.2.2 in /usr/local/lib/python3.10/dist-packages (1.2.2)\n",
            "Requirement already satisfied: umap-learn==0.5.6 in /usr/local/lib/python3.10/dist-packages (0.5.6)\n",
            "Requirement already satisfied: plotly==5.15.0 in /usr/local/lib/python3.10/dist-packages (5.15.0)\n",
            "Requirement already satisfied: sentence-transformers in /usr/local/lib/python3.10/dist-packages (3.2.1)\n",
            "Requirement already satisfied: mteb in /usr/local/lib/python3.10/dist-packages (1.18.8)\n",
            "Requirement already satisfied: numpy>=1.18.5 in /usr/local/lib/python3.10/dist-packages (from gensim==4.3.2) (1.26.4)\n",
            "Requirement already satisfied: scipy>=1.7.0 in /usr/local/lib/python3.10/dist-packages (from gensim==4.3.2) (1.13.1)\n",
            "Requirement already satisfied: smart-open>=1.8.1 in /usr/local/lib/python3.10/dist-packages (from gensim==4.3.2) (7.0.5)\n",
            "Requirement already satisfied: contourpy>=1.0.1 in /usr/local/lib/python3.10/dist-packages (from matplotlib==3.7.1) (1.3.0)\n",
            "Requirement already satisfied: cycler>=0.10 in /usr/local/lib/python3.10/dist-packages (from matplotlib==3.7.1) (0.12.1)\n",
            "Requirement already satisfied: fonttools>=4.22.0 in /usr/local/lib/python3.10/dist-packages (from matplotlib==3.7.1) (4.54.1)\n",
            "Requirement already satisfied: kiwisolver>=1.0.1 in /usr/local/lib/python3.10/dist-packages (from matplotlib==3.7.1) (1.4.7)\n",
            "Requirement already satisfied: packaging>=20.0 in /usr/local/lib/python3.10/dist-packages (from matplotlib==3.7.1) (24.1)\n",
            "Requirement already satisfied: pillow>=6.2.0 in /usr/local/lib/python3.10/dist-packages (from matplotlib==3.7.1) (10.4.0)\n",
            "Requirement already satisfied: pyparsing>=2.3.1 in /usr/local/lib/python3.10/dist-packages (from matplotlib==3.7.1) (3.2.0)\n",
            "Requirement already satisfied: python-dateutil>=2.7 in /usr/local/lib/python3.10/dist-packages (from matplotlib==3.7.1) (2.8.2)\n",
            "Requirement already satisfied: joblib>=1.1.1 in /usr/local/lib/python3.10/dist-packages (from scikit-learn==1.2.2) (1.4.2)\n",
            "Requirement already satisfied: threadpoolctl>=2.0.0 in /usr/local/lib/python3.10/dist-packages (from scikit-learn==1.2.2) (3.5.0)\n",
            "Requirement already satisfied: numba>=0.51.2 in /usr/local/lib/python3.10/dist-packages (from umap-learn==0.5.6) (0.60.0)\n",
            "Requirement already satisfied: pynndescent>=0.5 in /usr/local/lib/python3.10/dist-packages (from umap-learn==0.5.6) (0.5.13)\n",
            "Requirement already satisfied: tqdm in /usr/local/lib/python3.10/dist-packages (from umap-learn==0.5.6) (4.66.6)\n",
            "Requirement already satisfied: tenacity>=6.2.0 in /usr/local/lib/python3.10/dist-packages (from plotly==5.15.0) (9.0.0)\n",
            "Requirement already satisfied: transformers<5.0.0,>=4.41.0 in /usr/local/lib/python3.10/dist-packages (from sentence-transformers) (4.44.2)\n",
            "Requirement already satisfied: torch>=1.11.0 in /usr/local/lib/python3.10/dist-packages (from sentence-transformers) (2.5.0+cu121)\n",
            "Requirement already satisfied: huggingface-hub>=0.20.0 in /usr/local/lib/python3.10/dist-packages (from sentence-transformers) (0.24.7)\n",
            "Requirement already satisfied: datasets>=2.19.0 in /usr/local/lib/python3.10/dist-packages (from mteb) (3.1.0)\n",
            "Requirement already satisfied: requests>=2.26.0 in /usr/local/lib/python3.10/dist-packages (from mteb) (2.32.3)\n",
            "Requirement already satisfied: typing-extensions>=4.5.0 in /usr/local/lib/python3.10/dist-packages (from mteb) (4.12.2)\n",
            "Requirement already satisfied: rich>=0.0.0 in /usr/local/lib/python3.10/dist-packages (from mteb) (13.9.3)\n",
            "Requirement already satisfied: pytrec-eval-terrier>=0.5.6 in /usr/local/lib/python3.10/dist-packages (from mteb) (0.5.6)\n",
            "Requirement already satisfied: pydantic>=2.0.0 in /usr/local/lib/python3.10/dist-packages (from mteb) (2.9.2)\n",
            "Requirement already satisfied: eval-type-backport>=0.0.0 in /usr/local/lib/python3.10/dist-packages (from mteb) (0.2.0)\n",
            "Requirement already satisfied: polars>=0.20.22 in /usr/local/lib/python3.10/dist-packages (from mteb) (1.9.0)\n",
            "Requirement already satisfied: filelock in /usr/local/lib/python3.10/dist-packages (from datasets>=2.19.0->mteb) (3.16.1)\n",
            "Requirement already satisfied: pyarrow>=15.0.0 in /usr/local/lib/python3.10/dist-packages (from datasets>=2.19.0->mteb) (17.0.0)\n",
            "Requirement already satisfied: dill<0.3.9,>=0.3.0 in /usr/local/lib/python3.10/dist-packages (from datasets>=2.19.0->mteb) (0.3.8)\n",
            "Requirement already satisfied: pandas in /usr/local/lib/python3.10/dist-packages (from datasets>=2.19.0->mteb) (2.2.2)\n",
            "Requirement already satisfied: xxhash in /usr/local/lib/python3.10/dist-packages (from datasets>=2.19.0->mteb) (3.5.0)\n",
            "Requirement already satisfied: multiprocess<0.70.17 in /usr/local/lib/python3.10/dist-packages (from datasets>=2.19.0->mteb) (0.70.16)\n",
            "Requirement already satisfied: fsspec<=2024.9.0,>=2023.1.0 in /usr/local/lib/python3.10/dist-packages (from fsspec[http]<=2024.9.0,>=2023.1.0->datasets>=2.19.0->mteb) (2024.9.0)\n",
            "Requirement already satisfied: aiohttp in /usr/local/lib/python3.10/dist-packages (from datasets>=2.19.0->mteb) (3.10.10)\n",
            "Requirement already satisfied: pyyaml>=5.1 in /usr/local/lib/python3.10/dist-packages (from datasets>=2.19.0->mteb) (6.0.2)\n",
            "Requirement already satisfied: llvmlite<0.44,>=0.43.0dev0 in /usr/local/lib/python3.10/dist-packages (from numba>=0.51.2->umap-learn==0.5.6) (0.43.0)\n",
            "Requirement already satisfied: annotated-types>=0.6.0 in /usr/local/lib/python3.10/dist-packages (from pydantic>=2.0.0->mteb) (0.7.0)\n",
            "Requirement already satisfied: pydantic-core==2.23.4 in /usr/local/lib/python3.10/dist-packages (from pydantic>=2.0.0->mteb) (2.23.4)\n",
            "Requirement already satisfied: six>=1.5 in /usr/local/lib/python3.10/dist-packages (from python-dateutil>=2.7->matplotlib==3.7.1) (1.16.0)\n",
            "Requirement already satisfied: charset-normalizer<4,>=2 in /usr/local/lib/python3.10/dist-packages (from requests>=2.26.0->mteb) (3.4.0)\n",
            "Requirement already satisfied: idna<4,>=2.5 in /usr/local/lib/python3.10/dist-packages (from requests>=2.26.0->mteb) (3.10)\n",
            "Requirement already satisfied: urllib3<3,>=1.21.1 in /usr/local/lib/python3.10/dist-packages (from requests>=2.26.0->mteb) (2.2.3)\n",
            "Requirement already satisfied: certifi>=2017.4.17 in /usr/local/lib/python3.10/dist-packages (from requests>=2.26.0->mteb) (2024.8.30)\n",
            "Requirement already satisfied: markdown-it-py>=2.2.0 in /usr/local/lib/python3.10/dist-packages (from rich>=0.0.0->mteb) (3.0.0)\n",
            "Requirement already satisfied: pygments<3.0.0,>=2.13.0 in /usr/local/lib/python3.10/dist-packages (from rich>=0.0.0->mteb) (2.18.0)\n",
            "Requirement already satisfied: wrapt in /usr/local/lib/python3.10/dist-packages (from smart-open>=1.8.1->gensim==4.3.2) (1.16.0)\n",
            "Requirement already satisfied: networkx in /usr/local/lib/python3.10/dist-packages (from torch>=1.11.0->sentence-transformers) (3.4.2)\n",
            "Requirement already satisfied: jinja2 in /usr/local/lib/python3.10/dist-packages (from torch>=1.11.0->sentence-transformers) (3.1.4)\n",
            "Requirement already satisfied: sympy==1.13.1 in /usr/local/lib/python3.10/dist-packages (from torch>=1.11.0->sentence-transformers) (1.13.1)\n",
            "Requirement already satisfied: mpmath<1.4,>=1.1.0 in /usr/local/lib/python3.10/dist-packages (from sympy==1.13.1->torch>=1.11.0->sentence-transformers) (1.3.0)\n",
            "Requirement already satisfied: regex!=2019.12.17 in /usr/local/lib/python3.10/dist-packages (from transformers<5.0.0,>=4.41.0->sentence-transformers) (2024.9.11)\n",
            "Requirement already satisfied: safetensors>=0.4.1 in /usr/local/lib/python3.10/dist-packages (from transformers<5.0.0,>=4.41.0->sentence-transformers) (0.4.5)\n",
            "Requirement already satisfied: tokenizers<0.20,>=0.19 in /usr/local/lib/python3.10/dist-packages (from transformers<5.0.0,>=4.41.0->sentence-transformers) (0.19.1)\n",
            "Requirement already satisfied: aiohappyeyeballs>=2.3.0 in /usr/local/lib/python3.10/dist-packages (from aiohttp->datasets>=2.19.0->mteb) (2.4.3)\n",
            "Requirement already satisfied: aiosignal>=1.1.2 in /usr/local/lib/python3.10/dist-packages (from aiohttp->datasets>=2.19.0->mteb) (1.3.1)\n",
            "Requirement already satisfied: attrs>=17.3.0 in /usr/local/lib/python3.10/dist-packages (from aiohttp->datasets>=2.19.0->mteb) (24.2.0)\n",
            "Requirement already satisfied: frozenlist>=1.1.1 in /usr/local/lib/python3.10/dist-packages (from aiohttp->datasets>=2.19.0->mteb) (1.5.0)\n",
            "Requirement already satisfied: multidict<7.0,>=4.5 in /usr/local/lib/python3.10/dist-packages (from aiohttp->datasets>=2.19.0->mteb) (6.1.0)\n",
            "Requirement already satisfied: yarl<2.0,>=1.12.0 in /usr/local/lib/python3.10/dist-packages (from aiohttp->datasets>=2.19.0->mteb) (1.17.0)\n",
            "Requirement already satisfied: async-timeout<5.0,>=4.0 in /usr/local/lib/python3.10/dist-packages (from aiohttp->datasets>=2.19.0->mteb) (4.0.3)\n",
            "Requirement already satisfied: mdurl~=0.1 in /usr/local/lib/python3.10/dist-packages (from markdown-it-py>=2.2.0->rich>=0.0.0->mteb) (0.1.2)\n",
            "Requirement already satisfied: MarkupSafe>=2.0 in /usr/local/lib/python3.10/dist-packages (from jinja2->torch>=1.11.0->sentence-transformers) (3.0.2)\n",
            "Requirement already satisfied: pytz>=2020.1 in /usr/local/lib/python3.10/dist-packages (from pandas->datasets>=2.19.0->mteb) (2024.2)\n",
            "Requirement already satisfied: tzdata>=2022.7 in /usr/local/lib/python3.10/dist-packages (from pandas->datasets>=2.19.0->mteb) (2024.2)\n",
            "Requirement already satisfied: propcache>=0.2.0 in /usr/local/lib/python3.10/dist-packages (from yarl<2.0,>=1.12.0->aiohttp->datasets>=2.19.0->mteb) (0.2.0)\n"
          ]
        }
      ]
    },
    {
      "cell_type": "markdown",
      "source": [
        "##  Library Import"
      ],
      "metadata": {
        "id": "wKThVTOUqhBU"
      }
    },
    {
      "cell_type": "code",
      "source": [
        "# Basic\n",
        "import numpy as np\n",
        "import matplotlib.pyplot as plt\n",
        "import plotly.express as px\n",
        "\n",
        "# Dimensionality Reduction\n",
        "from sklearn.decomposition import PCA\n",
        "from sklearn.manifold import TSNE\n",
        "import umap\n",
        "\n",
        "# Import the Sentence Transformer library for generating word embeddings\n",
        "from sentence_transformers import SentenceTransformer\n",
        "from mteb import MTEB\n",
        "from datasets import load_dataset"
      ],
      "metadata": {
        "id": "IkK-VRM3e_JX"
      },
      "execution_count": 3,
      "outputs": []
    },
    {
      "cell_type": "markdown",
      "source": [
        "# Data Preparation"
      ],
      "metadata": {
        "id": "aFjhp7ipqqyq"
      }
    },
    {
      "cell_type": "code",
      "source": [
        "# Load MTEB benchmark dataset (using banking77 as an example from MTEB)\n",
        "dataset = load_dataset(\"banking77\")\n",
        "texts = dataset['train']['text'][:300]\n",
        "# all-MiniLM-L6-v2 is chosen for its good balance of speed and performance\n",
        "model = SentenceTransformer('sentence-transformers/all-mpnet-base-v2')\n",
        "\n",
        "# Get a model vocabulary\n",
        "vocab = list(model.tokenizer.get_vocab().keys())\n",
        "\n",
        "# Select the first 300 words from the vocabulary list as sentences\n",
        "sentences = vocab[:300]\n",
        "print(f\"Loaded {len(sentences)} words.\")\n",
        "\n",
        "# Generate embeddings for the sentences\n",
        "embeddings = model.encode(sentences)\n",
        "print(f\"Embeddings shape: {embeddings.shape}\")\n"
      ],
      "metadata": {
        "colab": {
          "base_uri": "https://localhost:8080/"
        },
        "id": "lPc9V-_TXE2C",
        "outputId": "6c8b312d-19af-4772-df78-a2270104056f"
      },
      "execution_count": 4,
      "outputs": [
        {
          "output_type": "stream",
          "name": "stderr",
          "text": [
            "/usr/local/lib/python3.10/dist-packages/huggingface_hub/utils/_token.py:89: UserWarning: \n",
            "The secret `HF_TOKEN` does not exist in your Colab secrets.\n",
            "To authenticate with the Hugging Face Hub, create a token in your settings tab (https://huggingface.co/settings/tokens), set it as secret in your Google Colab and restart your session.\n",
            "You will be able to reuse this secret in all of your notebooks.\n",
            "Please note that authentication is recommended but still optional to access public models or datasets.\n",
            "  warnings.warn(\n",
            "/usr/local/lib/python3.10/dist-packages/transformers/tokenization_utils_base.py:1601: FutureWarning: `clean_up_tokenization_spaces` was not set. It will be set to `True` by default. This behavior will be depracted in transformers v4.45, and will be then set to `False` by default. For more details check this issue: https://github.com/huggingface/transformers/issues/31884\n",
            "  warnings.warn(\n"
          ]
        },
        {
          "output_type": "stream",
          "name": "stdout",
          "text": [
            "Loaded 300 words.\n",
            "Embeddings shape: (300, 768)\n"
          ]
        }
      ]
    },
    {
      "cell_type": "markdown",
      "source": [
        "The code loads the all-mpnet-base-v2 model to generate embeddings and selects the first 300 words from the model's vocabulary as input, generating an embedding matrix of shape (300, 768), where each word has a 768-dimensional vector representation. This approach demonstrates the model's ability to handle word embeddings and is suitable for both downscaling and visualization analysis."
      ],
      "metadata": {
        "id": "ZfsEZEVprRZT"
      }
    },
    {
      "cell_type": "markdown",
      "source": [
        "# PCA (Principal Component Analysis):\n",
        "- Linear dimensionality reduction technique\n",
        "- Finds directions of maximum variance\n",
        "- Useful for understanding global structure\n"
      ],
      "metadata": {
        "id": "NhgQwSgLfRHU"
      }
    },
    {
      "cell_type": "code",
      "source": [
        "# Apply PCA to reduce embeddings to 2 dimensions\n",
        "pca = PCA(n_components=2)\n",
        "embeddings_pca = pca.fit_transform(embeddings)\n",
        "\n",
        "# Create PCA visualization\n",
        "fig_pca = px.scatter(\n",
        "    embeddings_pca, x=0, y=1, text=sentences,\n",
        "    title=\"PCA of Sentence Embeddings\",\n",
        "    labels={'0': 'Principal Component 1', '1': 'Principal Component 2'}\n",
        ")\n",
        "fig_pca.update_traces(marker=dict(size=8))\n",
        "fig_pca.show()"
      ],
      "metadata": {
        "colab": {
          "base_uri": "https://localhost:8080/",
          "height": 542
        },
        "id": "jwwDpB81bDA4",
        "outputId": "f015f8a8-bf01-43f5-dfbb-38054df34eb2"
      },
      "execution_count": 5,
      "outputs": [
        {
          "output_type": "display_data",
          "data": {
            "text/html": [
              "<html>\n",
              "<head><meta charset=\"utf-8\" /></head>\n",
              "<body>\n",
              "    <div>            <script src=\"https://cdnjs.cloudflare.com/ajax/libs/mathjax/2.7.5/MathJax.js?config=TeX-AMS-MML_SVG\"></script><script type=\"text/javascript\">if (window.MathJax && window.MathJax.Hub && window.MathJax.Hub.Config) {window.MathJax.Hub.Config({SVG: {font: \"STIX-Web\"}});}</script>                <script type=\"text/javascript\">window.PlotlyConfig = {MathJaxConfig: 'local'};</script>\n",
              "        <script charset=\"utf-8\" src=\"https://cdn.plot.ly/plotly-2.24.1.min.js\"></script>                <div id=\"cda5da11-8eb7-4f53-aa81-f893fa47131c\" class=\"plotly-graph-div\" style=\"height:525px; width:100%;\"></div>            <script type=\"text/javascript\">                                    window.PLOTLYENV=window.PLOTLYENV || {};                                    if (document.getElementById(\"cda5da11-8eb7-4f53-aa81-f893fa47131c\")) {                    Plotly.newPlot(                        \"cda5da11-8eb7-4f53-aa81-f893fa47131c\",                        [{\"hovertemplate\":\"Principal Component 1=%{x}\\u003cbr\\u003ePrincipal Component 2=%{y}\\u003cbr\\u003etext=%{text}\\u003cextra\\u003e\\u003c\\u002fextra\\u003e\",\"legendgroup\":\"\",\"marker\":{\"color\":\"#636efa\",\"symbol\":\"circle\",\"size\":8},\"mode\":\"markers+text\",\"name\":\"\",\"orientation\":\"v\",\"showlegend\":false,\"text\":[\"harlow\",\"seamus\",\"cuban\",\"##pps\",\"¬\",\"historical\",\"temporal\",\"snyder\",\"[unused366]\",\"twitter\",\"260\",\"holding\",\"procurement\",\"ʐ\",\"malcolm\",\"fund\",\"lawson\",\"cords\",\"needy\",\"premier\",\"scream\",\"chinese\",\"tak\",\"rotherham\",\"75th\",\"##iso\",\"moreover\",\"roll\",\"murdered\",\"achievements\",\"semi\",\"arrived\",\"limbs\",\"##sl\",\"regeneration\",\"napkin\",\"north\",\"doctrines\",\"centered\",\"triple\",\"##ho\",\"abs\",\"26th\",\"ska\",\"buddhist\",\"##vocation\",\"epilogue\",\"##jm\",\"conical\",\"reese\",\"partial\",\"##cs\",\"thirteen\",\"targeted\",\"##jak\",\"##anne\",\"accompanying\",\"##bib\",\"1670\",\"[unused952]\",\"aftermath\",\"##oss\",\"sal\",\"shortstop\",\"shot\",\"theatrical\",\"vimes\",\"priced\",\"spence\",\"172\",\"[unused562]\",\"katy\",\"##ق\",\"ก\",\"2000\",\"fire\",\"ʎ\",\"norwegian\",\"founded\",\"distinction\",\"ා\",\"possesses\",\"costello\",\"drumming\",\"rochester\",\"baronetcy\",\"girls\",\"saying\",\"viceroy\",\"prompt\",\"peered\",\"accordion\",\"boston\",\"[unused967]\",\"##matic\",\"modeled\",\"##ess\",\"delta\",\"##cca\",\"##eon\",\"loneliness\",\"sentence\",\"upward\",\"inward\",\"##castle\",\"til\",\"tobago\",\"##cing\",\"seventy\",\"glitter\",\"ט\",\"stronger\",\"##cm\",\"##ired\",\"555\",\"furious\",\"gambia\",\"wadi\",\"hearings\",\"##ited\",\"bratislava\",\"1909\",\"rower\",\"geared\",\"december\",\"swamps\",\"ceremony\",\"quarries\",\"lublin\",\"tully\",\"##giving\",\"volunteers\",\"##ddling\",\"rebellion\",\"sq\",\"##acio\",\"[unused410]\",\"##cellular\",\"giro\",\"custom\",\"##yeh\",\"heaved\",\"emphasis\",\"pictures\",\"janice\",\"[unused112]\",\"cbs\",\"marlins\",\"killings\",\"assisted\",\"exam\",\"lausanne\",\"czechoslovakia\",\"shaw\",\"metropolitan\",\"strangled\",\"daylight\",\"[unused679]\",\"auguste\",\"harmful\",\"departure\",\"type\",\"84\",\"baptism\",\"burials\",\"september\",\"##pt\",\"[unused573]\",\"welterweight\",\"periphery\",\"440\",\"##ruff\",\"allowance\",\"pitched\",\"manor\",\"conway\",\"##ivism\",\"valor\",\"ball\",\"##kova\",\"programmes\",\"accidental\",\"johns\",\"hiring\",\"mentions\",\"talbot\",\"remarked\",\"describing\",\"forgetting\",\"au\",\"crowley\",\"1855\",\"synod\",\"sunny\",\"clube\",\"cb\",\"##like\",\"mitsubishi\",\"kellan\",\"2002\",\"jointly\",\"june\",\"ninth\",\"ti\",\"textiles\",\"##х\",\"##uf\",\"1708\",\"qing\",\"syed\",\"##§\",\"arresting\",\"undoubtedly\",\"reno\",\"lister\",\"chiefly\",\"'\",\"モ\",\"others\",\"##.\",\"∅\",\"une\",\"imp\",\"primate\",\"ে\",\"tops\",\"##keepers\",\"##acker\",\"mali\",\"heartbeat\",\"##day\",\"noses\",\"##diment\",\"discovers\",\"havre\",\"##scope\",\"thought\",\"burgundy\",\"incorrectly\",\"by\",\"##linger\",\"numbering\",\"sued\",\"bishopric\",\"##ural\",\"shan\",\"56\",\"pure\",\"strode\",\"photographers\",\"##ნ\",\"##ini\",\"comprised\",\"##oux\",\"export\",\"##iri\",\"anya\",\"jose\",\"memories\",\"chartered\",\"precursor\",\"orchestras\",\"trondheim\",\"liquids\",\"libertadores\",\"ignorance\",\"cheered\",\"biomass\",\"1\",\"monastery\",\"mansion\",\"禾\",\"regulatory\",\"teachers\",\"##vin\",\"robust\",\"avid\",\"roche\",\"innings\",\"ground\",\"benton\",\"տ\",\"unfortunate\",\"mozambique\",\"medication\",\"great\",\"##zek\",\"transporting\",\"##介\",\"]\",\"adolescents\",\"whereabouts\",\"[unused389]\",\"borrowed\",\"sculptors\",\"##stituting\",\"zhu\",\"temples\",\"acre\",\"dig\"],\"x\":[-0.14426088,-0.049382277,-0.08818607,0.45262164,0.051626537,-0.10777847,-0.13850671,-0.0021723798,0.09046859,-0.0664992,-0.12195012,-0.07496214,-0.2569683,-0.101733066,-0.114226244,-0.08624258,-0.064015806,-0.110958084,-0.10297377,-0.18616866,0.033524796,-0.18200839,-0.048016112,-0.22013745,-0.10965739,0.4781845,-0.0603108,-0.0037235147,-0.06433061,-0.12590057,-0.16962017,-0.00945771,-0.10835513,0.55706036,-0.10932078,-0.07047531,-0.19199446,-0.1378673,-0.105635956,-0.10155015,0.48504046,-0.06170376,-0.08513325,-0.066345945,-0.16397642,0.3804493,-0.047604147,0.5246028,-0.09563843,-0.056969766,-0.07009192,0.5332741,-0.081709005,-0.053938746,0.47858226,0.43589777,-0.065176465,0.5145521,-0.16035555,0.08351387,-0.10016432,0.4468769,-0.048502993,-0.11527534,-0.05254384,-0.16837333,-0.13829839,-0.06072941,-0.12812296,-0.09572213,0.06405112,-0.031830814,0.40415925,-0.04860802,-0.09756369,-0.10095912,-0.011935953,-0.20047452,-0.19715713,-0.09998089,-0.09002279,-0.11754947,-0.087614916,-0.19993627,-0.14958794,-0.16993506,-0.08831884,0.07032457,-0.07487307,-0.0228485,-0.15298763,-0.112827584,-0.19245726,0.07061556,0.4891832,-0.13564898,0.44102898,-0.081699505,0.5357506,0.48256463,-0.15406258,-0.040886745,-0.09545023,-0.14221887,0.42665616,-0.023803428,-0.13068402,0.4494515,-0.08099588,-0.06582429,-0.07840988,0.045722134,0.5234652,0.5149039,-0.09606646,-0.008020887,-0.19196422,-0.10073672,-0.084772654,0.4613786,-0.22744729,-0.16149502,-0.1272587,-0.094123945,-0.1295745,-0.20892395,-0.11785753,-0.16566195,-0.16542894,-0.09555255,0.4863565,-0.16453044,0.46588296,-0.0060346443,-0.08972533,0.52889025,0.09459715,0.46172246,-0.14067625,-0.022264127,0.6010529,-0.0769648,0.0066186115,-0.16207151,-0.08915485,0.10482797,-0.11588051,-0.081007585,-0.14476909,-0.00057969627,-0.20362021,-0.23454975,-0.2199578,-0.09416849,-0.20236264,-0.051127844,-0.093416974,0.06500041,-0.046067875,0.02337947,-0.06914728,-0.08841622,-0.033146128,-0.12858729,-0.19797677,-0.12591295,0.5466086,0.07118301,-0.10781189,-0.23490155,-0.10935035,0.4217369,-0.073598586,-0.06435025,-0.21413606,-0.110187605,0.50520086,0.00004754771,-0.020668123,0.55005497,-0.23309165,-0.046368692,-0.08588913,-0.1690781,-0.055110905,-0.023878679,-0.108342536,-0.1416318,0.0031703103,-0.13350527,-0.11037052,-0.19011876,-0.14543602,-0.10894958,-0.148152,-0.09224091,0.5640792,-0.08238089,-0.07891003,-0.12860298,-0.08482527,-0.10138933,-0.15726833,-0.053777337,-0.17937529,0.4894647,0.47306642,-0.13065368,-0.053558715,-0.084100954,0.5199841,-0.0561192,-0.041452106,-0.10837533,-0.09902301,-0.2805011,-0.005587066,-0.007613946,-0.17736097,0.600781,-0.026332228,-0.08724382,-0.014005631,-0.090041384,-0.124844365,-0.0876691,0.45698383,0.47096008,-0.18009213,-0.08218966,0.41411585,-0.15465033,0.41647512,-0.14567064,-0.14273998,0.49532333,-0.14120103,-0.12126663,-0.059388313,-0.050650716,0.51684296,0.013010297,-0.105664834,-0.20092799,0.4849085,-0.020377504,-0.12114233,-0.023960171,-0.18686834,-0.2707245,0.3611924,0.5629522,-0.1610086,0.52731586,-0.052268498,0.57159954,0.023424923,-0.027144568,-0.11963252,-0.18929288,-0.1500681,-0.21170372,-0.2507092,-0.16327395,-0.19591008,-0.15053985,0.10759561,-0.14507666,0.06815741,-0.23383032,-0.20860031,-0.10730393,-0.13278776,-0.18348184,0.54661244,-0.028237373,-0.16535136,-0.1223798,-0.076986305,-0.06841273,-0.098966174,-0.12702082,-0.060122352,-0.21877831,-0.19119525,0.05355627,0.51265794,-0.11756863,0.5074565,0.037060335,-0.18712883,-0.24408318,0.094504714,-0.07771674,-0.1563556,0.4293553,0.0253651,-0.18730783,-0.121817715,-0.11302773],\"xaxis\":\"x\",\"y\":[-0.14433262,-0.10722665,-0.21488068,-0.060216658,0.056965455,0.037132394,0.03672626,-0.13382168,0.703568,0.05396876,0.22437225,0.030224765,0.04883945,-0.0005725835,-0.09141069,0.044559818,-0.1759174,-0.01758332,0.13693622,-0.08223662,-0.032405928,-0.07961807,-0.057405252,-0.17155391,0.021295415,-0.035067152,0.046526384,0.057874672,0.117382854,0.14098611,0.019786725,0.14296643,-0.018070988,-0.12856644,0.0879696,0.011041846,-0.16694304,-0.0073669464,-0.05914389,0.06487761,-0.13689542,0.02529245,0.09190604,-0.0980727,-0.055722106,-0.102008164,0.10495017,-0.069842406,-0.05584894,-0.091892935,0.008771393,-0.10177028,0.14373335,0.094508484,-0.09987758,-0.08197369,0.016407866,-0.0884589,0.07218998,0.7312866,0.056728505,-0.10356879,-0.13073158,-0.10396635,0.06482458,-0.015063093,-0.18253276,0.21662094,-0.07368474,0.15155713,0.7415797,-0.17005025,-0.15772729,0.08911466,0.13349381,0.024829712,-0.063069046,-0.091932155,-0.06652911,0.041467,0.009753526,0.08280559,-0.1388542,-0.06524251,-0.23412944,-0.0896398,0.01245453,0.056581642,-0.22493646,0.11606032,-0.021503799,-0.020213133,-0.22044173,0.7380044,-0.117454745,0.09039193,-0.09453351,-0.09193547,-0.12143323,0.06321213,0.1071912,0.067899875,-0.017653724,0.017658088,-0.16661832,0.026091622,-0.13269694,-0.0893458,0.14552002,0.015913224,-0.037232816,-0.025592003,-0.09364813,-0.012949722,0.2520399,0.008957238,-0.18515867,-0.17260452,-0.055521537,-0.038332287,-0.2942129,0.037845664,-0.11555284,0.050242092,0.01141877,-0.100612335,0.024422534,-0.10482194,-0.24402913,-0.22258568,0.056679867,0.05411362,-0.055562943,-0.06814296,-0.014556672,-0.04360023,0.695353,-0.056607783,-0.1602688,0.14614935,-0.08716607,-0.01495954,0.0040748627,0.038760986,0.006416551,0.7051609,-0.0689252,-0.12322603,0.11038868,0.109794684,0.081605665,-0.27181116,-0.20983036,-0.24969968,-0.1735157,0.0038374248,0.094588876,0.7292844,-0.120126665,0.112773955,0.080257244,0.12494392,0.22665916,-0.05144145,0.08562902,0.03728724,0.0032719867,0.72004944,-0.11668462,-0.047271315,0.19834472,-0.13483763,0.101821244,0.002686083,-0.17243946,-0.14463118,-0.07286919,-0.04118836,-0.048252497,-0.12481464,0.10837675,0.12863316,-0.13920425,0.10265664,0.12253277,-0.21496722,0.16768077,0.09497237,0.16497321,-0.11858467,-0.11724012,-0.029342052,-0.16653797,-0.045374256,-0.1434126,-0.07055536,-0.039762404,-0.0123165995,-0.11959308,0.06439906,-0.016593423,-0.019417621,0.08915469,0.049394168,-0.0879154,-0.111044794,-0.079969965,0.03988725,-0.18580683,-0.12203786,-0.008823344,0.064280145,-0.038730714,-0.20317027,-0.030701742,0.03410463,-0.0019957158,0.061118003,0.087513514,-0.004301932,0.14539169,-0.036548566,0.024881719,-0.05423363,0.030611575,0.14564642,-0.092783876,-0.08007425,-0.17355874,-0.018468633,0.051338416,-0.064860895,-0.01655496,0.08757466,-0.217512,-0.06745843,0.18630993,-0.082066044,0.058675054,0.022229644,0.009332802,0.2290733,0.03697169,-0.17830311,-0.118383326,-0.14723238,0.21947554,0.06260075,-0.09742732,-0.084839575,-0.07810281,0.0004636941,0.100939006,0.00021968213,0.0040042745,-0.020680564,-0.12636323,-0.1958648,0.12641872,-0.028189952,0.056912865,-0.12649041,-0.24994537,-0.036749817,-0.2538621,0.070141815,0.069642864,0.00951982,0.2086779,-0.20107554,-0.09655161,0.058577675,0.023988001,-0.039775625,-0.0955251,0.014508872,0.045765713,-0.15435301,0.045283273,0.06289192,-0.17805937,0.024699796,0.12382265,-0.16556175,0.051551487,0.1238009,-0.07525233,-0.015441261,0.061557706,0.39634356,0.03320962,-0.16343072,0.6664487,0.12836167,-0.10251161,-0.013233813,-0.15752144,-0.15323839,-0.021324273,-0.00091507053],\"yaxis\":\"y\",\"type\":\"scatter\"}],                        {\"template\":{\"data\":{\"histogram2dcontour\":[{\"type\":\"histogram2dcontour\",\"colorbar\":{\"outlinewidth\":0,\"ticks\":\"\"},\"colorscale\":[[0.0,\"#0d0887\"],[0.1111111111111111,\"#46039f\"],[0.2222222222222222,\"#7201a8\"],[0.3333333333333333,\"#9c179e\"],[0.4444444444444444,\"#bd3786\"],[0.5555555555555556,\"#d8576b\"],[0.6666666666666666,\"#ed7953\"],[0.7777777777777778,\"#fb9f3a\"],[0.8888888888888888,\"#fdca26\"],[1.0,\"#f0f921\"]]}],\"choropleth\":[{\"type\":\"choropleth\",\"colorbar\":{\"outlinewidth\":0,\"ticks\":\"\"}}],\"histogram2d\":[{\"type\":\"histogram2d\",\"colorbar\":{\"outlinewidth\":0,\"ticks\":\"\"},\"colorscale\":[[0.0,\"#0d0887\"],[0.1111111111111111,\"#46039f\"],[0.2222222222222222,\"#7201a8\"],[0.3333333333333333,\"#9c179e\"],[0.4444444444444444,\"#bd3786\"],[0.5555555555555556,\"#d8576b\"],[0.6666666666666666,\"#ed7953\"],[0.7777777777777778,\"#fb9f3a\"],[0.8888888888888888,\"#fdca26\"],[1.0,\"#f0f921\"]]}],\"heatmap\":[{\"type\":\"heatmap\",\"colorbar\":{\"outlinewidth\":0,\"ticks\":\"\"},\"colorscale\":[[0.0,\"#0d0887\"],[0.1111111111111111,\"#46039f\"],[0.2222222222222222,\"#7201a8\"],[0.3333333333333333,\"#9c179e\"],[0.4444444444444444,\"#bd3786\"],[0.5555555555555556,\"#d8576b\"],[0.6666666666666666,\"#ed7953\"],[0.7777777777777778,\"#fb9f3a\"],[0.8888888888888888,\"#fdca26\"],[1.0,\"#f0f921\"]]}],\"heatmapgl\":[{\"type\":\"heatmapgl\",\"colorbar\":{\"outlinewidth\":0,\"ticks\":\"\"},\"colorscale\":[[0.0,\"#0d0887\"],[0.1111111111111111,\"#46039f\"],[0.2222222222222222,\"#7201a8\"],[0.3333333333333333,\"#9c179e\"],[0.4444444444444444,\"#bd3786\"],[0.5555555555555556,\"#d8576b\"],[0.6666666666666666,\"#ed7953\"],[0.7777777777777778,\"#fb9f3a\"],[0.8888888888888888,\"#fdca26\"],[1.0,\"#f0f921\"]]}],\"contourcarpet\":[{\"type\":\"contourcarpet\",\"colorbar\":{\"outlinewidth\":0,\"ticks\":\"\"}}],\"contour\":[{\"type\":\"contour\",\"colorbar\":{\"outlinewidth\":0,\"ticks\":\"\"},\"colorscale\":[[0.0,\"#0d0887\"],[0.1111111111111111,\"#46039f\"],[0.2222222222222222,\"#7201a8\"],[0.3333333333333333,\"#9c179e\"],[0.4444444444444444,\"#bd3786\"],[0.5555555555555556,\"#d8576b\"],[0.6666666666666666,\"#ed7953\"],[0.7777777777777778,\"#fb9f3a\"],[0.8888888888888888,\"#fdca26\"],[1.0,\"#f0f921\"]]}],\"surface\":[{\"type\":\"surface\",\"colorbar\":{\"outlinewidth\":0,\"ticks\":\"\"},\"colorscale\":[[0.0,\"#0d0887\"],[0.1111111111111111,\"#46039f\"],[0.2222222222222222,\"#7201a8\"],[0.3333333333333333,\"#9c179e\"],[0.4444444444444444,\"#bd3786\"],[0.5555555555555556,\"#d8576b\"],[0.6666666666666666,\"#ed7953\"],[0.7777777777777778,\"#fb9f3a\"],[0.8888888888888888,\"#fdca26\"],[1.0,\"#f0f921\"]]}],\"mesh3d\":[{\"type\":\"mesh3d\",\"colorbar\":{\"outlinewidth\":0,\"ticks\":\"\"}}],\"scatter\":[{\"fillpattern\":{\"fillmode\":\"overlay\",\"size\":10,\"solidity\":0.2},\"type\":\"scatter\"}],\"parcoords\":[{\"type\":\"parcoords\",\"line\":{\"colorbar\":{\"outlinewidth\":0,\"ticks\":\"\"}}}],\"scatterpolargl\":[{\"type\":\"scatterpolargl\",\"marker\":{\"colorbar\":{\"outlinewidth\":0,\"ticks\":\"\"}}}],\"bar\":[{\"error_x\":{\"color\":\"#2a3f5f\"},\"error_y\":{\"color\":\"#2a3f5f\"},\"marker\":{\"line\":{\"color\":\"#E5ECF6\",\"width\":0.5},\"pattern\":{\"fillmode\":\"overlay\",\"size\":10,\"solidity\":0.2}},\"type\":\"bar\"}],\"scattergeo\":[{\"type\":\"scattergeo\",\"marker\":{\"colorbar\":{\"outlinewidth\":0,\"ticks\":\"\"}}}],\"scatterpolar\":[{\"type\":\"scatterpolar\",\"marker\":{\"colorbar\":{\"outlinewidth\":0,\"ticks\":\"\"}}}],\"histogram\":[{\"marker\":{\"pattern\":{\"fillmode\":\"overlay\",\"size\":10,\"solidity\":0.2}},\"type\":\"histogram\"}],\"scattergl\":[{\"type\":\"scattergl\",\"marker\":{\"colorbar\":{\"outlinewidth\":0,\"ticks\":\"\"}}}],\"scatter3d\":[{\"type\":\"scatter3d\",\"line\":{\"colorbar\":{\"outlinewidth\":0,\"ticks\":\"\"}},\"marker\":{\"colorbar\":{\"outlinewidth\":0,\"ticks\":\"\"}}}],\"scattermapbox\":[{\"type\":\"scattermapbox\",\"marker\":{\"colorbar\":{\"outlinewidth\":0,\"ticks\":\"\"}}}],\"scatterternary\":[{\"type\":\"scatterternary\",\"marker\":{\"colorbar\":{\"outlinewidth\":0,\"ticks\":\"\"}}}],\"scattercarpet\":[{\"type\":\"scattercarpet\",\"marker\":{\"colorbar\":{\"outlinewidth\":0,\"ticks\":\"\"}}}],\"carpet\":[{\"aaxis\":{\"endlinecolor\":\"#2a3f5f\",\"gridcolor\":\"white\",\"linecolor\":\"white\",\"minorgridcolor\":\"white\",\"startlinecolor\":\"#2a3f5f\"},\"baxis\":{\"endlinecolor\":\"#2a3f5f\",\"gridcolor\":\"white\",\"linecolor\":\"white\",\"minorgridcolor\":\"white\",\"startlinecolor\":\"#2a3f5f\"},\"type\":\"carpet\"}],\"table\":[{\"cells\":{\"fill\":{\"color\":\"#EBF0F8\"},\"line\":{\"color\":\"white\"}},\"header\":{\"fill\":{\"color\":\"#C8D4E3\"},\"line\":{\"color\":\"white\"}},\"type\":\"table\"}],\"barpolar\":[{\"marker\":{\"line\":{\"color\":\"#E5ECF6\",\"width\":0.5},\"pattern\":{\"fillmode\":\"overlay\",\"size\":10,\"solidity\":0.2}},\"type\":\"barpolar\"}],\"pie\":[{\"automargin\":true,\"type\":\"pie\"}]},\"layout\":{\"autotypenumbers\":\"strict\",\"colorway\":[\"#636efa\",\"#EF553B\",\"#00cc96\",\"#ab63fa\",\"#FFA15A\",\"#19d3f3\",\"#FF6692\",\"#B6E880\",\"#FF97FF\",\"#FECB52\"],\"font\":{\"color\":\"#2a3f5f\"},\"hovermode\":\"closest\",\"hoverlabel\":{\"align\":\"left\"},\"paper_bgcolor\":\"white\",\"plot_bgcolor\":\"#E5ECF6\",\"polar\":{\"bgcolor\":\"#E5ECF6\",\"angularaxis\":{\"gridcolor\":\"white\",\"linecolor\":\"white\",\"ticks\":\"\"},\"radialaxis\":{\"gridcolor\":\"white\",\"linecolor\":\"white\",\"ticks\":\"\"}},\"ternary\":{\"bgcolor\":\"#E5ECF6\",\"aaxis\":{\"gridcolor\":\"white\",\"linecolor\":\"white\",\"ticks\":\"\"},\"baxis\":{\"gridcolor\":\"white\",\"linecolor\":\"white\",\"ticks\":\"\"},\"caxis\":{\"gridcolor\":\"white\",\"linecolor\":\"white\",\"ticks\":\"\"}},\"coloraxis\":{\"colorbar\":{\"outlinewidth\":0,\"ticks\":\"\"}},\"colorscale\":{\"sequential\":[[0.0,\"#0d0887\"],[0.1111111111111111,\"#46039f\"],[0.2222222222222222,\"#7201a8\"],[0.3333333333333333,\"#9c179e\"],[0.4444444444444444,\"#bd3786\"],[0.5555555555555556,\"#d8576b\"],[0.6666666666666666,\"#ed7953\"],[0.7777777777777778,\"#fb9f3a\"],[0.8888888888888888,\"#fdca26\"],[1.0,\"#f0f921\"]],\"sequentialminus\":[[0.0,\"#0d0887\"],[0.1111111111111111,\"#46039f\"],[0.2222222222222222,\"#7201a8\"],[0.3333333333333333,\"#9c179e\"],[0.4444444444444444,\"#bd3786\"],[0.5555555555555556,\"#d8576b\"],[0.6666666666666666,\"#ed7953\"],[0.7777777777777778,\"#fb9f3a\"],[0.8888888888888888,\"#fdca26\"],[1.0,\"#f0f921\"]],\"diverging\":[[0,\"#8e0152\"],[0.1,\"#c51b7d\"],[0.2,\"#de77ae\"],[0.3,\"#f1b6da\"],[0.4,\"#fde0ef\"],[0.5,\"#f7f7f7\"],[0.6,\"#e6f5d0\"],[0.7,\"#b8e186\"],[0.8,\"#7fbc41\"],[0.9,\"#4d9221\"],[1,\"#276419\"]]},\"xaxis\":{\"gridcolor\":\"white\",\"linecolor\":\"white\",\"ticks\":\"\",\"title\":{\"standoff\":15},\"zerolinecolor\":\"white\",\"automargin\":true,\"zerolinewidth\":2},\"yaxis\":{\"gridcolor\":\"white\",\"linecolor\":\"white\",\"ticks\":\"\",\"title\":{\"standoff\":15},\"zerolinecolor\":\"white\",\"automargin\":true,\"zerolinewidth\":2},\"scene\":{\"xaxis\":{\"backgroundcolor\":\"#E5ECF6\",\"gridcolor\":\"white\",\"linecolor\":\"white\",\"showbackground\":true,\"ticks\":\"\",\"zerolinecolor\":\"white\",\"gridwidth\":2},\"yaxis\":{\"backgroundcolor\":\"#E5ECF6\",\"gridcolor\":\"white\",\"linecolor\":\"white\",\"showbackground\":true,\"ticks\":\"\",\"zerolinecolor\":\"white\",\"gridwidth\":2},\"zaxis\":{\"backgroundcolor\":\"#E5ECF6\",\"gridcolor\":\"white\",\"linecolor\":\"white\",\"showbackground\":true,\"ticks\":\"\",\"zerolinecolor\":\"white\",\"gridwidth\":2}},\"shapedefaults\":{\"line\":{\"color\":\"#2a3f5f\"}},\"annotationdefaults\":{\"arrowcolor\":\"#2a3f5f\",\"arrowhead\":0,\"arrowwidth\":1},\"geo\":{\"bgcolor\":\"white\",\"landcolor\":\"#E5ECF6\",\"subunitcolor\":\"white\",\"showland\":true,\"showlakes\":true,\"lakecolor\":\"white\"},\"title\":{\"x\":0.05},\"mapbox\":{\"style\":\"light\"}}},\"xaxis\":{\"anchor\":\"y\",\"domain\":[0.0,1.0],\"title\":{\"text\":\"Principal Component 1\"}},\"yaxis\":{\"anchor\":\"x\",\"domain\":[0.0,1.0],\"title\":{\"text\":\"Principal Component 2\"}},\"legend\":{\"tracegroupgap\":0},\"title\":{\"text\":\"PCA of Sentence Embeddings\"}},                        {\"responsive\": true}                    ).then(function(){\n",
              "                            \n",
              "var gd = document.getElementById('cda5da11-8eb7-4f53-aa81-f893fa47131c');\n",
              "var x = new MutationObserver(function (mutations, observer) {{\n",
              "        var display = window.getComputedStyle(gd).display;\n",
              "        if (!display || display === 'none') {{\n",
              "            console.log([gd, 'removed!']);\n",
              "            Plotly.purge(gd);\n",
              "            observer.disconnect();\n",
              "        }}\n",
              "}});\n",
              "\n",
              "// Listen for the removal of the full notebook cells\n",
              "var notebookContainer = gd.closest('#notebook-container');\n",
              "if (notebookContainer) {{\n",
              "    x.observe(notebookContainer, {childList: true});\n",
              "}}\n",
              "\n",
              "// Listen for the clearing of the current output cell\n",
              "var outputEl = gd.closest('.output');\n",
              "if (outputEl) {{\n",
              "    x.observe(outputEl, {childList: true});\n",
              "}}\n",
              "\n",
              "                        })                };                            </script>        </div>\n",
              "</body>\n",
              "</html>"
            ]
          },
          "metadata": {}
        }
      ]
    },
    {
      "cell_type": "markdown",
      "source": [
        "- **Clustering and distribution:** the embeddings of the 300 words in the picture are downscaled by PCA, and the results show that most of the word embeddings are clustered in the lower-left region, which indicates that the representations of these words in the embedding space are more similar, and they may belong to similar semantic categories. Meanwhile, on the right side of the figure, there are some words with a more scattered distribution, which indicates that the representation of these words in the embedding space is different from that of the main cluster, with unique characteristics or different semantic relations.\n",
        "- **Label overlap and visualization limitation:** it is difficult to identify specific words due to the high overlap of displayed word labels, which indicates a high sample density and the failure of PCA to separate word embeddings well in the 2D space. To solve this problem, it may be necessary to adjust the visualization strategy, such as reducing the number of samples or trying other dimensionality reduction methods (e.g., t-SNE or UMAP) to obtain a clearer distribution and higher separability."
      ],
      "metadata": {
        "id": "rVcVyljPrvDm"
      }
    },
    {
      "cell_type": "markdown",
      "source": [
        "# t-SNE (t-Distributed Stochastic Neighbor Embedding):\n",
        "- Non-linear dimensionality reduction technique\n",
        "- Focuses on preserving local structure\n",
        "- Parameters:\n",
        "  1. perplexity=2: Low perplexity for small dataset\n",
        "  2. n_iter=500: Increased iterations for better convergence\n",
        "  3. random_state=42: For reproducibility"
      ],
      "metadata": {
        "id": "Cyz3bZ8YbB6u"
      }
    },
    {
      "cell_type": "code",
      "source": [
        "# Apply t-SNE\n",
        "tsne = TSNE(n_components=2, perplexity=2, n_iter=500, random_state=42)\n",
        "embeddings_tsne = tsne.fit_transform(embeddings)\n",
        "\n",
        "# Plot t-SNE results using Plotly\n",
        "fig_tsne = px.scatter(\n",
        "    embeddings_tsne, x=0, y=1, text=sentences,\n",
        "    title=\"t-SNE of Sentence Embeddings\",\n",
        "    labels={'0': 'Component 1', '1': 'Component 2'}\n",
        ")\n",
        "fig_tsne.update_traces(marker=dict(size=8))\n",
        "fig_tsne.show()"
      ],
      "metadata": {
        "colab": {
          "base_uri": "https://localhost:8080/",
          "height": 542
        },
        "id": "YVAsaAubYj-d",
        "outputId": "16319f5f-0289-45c6-f632-7211c0f7649b"
      },
      "execution_count": 6,
      "outputs": [
        {
          "output_type": "display_data",
          "data": {
            "text/html": [
              "<html>\n",
              "<head><meta charset=\"utf-8\" /></head>\n",
              "<body>\n",
              "    <div>            <script src=\"https://cdnjs.cloudflare.com/ajax/libs/mathjax/2.7.5/MathJax.js?config=TeX-AMS-MML_SVG\"></script><script type=\"text/javascript\">if (window.MathJax && window.MathJax.Hub && window.MathJax.Hub.Config) {window.MathJax.Hub.Config({SVG: {font: \"STIX-Web\"}});}</script>                <script type=\"text/javascript\">window.PlotlyConfig = {MathJaxConfig: 'local'};</script>\n",
              "        <script charset=\"utf-8\" src=\"https://cdn.plot.ly/plotly-2.24.1.min.js\"></script>                <div id=\"c4aa228a-c4fd-425f-a826-09a839682985\" class=\"plotly-graph-div\" style=\"height:525px; width:100%;\"></div>            <script type=\"text/javascript\">                                    window.PLOTLYENV=window.PLOTLYENV || {};                                    if (document.getElementById(\"c4aa228a-c4fd-425f-a826-09a839682985\")) {                    Plotly.newPlot(                        \"c4aa228a-c4fd-425f-a826-09a839682985\",                        [{\"hovertemplate\":\"Component 1=%{x}\\u003cbr\\u003eComponent 2=%{y}\\u003cbr\\u003etext=%{text}\\u003cextra\\u003e\\u003c\\u002fextra\\u003e\",\"legendgroup\":\"\",\"marker\":{\"color\":\"#636efa\",\"symbol\":\"circle\",\"size\":8},\"mode\":\"markers+text\",\"name\":\"\",\"orientation\":\"v\",\"showlegend\":false,\"text\":[\"harlow\",\"seamus\",\"cuban\",\"##pps\",\"¬\",\"historical\",\"temporal\",\"snyder\",\"[unused366]\",\"twitter\",\"260\",\"holding\",\"procurement\",\"ʐ\",\"malcolm\",\"fund\",\"lawson\",\"cords\",\"needy\",\"premier\",\"scream\",\"chinese\",\"tak\",\"rotherham\",\"75th\",\"##iso\",\"moreover\",\"roll\",\"murdered\",\"achievements\",\"semi\",\"arrived\",\"limbs\",\"##sl\",\"regeneration\",\"napkin\",\"north\",\"doctrines\",\"centered\",\"triple\",\"##ho\",\"abs\",\"26th\",\"ska\",\"buddhist\",\"##vocation\",\"epilogue\",\"##jm\",\"conical\",\"reese\",\"partial\",\"##cs\",\"thirteen\",\"targeted\",\"##jak\",\"##anne\",\"accompanying\",\"##bib\",\"1670\",\"[unused952]\",\"aftermath\",\"##oss\",\"sal\",\"shortstop\",\"shot\",\"theatrical\",\"vimes\",\"priced\",\"spence\",\"172\",\"[unused562]\",\"katy\",\"##ق\",\"ก\",\"2000\",\"fire\",\"ʎ\",\"norwegian\",\"founded\",\"distinction\",\"ා\",\"possesses\",\"costello\",\"drumming\",\"rochester\",\"baronetcy\",\"girls\",\"saying\",\"viceroy\",\"prompt\",\"peered\",\"accordion\",\"boston\",\"[unused967]\",\"##matic\",\"modeled\",\"##ess\",\"delta\",\"##cca\",\"##eon\",\"loneliness\",\"sentence\",\"upward\",\"inward\",\"##castle\",\"til\",\"tobago\",\"##cing\",\"seventy\",\"glitter\",\"ט\",\"stronger\",\"##cm\",\"##ired\",\"555\",\"furious\",\"gambia\",\"wadi\",\"hearings\",\"##ited\",\"bratislava\",\"1909\",\"rower\",\"geared\",\"december\",\"swamps\",\"ceremony\",\"quarries\",\"lublin\",\"tully\",\"##giving\",\"volunteers\",\"##ddling\",\"rebellion\",\"sq\",\"##acio\",\"[unused410]\",\"##cellular\",\"giro\",\"custom\",\"##yeh\",\"heaved\",\"emphasis\",\"pictures\",\"janice\",\"[unused112]\",\"cbs\",\"marlins\",\"killings\",\"assisted\",\"exam\",\"lausanne\",\"czechoslovakia\",\"shaw\",\"metropolitan\",\"strangled\",\"daylight\",\"[unused679]\",\"auguste\",\"harmful\",\"departure\",\"type\",\"84\",\"baptism\",\"burials\",\"september\",\"##pt\",\"[unused573]\",\"welterweight\",\"periphery\",\"440\",\"##ruff\",\"allowance\",\"pitched\",\"manor\",\"conway\",\"##ivism\",\"valor\",\"ball\",\"##kova\",\"programmes\",\"accidental\",\"johns\",\"hiring\",\"mentions\",\"talbot\",\"remarked\",\"describing\",\"forgetting\",\"au\",\"crowley\",\"1855\",\"synod\",\"sunny\",\"clube\",\"cb\",\"##like\",\"mitsubishi\",\"kellan\",\"2002\",\"jointly\",\"june\",\"ninth\",\"ti\",\"textiles\",\"##х\",\"##uf\",\"1708\",\"qing\",\"syed\",\"##§\",\"arresting\",\"undoubtedly\",\"reno\",\"lister\",\"chiefly\",\"'\",\"モ\",\"others\",\"##.\",\"∅\",\"une\",\"imp\",\"primate\",\"ে\",\"tops\",\"##keepers\",\"##acker\",\"mali\",\"heartbeat\",\"##day\",\"noses\",\"##diment\",\"discovers\",\"havre\",\"##scope\",\"thought\",\"burgundy\",\"incorrectly\",\"by\",\"##linger\",\"numbering\",\"sued\",\"bishopric\",\"##ural\",\"shan\",\"56\",\"pure\",\"strode\",\"photographers\",\"##ნ\",\"##ini\",\"comprised\",\"##oux\",\"export\",\"##iri\",\"anya\",\"jose\",\"memories\",\"chartered\",\"precursor\",\"orchestras\",\"trondheim\",\"liquids\",\"libertadores\",\"ignorance\",\"cheered\",\"biomass\",\"1\",\"monastery\",\"mansion\",\"禾\",\"regulatory\",\"teachers\",\"##vin\",\"robust\",\"avid\",\"roche\",\"innings\",\"ground\",\"benton\",\"տ\",\"unfortunate\",\"mozambique\",\"medication\",\"great\",\"##zek\",\"transporting\",\"##介\",\"]\",\"adolescents\",\"whereabouts\",\"[unused389]\",\"borrowed\",\"sculptors\",\"##stituting\",\"zhu\",\"temples\",\"acre\",\"dig\"],\"x\":[-35.474255,-22.86977,-33.526363,-35.158466,18.017153,31.426039,31.815361,-36.784313,8.13415,15.941057,27.55486,35.821762,30.992682,2.6175158,-24.620594,20.811665,0.3091741,28.507727,19.482903,17.696604,45.26776,-12.767,-3.563254,-19.226494,3.4282956,-44.242306,12.434694,6.2436557,39.44083,33.460144,-0.36415362,22.423069,1.4146768,-39.37256,35.035263,14.067759,-4.962479,5.746328,-3.5259516,35.956966,-25.69898,27.855085,3.9191923,-9.406327,-1.0193356,-38.207485,25.054218,-35.4088,3.0663328,-27.711887,-0.35913575,-37.05882,39.73611,40.976643,-35.914154,-36.456802,25.25145,-25.578377,23.346596,5.33444,25.102097,-30.151888,-32.024555,2.9095647,40.52113,16.595009,-19.129429,40.31877,-35.529007,27.251623,2.6360927,-22.705147,-24.486298,9.986804,16.863699,5.376251,3.4894166,-13.472265,6.4151,17.810944,4.6522627,-10.1879425,-23.20044,-7.555789,-14.947737,2.43195,42.144775,35.315506,3.3898473,23.301031,-11.136621,-5.948921,-14.810645,5.915652,-38.88466,41.24038,-29.83959,-23.797707,-36.888565,-28.77756,19.42189,17.884462,-4.5199,-3.769525,-36.458595,3.8725977,-14.40358,-35.255924,40.0796,-2.671667,-2.7368436,8.089237,-37.430195,-50.338837,29.013617,45.331455,-13.450583,-22.794077,38.3935,-50.6102,-20.591536,18.8083,-20.38394,10.038196,7.605348,-1.1944295,13.288536,45.83847,-21.399834,-22.806135,-33.116817,41.00758,-33.91083,9.710036,1.9169956,-53.23482,2.557719,-30.788944,-11.488366,13.415442,-29.332647,8.400939,17.799608,43.03955,-28.93501,3.0426915,3.6956797,3.287322,37.568493,23.0177,23.461971,-13.503169,-20.647114,-35.172455,-15.315235,39.497555,-3.7062995,6.7317224,-15.010666,31.280052,23.239073,1.3292941,40.260036,12.474433,36.20129,7.1524215,-35.51626,2.6155517,25.879423,-3.4832084,28.570152,-24.94264,20.701895,9.402899,0.1730838,-22.104307,-48.761482,9.70479,4.507981,-43.038284,33.700512,19.911251,-29.548544,31.609097,16.932236,-35.64482,17.784107,42.382305,33.350925,-11.934694,-23.023432,18.841213,5.7005167,-3.6724524,-13.233278,1.2976636,-28.445858,-4.2604337,-22.612114,16.844156,25.2816,6.755441,4.2003803,-3.00847,28.519726,-25.212442,-26.934309,23.33459,-12.721475,-23.911514,-32.28317,38.550293,18.376379,-22.78321,-34.81306,12.413234,9.493007,3.6074514,42.817192,-31.124681,18.130514,-13.508071,18.828398,1.6724534,6.7430873,18.242662,-40.12805,-53.275467,-13.1967,10.959195,-32.799854,-2.6745124,-33.343773,-10.462377,-13.654215,-37.163364,17.974884,-3.851589,19.60407,22.272005,-39.131218,36.44791,40.579315,5.5870986,-25.519203,-24.589396,39.560303,7.2643704,-12.069509,43.58712,-24.545559,-50.353153,6.8826084,-26.093533,27.552992,-50.0638,-36.40981,-33.06206,32.78984,6.1449847,26.18368,-7.0441093,-13.575925,4.5085406,-13.232898,18.993526,22.789446,5.1062865,36.78641,-0.79565436,-0.1975429,7.2392282,30.154837,41.995075,-43.343204,7.5404234,34.381233,-12.7181635,8.671096,1.5559038,-21.807608,8.61028,11.130093,-13.715864,31.48508,11.328144,-36.781887,26.408396,-31.493956,9.214665,42.288937,-5.878875,1.6214247,20.646505,44.30076,-40.106693,-12.704907,-0.7574751,-0.25478253,46.69839],\"xaxis\":\"x\",\"y\":[-27.07005,-22.11692,-18.724556,24.129465,23.866512,21.82879,23.548481,-23.652617,53.935802,-19.385902,-38.160053,20.66967,-7.1020966,31.641617,-0.3128951,5.2757545,-24.876331,-1.115567,15.238363,-5.962328,6.4392176,-23.543297,35.45741,-11.408084,-48.80665,0.685648,8.732003,-27.819487,6.1396885,26.060677,20.575462,-16.55346,28.269236,11.177952,6.642032,-8.131677,-32.59708,-10.364332,-36.226692,-26.359882,4.2894664,-40.09503,-48.523487,-17.700624,-9.632397,23.638535,14.325319,34.959583,37.222054,-17.147432,20.571033,7.9942784,-25.417696,2.7114742,35.08135,-4.9072094,-18.901947,16.263792,-34.319798,54.34996,14.008649,27.706192,-17.712854,-25.917963,3.777513,-6.200751,-8.6110525,-0.02025149,-26.409935,-38.68684,50.632668,-30.802172,2.348662,32.47543,-37.379784,13.528998,31.08373,-18.472612,1.9895608,27.04672,34.478992,-6.7356195,-24.208178,-17.427483,-38.62956,-2.189167,-14.837723,21.048586,-2.8052733,-12.097751,-8.08226,-17.356997,-38.271442,54.128613,6.732725,0.7145864,27.906881,-12.418511,6.722931,28.58827,15.650755,25.00144,-32.96179,-34.130394,-4.5508895,33.869087,27.841682,8.9070015,-27.348143,5.5329123,34.381626,37.613754,7.357471,16.697512,-36.182335,6.3400574,27.049664,0.6432199,9.806171,17.677286,-10.0149145,-32.02376,-20.832468,-25.749475,-50.12149,-3.526553,-6.9593062,-8.614806,-9.08175,-21.196424,18.135483,-9.998781,9.628554,19.279427,-48.59096,10.900253,56.567017,17.939156,4.685703,-5.5550776,15.707901,-26.948095,25.855679,-7.001492,-17.07182,56.26814,-23.962395,-25.342962,6.855339,-18.233425,-11.733177,4.856146,-10.112644,-23.899061,-39.58634,6.212459,13.88969,53.910545,6.014475,31.109777,14.532386,32.093113,-27.681604,-7.183954,6.6621056,-49.900093,23.9875,50.590446,-39.145103,-35.089607,-36.775803,19.726074,4.2768526,-25.70193,-2.1384535,-29.955597,15.252624,19.311298,-27.155401,1.6961441,27.039032,35.410957,-17.107292,-7.096151,-18.666145,-23.992287,-17.933214,0.0019630045,22.428995,25.452898,-23.221834,-32.01067,-9.287297,14.24206,17.784595,-25.238619,15.369131,36.39458,-19.864227,-37.37753,-20.161966,-49.384968,-50.45149,33.4791,-1.1580352,4.3143992,19.549494,-34.28907,-24.562004,0.77351815,15.453188,8.648101,36.10163,-11.654197,-20.499495,8.72349,31.217482,36.289494,-16.305578,16.5874,22.921179,6.7185564,-6.9461055,29.104874,34.580917,-4.8065076,13.037207,10.842325,26.1548,-7.6834373,9.201228,5.473702,11.534864,-7.1213355,5.4979076,23.749609,-16.81858,12.685629,35.553566,-19.648127,12.395133,-28.275124,7.749081,-9.008055,17.301327,-20.581335,-26.84063,4.0366387,-9.319944,-8.377397,5.2503424,14.964266,3.0277572,18.930708,-17.9903,15.715001,-6.2046695,-18.335314,22.729126,1.4543748,15.376432,-17.389729,-18.370747,12.496035,17.799313,16.65765,-17.650185,13.20204,-27.267967,-8.526542,-2.5186133,34.165424,-7.191378,-9.638772,1.4386772,36.56258,27.889402,3.9158566,-24.765333,-28.117733,-29.610498,33.152367,33.59363,25.951561,30.841047,31.64335,35.308067,-18.400438,16.093142,53.98557,-15.16467,-31.827305,57.172695,3.7809806,-8.50017,10.454304,-24.981916,-8.238259,-0.91249186,-8.648977],\"yaxis\":\"y\",\"type\":\"scatter\"}],                        {\"template\":{\"data\":{\"histogram2dcontour\":[{\"type\":\"histogram2dcontour\",\"colorbar\":{\"outlinewidth\":0,\"ticks\":\"\"},\"colorscale\":[[0.0,\"#0d0887\"],[0.1111111111111111,\"#46039f\"],[0.2222222222222222,\"#7201a8\"],[0.3333333333333333,\"#9c179e\"],[0.4444444444444444,\"#bd3786\"],[0.5555555555555556,\"#d8576b\"],[0.6666666666666666,\"#ed7953\"],[0.7777777777777778,\"#fb9f3a\"],[0.8888888888888888,\"#fdca26\"],[1.0,\"#f0f921\"]]}],\"choropleth\":[{\"type\":\"choropleth\",\"colorbar\":{\"outlinewidth\":0,\"ticks\":\"\"}}],\"histogram2d\":[{\"type\":\"histogram2d\",\"colorbar\":{\"outlinewidth\":0,\"ticks\":\"\"},\"colorscale\":[[0.0,\"#0d0887\"],[0.1111111111111111,\"#46039f\"],[0.2222222222222222,\"#7201a8\"],[0.3333333333333333,\"#9c179e\"],[0.4444444444444444,\"#bd3786\"],[0.5555555555555556,\"#d8576b\"],[0.6666666666666666,\"#ed7953\"],[0.7777777777777778,\"#fb9f3a\"],[0.8888888888888888,\"#fdca26\"],[1.0,\"#f0f921\"]]}],\"heatmap\":[{\"type\":\"heatmap\",\"colorbar\":{\"outlinewidth\":0,\"ticks\":\"\"},\"colorscale\":[[0.0,\"#0d0887\"],[0.1111111111111111,\"#46039f\"],[0.2222222222222222,\"#7201a8\"],[0.3333333333333333,\"#9c179e\"],[0.4444444444444444,\"#bd3786\"],[0.5555555555555556,\"#d8576b\"],[0.6666666666666666,\"#ed7953\"],[0.7777777777777778,\"#fb9f3a\"],[0.8888888888888888,\"#fdca26\"],[1.0,\"#f0f921\"]]}],\"heatmapgl\":[{\"type\":\"heatmapgl\",\"colorbar\":{\"outlinewidth\":0,\"ticks\":\"\"},\"colorscale\":[[0.0,\"#0d0887\"],[0.1111111111111111,\"#46039f\"],[0.2222222222222222,\"#7201a8\"],[0.3333333333333333,\"#9c179e\"],[0.4444444444444444,\"#bd3786\"],[0.5555555555555556,\"#d8576b\"],[0.6666666666666666,\"#ed7953\"],[0.7777777777777778,\"#fb9f3a\"],[0.8888888888888888,\"#fdca26\"],[1.0,\"#f0f921\"]]}],\"contourcarpet\":[{\"type\":\"contourcarpet\",\"colorbar\":{\"outlinewidth\":0,\"ticks\":\"\"}}],\"contour\":[{\"type\":\"contour\",\"colorbar\":{\"outlinewidth\":0,\"ticks\":\"\"},\"colorscale\":[[0.0,\"#0d0887\"],[0.1111111111111111,\"#46039f\"],[0.2222222222222222,\"#7201a8\"],[0.3333333333333333,\"#9c179e\"],[0.4444444444444444,\"#bd3786\"],[0.5555555555555556,\"#d8576b\"],[0.6666666666666666,\"#ed7953\"],[0.7777777777777778,\"#fb9f3a\"],[0.8888888888888888,\"#fdca26\"],[1.0,\"#f0f921\"]]}],\"surface\":[{\"type\":\"surface\",\"colorbar\":{\"outlinewidth\":0,\"ticks\":\"\"},\"colorscale\":[[0.0,\"#0d0887\"],[0.1111111111111111,\"#46039f\"],[0.2222222222222222,\"#7201a8\"],[0.3333333333333333,\"#9c179e\"],[0.4444444444444444,\"#bd3786\"],[0.5555555555555556,\"#d8576b\"],[0.6666666666666666,\"#ed7953\"],[0.7777777777777778,\"#fb9f3a\"],[0.8888888888888888,\"#fdca26\"],[1.0,\"#f0f921\"]]}],\"mesh3d\":[{\"type\":\"mesh3d\",\"colorbar\":{\"outlinewidth\":0,\"ticks\":\"\"}}],\"scatter\":[{\"fillpattern\":{\"fillmode\":\"overlay\",\"size\":10,\"solidity\":0.2},\"type\":\"scatter\"}],\"parcoords\":[{\"type\":\"parcoords\",\"line\":{\"colorbar\":{\"outlinewidth\":0,\"ticks\":\"\"}}}],\"scatterpolargl\":[{\"type\":\"scatterpolargl\",\"marker\":{\"colorbar\":{\"outlinewidth\":0,\"ticks\":\"\"}}}],\"bar\":[{\"error_x\":{\"color\":\"#2a3f5f\"},\"error_y\":{\"color\":\"#2a3f5f\"},\"marker\":{\"line\":{\"color\":\"#E5ECF6\",\"width\":0.5},\"pattern\":{\"fillmode\":\"overlay\",\"size\":10,\"solidity\":0.2}},\"type\":\"bar\"}],\"scattergeo\":[{\"type\":\"scattergeo\",\"marker\":{\"colorbar\":{\"outlinewidth\":0,\"ticks\":\"\"}}}],\"scatterpolar\":[{\"type\":\"scatterpolar\",\"marker\":{\"colorbar\":{\"outlinewidth\":0,\"ticks\":\"\"}}}],\"histogram\":[{\"marker\":{\"pattern\":{\"fillmode\":\"overlay\",\"size\":10,\"solidity\":0.2}},\"type\":\"histogram\"}],\"scattergl\":[{\"type\":\"scattergl\",\"marker\":{\"colorbar\":{\"outlinewidth\":0,\"ticks\":\"\"}}}],\"scatter3d\":[{\"type\":\"scatter3d\",\"line\":{\"colorbar\":{\"outlinewidth\":0,\"ticks\":\"\"}},\"marker\":{\"colorbar\":{\"outlinewidth\":0,\"ticks\":\"\"}}}],\"scattermapbox\":[{\"type\":\"scattermapbox\",\"marker\":{\"colorbar\":{\"outlinewidth\":0,\"ticks\":\"\"}}}],\"scatterternary\":[{\"type\":\"scatterternary\",\"marker\":{\"colorbar\":{\"outlinewidth\":0,\"ticks\":\"\"}}}],\"scattercarpet\":[{\"type\":\"scattercarpet\",\"marker\":{\"colorbar\":{\"outlinewidth\":0,\"ticks\":\"\"}}}],\"carpet\":[{\"aaxis\":{\"endlinecolor\":\"#2a3f5f\",\"gridcolor\":\"white\",\"linecolor\":\"white\",\"minorgridcolor\":\"white\",\"startlinecolor\":\"#2a3f5f\"},\"baxis\":{\"endlinecolor\":\"#2a3f5f\",\"gridcolor\":\"white\",\"linecolor\":\"white\",\"minorgridcolor\":\"white\",\"startlinecolor\":\"#2a3f5f\"},\"type\":\"carpet\"}],\"table\":[{\"cells\":{\"fill\":{\"color\":\"#EBF0F8\"},\"line\":{\"color\":\"white\"}},\"header\":{\"fill\":{\"color\":\"#C8D4E3\"},\"line\":{\"color\":\"white\"}},\"type\":\"table\"}],\"barpolar\":[{\"marker\":{\"line\":{\"color\":\"#E5ECF6\",\"width\":0.5},\"pattern\":{\"fillmode\":\"overlay\",\"size\":10,\"solidity\":0.2}},\"type\":\"barpolar\"}],\"pie\":[{\"automargin\":true,\"type\":\"pie\"}]},\"layout\":{\"autotypenumbers\":\"strict\",\"colorway\":[\"#636efa\",\"#EF553B\",\"#00cc96\",\"#ab63fa\",\"#FFA15A\",\"#19d3f3\",\"#FF6692\",\"#B6E880\",\"#FF97FF\",\"#FECB52\"],\"font\":{\"color\":\"#2a3f5f\"},\"hovermode\":\"closest\",\"hoverlabel\":{\"align\":\"left\"},\"paper_bgcolor\":\"white\",\"plot_bgcolor\":\"#E5ECF6\",\"polar\":{\"bgcolor\":\"#E5ECF6\",\"angularaxis\":{\"gridcolor\":\"white\",\"linecolor\":\"white\",\"ticks\":\"\"},\"radialaxis\":{\"gridcolor\":\"white\",\"linecolor\":\"white\",\"ticks\":\"\"}},\"ternary\":{\"bgcolor\":\"#E5ECF6\",\"aaxis\":{\"gridcolor\":\"white\",\"linecolor\":\"white\",\"ticks\":\"\"},\"baxis\":{\"gridcolor\":\"white\",\"linecolor\":\"white\",\"ticks\":\"\"},\"caxis\":{\"gridcolor\":\"white\",\"linecolor\":\"white\",\"ticks\":\"\"}},\"coloraxis\":{\"colorbar\":{\"outlinewidth\":0,\"ticks\":\"\"}},\"colorscale\":{\"sequential\":[[0.0,\"#0d0887\"],[0.1111111111111111,\"#46039f\"],[0.2222222222222222,\"#7201a8\"],[0.3333333333333333,\"#9c179e\"],[0.4444444444444444,\"#bd3786\"],[0.5555555555555556,\"#d8576b\"],[0.6666666666666666,\"#ed7953\"],[0.7777777777777778,\"#fb9f3a\"],[0.8888888888888888,\"#fdca26\"],[1.0,\"#f0f921\"]],\"sequentialminus\":[[0.0,\"#0d0887\"],[0.1111111111111111,\"#46039f\"],[0.2222222222222222,\"#7201a8\"],[0.3333333333333333,\"#9c179e\"],[0.4444444444444444,\"#bd3786\"],[0.5555555555555556,\"#d8576b\"],[0.6666666666666666,\"#ed7953\"],[0.7777777777777778,\"#fb9f3a\"],[0.8888888888888888,\"#fdca26\"],[1.0,\"#f0f921\"]],\"diverging\":[[0,\"#8e0152\"],[0.1,\"#c51b7d\"],[0.2,\"#de77ae\"],[0.3,\"#f1b6da\"],[0.4,\"#fde0ef\"],[0.5,\"#f7f7f7\"],[0.6,\"#e6f5d0\"],[0.7,\"#b8e186\"],[0.8,\"#7fbc41\"],[0.9,\"#4d9221\"],[1,\"#276419\"]]},\"xaxis\":{\"gridcolor\":\"white\",\"linecolor\":\"white\",\"ticks\":\"\",\"title\":{\"standoff\":15},\"zerolinecolor\":\"white\",\"automargin\":true,\"zerolinewidth\":2},\"yaxis\":{\"gridcolor\":\"white\",\"linecolor\":\"white\",\"ticks\":\"\",\"title\":{\"standoff\":15},\"zerolinecolor\":\"white\",\"automargin\":true,\"zerolinewidth\":2},\"scene\":{\"xaxis\":{\"backgroundcolor\":\"#E5ECF6\",\"gridcolor\":\"white\",\"linecolor\":\"white\",\"showbackground\":true,\"ticks\":\"\",\"zerolinecolor\":\"white\",\"gridwidth\":2},\"yaxis\":{\"backgroundcolor\":\"#E5ECF6\",\"gridcolor\":\"white\",\"linecolor\":\"white\",\"showbackground\":true,\"ticks\":\"\",\"zerolinecolor\":\"white\",\"gridwidth\":2},\"zaxis\":{\"backgroundcolor\":\"#E5ECF6\",\"gridcolor\":\"white\",\"linecolor\":\"white\",\"showbackground\":true,\"ticks\":\"\",\"zerolinecolor\":\"white\",\"gridwidth\":2}},\"shapedefaults\":{\"line\":{\"color\":\"#2a3f5f\"}},\"annotationdefaults\":{\"arrowcolor\":\"#2a3f5f\",\"arrowhead\":0,\"arrowwidth\":1},\"geo\":{\"bgcolor\":\"white\",\"landcolor\":\"#E5ECF6\",\"subunitcolor\":\"white\",\"showland\":true,\"showlakes\":true,\"lakecolor\":\"white\"},\"title\":{\"x\":0.05},\"mapbox\":{\"style\":\"light\"}}},\"xaxis\":{\"anchor\":\"y\",\"domain\":[0.0,1.0],\"title\":{\"text\":\"Component 1\"}},\"yaxis\":{\"anchor\":\"x\",\"domain\":[0.0,1.0],\"title\":{\"text\":\"Component 2\"}},\"legend\":{\"tracegroupgap\":0},\"title\":{\"text\":\"t-SNE of Sentence Embeddings\"}},                        {\"responsive\": true}                    ).then(function(){\n",
              "                            \n",
              "var gd = document.getElementById('c4aa228a-c4fd-425f-a826-09a839682985');\n",
              "var x = new MutationObserver(function (mutations, observer) {{\n",
              "        var display = window.getComputedStyle(gd).display;\n",
              "        if (!display || display === 'none') {{\n",
              "            console.log([gd, 'removed!']);\n",
              "            Plotly.purge(gd);\n",
              "            observer.disconnect();\n",
              "        }}\n",
              "}});\n",
              "\n",
              "// Listen for the removal of the full notebook cells\n",
              "var notebookContainer = gd.closest('#notebook-container');\n",
              "if (notebookContainer) {{\n",
              "    x.observe(notebookContainer, {childList: true});\n",
              "}}\n",
              "\n",
              "// Listen for the clearing of the current output cell\n",
              "var outputEl = gd.closest('.output');\n",
              "if (outputEl) {{\n",
              "    x.observe(outputEl, {childList: true});\n",
              "}}\n",
              "\n",
              "                        })                };                            </script>        </div>\n",
              "</body>\n",
              "</html>"
            ]
          },
          "metadata": {}
        }
      ]
    },
    {
      "cell_type": "markdown",
      "source": [
        "- **Distribution and clustering:** the visualization of t-SNE shows the local clustering and distribution patterns of word embeddings, and some word groups can be seen clustered in different regions in the figure, indicating that these words have similar semantic or contextual relationships in the embedding space. This local clustering structure helps to discover semantic relationships in the data, but unlike PCA, t-SNE emphasizes more on local proximity relationships, so the overall structure may not be as clear as PCA.\n"
      ],
      "metadata": {
        "id": "u8JtnTr2sVL0"
      }
    },
    {
      "cell_type": "markdown",
      "source": [
        "# UMAP (Uniform Manifold Approximation and Projection):\n",
        "- Modern dimensionality reduction technique\n",
        "- Balances local and global structure preservation\n",
        "- Parameters:\n",
        "  1. n_neighbors=5: Small neighborhood size for detailed local structure\n",
        "  2. min_dist=0.1: Minimum distance between points\n",
        "  3. random_state=42: For reproducibility"
      ],
      "metadata": {
        "id": "yaecHbZMfaSy"
      }
    },
    {
      "cell_type": "code",
      "source": [
        "# Apply UMAP\n",
        "umap_model = umap.UMAP(n_components=2, n_neighbors=5, min_dist=0.1, random_state=42)\n",
        "embeddings_umap = umap_model.fit_transform(embeddings)\n",
        "\n",
        "# Plot UMAP results using Plotly\n",
        "fig_umap = px.scatter(\n",
        "    embeddings_umap, x=0, y=1, text=sentences,\n",
        "    title=\"UMAP of Sentence Embeddings\",\n",
        "    labels={'0': 'Component 1', '1': 'Component 2'}\n",
        ")\n",
        "fig_umap.update_traces(marker=dict(size=8))\n",
        "fig_umap.show()"
      ],
      "metadata": {
        "colab": {
          "base_uri": "https://localhost:8080/",
          "height": 613
        },
        "id": "koYg-50kYu8L",
        "outputId": "af6eace4-2318-46c9-a8b7-ba9ae6492285"
      },
      "execution_count": 7,
      "outputs": [
        {
          "output_type": "stream",
          "name": "stderr",
          "text": [
            "/usr/local/lib/python3.10/dist-packages/umap/umap_.py:1945: UserWarning:\n",
            "\n",
            "n_jobs value 1 overridden to 1 by setting random_state. Use no seed for parallelism.\n",
            "\n"
          ]
        },
        {
          "output_type": "display_data",
          "data": {
            "text/html": [
              "<html>\n",
              "<head><meta charset=\"utf-8\" /></head>\n",
              "<body>\n",
              "    <div>            <script src=\"https://cdnjs.cloudflare.com/ajax/libs/mathjax/2.7.5/MathJax.js?config=TeX-AMS-MML_SVG\"></script><script type=\"text/javascript\">if (window.MathJax && window.MathJax.Hub && window.MathJax.Hub.Config) {window.MathJax.Hub.Config({SVG: {font: \"STIX-Web\"}});}</script>                <script type=\"text/javascript\">window.PlotlyConfig = {MathJaxConfig: 'local'};</script>\n",
              "        <script charset=\"utf-8\" src=\"https://cdn.plot.ly/plotly-2.24.1.min.js\"></script>                <div id=\"eba16e0a-3e54-4d29-9c45-fcc877e86f77\" class=\"plotly-graph-div\" style=\"height:525px; width:100%;\"></div>            <script type=\"text/javascript\">                                    window.PLOTLYENV=window.PLOTLYENV || {};                                    if (document.getElementById(\"eba16e0a-3e54-4d29-9c45-fcc877e86f77\")) {                    Plotly.newPlot(                        \"eba16e0a-3e54-4d29-9c45-fcc877e86f77\",                        [{\"hovertemplate\":\"Component 1=%{x}\\u003cbr\\u003eComponent 2=%{y}\\u003cbr\\u003etext=%{text}\\u003cextra\\u003e\\u003c\\u002fextra\\u003e\",\"legendgroup\":\"\",\"marker\":{\"color\":\"#636efa\",\"symbol\":\"circle\",\"size\":8},\"mode\":\"markers+text\",\"name\":\"\",\"orientation\":\"v\",\"showlegend\":false,\"text\":[\"harlow\",\"seamus\",\"cuban\",\"##pps\",\"¬\",\"historical\",\"temporal\",\"snyder\",\"[unused366]\",\"twitter\",\"260\",\"holding\",\"procurement\",\"ʐ\",\"malcolm\",\"fund\",\"lawson\",\"cords\",\"needy\",\"premier\",\"scream\",\"chinese\",\"tak\",\"rotherham\",\"75th\",\"##iso\",\"moreover\",\"roll\",\"murdered\",\"achievements\",\"semi\",\"arrived\",\"limbs\",\"##sl\",\"regeneration\",\"napkin\",\"north\",\"doctrines\",\"centered\",\"triple\",\"##ho\",\"abs\",\"26th\",\"ska\",\"buddhist\",\"##vocation\",\"epilogue\",\"##jm\",\"conical\",\"reese\",\"partial\",\"##cs\",\"thirteen\",\"targeted\",\"##jak\",\"##anne\",\"accompanying\",\"##bib\",\"1670\",\"[unused952]\",\"aftermath\",\"##oss\",\"sal\",\"shortstop\",\"shot\",\"theatrical\",\"vimes\",\"priced\",\"spence\",\"172\",\"[unused562]\",\"katy\",\"##ق\",\"ก\",\"2000\",\"fire\",\"ʎ\",\"norwegian\",\"founded\",\"distinction\",\"ා\",\"possesses\",\"costello\",\"drumming\",\"rochester\",\"baronetcy\",\"girls\",\"saying\",\"viceroy\",\"prompt\",\"peered\",\"accordion\",\"boston\",\"[unused967]\",\"##matic\",\"modeled\",\"##ess\",\"delta\",\"##cca\",\"##eon\",\"loneliness\",\"sentence\",\"upward\",\"inward\",\"##castle\",\"til\",\"tobago\",\"##cing\",\"seventy\",\"glitter\",\"ט\",\"stronger\",\"##cm\",\"##ired\",\"555\",\"furious\",\"gambia\",\"wadi\",\"hearings\",\"##ited\",\"bratislava\",\"1909\",\"rower\",\"geared\",\"december\",\"swamps\",\"ceremony\",\"quarries\",\"lublin\",\"tully\",\"##giving\",\"volunteers\",\"##ddling\",\"rebellion\",\"sq\",\"##acio\",\"[unused410]\",\"##cellular\",\"giro\",\"custom\",\"##yeh\",\"heaved\",\"emphasis\",\"pictures\",\"janice\",\"[unused112]\",\"cbs\",\"marlins\",\"killings\",\"assisted\",\"exam\",\"lausanne\",\"czechoslovakia\",\"shaw\",\"metropolitan\",\"strangled\",\"daylight\",\"[unused679]\",\"auguste\",\"harmful\",\"departure\",\"type\",\"84\",\"baptism\",\"burials\",\"september\",\"##pt\",\"[unused573]\",\"welterweight\",\"periphery\",\"440\",\"##ruff\",\"allowance\",\"pitched\",\"manor\",\"conway\",\"##ivism\",\"valor\",\"ball\",\"##kova\",\"programmes\",\"accidental\",\"johns\",\"hiring\",\"mentions\",\"talbot\",\"remarked\",\"describing\",\"forgetting\",\"au\",\"crowley\",\"1855\",\"synod\",\"sunny\",\"clube\",\"cb\",\"##like\",\"mitsubishi\",\"kellan\",\"2002\",\"jointly\",\"june\",\"ninth\",\"ti\",\"textiles\",\"##х\",\"##uf\",\"1708\",\"qing\",\"syed\",\"##§\",\"arresting\",\"undoubtedly\",\"reno\",\"lister\",\"chiefly\",\"'\",\"モ\",\"others\",\"##.\",\"∅\",\"une\",\"imp\",\"primate\",\"ে\",\"tops\",\"##keepers\",\"##acker\",\"mali\",\"heartbeat\",\"##day\",\"noses\",\"##diment\",\"discovers\",\"havre\",\"##scope\",\"thought\",\"burgundy\",\"incorrectly\",\"by\",\"##linger\",\"numbering\",\"sued\",\"bishopric\",\"##ural\",\"shan\",\"56\",\"pure\",\"strode\",\"photographers\",\"##ნ\",\"##ini\",\"comprised\",\"##oux\",\"export\",\"##iri\",\"anya\",\"jose\",\"memories\",\"chartered\",\"precursor\",\"orchestras\",\"trondheim\",\"liquids\",\"libertadores\",\"ignorance\",\"cheered\",\"biomass\",\"1\",\"monastery\",\"mansion\",\"禾\",\"regulatory\",\"teachers\",\"##vin\",\"robust\",\"avid\",\"roche\",\"innings\",\"ground\",\"benton\",\"տ\",\"unfortunate\",\"mozambique\",\"medication\",\"great\",\"##zek\",\"transporting\",\"##介\",\"]\",\"adolescents\",\"whereabouts\",\"[unused389]\",\"borrowed\",\"sculptors\",\"##stituting\",\"zhu\",\"temples\",\"acre\",\"dig\"],\"x\":[7.5908365,7.7180257,7.228973,15.962045,3.6613445,5.9848804,5.825782,7.9328966,-5.231884,6.199464,7.7889075,6.249756,3.9740205,2.67257,8.082,4.028067,7.11887,3.1163785,3.9786673,4.953249,2.2435951,6.8613343,2.6643066,6.5465803,8.3791685,15.121775,3.1017647,6.005265,2.3380055,5.6906443,2.9788592,5.158367,2.8233247,15.692914,3.639797,4.5110397,6.1334257,4.20963,6.0435596,7.5937157,15.173366,7.988836,8.4844885,6.429571,4.426309,15.020505,3.2705603,16.288027,2.4703023,7.582664,3.057221,16.266262,8.006907,2.2765105,16.352121,14.912883,4.684106,15.56198,7.501061,-5.2049646,3.250806,16.053026,8.11366,6.5006943,2.3177757,4.6966734,6.9020495,5.261447,7.614835,7.7611756,-5.175579,7.605527,14.779071,3.4105701,7.5821476,3.1133356,2.5871286,6.587044,4.1196046,2.7577803,2.7173102,5.794461,7.8181267,6.055904,6.5693107,4.314107,4.706961,6.2350254,4.1781635,4.8742285,6.0854897,5.947026,6.6158442,-5.1419263,16.107674,5.217627,16.045782,7.1262693,16.36016,15.772142,3.9068182,3.5867424,6.1427426,6.0080013,15.014716,2.5774965,5.4715247,16.335024,8.103061,3.5171595,2.8198054,2.944262,16.426882,15.566941,7.8794603,2.2602744,5.503855,8.332386,2.9057329,15.522497,6.668231,7.2715135,6.6734433,5.5453057,8.460172,4.4545407,4.312906,5.348049,6.3613544,7.522264,15.707338,4.5109005,15.90433,2.5155966,7.1918488,15.896307,-5.188876,15.334854,7.432772,4.2746005,15.461946,5.823899,2.8506594,5.1775723,7.9621205,-5.186517,6.7176123,6.6591606,2.52917,4.8905416,4.6061554,7.15695,5.858229,7.437737,6.3814635,2.3974638,3.1438913,-5.13753,7.4708905,3.9770222,3.5563836,2.7002277,8.023176,4.3975964,3.9367743,8.358673,15.285355,-5.1279864,7.8573165,5.9285574,7.8685327,15.420134,4.212455,5.907129,4.567423,7.477728,15.492108,2.5137267,6.2942557,15.008918,5.318075,3.9153152,8.111989,4.422906,5.814669,7.5808616,5.187946,5.127432,6.262045,5.380611,7.7560916,7.1563025,4.1402674,3.0568268,5.411464,6.841819,15.6212225,2.7103984,7.7019405,7.732814,4.776573,8.447344,8.4056835,2.622201,3.3101375,14.972379,15.5713415,7.394048,7.097677,8.314876,15.222052,2.4188435,3.5785296,7.056914,7.35536,3.1035976,3.2302446,2.5490117,4.493781,15.394804,3.8603158,7.5365915,5.0250583,2.461157,2.948778,5.0372376,15.417032,16.277689,5.3552876,4.846127,15.73274,3.6255658,15.791042,5.9261436,7.4922895,15.172749,5.06325,3.258348,3.81803,4.8323393,15.357147,7.559335,2.362565,4.1517506,15.44703,7.4157605,7.994654,3.6355565,6.3057847,4.9973807,14.923028,15.498604,3.9802418,15.536329,4.109067,15.571578,7.9092393,8.044484,5.8642545,4.1500235,3.206836,5.967371,6.6413565,3.2614026,5.400243,3.7985783,5.230423,3.16481,7.674502,4.3108335,4.4583125,3.1564019,4.0162334,4.726708,15.051699,3.0152626,5.19072,7.4041142,6.3530664,6.3279743,7.5341344,3.1897843,3.7483065,5.4435754,4.5498996,3.3310456,16.295858,4.2482724,15.467748,-5.2243934,4.6181846,6.8422604,-5.1814995,4.5836177,5.2472734,15.777578,7.114745,4.077365,4.6205196,5.4168315],\"xaxis\":\"x\",\"y\":[5.224073,5.664294,4.466854,6.2776275,1.3945997,1.1894455,1.2701178,5.036099,16.279165,2.87694,1.4619398,1.9299515,3.0412505,1.1346229,5.69442,2.6260626,4.216776,3.2559388,2.0912182,4.119923,3.8076897,5.7201586,0.54094815,6.7443123,1.1569343,6.12905,1.6569117,3.4155507,3.9605505,1.4480243,1.5518401,2.8643637,3.4628465,6.621403,4.0532,4.3226886,4.6989665,5.2339373,4.666394,1.9993737,7.1666656,1.7900404,0.7976972,5.6508803,5.041699,6.254272,2.1786933,5.8663664,0.8657564,5.5347514,1.9706404,6.3665843,1.9278655,3.7015746,5.7086983,6.5682383,3.02944,6.1761684,1.2338679,16.252243,2.377017,6.2665925,5.1337285,3.7898362,3.804953,4.266293,6.909348,2.3896875,5.104728,1.6179291,16.222866,6.1312084,6.768903,1.0022285,1.0094025,3.5787838,1.0187681,5.7463255,3.6816542,1.1874187,1.1722057,2.61225,5.6117735,5.450364,6.6623993,5.435719,1.6751359,1.7777708,5.2729993,3.4531775,2.886298,5.3482456,6.574095,16.189182,6.1516294,2.3262808,6.2388206,6.3640213,6.2206383,6.253972,1.9707901,1.3227026,4.464217,4.6062346,6.63181,1.2611507,7.0622616,6.444043,1.8647699,3.9010928,0.83709615,1.2323178,6.2479253,5.626048,1.5805197,3.6464298,7.123996,5.96613,4.2165875,5.656756,6.86423,0.96863616,5.566176,3.0905988,0.6446708,5.3800263,4.2358027,1.9868865,6.964549,5.7390203,6.876246,2.297497,6.950325,3.091379,5.136357,5.6612616,16.236233,6.9595647,7.1363063,3.8975525,6.8760695,3.225612,1.0589373,1.712196,5.2629704,16.233816,3.7078779,3.777257,3.9894862,2.8837085,3.58207,6.9713335,7.0134974,4.925716,6.601109,3.9924831,3.399063,16.184807,7.0486937,0.8582123,2.3221111,0.9616491,1.8001492,4.8005404,4.42838,0.7323683,6.340104,16.17548,2.3617325,4.5621543,1.5369885,6.255181,2.6145997,3.2605193,5.663156,6.0241704,5.7619267,2.9808478,3.582419,6.4916353,1.2053515,0.9105206,5.178461,2.445983,2.6243148,4.930006,2.7405348,2.1168847,1.6391946,6.994328,5.6636395,1.0514933,5.0661893,3.0033433,6.7271566,3.907615,6.3116736,0.49795783,5.4353814,0.8087029,2.9404898,0.6570968,1.0233563,0.6178316,3.2635293,7.0414577,6.5877876,1.3101708,5.629853,5.897618,6.674233,4.0913897,0.9941121,6.5443363,4.6521664,1.8875421,0.87325114,0.9435557,1.5840441,6.846236,1.741946,7.087931,3.9401643,1.7267424,1.2595748,3.7676167,6.7402196,5.6372046,6.96003,4.848927,7.1229477,4.219068,7.0217004,2.6738148,7.048101,6.25264,3.139923,3.641546,0.98251903,2.7043839,6.7132382,1.9328703,4.110274,5.0958314,6.5794086,5.394413,1.9574411,3.505694,3.054181,1.6748793,6.9989386,5.849144,3.5815082,6.530259,3.0031695,5.6519213,6.108898,5.0637584,1.3578297,3.7555723,1.9516871,5.383683,6.6696396,3.5674727,6.727699,1.7549802,2.9455137,3.6777956,2.018918,5.2740483,5.5406427,1.2294554,3.4542751,1.9615823,6.210988,1.3538336,1.2980956,7.117935,3.4591613,4.0556593,6.0970817,1.2045236,0.85463625,7.0113106,0.96371984,1.0454744,5.610348,3.1430614,7.020371,16.271666,1.6948601,6.7064676,16.228802,2.6780612,1.9365091,6.8705635,5.6299896,4.9511876,5.672566,2.0078282],\"yaxis\":\"y\",\"type\":\"scatter\"}],                        {\"template\":{\"data\":{\"histogram2dcontour\":[{\"type\":\"histogram2dcontour\",\"colorbar\":{\"outlinewidth\":0,\"ticks\":\"\"},\"colorscale\":[[0.0,\"#0d0887\"],[0.1111111111111111,\"#46039f\"],[0.2222222222222222,\"#7201a8\"],[0.3333333333333333,\"#9c179e\"],[0.4444444444444444,\"#bd3786\"],[0.5555555555555556,\"#d8576b\"],[0.6666666666666666,\"#ed7953\"],[0.7777777777777778,\"#fb9f3a\"],[0.8888888888888888,\"#fdca26\"],[1.0,\"#f0f921\"]]}],\"choropleth\":[{\"type\":\"choropleth\",\"colorbar\":{\"outlinewidth\":0,\"ticks\":\"\"}}],\"histogram2d\":[{\"type\":\"histogram2d\",\"colorbar\":{\"outlinewidth\":0,\"ticks\":\"\"},\"colorscale\":[[0.0,\"#0d0887\"],[0.1111111111111111,\"#46039f\"],[0.2222222222222222,\"#7201a8\"],[0.3333333333333333,\"#9c179e\"],[0.4444444444444444,\"#bd3786\"],[0.5555555555555556,\"#d8576b\"],[0.6666666666666666,\"#ed7953\"],[0.7777777777777778,\"#fb9f3a\"],[0.8888888888888888,\"#fdca26\"],[1.0,\"#f0f921\"]]}],\"heatmap\":[{\"type\":\"heatmap\",\"colorbar\":{\"outlinewidth\":0,\"ticks\":\"\"},\"colorscale\":[[0.0,\"#0d0887\"],[0.1111111111111111,\"#46039f\"],[0.2222222222222222,\"#7201a8\"],[0.3333333333333333,\"#9c179e\"],[0.4444444444444444,\"#bd3786\"],[0.5555555555555556,\"#d8576b\"],[0.6666666666666666,\"#ed7953\"],[0.7777777777777778,\"#fb9f3a\"],[0.8888888888888888,\"#fdca26\"],[1.0,\"#f0f921\"]]}],\"heatmapgl\":[{\"type\":\"heatmapgl\",\"colorbar\":{\"outlinewidth\":0,\"ticks\":\"\"},\"colorscale\":[[0.0,\"#0d0887\"],[0.1111111111111111,\"#46039f\"],[0.2222222222222222,\"#7201a8\"],[0.3333333333333333,\"#9c179e\"],[0.4444444444444444,\"#bd3786\"],[0.5555555555555556,\"#d8576b\"],[0.6666666666666666,\"#ed7953\"],[0.7777777777777778,\"#fb9f3a\"],[0.8888888888888888,\"#fdca26\"],[1.0,\"#f0f921\"]]}],\"contourcarpet\":[{\"type\":\"contourcarpet\",\"colorbar\":{\"outlinewidth\":0,\"ticks\":\"\"}}],\"contour\":[{\"type\":\"contour\",\"colorbar\":{\"outlinewidth\":0,\"ticks\":\"\"},\"colorscale\":[[0.0,\"#0d0887\"],[0.1111111111111111,\"#46039f\"],[0.2222222222222222,\"#7201a8\"],[0.3333333333333333,\"#9c179e\"],[0.4444444444444444,\"#bd3786\"],[0.5555555555555556,\"#d8576b\"],[0.6666666666666666,\"#ed7953\"],[0.7777777777777778,\"#fb9f3a\"],[0.8888888888888888,\"#fdca26\"],[1.0,\"#f0f921\"]]}],\"surface\":[{\"type\":\"surface\",\"colorbar\":{\"outlinewidth\":0,\"ticks\":\"\"},\"colorscale\":[[0.0,\"#0d0887\"],[0.1111111111111111,\"#46039f\"],[0.2222222222222222,\"#7201a8\"],[0.3333333333333333,\"#9c179e\"],[0.4444444444444444,\"#bd3786\"],[0.5555555555555556,\"#d8576b\"],[0.6666666666666666,\"#ed7953\"],[0.7777777777777778,\"#fb9f3a\"],[0.8888888888888888,\"#fdca26\"],[1.0,\"#f0f921\"]]}],\"mesh3d\":[{\"type\":\"mesh3d\",\"colorbar\":{\"outlinewidth\":0,\"ticks\":\"\"}}],\"scatter\":[{\"fillpattern\":{\"fillmode\":\"overlay\",\"size\":10,\"solidity\":0.2},\"type\":\"scatter\"}],\"parcoords\":[{\"type\":\"parcoords\",\"line\":{\"colorbar\":{\"outlinewidth\":0,\"ticks\":\"\"}}}],\"scatterpolargl\":[{\"type\":\"scatterpolargl\",\"marker\":{\"colorbar\":{\"outlinewidth\":0,\"ticks\":\"\"}}}],\"bar\":[{\"error_x\":{\"color\":\"#2a3f5f\"},\"error_y\":{\"color\":\"#2a3f5f\"},\"marker\":{\"line\":{\"color\":\"#E5ECF6\",\"width\":0.5},\"pattern\":{\"fillmode\":\"overlay\",\"size\":10,\"solidity\":0.2}},\"type\":\"bar\"}],\"scattergeo\":[{\"type\":\"scattergeo\",\"marker\":{\"colorbar\":{\"outlinewidth\":0,\"ticks\":\"\"}}}],\"scatterpolar\":[{\"type\":\"scatterpolar\",\"marker\":{\"colorbar\":{\"outlinewidth\":0,\"ticks\":\"\"}}}],\"histogram\":[{\"marker\":{\"pattern\":{\"fillmode\":\"overlay\",\"size\":10,\"solidity\":0.2}},\"type\":\"histogram\"}],\"scattergl\":[{\"type\":\"scattergl\",\"marker\":{\"colorbar\":{\"outlinewidth\":0,\"ticks\":\"\"}}}],\"scatter3d\":[{\"type\":\"scatter3d\",\"line\":{\"colorbar\":{\"outlinewidth\":0,\"ticks\":\"\"}},\"marker\":{\"colorbar\":{\"outlinewidth\":0,\"ticks\":\"\"}}}],\"scattermapbox\":[{\"type\":\"scattermapbox\",\"marker\":{\"colorbar\":{\"outlinewidth\":0,\"ticks\":\"\"}}}],\"scatterternary\":[{\"type\":\"scatterternary\",\"marker\":{\"colorbar\":{\"outlinewidth\":0,\"ticks\":\"\"}}}],\"scattercarpet\":[{\"type\":\"scattercarpet\",\"marker\":{\"colorbar\":{\"outlinewidth\":0,\"ticks\":\"\"}}}],\"carpet\":[{\"aaxis\":{\"endlinecolor\":\"#2a3f5f\",\"gridcolor\":\"white\",\"linecolor\":\"white\",\"minorgridcolor\":\"white\",\"startlinecolor\":\"#2a3f5f\"},\"baxis\":{\"endlinecolor\":\"#2a3f5f\",\"gridcolor\":\"white\",\"linecolor\":\"white\",\"minorgridcolor\":\"white\",\"startlinecolor\":\"#2a3f5f\"},\"type\":\"carpet\"}],\"table\":[{\"cells\":{\"fill\":{\"color\":\"#EBF0F8\"},\"line\":{\"color\":\"white\"}},\"header\":{\"fill\":{\"color\":\"#C8D4E3\"},\"line\":{\"color\":\"white\"}},\"type\":\"table\"}],\"barpolar\":[{\"marker\":{\"line\":{\"color\":\"#E5ECF6\",\"width\":0.5},\"pattern\":{\"fillmode\":\"overlay\",\"size\":10,\"solidity\":0.2}},\"type\":\"barpolar\"}],\"pie\":[{\"automargin\":true,\"type\":\"pie\"}]},\"layout\":{\"autotypenumbers\":\"strict\",\"colorway\":[\"#636efa\",\"#EF553B\",\"#00cc96\",\"#ab63fa\",\"#FFA15A\",\"#19d3f3\",\"#FF6692\",\"#B6E880\",\"#FF97FF\",\"#FECB52\"],\"font\":{\"color\":\"#2a3f5f\"},\"hovermode\":\"closest\",\"hoverlabel\":{\"align\":\"left\"},\"paper_bgcolor\":\"white\",\"plot_bgcolor\":\"#E5ECF6\",\"polar\":{\"bgcolor\":\"#E5ECF6\",\"angularaxis\":{\"gridcolor\":\"white\",\"linecolor\":\"white\",\"ticks\":\"\"},\"radialaxis\":{\"gridcolor\":\"white\",\"linecolor\":\"white\",\"ticks\":\"\"}},\"ternary\":{\"bgcolor\":\"#E5ECF6\",\"aaxis\":{\"gridcolor\":\"white\",\"linecolor\":\"white\",\"ticks\":\"\"},\"baxis\":{\"gridcolor\":\"white\",\"linecolor\":\"white\",\"ticks\":\"\"},\"caxis\":{\"gridcolor\":\"white\",\"linecolor\":\"white\",\"ticks\":\"\"}},\"coloraxis\":{\"colorbar\":{\"outlinewidth\":0,\"ticks\":\"\"}},\"colorscale\":{\"sequential\":[[0.0,\"#0d0887\"],[0.1111111111111111,\"#46039f\"],[0.2222222222222222,\"#7201a8\"],[0.3333333333333333,\"#9c179e\"],[0.4444444444444444,\"#bd3786\"],[0.5555555555555556,\"#d8576b\"],[0.6666666666666666,\"#ed7953\"],[0.7777777777777778,\"#fb9f3a\"],[0.8888888888888888,\"#fdca26\"],[1.0,\"#f0f921\"]],\"sequentialminus\":[[0.0,\"#0d0887\"],[0.1111111111111111,\"#46039f\"],[0.2222222222222222,\"#7201a8\"],[0.3333333333333333,\"#9c179e\"],[0.4444444444444444,\"#bd3786\"],[0.5555555555555556,\"#d8576b\"],[0.6666666666666666,\"#ed7953\"],[0.7777777777777778,\"#fb9f3a\"],[0.8888888888888888,\"#fdca26\"],[1.0,\"#f0f921\"]],\"diverging\":[[0,\"#8e0152\"],[0.1,\"#c51b7d\"],[0.2,\"#de77ae\"],[0.3,\"#f1b6da\"],[0.4,\"#fde0ef\"],[0.5,\"#f7f7f7\"],[0.6,\"#e6f5d0\"],[0.7,\"#b8e186\"],[0.8,\"#7fbc41\"],[0.9,\"#4d9221\"],[1,\"#276419\"]]},\"xaxis\":{\"gridcolor\":\"white\",\"linecolor\":\"white\",\"ticks\":\"\",\"title\":{\"standoff\":15},\"zerolinecolor\":\"white\",\"automargin\":true,\"zerolinewidth\":2},\"yaxis\":{\"gridcolor\":\"white\",\"linecolor\":\"white\",\"ticks\":\"\",\"title\":{\"standoff\":15},\"zerolinecolor\":\"white\",\"automargin\":true,\"zerolinewidth\":2},\"scene\":{\"xaxis\":{\"backgroundcolor\":\"#E5ECF6\",\"gridcolor\":\"white\",\"linecolor\":\"white\",\"showbackground\":true,\"ticks\":\"\",\"zerolinecolor\":\"white\",\"gridwidth\":2},\"yaxis\":{\"backgroundcolor\":\"#E5ECF6\",\"gridcolor\":\"white\",\"linecolor\":\"white\",\"showbackground\":true,\"ticks\":\"\",\"zerolinecolor\":\"white\",\"gridwidth\":2},\"zaxis\":{\"backgroundcolor\":\"#E5ECF6\",\"gridcolor\":\"white\",\"linecolor\":\"white\",\"showbackground\":true,\"ticks\":\"\",\"zerolinecolor\":\"white\",\"gridwidth\":2}},\"shapedefaults\":{\"line\":{\"color\":\"#2a3f5f\"}},\"annotationdefaults\":{\"arrowcolor\":\"#2a3f5f\",\"arrowhead\":0,\"arrowwidth\":1},\"geo\":{\"bgcolor\":\"white\",\"landcolor\":\"#E5ECF6\",\"subunitcolor\":\"white\",\"showland\":true,\"showlakes\":true,\"lakecolor\":\"white\"},\"title\":{\"x\":0.05},\"mapbox\":{\"style\":\"light\"}}},\"xaxis\":{\"anchor\":\"y\",\"domain\":[0.0,1.0],\"title\":{\"text\":\"Component 1\"}},\"yaxis\":{\"anchor\":\"x\",\"domain\":[0.0,1.0],\"title\":{\"text\":\"Component 2\"}},\"legend\":{\"tracegroupgap\":0},\"title\":{\"text\":\"UMAP of Sentence Embeddings\"}},                        {\"responsive\": true}                    ).then(function(){\n",
              "                            \n",
              "var gd = document.getElementById('eba16e0a-3e54-4d29-9c45-fcc877e86f77');\n",
              "var x = new MutationObserver(function (mutations, observer) {{\n",
              "        var display = window.getComputedStyle(gd).display;\n",
              "        if (!display || display === 'none') {{\n",
              "            console.log([gd, 'removed!']);\n",
              "            Plotly.purge(gd);\n",
              "            observer.disconnect();\n",
              "        }}\n",
              "}});\n",
              "\n",
              "// Listen for the removal of the full notebook cells\n",
              "var notebookContainer = gd.closest('#notebook-container');\n",
              "if (notebookContainer) {{\n",
              "    x.observe(notebookContainer, {childList: true});\n",
              "}}\n",
              "\n",
              "// Listen for the clearing of the current output cell\n",
              "var outputEl = gd.closest('.output');\n",
              "if (outputEl) {{\n",
              "    x.observe(outputEl, {childList: true});\n",
              "}}\n",
              "\n",
              "                        })                };                            </script>        </div>\n",
              "</body>\n",
              "</html>"
            ]
          },
          "metadata": {}
        }
      ]
    },
    {
      "cell_type": "markdown",
      "source": [
        "- **Distribution and clustering:** the UMAP visualization shows several distinct clustering regions, in particular a relatively tight cluster in the right-hand region of the figure, which suggests that these words have similar semantic features in the embedding space. In addition, there is a small, more isolated cluster in the lower left corner, suggesting that these words may have unique semantics or special labeling in the model.\n",
        "- **Label overlap and readability:** label overlap is more severe in the figure, especially in the main clustered regions, making it difficult to recognize specific words. This suggests that while UMAP does an excellent job of maintaining local structure, there is still a need to improve the display methods in this dense label visualization, such as increasing label spacing or using interactive tools to see individual words and cluster structure more clearly."
      ],
      "metadata": {
        "id": "_dtMYoBZfY0V"
      }
    },
    {
      "cell_type": "markdown",
      "source": [
        "# Compare and Summary\n",
        "- Each of these methods has its strengths and weaknesses: PCA, t-SNE, and UMAP regarding embedding space visualization. The output of pCA presents most words in a dense region-smooth overall structure; yet, it cannot separate the semantic groups well. While t-SNE is much better to highlight the local structure, showing more pronounced clustering between words, the labels are too seriously overlapped, making reading less readable. uMAP is more decentralized, since there are several distinct clusters, with dense clusters towards the right, which are isolated to the bottom left. This means that it has a better balance between global and local structure preservation, though the tags still overlap.\n",
        "- PCA is proper for viewing overall pattern distribution, t-SNE shows better local relationships and proximity, while UMAP balances the local and global structure better. To get better visualization, it may be effectively improved by decreasing the sample size or adopting an interactive visualization tool. Taking all the above together, the present analysis illustrates that UMAP actually conveys richer semantic structure, while t-SNE might be more applicable to in-depth analysis of the local patterns."
      ],
      "metadata": {
        "id": "ESINmvPzvYm3"
      }
    },
    {
      "cell_type": "markdown",
      "source": [
        "# Reference\n",
        "1. AIPI-590-XAI. “Duke-Ai-Xai/Explainable-Ml-Example-Notebooks/Embedding-Visualization.Ipynb at Main · AIPI-590-Xai/Duke-Ai-Xai.” GitHub, https://github.com/AIPI-590-XAI/Duke-AI-XAI/blob/main/explainable-ml-example-notebooks/embedding-visualization.ipynb Accessed 30 Oct. 2024.\n",
        "2. “Sentencetransformers Documentation.” SentenceTransformers Documentation - Sentence Transformers Documentation, https://sbert.net/ Accessed 30 Oct. 2024.\n",
        "3. Chatgpt. Explanation of Python code for models"
      ],
      "metadata": {
        "id": "KOstXctLWNmi"
      }
    }
  ]
}